{
 "cells": [
  {
   "cell_type": "code",
   "execution_count": 1,
   "metadata": {},
   "outputs": [],
   "source": [
    "import pandas as pd\n",
    "from bs4 import BeautifulSoup\n",
    "import time\n",
    "import yaml\n",
    "import pickle\n",
    "from selenium import webdriver\n",
    "from selenium.webdriver.common.by import By\n",
    "from selenium.webdriver.common.keys import Keys\n",
    "from selenium.webdriver.support import expected_conditions as EC\n",
    "from selenium.webdriver.support.wait import WebDriverWait"
   ]
  },
  {
   "cell_type": "code",
   "execution_count": 2,
   "metadata": {},
   "outputs": [],
   "source": [
    "with open(\"../config.yaml\", \"r\") as f:\n",
    "    CFG = yaml.safe_load(f)"
   ]
  },
  {
   "cell_type": "code",
   "execution_count": 11,
   "metadata": {},
   "outputs": [],
   "source": [
    "class Crawler():\n",
    "    def __init__(self, url):  # sourcery skip: remove-pass-body\n",
    "        self.url = url\n",
    "        self.connect(self.url)\n",
    "        self.pages = self.driver.find_element(\n",
    "            By.XPATH,\n",
    "            '/html/body/div/div/div[3]/div/div/div[3]/div/div/div[2]/div/div/div/div[3]/div/div[2]'\n",
    "        ).text\n",
    "\n",
    "    def connect(self, url):\n",
    "        self.driver = webdriver.Chrome()\n",
    "        self.driver.get(CFG['URL2'])\n",
    "        self.driver.set_window_size(1280, 680)\n",
    "        time.sleep(40)\n",
    "        self.driver.switch_to.frame(0)\n",
    "        self.driver.find_element(By.XPATH, '//*[@id=\"tab_container\"]/li[3]/a').click()\n",
    "\n",
    "    def teardown_method(self):\n",
    "        self.driver.quit()\n",
    "\n",
    "    def click_button(self, selector, value, sleep_time=0):\n",
    "        button =  self.driver.find_element(selector, value)\n",
    "        self.driver.execute_script(\"arguments[0].click();\", button)\n",
    "        time.sleep(sleep_time)\n",
    "\n",
    "    def make_df(self):\n",
    "        page_source = self.driver.page_source\n",
    "        soup = BeautifulSoup(page_source, 'html.parser')\n",
    "        table = soup.find('table')\n",
    "        return pd.read_html(str(table))[0]\n",
    "\n",
    "    def collect_data(self, num_clicks, start_page=0):\n",
    "        if start_page != 0:\n",
    "            self.driver.find_element(By.CLASS_NAME, \"current-page\").click()\n",
    "            self.driver.find_element(By.CLASS_NAME, \"current-page\").send_keys(str(start_page))\n",
    "            self.driver.find_element(By.CLASS_NAME, \"current-page\").send_keys(Keys.ENTER)\n",
    "        dfs = [self.make_df()]\n",
    "        for _ in range(num_clicks):\n",
    "            WebDriverWait(self.driver, 5).until(\n",
    "                EC.element_to_be_clickable((By.CLASS_NAME, \"next-page\"))\n",
    "                )\n",
    "            self.click_button(By.CLASS_NAME, \"next-page\", 0.1)\n",
    "            dfs.append(self.make_df())\n",
    "        return pd.concat(dfs, ignore_index=True).reset_index(drop=True)\n",
    "        \n",
    "    def run(self, num_clicks, num_threads=1):\n",
    "        # sourcery skip: remove-pass-body, remove-redundant-if\n",
    "        if num_threads > 1:\n",
    "            pass\n",
    "        else:\n",
    "            df = self.collect_data(num_clicks)\n",
    "        df.columns = df.columns.str.replace('  ', ' ')\n",
    "        df = df.dropna(how='all')\n",
    "        return df\n"
   ]
  },
  {
   "cell_type": "code",
   "execution_count": 12,
   "metadata": {},
   "outputs": [],
   "source": [
    "crawler = Crawler(CFG['URL2'])"
   ]
  },
  {
   "cell_type": "code",
   "execution_count": 13,
   "metadata": {},
   "outputs": [],
   "source": [
    "df = crawler.run(10)"
   ]
  },
  {
   "cell_type": "code",
   "execution_count": 9,
   "metadata": {},
   "outputs": [
    {
     "name": "stdout",
     "output_type": "stream",
     "text": [
      "hello\n"
     ]
    }
   ],
   "source": [
    "if 100 % 101:\n",
    "    print('hello')"
   ]
  },
  {
   "cell_type": "code",
   "execution_count": null,
   "metadata": {},
   "outputs": [],
   "source": []
  }
 ],
 "metadata": {
  "kernelspec": {
   "display_name": "finance",
   "language": "python",
   "name": "python3"
  },
  "language_info": {
   "codemirror_mode": {
    "name": "ipython",
    "version": 3
   },
   "file_extension": ".py",
   "mimetype": "text/x-python",
   "name": "python",
   "nbconvert_exporter": "python",
   "pygments_lexer": "ipython3",
   "version": "3.10.6"
  },
  "orig_nbformat": 4,
  "vscode": {
   "interpreter": {
    "hash": "5d7a4ff55d75e384dc7a01b28f6ad1e7c99e0a46a1cc83a8febd04bed1b95132"
   }
  }
 },
 "nbformat": 4,
 "nbformat_minor": 2
}
