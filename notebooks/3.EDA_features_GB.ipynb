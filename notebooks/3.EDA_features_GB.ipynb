{
 "cells": [
  {
   "cell_type": "code",
   "execution_count": 1,
   "metadata": {},
   "outputs": [],
   "source": [
    "import pandas as pd\n",
    "import geopandas as gpd\n",
    "import numpy as np\n",
    "pd.options.display.float_format = '{:,.2f}'.format\n",
    "pd.set_option('display.max_columns', 30)\n",
    "pd.set_option('display.max_rows', 300)\n",
    "\n",
    "import matplotlib.pyplot as plt\n",
    "import seaborn as sns\n",
    "import plotly.graph_objects as go\n",
    "import plotly.express as px\n",
    "%matplotlib inline\n",
    "\n",
    "import os\n",
    "import sys\n",
    "import datetime\n",
    "\n",
    "import warnings; warnings.filterwarnings('ignore')\n",
    "\n",
    "sys.path.append('..')\n",
    "from config import CFG\n",
    "CFG = CFG()\n",
    "\n",
    "date = datetime.datetime(2023, 3, 1).strftime('%Y-%m-%d')\n",
    "CFG.DATE = date"
   ]
  },
  {
   "cell_type": "code",
   "execution_count": 2,
   "metadata": {},
   "outputs": [
    {
     "data": {
      "text/html": [
       "<div>\n",
       "<style scoped>\n",
       "    .dataframe tbody tr th:only-of-type {\n",
       "        vertical-align: middle;\n",
       "    }\n",
       "\n",
       "    .dataframe tbody tr th {\n",
       "        vertical-align: top;\n",
       "    }\n",
       "\n",
       "    .dataframe thead th {\n",
       "        text-align: right;\n",
       "    }\n",
       "</style>\n",
       "<table border=\"1\" class=\"dataframe\">\n",
       "  <thead>\n",
       "    <tr style=\"text-align: right;\">\n",
       "      <th></th>\n",
       "      <th>Unnamed: 0</th>\n",
       "      <th>visit date</th>\n",
       "      <th>city</th>\n",
       "      <th>site</th>\n",
       "      <th>expected drug</th>\n",
       "      <th>category</th>\n",
       "      <th>colour</th>\n",
       "      <th>texture</th>\n",
       "      <th>fentanyl strip</th>\n",
       "      <th>benzo strip</th>\n",
       "      <th>ftir component 0</th>\n",
       "      <th>ftir component 1</th>\n",
       "      <th>ftir component 2</th>\n",
       "      <th>ftir component 3</th>\n",
       "      <th>ftir component 4</th>\n",
       "      <th>ftir component 5</th>\n",
       "      <th>contains_opioids</th>\n",
       "      <th>total_opioids</th>\n",
       "      <th>ftir_benzo</th>\n",
       "      <th>total_benzos</th>\n",
       "    </tr>\n",
       "  </thead>\n",
       "  <tbody>\n",
       "    <tr>\n",
       "      <th>0</th>\n",
       "      <td>0</td>\n",
       "      <td>2023-01-31</td>\n",
       "      <td>Penticton, BC</td>\n",
       "      <td>Fairhaven</td>\n",
       "      <td>Down (Unknown Opioid)</td>\n",
       "      <td>Opioid</td>\n",
       "      <td>Purple</td>\n",
       "      <td>Chunk</td>\n",
       "      <td>1</td>\n",
       "      <td>-1</td>\n",
       "      <td>Fentanyl</td>\n",
       "      <td>Erythritol</td>\n",
       "      <td>Caffeine</td>\n",
       "      <td>None</td>\n",
       "      <td>None</td>\n",
       "      <td>None</td>\n",
       "      <td>1</td>\n",
       "      <td>1</td>\n",
       "      <td>0</td>\n",
       "      <td>0</td>\n",
       "    </tr>\n",
       "    <tr>\n",
       "      <th>1</th>\n",
       "      <td>1</td>\n",
       "      <td>2023-01-31</td>\n",
       "      <td>Vancouver, BC</td>\n",
       "      <td>Get Your Drugs Tested</td>\n",
       "      <td>Unknown</td>\n",
       "      <td>Unknown</td>\n",
       "      <td>Brown (light)</td>\n",
       "      <td>Chunk</td>\n",
       "      <td>1</td>\n",
       "      <td>-1</td>\n",
       "      <td>Uncertain match</td>\n",
       "      <td>Fentanyl</td>\n",
       "      <td>None</td>\n",
       "      <td>None</td>\n",
       "      <td>None</td>\n",
       "      <td>None</td>\n",
       "      <td>1</td>\n",
       "      <td>1</td>\n",
       "      <td>0</td>\n",
       "      <td>0</td>\n",
       "    </tr>\n",
       "    <tr>\n",
       "      <th>2</th>\n",
       "      <td>2</td>\n",
       "      <td>2023-01-31</td>\n",
       "      <td>Vancouver, BC</td>\n",
       "      <td>Get Your Drugs Tested</td>\n",
       "      <td>Alprazolam</td>\n",
       "      <td>Depressant</td>\n",
       "      <td>Green (light)</td>\n",
       "      <td>Chunk</td>\n",
       "      <td>-1</td>\n",
       "      <td>1</td>\n",
       "      <td>Flualprazolam</td>\n",
       "      <td>Microcrystalline cellulose</td>\n",
       "      <td>None</td>\n",
       "      <td>None</td>\n",
       "      <td>None</td>\n",
       "      <td>None</td>\n",
       "      <td>0</td>\n",
       "      <td>0</td>\n",
       "      <td>1</td>\n",
       "      <td>1</td>\n",
       "    </tr>\n",
       "  </tbody>\n",
       "</table>\n",
       "</div>"
      ],
      "text/plain": [
       "   Unnamed: 0 visit date           city                   site  \\\n",
       "0           0 2023-01-31  Penticton, BC              Fairhaven   \n",
       "1           1 2023-01-31  Vancouver, BC  Get Your Drugs Tested   \n",
       "2           2 2023-01-31  Vancouver, BC  Get Your Drugs Tested   \n",
       "\n",
       "           expected drug    category         colour texture  fentanyl strip  \\\n",
       "0  Down (Unknown Opioid)      Opioid         Purple   Chunk               1   \n",
       "1                Unknown     Unknown  Brown (light)   Chunk               1   \n",
       "2             Alprazolam  Depressant  Green (light)   Chunk              -1   \n",
       "\n",
       "   benzo strip ftir component 0            ftir component 1 ftir component 2  \\\n",
       "0           -1         Fentanyl                  Erythritol         Caffeine   \n",
       "1           -1  Uncertain match                    Fentanyl             None   \n",
       "2            1    Flualprazolam  Microcrystalline cellulose             None   \n",
       "\n",
       "  ftir component 3 ftir component 4 ftir component 5  contains_opioids  \\\n",
       "0             None             None             None                 1   \n",
       "1             None             None             None                 1   \n",
       "2             None             None             None                 0   \n",
       "\n",
       "   total_opioids  ftir_benzo  total_benzos  \n",
       "0              1           0             0  \n",
       "1              1           0             0  \n",
       "2              0           1             1  "
      ]
     },
     "execution_count": 2,
     "metadata": {},
     "output_type": "execute_result"
    }
   ],
   "source": [
    "df = pd.read_csv(os.path.join(CFG.PROCESSED_DATA_PATH, f\"df-processed-{CFG.DATE}.csv\"), parse_dates=['visit date'])\n",
    "df.head(3)"
   ]
  },
  {
   "cell_type": "code",
   "execution_count": 5,
   "metadata": {},
   "outputs": [
    {
     "data": {
      "application/vnd.plotly.v1+json": {
       "config": {
        "plotlyServerURL": "https://plot.ly"
       },
       "data": [
        {
         "orientation": "h",
         "type": "bar",
         "x": [
          38421,
          5331,
          3144,
          1806,
          1631,
          1110,
          924,
          762,
          673,
          516
         ],
         "y": [
          "Get Your Drugs Tested",
          "Insite",
          "Overdose Prevention Society",
          "Molson OPS",
          "ANKORS (Nelson)",
          "SafePoint",
          "ASK Wellness (433 Tranquille)",
          "CMHA",
          "ANKORS (Cranbrook)",
          "Purpose Society"
         ]
        }
       ],
       "layout": {
        "template": {
         "data": {
          "bar": [
           {
            "error_x": {
             "color": "#2a3f5f"
            },
            "error_y": {
             "color": "#2a3f5f"
            },
            "marker": {
             "line": {
              "color": "#E5ECF6",
              "width": 0.5
             },
             "pattern": {
              "fillmode": "overlay",
              "size": 10,
              "solidity": 0.2
             }
            },
            "type": "bar"
           }
          ],
          "barpolar": [
           {
            "marker": {
             "line": {
              "color": "#E5ECF6",
              "width": 0.5
             },
             "pattern": {
              "fillmode": "overlay",
              "size": 10,
              "solidity": 0.2
             }
            },
            "type": "barpolar"
           }
          ],
          "carpet": [
           {
            "aaxis": {
             "endlinecolor": "#2a3f5f",
             "gridcolor": "white",
             "linecolor": "white",
             "minorgridcolor": "white",
             "startlinecolor": "#2a3f5f"
            },
            "baxis": {
             "endlinecolor": "#2a3f5f",
             "gridcolor": "white",
             "linecolor": "white",
             "minorgridcolor": "white",
             "startlinecolor": "#2a3f5f"
            },
            "type": "carpet"
           }
          ],
          "choropleth": [
           {
            "colorbar": {
             "outlinewidth": 0,
             "ticks": ""
            },
            "type": "choropleth"
           }
          ],
          "contour": [
           {
            "colorbar": {
             "outlinewidth": 0,
             "ticks": ""
            },
            "colorscale": [
             [
              0,
              "#0d0887"
             ],
             [
              0.1111111111111111,
              "#46039f"
             ],
             [
              0.2222222222222222,
              "#7201a8"
             ],
             [
              0.3333333333333333,
              "#9c179e"
             ],
             [
              0.4444444444444444,
              "#bd3786"
             ],
             [
              0.5555555555555556,
              "#d8576b"
             ],
             [
              0.6666666666666666,
              "#ed7953"
             ],
             [
              0.7777777777777778,
              "#fb9f3a"
             ],
             [
              0.8888888888888888,
              "#fdca26"
             ],
             [
              1,
              "#f0f921"
             ]
            ],
            "type": "contour"
           }
          ],
          "contourcarpet": [
           {
            "colorbar": {
             "outlinewidth": 0,
             "ticks": ""
            },
            "type": "contourcarpet"
           }
          ],
          "heatmap": [
           {
            "colorbar": {
             "outlinewidth": 0,
             "ticks": ""
            },
            "colorscale": [
             [
              0,
              "#0d0887"
             ],
             [
              0.1111111111111111,
              "#46039f"
             ],
             [
              0.2222222222222222,
              "#7201a8"
             ],
             [
              0.3333333333333333,
              "#9c179e"
             ],
             [
              0.4444444444444444,
              "#bd3786"
             ],
             [
              0.5555555555555556,
              "#d8576b"
             ],
             [
              0.6666666666666666,
              "#ed7953"
             ],
             [
              0.7777777777777778,
              "#fb9f3a"
             ],
             [
              0.8888888888888888,
              "#fdca26"
             ],
             [
              1,
              "#f0f921"
             ]
            ],
            "type": "heatmap"
           }
          ],
          "heatmapgl": [
           {
            "colorbar": {
             "outlinewidth": 0,
             "ticks": ""
            },
            "colorscale": [
             [
              0,
              "#0d0887"
             ],
             [
              0.1111111111111111,
              "#46039f"
             ],
             [
              0.2222222222222222,
              "#7201a8"
             ],
             [
              0.3333333333333333,
              "#9c179e"
             ],
             [
              0.4444444444444444,
              "#bd3786"
             ],
             [
              0.5555555555555556,
              "#d8576b"
             ],
             [
              0.6666666666666666,
              "#ed7953"
             ],
             [
              0.7777777777777778,
              "#fb9f3a"
             ],
             [
              0.8888888888888888,
              "#fdca26"
             ],
             [
              1,
              "#f0f921"
             ]
            ],
            "type": "heatmapgl"
           }
          ],
          "histogram": [
           {
            "marker": {
             "pattern": {
              "fillmode": "overlay",
              "size": 10,
              "solidity": 0.2
             }
            },
            "type": "histogram"
           }
          ],
          "histogram2d": [
           {
            "colorbar": {
             "outlinewidth": 0,
             "ticks": ""
            },
            "colorscale": [
             [
              0,
              "#0d0887"
             ],
             [
              0.1111111111111111,
              "#46039f"
             ],
             [
              0.2222222222222222,
              "#7201a8"
             ],
             [
              0.3333333333333333,
              "#9c179e"
             ],
             [
              0.4444444444444444,
              "#bd3786"
             ],
             [
              0.5555555555555556,
              "#d8576b"
             ],
             [
              0.6666666666666666,
              "#ed7953"
             ],
             [
              0.7777777777777778,
              "#fb9f3a"
             ],
             [
              0.8888888888888888,
              "#fdca26"
             ],
             [
              1,
              "#f0f921"
             ]
            ],
            "type": "histogram2d"
           }
          ],
          "histogram2dcontour": [
           {
            "colorbar": {
             "outlinewidth": 0,
             "ticks": ""
            },
            "colorscale": [
             [
              0,
              "#0d0887"
             ],
             [
              0.1111111111111111,
              "#46039f"
             ],
             [
              0.2222222222222222,
              "#7201a8"
             ],
             [
              0.3333333333333333,
              "#9c179e"
             ],
             [
              0.4444444444444444,
              "#bd3786"
             ],
             [
              0.5555555555555556,
              "#d8576b"
             ],
             [
              0.6666666666666666,
              "#ed7953"
             ],
             [
              0.7777777777777778,
              "#fb9f3a"
             ],
             [
              0.8888888888888888,
              "#fdca26"
             ],
             [
              1,
              "#f0f921"
             ]
            ],
            "type": "histogram2dcontour"
           }
          ],
          "mesh3d": [
           {
            "colorbar": {
             "outlinewidth": 0,
             "ticks": ""
            },
            "type": "mesh3d"
           }
          ],
          "parcoords": [
           {
            "line": {
             "colorbar": {
              "outlinewidth": 0,
              "ticks": ""
             }
            },
            "type": "parcoords"
           }
          ],
          "pie": [
           {
            "automargin": true,
            "type": "pie"
           }
          ],
          "scatter": [
           {
            "fillpattern": {
             "fillmode": "overlay",
             "size": 10,
             "solidity": 0.2
            },
            "type": "scatter"
           }
          ],
          "scatter3d": [
           {
            "line": {
             "colorbar": {
              "outlinewidth": 0,
              "ticks": ""
             }
            },
            "marker": {
             "colorbar": {
              "outlinewidth": 0,
              "ticks": ""
             }
            },
            "type": "scatter3d"
           }
          ],
          "scattercarpet": [
           {
            "marker": {
             "colorbar": {
              "outlinewidth": 0,
              "ticks": ""
             }
            },
            "type": "scattercarpet"
           }
          ],
          "scattergeo": [
           {
            "marker": {
             "colorbar": {
              "outlinewidth": 0,
              "ticks": ""
             }
            },
            "type": "scattergeo"
           }
          ],
          "scattergl": [
           {
            "marker": {
             "colorbar": {
              "outlinewidth": 0,
              "ticks": ""
             }
            },
            "type": "scattergl"
           }
          ],
          "scattermapbox": [
           {
            "marker": {
             "colorbar": {
              "outlinewidth": 0,
              "ticks": ""
             }
            },
            "type": "scattermapbox"
           }
          ],
          "scatterpolar": [
           {
            "marker": {
             "colorbar": {
              "outlinewidth": 0,
              "ticks": ""
             }
            },
            "type": "scatterpolar"
           }
          ],
          "scatterpolargl": [
           {
            "marker": {
             "colorbar": {
              "outlinewidth": 0,
              "ticks": ""
             }
            },
            "type": "scatterpolargl"
           }
          ],
          "scatterternary": [
           {
            "marker": {
             "colorbar": {
              "outlinewidth": 0,
              "ticks": ""
             }
            },
            "type": "scatterternary"
           }
          ],
          "surface": [
           {
            "colorbar": {
             "outlinewidth": 0,
             "ticks": ""
            },
            "colorscale": [
             [
              0,
              "#0d0887"
             ],
             [
              0.1111111111111111,
              "#46039f"
             ],
             [
              0.2222222222222222,
              "#7201a8"
             ],
             [
              0.3333333333333333,
              "#9c179e"
             ],
             [
              0.4444444444444444,
              "#bd3786"
             ],
             [
              0.5555555555555556,
              "#d8576b"
             ],
             [
              0.6666666666666666,
              "#ed7953"
             ],
             [
              0.7777777777777778,
              "#fb9f3a"
             ],
             [
              0.8888888888888888,
              "#fdca26"
             ],
             [
              1,
              "#f0f921"
             ]
            ],
            "type": "surface"
           }
          ],
          "table": [
           {
            "cells": {
             "fill": {
              "color": "#EBF0F8"
             },
             "line": {
              "color": "white"
             }
            },
            "header": {
             "fill": {
              "color": "#C8D4E3"
             },
             "line": {
              "color": "white"
             }
            },
            "type": "table"
           }
          ]
         },
         "layout": {
          "annotationdefaults": {
           "arrowcolor": "#2a3f5f",
           "arrowhead": 0,
           "arrowwidth": 1
          },
          "autotypenumbers": "strict",
          "coloraxis": {
           "colorbar": {
            "outlinewidth": 0,
            "ticks": ""
           }
          },
          "colorscale": {
           "diverging": [
            [
             0,
             "#8e0152"
            ],
            [
             0.1,
             "#c51b7d"
            ],
            [
             0.2,
             "#de77ae"
            ],
            [
             0.3,
             "#f1b6da"
            ],
            [
             0.4,
             "#fde0ef"
            ],
            [
             0.5,
             "#f7f7f7"
            ],
            [
             0.6,
             "#e6f5d0"
            ],
            [
             0.7,
             "#b8e186"
            ],
            [
             0.8,
             "#7fbc41"
            ],
            [
             0.9,
             "#4d9221"
            ],
            [
             1,
             "#276419"
            ]
           ],
           "sequential": [
            [
             0,
             "#0d0887"
            ],
            [
             0.1111111111111111,
             "#46039f"
            ],
            [
             0.2222222222222222,
             "#7201a8"
            ],
            [
             0.3333333333333333,
             "#9c179e"
            ],
            [
             0.4444444444444444,
             "#bd3786"
            ],
            [
             0.5555555555555556,
             "#d8576b"
            ],
            [
             0.6666666666666666,
             "#ed7953"
            ],
            [
             0.7777777777777778,
             "#fb9f3a"
            ],
            [
             0.8888888888888888,
             "#fdca26"
            ],
            [
             1,
             "#f0f921"
            ]
           ],
           "sequentialminus": [
            [
             0,
             "#0d0887"
            ],
            [
             0.1111111111111111,
             "#46039f"
            ],
            [
             0.2222222222222222,
             "#7201a8"
            ],
            [
             0.3333333333333333,
             "#9c179e"
            ],
            [
             0.4444444444444444,
             "#bd3786"
            ],
            [
             0.5555555555555556,
             "#d8576b"
            ],
            [
             0.6666666666666666,
             "#ed7953"
            ],
            [
             0.7777777777777778,
             "#fb9f3a"
            ],
            [
             0.8888888888888888,
             "#fdca26"
            ],
            [
             1,
             "#f0f921"
            ]
           ]
          },
          "colorway": [
           "#636efa",
           "#EF553B",
           "#00cc96",
           "#ab63fa",
           "#FFA15A",
           "#19d3f3",
           "#FF6692",
           "#B6E880",
           "#FF97FF",
           "#FECB52"
          ],
          "font": {
           "color": "#2a3f5f"
          },
          "geo": {
           "bgcolor": "white",
           "lakecolor": "white",
           "landcolor": "#E5ECF6",
           "showlakes": true,
           "showland": true,
           "subunitcolor": "white"
          },
          "hoverlabel": {
           "align": "left"
          },
          "hovermode": "closest",
          "mapbox": {
           "style": "light"
          },
          "paper_bgcolor": "white",
          "plot_bgcolor": "#E5ECF6",
          "polar": {
           "angularaxis": {
            "gridcolor": "white",
            "linecolor": "white",
            "ticks": ""
           },
           "bgcolor": "#E5ECF6",
           "radialaxis": {
            "gridcolor": "white",
            "linecolor": "white",
            "ticks": ""
           }
          },
          "scene": {
           "xaxis": {
            "backgroundcolor": "#E5ECF6",
            "gridcolor": "white",
            "gridwidth": 2,
            "linecolor": "white",
            "showbackground": true,
            "ticks": "",
            "zerolinecolor": "white"
           },
           "yaxis": {
            "backgroundcolor": "#E5ECF6",
            "gridcolor": "white",
            "gridwidth": 2,
            "linecolor": "white",
            "showbackground": true,
            "ticks": "",
            "zerolinecolor": "white"
           },
           "zaxis": {
            "backgroundcolor": "#E5ECF6",
            "gridcolor": "white",
            "gridwidth": 2,
            "linecolor": "white",
            "showbackground": true,
            "ticks": "",
            "zerolinecolor": "white"
           }
          },
          "shapedefaults": {
           "line": {
            "color": "#2a3f5f"
           }
          },
          "ternary": {
           "aaxis": {
            "gridcolor": "white",
            "linecolor": "white",
            "ticks": ""
           },
           "baxis": {
            "gridcolor": "white",
            "linecolor": "white",
            "ticks": ""
           },
           "bgcolor": "#E5ECF6",
           "caxis": {
            "gridcolor": "white",
            "linecolor": "white",
            "ticks": ""
           }
          },
          "title": {
           "x": 0.05
          },
          "xaxis": {
           "automargin": true,
           "gridcolor": "white",
           "linecolor": "white",
           "ticks": "",
           "title": {
            "standoff": 15
           },
           "zerolinecolor": "white",
           "zerolinewidth": 2
          },
          "yaxis": {
           "automargin": true,
           "gridcolor": "white",
           "linecolor": "white",
           "ticks": "",
           "title": {
            "standoff": 15
           },
           "zerolinecolor": "white",
           "zerolinewidth": 2
          }
         }
        }
       }
      }
     },
     "metadata": {},
     "output_type": "display_data"
    }
   ],
   "source": [
    "site_count = df.value_counts('site').head(10).sort_values(ascending=False)\n",
    "city_counts = df.value_counts('city').head(10)\n",
    "\n",
    "fig = go.Figure(go.Bar(\n",
    "    x=site_count.values,\n",
    "    y=site_count.index,\n",
    "    orientation='h',\n",
    "))\n",
    "fig.show()"
   ]
  },
  {
   "attachments": {},
   "cell_type": "markdown",
   "metadata": {},
   "source": [
    "- The highest number of samples in each category is much more popular than all others"
   ]
  },
  {
   "cell_type": "code",
   "execution_count": 8,
   "metadata": {},
   "outputs": [
    {
     "data": {
      "application/vnd.plotly.v1+json": {
       "config": {
        "plotlyServerURL": "https://plot.ly"
       },
       "data": [
        {
         "hole": 0.65,
         "hoverinfo": "value+percent",
         "labels": [
          "Opioid",
          "Psychedelic",
          "Stimulant",
          "Unknown",
          "Depressant",
          "Other",
          "Polysubstance"
         ],
         "marker": {
          "line": {
           "color": "#000000",
           "width": 2
          }
         },
         "textfont": {
          "size": 20
         },
         "textinfo": "label",
         "type": "pie",
         "values": [
          23657,
          13378,
          11624,
          6310,
          3646,
          1267,
          118
         ]
        }
       ],
       "layout": {
        "annotations": [
         {
          "font": {
           "size": 20
          },
          "showarrow": false,
          "text": "Categories",
          "x": 0.5,
          "y": 0.5
         }
        ],
        "template": {
         "data": {
          "bar": [
           {
            "error_x": {
             "color": "#2a3f5f"
            },
            "error_y": {
             "color": "#2a3f5f"
            },
            "marker": {
             "line": {
              "color": "#E5ECF6",
              "width": 0.5
             },
             "pattern": {
              "fillmode": "overlay",
              "size": 10,
              "solidity": 0.2
             }
            },
            "type": "bar"
           }
          ],
          "barpolar": [
           {
            "marker": {
             "line": {
              "color": "#E5ECF6",
              "width": 0.5
             },
             "pattern": {
              "fillmode": "overlay",
              "size": 10,
              "solidity": 0.2
             }
            },
            "type": "barpolar"
           }
          ],
          "carpet": [
           {
            "aaxis": {
             "endlinecolor": "#2a3f5f",
             "gridcolor": "white",
             "linecolor": "white",
             "minorgridcolor": "white",
             "startlinecolor": "#2a3f5f"
            },
            "baxis": {
             "endlinecolor": "#2a3f5f",
             "gridcolor": "white",
             "linecolor": "white",
             "minorgridcolor": "white",
             "startlinecolor": "#2a3f5f"
            },
            "type": "carpet"
           }
          ],
          "choropleth": [
           {
            "colorbar": {
             "outlinewidth": 0,
             "ticks": ""
            },
            "type": "choropleth"
           }
          ],
          "contour": [
           {
            "colorbar": {
             "outlinewidth": 0,
             "ticks": ""
            },
            "colorscale": [
             [
              0,
              "#0d0887"
             ],
             [
              0.1111111111111111,
              "#46039f"
             ],
             [
              0.2222222222222222,
              "#7201a8"
             ],
             [
              0.3333333333333333,
              "#9c179e"
             ],
             [
              0.4444444444444444,
              "#bd3786"
             ],
             [
              0.5555555555555556,
              "#d8576b"
             ],
             [
              0.6666666666666666,
              "#ed7953"
             ],
             [
              0.7777777777777778,
              "#fb9f3a"
             ],
             [
              0.8888888888888888,
              "#fdca26"
             ],
             [
              1,
              "#f0f921"
             ]
            ],
            "type": "contour"
           }
          ],
          "contourcarpet": [
           {
            "colorbar": {
             "outlinewidth": 0,
             "ticks": ""
            },
            "type": "contourcarpet"
           }
          ],
          "heatmap": [
           {
            "colorbar": {
             "outlinewidth": 0,
             "ticks": ""
            },
            "colorscale": [
             [
              0,
              "#0d0887"
             ],
             [
              0.1111111111111111,
              "#46039f"
             ],
             [
              0.2222222222222222,
              "#7201a8"
             ],
             [
              0.3333333333333333,
              "#9c179e"
             ],
             [
              0.4444444444444444,
              "#bd3786"
             ],
             [
              0.5555555555555556,
              "#d8576b"
             ],
             [
              0.6666666666666666,
              "#ed7953"
             ],
             [
              0.7777777777777778,
              "#fb9f3a"
             ],
             [
              0.8888888888888888,
              "#fdca26"
             ],
             [
              1,
              "#f0f921"
             ]
            ],
            "type": "heatmap"
           }
          ],
          "heatmapgl": [
           {
            "colorbar": {
             "outlinewidth": 0,
             "ticks": ""
            },
            "colorscale": [
             [
              0,
              "#0d0887"
             ],
             [
              0.1111111111111111,
              "#46039f"
             ],
             [
              0.2222222222222222,
              "#7201a8"
             ],
             [
              0.3333333333333333,
              "#9c179e"
             ],
             [
              0.4444444444444444,
              "#bd3786"
             ],
             [
              0.5555555555555556,
              "#d8576b"
             ],
             [
              0.6666666666666666,
              "#ed7953"
             ],
             [
              0.7777777777777778,
              "#fb9f3a"
             ],
             [
              0.8888888888888888,
              "#fdca26"
             ],
             [
              1,
              "#f0f921"
             ]
            ],
            "type": "heatmapgl"
           }
          ],
          "histogram": [
           {
            "marker": {
             "pattern": {
              "fillmode": "overlay",
              "size": 10,
              "solidity": 0.2
             }
            },
            "type": "histogram"
           }
          ],
          "histogram2d": [
           {
            "colorbar": {
             "outlinewidth": 0,
             "ticks": ""
            },
            "colorscale": [
             [
              0,
              "#0d0887"
             ],
             [
              0.1111111111111111,
              "#46039f"
             ],
             [
              0.2222222222222222,
              "#7201a8"
             ],
             [
              0.3333333333333333,
              "#9c179e"
             ],
             [
              0.4444444444444444,
              "#bd3786"
             ],
             [
              0.5555555555555556,
              "#d8576b"
             ],
             [
              0.6666666666666666,
              "#ed7953"
             ],
             [
              0.7777777777777778,
              "#fb9f3a"
             ],
             [
              0.8888888888888888,
              "#fdca26"
             ],
             [
              1,
              "#f0f921"
             ]
            ],
            "type": "histogram2d"
           }
          ],
          "histogram2dcontour": [
           {
            "colorbar": {
             "outlinewidth": 0,
             "ticks": ""
            },
            "colorscale": [
             [
              0,
              "#0d0887"
             ],
             [
              0.1111111111111111,
              "#46039f"
             ],
             [
              0.2222222222222222,
              "#7201a8"
             ],
             [
              0.3333333333333333,
              "#9c179e"
             ],
             [
              0.4444444444444444,
              "#bd3786"
             ],
             [
              0.5555555555555556,
              "#d8576b"
             ],
             [
              0.6666666666666666,
              "#ed7953"
             ],
             [
              0.7777777777777778,
              "#fb9f3a"
             ],
             [
              0.8888888888888888,
              "#fdca26"
             ],
             [
              1,
              "#f0f921"
             ]
            ],
            "type": "histogram2dcontour"
           }
          ],
          "mesh3d": [
           {
            "colorbar": {
             "outlinewidth": 0,
             "ticks": ""
            },
            "type": "mesh3d"
           }
          ],
          "parcoords": [
           {
            "line": {
             "colorbar": {
              "outlinewidth": 0,
              "ticks": ""
             }
            },
            "type": "parcoords"
           }
          ],
          "pie": [
           {
            "automargin": true,
            "type": "pie"
           }
          ],
          "scatter": [
           {
            "fillpattern": {
             "fillmode": "overlay",
             "size": 10,
             "solidity": 0.2
            },
            "type": "scatter"
           }
          ],
          "scatter3d": [
           {
            "line": {
             "colorbar": {
              "outlinewidth": 0,
              "ticks": ""
             }
            },
            "marker": {
             "colorbar": {
              "outlinewidth": 0,
              "ticks": ""
             }
            },
            "type": "scatter3d"
           }
          ],
          "scattercarpet": [
           {
            "marker": {
             "colorbar": {
              "outlinewidth": 0,
              "ticks": ""
             }
            },
            "type": "scattercarpet"
           }
          ],
          "scattergeo": [
           {
            "marker": {
             "colorbar": {
              "outlinewidth": 0,
              "ticks": ""
             }
            },
            "type": "scattergeo"
           }
          ],
          "scattergl": [
           {
            "marker": {
             "colorbar": {
              "outlinewidth": 0,
              "ticks": ""
             }
            },
            "type": "scattergl"
           }
          ],
          "scattermapbox": [
           {
            "marker": {
             "colorbar": {
              "outlinewidth": 0,
              "ticks": ""
             }
            },
            "type": "scattermapbox"
           }
          ],
          "scatterpolar": [
           {
            "marker": {
             "colorbar": {
              "outlinewidth": 0,
              "ticks": ""
             }
            },
            "type": "scatterpolar"
           }
          ],
          "scatterpolargl": [
           {
            "marker": {
             "colorbar": {
              "outlinewidth": 0,
              "ticks": ""
             }
            },
            "type": "scatterpolargl"
           }
          ],
          "scatterternary": [
           {
            "marker": {
             "colorbar": {
              "outlinewidth": 0,
              "ticks": ""
             }
            },
            "type": "scatterternary"
           }
          ],
          "surface": [
           {
            "colorbar": {
             "outlinewidth": 0,
             "ticks": ""
            },
            "colorscale": [
             [
              0,
              "#0d0887"
             ],
             [
              0.1111111111111111,
              "#46039f"
             ],
             [
              0.2222222222222222,
              "#7201a8"
             ],
             [
              0.3333333333333333,
              "#9c179e"
             ],
             [
              0.4444444444444444,
              "#bd3786"
             ],
             [
              0.5555555555555556,
              "#d8576b"
             ],
             [
              0.6666666666666666,
              "#ed7953"
             ],
             [
              0.7777777777777778,
              "#fb9f3a"
             ],
             [
              0.8888888888888888,
              "#fdca26"
             ],
             [
              1,
              "#f0f921"
             ]
            ],
            "type": "surface"
           }
          ],
          "table": [
           {
            "cells": {
             "fill": {
              "color": "#EBF0F8"
             },
             "line": {
              "color": "white"
             }
            },
            "header": {
             "fill": {
              "color": "#C8D4E3"
             },
             "line": {
              "color": "white"
             }
            },
            "type": "table"
           }
          ]
         },
         "layout": {
          "annotationdefaults": {
           "arrowcolor": "#2a3f5f",
           "arrowhead": 0,
           "arrowwidth": 1
          },
          "autotypenumbers": "strict",
          "coloraxis": {
           "colorbar": {
            "outlinewidth": 0,
            "ticks": ""
           }
          },
          "colorscale": {
           "diverging": [
            [
             0,
             "#8e0152"
            ],
            [
             0.1,
             "#c51b7d"
            ],
            [
             0.2,
             "#de77ae"
            ],
            [
             0.3,
             "#f1b6da"
            ],
            [
             0.4,
             "#fde0ef"
            ],
            [
             0.5,
             "#f7f7f7"
            ],
            [
             0.6,
             "#e6f5d0"
            ],
            [
             0.7,
             "#b8e186"
            ],
            [
             0.8,
             "#7fbc41"
            ],
            [
             0.9,
             "#4d9221"
            ],
            [
             1,
             "#276419"
            ]
           ],
           "sequential": [
            [
             0,
             "#0d0887"
            ],
            [
             0.1111111111111111,
             "#46039f"
            ],
            [
             0.2222222222222222,
             "#7201a8"
            ],
            [
             0.3333333333333333,
             "#9c179e"
            ],
            [
             0.4444444444444444,
             "#bd3786"
            ],
            [
             0.5555555555555556,
             "#d8576b"
            ],
            [
             0.6666666666666666,
             "#ed7953"
            ],
            [
             0.7777777777777778,
             "#fb9f3a"
            ],
            [
             0.8888888888888888,
             "#fdca26"
            ],
            [
             1,
             "#f0f921"
            ]
           ],
           "sequentialminus": [
            [
             0,
             "#0d0887"
            ],
            [
             0.1111111111111111,
             "#46039f"
            ],
            [
             0.2222222222222222,
             "#7201a8"
            ],
            [
             0.3333333333333333,
             "#9c179e"
            ],
            [
             0.4444444444444444,
             "#bd3786"
            ],
            [
             0.5555555555555556,
             "#d8576b"
            ],
            [
             0.6666666666666666,
             "#ed7953"
            ],
            [
             0.7777777777777778,
             "#fb9f3a"
            ],
            [
             0.8888888888888888,
             "#fdca26"
            ],
            [
             1,
             "#f0f921"
            ]
           ]
          },
          "colorway": [
           "#636efa",
           "#EF553B",
           "#00cc96",
           "#ab63fa",
           "#FFA15A",
           "#19d3f3",
           "#FF6692",
           "#B6E880",
           "#FF97FF",
           "#FECB52"
          ],
          "font": {
           "color": "#2a3f5f"
          },
          "geo": {
           "bgcolor": "white",
           "lakecolor": "white",
           "landcolor": "#E5ECF6",
           "showlakes": true,
           "showland": true,
           "subunitcolor": "white"
          },
          "hoverlabel": {
           "align": "left"
          },
          "hovermode": "closest",
          "mapbox": {
           "style": "light"
          },
          "paper_bgcolor": "white",
          "plot_bgcolor": "#E5ECF6",
          "polar": {
           "angularaxis": {
            "gridcolor": "white",
            "linecolor": "white",
            "ticks": ""
           },
           "bgcolor": "#E5ECF6",
           "radialaxis": {
            "gridcolor": "white",
            "linecolor": "white",
            "ticks": ""
           }
          },
          "scene": {
           "xaxis": {
            "backgroundcolor": "#E5ECF6",
            "gridcolor": "white",
            "gridwidth": 2,
            "linecolor": "white",
            "showbackground": true,
            "ticks": "",
            "zerolinecolor": "white"
           },
           "yaxis": {
            "backgroundcolor": "#E5ECF6",
            "gridcolor": "white",
            "gridwidth": 2,
            "linecolor": "white",
            "showbackground": true,
            "ticks": "",
            "zerolinecolor": "white"
           },
           "zaxis": {
            "backgroundcolor": "#E5ECF6",
            "gridcolor": "white",
            "gridwidth": 2,
            "linecolor": "white",
            "showbackground": true,
            "ticks": "",
            "zerolinecolor": "white"
           }
          },
          "shapedefaults": {
           "line": {
            "color": "#2a3f5f"
           }
          },
          "ternary": {
           "aaxis": {
            "gridcolor": "white",
            "linecolor": "white",
            "ticks": ""
           },
           "baxis": {
            "gridcolor": "white",
            "linecolor": "white",
            "ticks": ""
           },
           "bgcolor": "#E5ECF6",
           "caxis": {
            "gridcolor": "white",
            "linecolor": "white",
            "ticks": ""
           }
          },
          "title": {
           "x": 0.05
          },
          "xaxis": {
           "automargin": true,
           "gridcolor": "white",
           "linecolor": "white",
           "ticks": "",
           "title": {
            "standoff": 15
           },
           "zerolinecolor": "white",
           "zerolinewidth": 2
          },
          "yaxis": {
           "automargin": true,
           "gridcolor": "white",
           "linecolor": "white",
           "ticks": "",
           "title": {
            "standoff": 15
           },
           "zerolinecolor": "white",
           "zerolinewidth": 2
          }
         }
        }
       }
      }
     },
     "metadata": {},
     "output_type": "display_data"
    }
   ],
   "source": [
    "fig = go.Figure(go.Pie(\n",
    "    labels=df.category.value_counts().index,\n",
    "    values=df.category.value_counts().values,\n",
    "    hole=0.65\n",
    "))\n",
    "fig.update_traces(hoverinfo='value+percent', textinfo='label', textfont_size=20,\n",
    "                  marker=dict(line=dict(color='#000000', width=2)))\n",
    "fig.update_layout(\n",
    "    annotations=[\n",
    "        dict(text=\"Categories\", x=0.5, y=0.5, font_size=20, showarrow=False)\n",
    "    ]\n",
    ")\n",
    "fig.show()"
   ]
  },
  {
   "cell_type": "code",
   "execution_count": 8,
   "metadata": {},
   "outputs": [
    {
     "data": {
      "application/vnd.plotly.v1+json": {
       "config": {
        "plotlyServerURL": "https://plot.ly"
       },
       "data": [
        {
         "hole": 0.65,
         "hoverinfo": "value+percent",
         "labels": [
          "samples"
         ],
         "marker": {
          "line": {
           "color": "#000000",
           "width": 2
          }
         },
         "textfont": {
          "size": 20
         },
         "textinfo": "label",
         "type": "pie",
         "values": [
          60000
         ]
        }
       ],
       "layout": {
        "annotations": [
         {
          "font": {
           "size": 20
          },
          "showarrow": false,
          "text": "Total<br>Samples",
          "x": 0.5,
          "y": 0.5
         }
        ],
        "template": {
         "data": {
          "bar": [
           {
            "error_x": {
             "color": "#2a3f5f"
            },
            "error_y": {
             "color": "#2a3f5f"
            },
            "marker": {
             "line": {
              "color": "#E5ECF6",
              "width": 0.5
             },
             "pattern": {
              "fillmode": "overlay",
              "size": 10,
              "solidity": 0.2
             }
            },
            "type": "bar"
           }
          ],
          "barpolar": [
           {
            "marker": {
             "line": {
              "color": "#E5ECF6",
              "width": 0.5
             },
             "pattern": {
              "fillmode": "overlay",
              "size": 10,
              "solidity": 0.2
             }
            },
            "type": "barpolar"
           }
          ],
          "carpet": [
           {
            "aaxis": {
             "endlinecolor": "#2a3f5f",
             "gridcolor": "white",
             "linecolor": "white",
             "minorgridcolor": "white",
             "startlinecolor": "#2a3f5f"
            },
            "baxis": {
             "endlinecolor": "#2a3f5f",
             "gridcolor": "white",
             "linecolor": "white",
             "minorgridcolor": "white",
             "startlinecolor": "#2a3f5f"
            },
            "type": "carpet"
           }
          ],
          "choropleth": [
           {
            "colorbar": {
             "outlinewidth": 0,
             "ticks": ""
            },
            "type": "choropleth"
           }
          ],
          "contour": [
           {
            "colorbar": {
             "outlinewidth": 0,
             "ticks": ""
            },
            "colorscale": [
             [
              0,
              "#0d0887"
             ],
             [
              0.1111111111111111,
              "#46039f"
             ],
             [
              0.2222222222222222,
              "#7201a8"
             ],
             [
              0.3333333333333333,
              "#9c179e"
             ],
             [
              0.4444444444444444,
              "#bd3786"
             ],
             [
              0.5555555555555556,
              "#d8576b"
             ],
             [
              0.6666666666666666,
              "#ed7953"
             ],
             [
              0.7777777777777778,
              "#fb9f3a"
             ],
             [
              0.8888888888888888,
              "#fdca26"
             ],
             [
              1,
              "#f0f921"
             ]
            ],
            "type": "contour"
           }
          ],
          "contourcarpet": [
           {
            "colorbar": {
             "outlinewidth": 0,
             "ticks": ""
            },
            "type": "contourcarpet"
           }
          ],
          "heatmap": [
           {
            "colorbar": {
             "outlinewidth": 0,
             "ticks": ""
            },
            "colorscale": [
             [
              0,
              "#0d0887"
             ],
             [
              0.1111111111111111,
              "#46039f"
             ],
             [
              0.2222222222222222,
              "#7201a8"
             ],
             [
              0.3333333333333333,
              "#9c179e"
             ],
             [
              0.4444444444444444,
              "#bd3786"
             ],
             [
              0.5555555555555556,
              "#d8576b"
             ],
             [
              0.6666666666666666,
              "#ed7953"
             ],
             [
              0.7777777777777778,
              "#fb9f3a"
             ],
             [
              0.8888888888888888,
              "#fdca26"
             ],
             [
              1,
              "#f0f921"
             ]
            ],
            "type": "heatmap"
           }
          ],
          "heatmapgl": [
           {
            "colorbar": {
             "outlinewidth": 0,
             "ticks": ""
            },
            "colorscale": [
             [
              0,
              "#0d0887"
             ],
             [
              0.1111111111111111,
              "#46039f"
             ],
             [
              0.2222222222222222,
              "#7201a8"
             ],
             [
              0.3333333333333333,
              "#9c179e"
             ],
             [
              0.4444444444444444,
              "#bd3786"
             ],
             [
              0.5555555555555556,
              "#d8576b"
             ],
             [
              0.6666666666666666,
              "#ed7953"
             ],
             [
              0.7777777777777778,
              "#fb9f3a"
             ],
             [
              0.8888888888888888,
              "#fdca26"
             ],
             [
              1,
              "#f0f921"
             ]
            ],
            "type": "heatmapgl"
           }
          ],
          "histogram": [
           {
            "marker": {
             "pattern": {
              "fillmode": "overlay",
              "size": 10,
              "solidity": 0.2
             }
            },
            "type": "histogram"
           }
          ],
          "histogram2d": [
           {
            "colorbar": {
             "outlinewidth": 0,
             "ticks": ""
            },
            "colorscale": [
             [
              0,
              "#0d0887"
             ],
             [
              0.1111111111111111,
              "#46039f"
             ],
             [
              0.2222222222222222,
              "#7201a8"
             ],
             [
              0.3333333333333333,
              "#9c179e"
             ],
             [
              0.4444444444444444,
              "#bd3786"
             ],
             [
              0.5555555555555556,
              "#d8576b"
             ],
             [
              0.6666666666666666,
              "#ed7953"
             ],
             [
              0.7777777777777778,
              "#fb9f3a"
             ],
             [
              0.8888888888888888,
              "#fdca26"
             ],
             [
              1,
              "#f0f921"
             ]
            ],
            "type": "histogram2d"
           }
          ],
          "histogram2dcontour": [
           {
            "colorbar": {
             "outlinewidth": 0,
             "ticks": ""
            },
            "colorscale": [
             [
              0,
              "#0d0887"
             ],
             [
              0.1111111111111111,
              "#46039f"
             ],
             [
              0.2222222222222222,
              "#7201a8"
             ],
             [
              0.3333333333333333,
              "#9c179e"
             ],
             [
              0.4444444444444444,
              "#bd3786"
             ],
             [
              0.5555555555555556,
              "#d8576b"
             ],
             [
              0.6666666666666666,
              "#ed7953"
             ],
             [
              0.7777777777777778,
              "#fb9f3a"
             ],
             [
              0.8888888888888888,
              "#fdca26"
             ],
             [
              1,
              "#f0f921"
             ]
            ],
            "type": "histogram2dcontour"
           }
          ],
          "mesh3d": [
           {
            "colorbar": {
             "outlinewidth": 0,
             "ticks": ""
            },
            "type": "mesh3d"
           }
          ],
          "parcoords": [
           {
            "line": {
             "colorbar": {
              "outlinewidth": 0,
              "ticks": ""
             }
            },
            "type": "parcoords"
           }
          ],
          "pie": [
           {
            "automargin": true,
            "type": "pie"
           }
          ],
          "scatter": [
           {
            "fillpattern": {
             "fillmode": "overlay",
             "size": 10,
             "solidity": 0.2
            },
            "type": "scatter"
           }
          ],
          "scatter3d": [
           {
            "line": {
             "colorbar": {
              "outlinewidth": 0,
              "ticks": ""
             }
            },
            "marker": {
             "colorbar": {
              "outlinewidth": 0,
              "ticks": ""
             }
            },
            "type": "scatter3d"
           }
          ],
          "scattercarpet": [
           {
            "marker": {
             "colorbar": {
              "outlinewidth": 0,
              "ticks": ""
             }
            },
            "type": "scattercarpet"
           }
          ],
          "scattergeo": [
           {
            "marker": {
             "colorbar": {
              "outlinewidth": 0,
              "ticks": ""
             }
            },
            "type": "scattergeo"
           }
          ],
          "scattergl": [
           {
            "marker": {
             "colorbar": {
              "outlinewidth": 0,
              "ticks": ""
             }
            },
            "type": "scattergl"
           }
          ],
          "scattermapbox": [
           {
            "marker": {
             "colorbar": {
              "outlinewidth": 0,
              "ticks": ""
             }
            },
            "type": "scattermapbox"
           }
          ],
          "scatterpolar": [
           {
            "marker": {
             "colorbar": {
              "outlinewidth": 0,
              "ticks": ""
             }
            },
            "type": "scatterpolar"
           }
          ],
          "scatterpolargl": [
           {
            "marker": {
             "colorbar": {
              "outlinewidth": 0,
              "ticks": ""
             }
            },
            "type": "scatterpolargl"
           }
          ],
          "scatterternary": [
           {
            "marker": {
             "colorbar": {
              "outlinewidth": 0,
              "ticks": ""
             }
            },
            "type": "scatterternary"
           }
          ],
          "surface": [
           {
            "colorbar": {
             "outlinewidth": 0,
             "ticks": ""
            },
            "colorscale": [
             [
              0,
              "#0d0887"
             ],
             [
              0.1111111111111111,
              "#46039f"
             ],
             [
              0.2222222222222222,
              "#7201a8"
             ],
             [
              0.3333333333333333,
              "#9c179e"
             ],
             [
              0.4444444444444444,
              "#bd3786"
             ],
             [
              0.5555555555555556,
              "#d8576b"
             ],
             [
              0.6666666666666666,
              "#ed7953"
             ],
             [
              0.7777777777777778,
              "#fb9f3a"
             ],
             [
              0.8888888888888888,
              "#fdca26"
             ],
             [
              1,
              "#f0f921"
             ]
            ],
            "type": "surface"
           }
          ],
          "table": [
           {
            "cells": {
             "fill": {
              "color": "#EBF0F8"
             },
             "line": {
              "color": "white"
             }
            },
            "header": {
             "fill": {
              "color": "#C8D4E3"
             },
             "line": {
              "color": "white"
             }
            },
            "type": "table"
           }
          ]
         },
         "layout": {
          "annotationdefaults": {
           "arrowcolor": "#2a3f5f",
           "arrowhead": 0,
           "arrowwidth": 1
          },
          "autotypenumbers": "strict",
          "coloraxis": {
           "colorbar": {
            "outlinewidth": 0,
            "ticks": ""
           }
          },
          "colorscale": {
           "diverging": [
            [
             0,
             "#8e0152"
            ],
            [
             0.1,
             "#c51b7d"
            ],
            [
             0.2,
             "#de77ae"
            ],
            [
             0.3,
             "#f1b6da"
            ],
            [
             0.4,
             "#fde0ef"
            ],
            [
             0.5,
             "#f7f7f7"
            ],
            [
             0.6,
             "#e6f5d0"
            ],
            [
             0.7,
             "#b8e186"
            ],
            [
             0.8,
             "#7fbc41"
            ],
            [
             0.9,
             "#4d9221"
            ],
            [
             1,
             "#276419"
            ]
           ],
           "sequential": [
            [
             0,
             "#0d0887"
            ],
            [
             0.1111111111111111,
             "#46039f"
            ],
            [
             0.2222222222222222,
             "#7201a8"
            ],
            [
             0.3333333333333333,
             "#9c179e"
            ],
            [
             0.4444444444444444,
             "#bd3786"
            ],
            [
             0.5555555555555556,
             "#d8576b"
            ],
            [
             0.6666666666666666,
             "#ed7953"
            ],
            [
             0.7777777777777778,
             "#fb9f3a"
            ],
            [
             0.8888888888888888,
             "#fdca26"
            ],
            [
             1,
             "#f0f921"
            ]
           ],
           "sequentialminus": [
            [
             0,
             "#0d0887"
            ],
            [
             0.1111111111111111,
             "#46039f"
            ],
            [
             0.2222222222222222,
             "#7201a8"
            ],
            [
             0.3333333333333333,
             "#9c179e"
            ],
            [
             0.4444444444444444,
             "#bd3786"
            ],
            [
             0.5555555555555556,
             "#d8576b"
            ],
            [
             0.6666666666666666,
             "#ed7953"
            ],
            [
             0.7777777777777778,
             "#fb9f3a"
            ],
            [
             0.8888888888888888,
             "#fdca26"
            ],
            [
             1,
             "#f0f921"
            ]
           ]
          },
          "colorway": [
           "#636efa",
           "#EF553B",
           "#00cc96",
           "#ab63fa",
           "#FFA15A",
           "#19d3f3",
           "#FF6692",
           "#B6E880",
           "#FF97FF",
           "#FECB52"
          ],
          "font": {
           "color": "#2a3f5f"
          },
          "geo": {
           "bgcolor": "white",
           "lakecolor": "white",
           "landcolor": "#E5ECF6",
           "showlakes": true,
           "showland": true,
           "subunitcolor": "white"
          },
          "hoverlabel": {
           "align": "left"
          },
          "hovermode": "closest",
          "mapbox": {
           "style": "light"
          },
          "paper_bgcolor": "white",
          "plot_bgcolor": "#E5ECF6",
          "polar": {
           "angularaxis": {
            "gridcolor": "white",
            "linecolor": "white",
            "ticks": ""
           },
           "bgcolor": "#E5ECF6",
           "radialaxis": {
            "gridcolor": "white",
            "linecolor": "white",
            "ticks": ""
           }
          },
          "scene": {
           "xaxis": {
            "backgroundcolor": "#E5ECF6",
            "gridcolor": "white",
            "gridwidth": 2,
            "linecolor": "white",
            "showbackground": true,
            "ticks": "",
            "zerolinecolor": "white"
           },
           "yaxis": {
            "backgroundcolor": "#E5ECF6",
            "gridcolor": "white",
            "gridwidth": 2,
            "linecolor": "white",
            "showbackground": true,
            "ticks": "",
            "zerolinecolor": "white"
           },
           "zaxis": {
            "backgroundcolor": "#E5ECF6",
            "gridcolor": "white",
            "gridwidth": 2,
            "linecolor": "white",
            "showbackground": true,
            "ticks": "",
            "zerolinecolor": "white"
           }
          },
          "shapedefaults": {
           "line": {
            "color": "#2a3f5f"
           }
          },
          "ternary": {
           "aaxis": {
            "gridcolor": "white",
            "linecolor": "white",
            "ticks": ""
           },
           "baxis": {
            "gridcolor": "white",
            "linecolor": "white",
            "ticks": ""
           },
           "bgcolor": "#E5ECF6",
           "caxis": {
            "gridcolor": "white",
            "linecolor": "white",
            "ticks": ""
           }
          },
          "title": {
           "x": 0.05
          },
          "xaxis": {
           "automargin": true,
           "gridcolor": "white",
           "linecolor": "white",
           "ticks": "",
           "title": {
            "standoff": 15
           },
           "zerolinecolor": "white",
           "zerolinewidth": 2
          },
          "yaxis": {
           "automargin": true,
           "gridcolor": "white",
           "linecolor": "white",
           "ticks": "",
           "title": {
            "standoff": 15
           },
           "zerolinecolor": "white",
           "zerolinewidth": 2
          }
         }
        }
       }
      }
     },
     "metadata": {},
     "output_type": "display_data"
    }
   ],
   "source": [
    "fig = go.Figure(go.Pie(\n",
    "    labels=['samples'],\n",
    "    values=[df.shape[0]],\n",
    "    hole=0.65\n",
    "))\n",
    "fig.update_traces(hoverinfo='value+percent', textinfo='label', textfont_size=20,\n",
    "                  marker=dict(line=dict(color='#000000', width=2)))\n",
    "fig.update_layout(\n",
    "    annotations=[\n",
    "        dict(text=\"Total<br>Samples\", x=0.5, y=0.5, font_size=20, showarrow=False)\n",
    "    ]\n",
    ")\n",
    "fig.show()"
   ]
  },
  {
   "cell_type": "code",
   "execution_count": 14,
   "metadata": {},
   "outputs": [
    {
     "data": {
      "application/vnd.plotly.v1+json": {
       "config": {
        "plotlyServerURL": "https://plot.ly"
       },
       "data": [
        {
         "hole": 0.65,
         "hoverinfo": "value+percent",
         "labels": [
          "Negative",
          "Positive"
         ],
         "marker": {
          "line": {
           "color": "#000000",
           "width": 2
          }
         },
         "textfont": {
          "size": 20
         },
         "textinfo": "label",
         "type": "pie",
         "values": [
          35195,
          24805
         ]
        }
       ],
       "layout": {
        "annotations": [
         {
          "font": {
           "size": 20
          },
          "showarrow": false,
          "text": "Opioids<br>Present",
          "x": 0.5,
          "y": 0.5
         }
        ],
        "autosize": false,
        "height": 500,
        "showlegend": false,
        "template": {
         "data": {
          "bar": [
           {
            "error_x": {
             "color": "#2a3f5f"
            },
            "error_y": {
             "color": "#2a3f5f"
            },
            "marker": {
             "line": {
              "color": "#E5ECF6",
              "width": 0.5
             },
             "pattern": {
              "fillmode": "overlay",
              "size": 10,
              "solidity": 0.2
             }
            },
            "type": "bar"
           }
          ],
          "barpolar": [
           {
            "marker": {
             "line": {
              "color": "#E5ECF6",
              "width": 0.5
             },
             "pattern": {
              "fillmode": "overlay",
              "size": 10,
              "solidity": 0.2
             }
            },
            "type": "barpolar"
           }
          ],
          "carpet": [
           {
            "aaxis": {
             "endlinecolor": "#2a3f5f",
             "gridcolor": "white",
             "linecolor": "white",
             "minorgridcolor": "white",
             "startlinecolor": "#2a3f5f"
            },
            "baxis": {
             "endlinecolor": "#2a3f5f",
             "gridcolor": "white",
             "linecolor": "white",
             "minorgridcolor": "white",
             "startlinecolor": "#2a3f5f"
            },
            "type": "carpet"
           }
          ],
          "choropleth": [
           {
            "colorbar": {
             "outlinewidth": 0,
             "ticks": ""
            },
            "type": "choropleth"
           }
          ],
          "contour": [
           {
            "colorbar": {
             "outlinewidth": 0,
             "ticks": ""
            },
            "colorscale": [
             [
              0,
              "#0d0887"
             ],
             [
              0.1111111111111111,
              "#46039f"
             ],
             [
              0.2222222222222222,
              "#7201a8"
             ],
             [
              0.3333333333333333,
              "#9c179e"
             ],
             [
              0.4444444444444444,
              "#bd3786"
             ],
             [
              0.5555555555555556,
              "#d8576b"
             ],
             [
              0.6666666666666666,
              "#ed7953"
             ],
             [
              0.7777777777777778,
              "#fb9f3a"
             ],
             [
              0.8888888888888888,
              "#fdca26"
             ],
             [
              1,
              "#f0f921"
             ]
            ],
            "type": "contour"
           }
          ],
          "contourcarpet": [
           {
            "colorbar": {
             "outlinewidth": 0,
             "ticks": ""
            },
            "type": "contourcarpet"
           }
          ],
          "heatmap": [
           {
            "colorbar": {
             "outlinewidth": 0,
             "ticks": ""
            },
            "colorscale": [
             [
              0,
              "#0d0887"
             ],
             [
              0.1111111111111111,
              "#46039f"
             ],
             [
              0.2222222222222222,
              "#7201a8"
             ],
             [
              0.3333333333333333,
              "#9c179e"
             ],
             [
              0.4444444444444444,
              "#bd3786"
             ],
             [
              0.5555555555555556,
              "#d8576b"
             ],
             [
              0.6666666666666666,
              "#ed7953"
             ],
             [
              0.7777777777777778,
              "#fb9f3a"
             ],
             [
              0.8888888888888888,
              "#fdca26"
             ],
             [
              1,
              "#f0f921"
             ]
            ],
            "type": "heatmap"
           }
          ],
          "heatmapgl": [
           {
            "colorbar": {
             "outlinewidth": 0,
             "ticks": ""
            },
            "colorscale": [
             [
              0,
              "#0d0887"
             ],
             [
              0.1111111111111111,
              "#46039f"
             ],
             [
              0.2222222222222222,
              "#7201a8"
             ],
             [
              0.3333333333333333,
              "#9c179e"
             ],
             [
              0.4444444444444444,
              "#bd3786"
             ],
             [
              0.5555555555555556,
              "#d8576b"
             ],
             [
              0.6666666666666666,
              "#ed7953"
             ],
             [
              0.7777777777777778,
              "#fb9f3a"
             ],
             [
              0.8888888888888888,
              "#fdca26"
             ],
             [
              1,
              "#f0f921"
             ]
            ],
            "type": "heatmapgl"
           }
          ],
          "histogram": [
           {
            "marker": {
             "pattern": {
              "fillmode": "overlay",
              "size": 10,
              "solidity": 0.2
             }
            },
            "type": "histogram"
           }
          ],
          "histogram2d": [
           {
            "colorbar": {
             "outlinewidth": 0,
             "ticks": ""
            },
            "colorscale": [
             [
              0,
              "#0d0887"
             ],
             [
              0.1111111111111111,
              "#46039f"
             ],
             [
              0.2222222222222222,
              "#7201a8"
             ],
             [
              0.3333333333333333,
              "#9c179e"
             ],
             [
              0.4444444444444444,
              "#bd3786"
             ],
             [
              0.5555555555555556,
              "#d8576b"
             ],
             [
              0.6666666666666666,
              "#ed7953"
             ],
             [
              0.7777777777777778,
              "#fb9f3a"
             ],
             [
              0.8888888888888888,
              "#fdca26"
             ],
             [
              1,
              "#f0f921"
             ]
            ],
            "type": "histogram2d"
           }
          ],
          "histogram2dcontour": [
           {
            "colorbar": {
             "outlinewidth": 0,
             "ticks": ""
            },
            "colorscale": [
             [
              0,
              "#0d0887"
             ],
             [
              0.1111111111111111,
              "#46039f"
             ],
             [
              0.2222222222222222,
              "#7201a8"
             ],
             [
              0.3333333333333333,
              "#9c179e"
             ],
             [
              0.4444444444444444,
              "#bd3786"
             ],
             [
              0.5555555555555556,
              "#d8576b"
             ],
             [
              0.6666666666666666,
              "#ed7953"
             ],
             [
              0.7777777777777778,
              "#fb9f3a"
             ],
             [
              0.8888888888888888,
              "#fdca26"
             ],
             [
              1,
              "#f0f921"
             ]
            ],
            "type": "histogram2dcontour"
           }
          ],
          "mesh3d": [
           {
            "colorbar": {
             "outlinewidth": 0,
             "ticks": ""
            },
            "type": "mesh3d"
           }
          ],
          "parcoords": [
           {
            "line": {
             "colorbar": {
              "outlinewidth": 0,
              "ticks": ""
             }
            },
            "type": "parcoords"
           }
          ],
          "pie": [
           {
            "automargin": true,
            "type": "pie"
           }
          ],
          "scatter": [
           {
            "fillpattern": {
             "fillmode": "overlay",
             "size": 10,
             "solidity": 0.2
            },
            "type": "scatter"
           }
          ],
          "scatter3d": [
           {
            "line": {
             "colorbar": {
              "outlinewidth": 0,
              "ticks": ""
             }
            },
            "marker": {
             "colorbar": {
              "outlinewidth": 0,
              "ticks": ""
             }
            },
            "type": "scatter3d"
           }
          ],
          "scattercarpet": [
           {
            "marker": {
             "colorbar": {
              "outlinewidth": 0,
              "ticks": ""
             }
            },
            "type": "scattercarpet"
           }
          ],
          "scattergeo": [
           {
            "marker": {
             "colorbar": {
              "outlinewidth": 0,
              "ticks": ""
             }
            },
            "type": "scattergeo"
           }
          ],
          "scattergl": [
           {
            "marker": {
             "colorbar": {
              "outlinewidth": 0,
              "ticks": ""
             }
            },
            "type": "scattergl"
           }
          ],
          "scattermapbox": [
           {
            "marker": {
             "colorbar": {
              "outlinewidth": 0,
              "ticks": ""
             }
            },
            "type": "scattermapbox"
           }
          ],
          "scatterpolar": [
           {
            "marker": {
             "colorbar": {
              "outlinewidth": 0,
              "ticks": ""
             }
            },
            "type": "scatterpolar"
           }
          ],
          "scatterpolargl": [
           {
            "marker": {
             "colorbar": {
              "outlinewidth": 0,
              "ticks": ""
             }
            },
            "type": "scatterpolargl"
           }
          ],
          "scatterternary": [
           {
            "marker": {
             "colorbar": {
              "outlinewidth": 0,
              "ticks": ""
             }
            },
            "type": "scatterternary"
           }
          ],
          "surface": [
           {
            "colorbar": {
             "outlinewidth": 0,
             "ticks": ""
            },
            "colorscale": [
             [
              0,
              "#0d0887"
             ],
             [
              0.1111111111111111,
              "#46039f"
             ],
             [
              0.2222222222222222,
              "#7201a8"
             ],
             [
              0.3333333333333333,
              "#9c179e"
             ],
             [
              0.4444444444444444,
              "#bd3786"
             ],
             [
              0.5555555555555556,
              "#d8576b"
             ],
             [
              0.6666666666666666,
              "#ed7953"
             ],
             [
              0.7777777777777778,
              "#fb9f3a"
             ],
             [
              0.8888888888888888,
              "#fdca26"
             ],
             [
              1,
              "#f0f921"
             ]
            ],
            "type": "surface"
           }
          ],
          "table": [
           {
            "cells": {
             "fill": {
              "color": "#EBF0F8"
             },
             "line": {
              "color": "white"
             }
            },
            "header": {
             "fill": {
              "color": "#C8D4E3"
             },
             "line": {
              "color": "white"
             }
            },
            "type": "table"
           }
          ]
         },
         "layout": {
          "annotationdefaults": {
           "arrowcolor": "#2a3f5f",
           "arrowhead": 0,
           "arrowwidth": 1
          },
          "autotypenumbers": "strict",
          "coloraxis": {
           "colorbar": {
            "outlinewidth": 0,
            "ticks": ""
           }
          },
          "colorscale": {
           "diverging": [
            [
             0,
             "#8e0152"
            ],
            [
             0.1,
             "#c51b7d"
            ],
            [
             0.2,
             "#de77ae"
            ],
            [
             0.3,
             "#f1b6da"
            ],
            [
             0.4,
             "#fde0ef"
            ],
            [
             0.5,
             "#f7f7f7"
            ],
            [
             0.6,
             "#e6f5d0"
            ],
            [
             0.7,
             "#b8e186"
            ],
            [
             0.8,
             "#7fbc41"
            ],
            [
             0.9,
             "#4d9221"
            ],
            [
             1,
             "#276419"
            ]
           ],
           "sequential": [
            [
             0,
             "#0d0887"
            ],
            [
             0.1111111111111111,
             "#46039f"
            ],
            [
             0.2222222222222222,
             "#7201a8"
            ],
            [
             0.3333333333333333,
             "#9c179e"
            ],
            [
             0.4444444444444444,
             "#bd3786"
            ],
            [
             0.5555555555555556,
             "#d8576b"
            ],
            [
             0.6666666666666666,
             "#ed7953"
            ],
            [
             0.7777777777777778,
             "#fb9f3a"
            ],
            [
             0.8888888888888888,
             "#fdca26"
            ],
            [
             1,
             "#f0f921"
            ]
           ],
           "sequentialminus": [
            [
             0,
             "#0d0887"
            ],
            [
             0.1111111111111111,
             "#46039f"
            ],
            [
             0.2222222222222222,
             "#7201a8"
            ],
            [
             0.3333333333333333,
             "#9c179e"
            ],
            [
             0.4444444444444444,
             "#bd3786"
            ],
            [
             0.5555555555555556,
             "#d8576b"
            ],
            [
             0.6666666666666666,
             "#ed7953"
            ],
            [
             0.7777777777777778,
             "#fb9f3a"
            ],
            [
             0.8888888888888888,
             "#fdca26"
            ],
            [
             1,
             "#f0f921"
            ]
           ]
          },
          "colorway": [
           "#636efa",
           "#EF553B",
           "#00cc96",
           "#ab63fa",
           "#FFA15A",
           "#19d3f3",
           "#FF6692",
           "#B6E880",
           "#FF97FF",
           "#FECB52"
          ],
          "font": {
           "color": "#2a3f5f"
          },
          "geo": {
           "bgcolor": "white",
           "lakecolor": "white",
           "landcolor": "#E5ECF6",
           "showlakes": true,
           "showland": true,
           "subunitcolor": "white"
          },
          "hoverlabel": {
           "align": "left"
          },
          "hovermode": "closest",
          "mapbox": {
           "style": "light"
          },
          "paper_bgcolor": "white",
          "plot_bgcolor": "#E5ECF6",
          "polar": {
           "angularaxis": {
            "gridcolor": "white",
            "linecolor": "white",
            "ticks": ""
           },
           "bgcolor": "#E5ECF6",
           "radialaxis": {
            "gridcolor": "white",
            "linecolor": "white",
            "ticks": ""
           }
          },
          "scene": {
           "xaxis": {
            "backgroundcolor": "#E5ECF6",
            "gridcolor": "white",
            "gridwidth": 2,
            "linecolor": "white",
            "showbackground": true,
            "ticks": "",
            "zerolinecolor": "white"
           },
           "yaxis": {
            "backgroundcolor": "#E5ECF6",
            "gridcolor": "white",
            "gridwidth": 2,
            "linecolor": "white",
            "showbackground": true,
            "ticks": "",
            "zerolinecolor": "white"
           },
           "zaxis": {
            "backgroundcolor": "#E5ECF6",
            "gridcolor": "white",
            "gridwidth": 2,
            "linecolor": "white",
            "showbackground": true,
            "ticks": "",
            "zerolinecolor": "white"
           }
          },
          "shapedefaults": {
           "line": {
            "color": "#2a3f5f"
           }
          },
          "ternary": {
           "aaxis": {
            "gridcolor": "white",
            "linecolor": "white",
            "ticks": ""
           },
           "baxis": {
            "gridcolor": "white",
            "linecolor": "white",
            "ticks": ""
           },
           "bgcolor": "#E5ECF6",
           "caxis": {
            "gridcolor": "white",
            "linecolor": "white",
            "ticks": ""
           }
          },
          "title": {
           "x": 0.05
          },
          "xaxis": {
           "automargin": true,
           "gridcolor": "white",
           "linecolor": "white",
           "ticks": "",
           "title": {
            "standoff": 15
           },
           "zerolinecolor": "white",
           "zerolinewidth": 2
          },
          "yaxis": {
           "automargin": true,
           "gridcolor": "white",
           "linecolor": "white",
           "ticks": "",
           "title": {
            "standoff": 15
           },
           "zerolinecolor": "white",
           "zerolinewidth": 2
          }
         }
        },
        "width": 500
       }
      }
     },
     "metadata": {},
     "output_type": "display_data"
    }
   ],
   "source": [
    "fig = go.Figure(go.Pie(\n",
    "    labels=df['total_opioids'].replace({1: \"Positive\", 0: \"Negative\"}).value_counts().index,\n",
    "    values=df['total_opioids'].value_counts().values,\n",
    "    hole=0.65\n",
    "))\n",
    "fig.update_traces(hoverinfo='value+percent', textinfo='label', textfont_size=20,\n",
    "                  marker=dict(line=dict(color='#000000', width=2)))\n",
    "fig.update_layout(\n",
    "    #     yaxis=dict(\n",
    "    #     range=[0.2, .8]\n",
    "    # ),\n",
    "    # xaxis=dict(\n",
    "    #     range=[0.2, .8]\n",
    "    # ),\n",
    "    autosize=False,\n",
    "    width=500,\n",
    "    height=500,\n",
    "    showlegend=False,\n",
    "    annotations=[\n",
    "        dict(text=\"Opioids<br>Present\", x=0.5, y=0.5, font_size=20, showarrow=False)\n",
    "    ])\n",
    "\n",
    "fig.show()"
   ]
  },
  {
   "cell_type": "code",
   "execution_count": 12,
   "metadata": {},
   "outputs": [
    {
     "data": {
      "application/vnd.plotly.v1+json": {
       "config": {
        "plotlyServerURL": "https://plot.ly"
       },
       "data": [
        {
         "hole": 0.65,
         "hoverinfo": "value+percent",
         "labels": [
          "Negative",
          "Positive"
         ],
         "marker": {
          "line": {
           "color": "#000000",
           "width": 2
          }
         },
         "textfont": {
          "size": 20
         },
         "textinfo": "label",
         "type": "pie",
         "values": [
          50611,
          9389
         ]
        }
       ],
       "layout": {
        "annotations": [
         {
          "font": {
           "size": 20
          },
          "showarrow": false,
          "text": "Benzos<br>Present",
          "x": 0.5,
          "y": 0.5
         }
        ],
        "template": {
         "data": {
          "bar": [
           {
            "error_x": {
             "color": "#2a3f5f"
            },
            "error_y": {
             "color": "#2a3f5f"
            },
            "marker": {
             "line": {
              "color": "#E5ECF6",
              "width": 0.5
             },
             "pattern": {
              "fillmode": "overlay",
              "size": 10,
              "solidity": 0.2
             }
            },
            "type": "bar"
           }
          ],
          "barpolar": [
           {
            "marker": {
             "line": {
              "color": "#E5ECF6",
              "width": 0.5
             },
             "pattern": {
              "fillmode": "overlay",
              "size": 10,
              "solidity": 0.2
             }
            },
            "type": "barpolar"
           }
          ],
          "carpet": [
           {
            "aaxis": {
             "endlinecolor": "#2a3f5f",
             "gridcolor": "white",
             "linecolor": "white",
             "minorgridcolor": "white",
             "startlinecolor": "#2a3f5f"
            },
            "baxis": {
             "endlinecolor": "#2a3f5f",
             "gridcolor": "white",
             "linecolor": "white",
             "minorgridcolor": "white",
             "startlinecolor": "#2a3f5f"
            },
            "type": "carpet"
           }
          ],
          "choropleth": [
           {
            "colorbar": {
             "outlinewidth": 0,
             "ticks": ""
            },
            "type": "choropleth"
           }
          ],
          "contour": [
           {
            "colorbar": {
             "outlinewidth": 0,
             "ticks": ""
            },
            "colorscale": [
             [
              0,
              "#0d0887"
             ],
             [
              0.1111111111111111,
              "#46039f"
             ],
             [
              0.2222222222222222,
              "#7201a8"
             ],
             [
              0.3333333333333333,
              "#9c179e"
             ],
             [
              0.4444444444444444,
              "#bd3786"
             ],
             [
              0.5555555555555556,
              "#d8576b"
             ],
             [
              0.6666666666666666,
              "#ed7953"
             ],
             [
              0.7777777777777778,
              "#fb9f3a"
             ],
             [
              0.8888888888888888,
              "#fdca26"
             ],
             [
              1,
              "#f0f921"
             ]
            ],
            "type": "contour"
           }
          ],
          "contourcarpet": [
           {
            "colorbar": {
             "outlinewidth": 0,
             "ticks": ""
            },
            "type": "contourcarpet"
           }
          ],
          "heatmap": [
           {
            "colorbar": {
             "outlinewidth": 0,
             "ticks": ""
            },
            "colorscale": [
             [
              0,
              "#0d0887"
             ],
             [
              0.1111111111111111,
              "#46039f"
             ],
             [
              0.2222222222222222,
              "#7201a8"
             ],
             [
              0.3333333333333333,
              "#9c179e"
             ],
             [
              0.4444444444444444,
              "#bd3786"
             ],
             [
              0.5555555555555556,
              "#d8576b"
             ],
             [
              0.6666666666666666,
              "#ed7953"
             ],
             [
              0.7777777777777778,
              "#fb9f3a"
             ],
             [
              0.8888888888888888,
              "#fdca26"
             ],
             [
              1,
              "#f0f921"
             ]
            ],
            "type": "heatmap"
           }
          ],
          "heatmapgl": [
           {
            "colorbar": {
             "outlinewidth": 0,
             "ticks": ""
            },
            "colorscale": [
             [
              0,
              "#0d0887"
             ],
             [
              0.1111111111111111,
              "#46039f"
             ],
             [
              0.2222222222222222,
              "#7201a8"
             ],
             [
              0.3333333333333333,
              "#9c179e"
             ],
             [
              0.4444444444444444,
              "#bd3786"
             ],
             [
              0.5555555555555556,
              "#d8576b"
             ],
             [
              0.6666666666666666,
              "#ed7953"
             ],
             [
              0.7777777777777778,
              "#fb9f3a"
             ],
             [
              0.8888888888888888,
              "#fdca26"
             ],
             [
              1,
              "#f0f921"
             ]
            ],
            "type": "heatmapgl"
           }
          ],
          "histogram": [
           {
            "marker": {
             "pattern": {
              "fillmode": "overlay",
              "size": 10,
              "solidity": 0.2
             }
            },
            "type": "histogram"
           }
          ],
          "histogram2d": [
           {
            "colorbar": {
             "outlinewidth": 0,
             "ticks": ""
            },
            "colorscale": [
             [
              0,
              "#0d0887"
             ],
             [
              0.1111111111111111,
              "#46039f"
             ],
             [
              0.2222222222222222,
              "#7201a8"
             ],
             [
              0.3333333333333333,
              "#9c179e"
             ],
             [
              0.4444444444444444,
              "#bd3786"
             ],
             [
              0.5555555555555556,
              "#d8576b"
             ],
             [
              0.6666666666666666,
              "#ed7953"
             ],
             [
              0.7777777777777778,
              "#fb9f3a"
             ],
             [
              0.8888888888888888,
              "#fdca26"
             ],
             [
              1,
              "#f0f921"
             ]
            ],
            "type": "histogram2d"
           }
          ],
          "histogram2dcontour": [
           {
            "colorbar": {
             "outlinewidth": 0,
             "ticks": ""
            },
            "colorscale": [
             [
              0,
              "#0d0887"
             ],
             [
              0.1111111111111111,
              "#46039f"
             ],
             [
              0.2222222222222222,
              "#7201a8"
             ],
             [
              0.3333333333333333,
              "#9c179e"
             ],
             [
              0.4444444444444444,
              "#bd3786"
             ],
             [
              0.5555555555555556,
              "#d8576b"
             ],
             [
              0.6666666666666666,
              "#ed7953"
             ],
             [
              0.7777777777777778,
              "#fb9f3a"
             ],
             [
              0.8888888888888888,
              "#fdca26"
             ],
             [
              1,
              "#f0f921"
             ]
            ],
            "type": "histogram2dcontour"
           }
          ],
          "mesh3d": [
           {
            "colorbar": {
             "outlinewidth": 0,
             "ticks": ""
            },
            "type": "mesh3d"
           }
          ],
          "parcoords": [
           {
            "line": {
             "colorbar": {
              "outlinewidth": 0,
              "ticks": ""
             }
            },
            "type": "parcoords"
           }
          ],
          "pie": [
           {
            "automargin": true,
            "type": "pie"
           }
          ],
          "scatter": [
           {
            "fillpattern": {
             "fillmode": "overlay",
             "size": 10,
             "solidity": 0.2
            },
            "type": "scatter"
           }
          ],
          "scatter3d": [
           {
            "line": {
             "colorbar": {
              "outlinewidth": 0,
              "ticks": ""
             }
            },
            "marker": {
             "colorbar": {
              "outlinewidth": 0,
              "ticks": ""
             }
            },
            "type": "scatter3d"
           }
          ],
          "scattercarpet": [
           {
            "marker": {
             "colorbar": {
              "outlinewidth": 0,
              "ticks": ""
             }
            },
            "type": "scattercarpet"
           }
          ],
          "scattergeo": [
           {
            "marker": {
             "colorbar": {
              "outlinewidth": 0,
              "ticks": ""
             }
            },
            "type": "scattergeo"
           }
          ],
          "scattergl": [
           {
            "marker": {
             "colorbar": {
              "outlinewidth": 0,
              "ticks": ""
             }
            },
            "type": "scattergl"
           }
          ],
          "scattermapbox": [
           {
            "marker": {
             "colorbar": {
              "outlinewidth": 0,
              "ticks": ""
             }
            },
            "type": "scattermapbox"
           }
          ],
          "scatterpolar": [
           {
            "marker": {
             "colorbar": {
              "outlinewidth": 0,
              "ticks": ""
             }
            },
            "type": "scatterpolar"
           }
          ],
          "scatterpolargl": [
           {
            "marker": {
             "colorbar": {
              "outlinewidth": 0,
              "ticks": ""
             }
            },
            "type": "scatterpolargl"
           }
          ],
          "scatterternary": [
           {
            "marker": {
             "colorbar": {
              "outlinewidth": 0,
              "ticks": ""
             }
            },
            "type": "scatterternary"
           }
          ],
          "surface": [
           {
            "colorbar": {
             "outlinewidth": 0,
             "ticks": ""
            },
            "colorscale": [
             [
              0,
              "#0d0887"
             ],
             [
              0.1111111111111111,
              "#46039f"
             ],
             [
              0.2222222222222222,
              "#7201a8"
             ],
             [
              0.3333333333333333,
              "#9c179e"
             ],
             [
              0.4444444444444444,
              "#bd3786"
             ],
             [
              0.5555555555555556,
              "#d8576b"
             ],
             [
              0.6666666666666666,
              "#ed7953"
             ],
             [
              0.7777777777777778,
              "#fb9f3a"
             ],
             [
              0.8888888888888888,
              "#fdca26"
             ],
             [
              1,
              "#f0f921"
             ]
            ],
            "type": "surface"
           }
          ],
          "table": [
           {
            "cells": {
             "fill": {
              "color": "#EBF0F8"
             },
             "line": {
              "color": "white"
             }
            },
            "header": {
             "fill": {
              "color": "#C8D4E3"
             },
             "line": {
              "color": "white"
             }
            },
            "type": "table"
           }
          ]
         },
         "layout": {
          "annotationdefaults": {
           "arrowcolor": "#2a3f5f",
           "arrowhead": 0,
           "arrowwidth": 1
          },
          "autotypenumbers": "strict",
          "coloraxis": {
           "colorbar": {
            "outlinewidth": 0,
            "ticks": ""
           }
          },
          "colorscale": {
           "diverging": [
            [
             0,
             "#8e0152"
            ],
            [
             0.1,
             "#c51b7d"
            ],
            [
             0.2,
             "#de77ae"
            ],
            [
             0.3,
             "#f1b6da"
            ],
            [
             0.4,
             "#fde0ef"
            ],
            [
             0.5,
             "#f7f7f7"
            ],
            [
             0.6,
             "#e6f5d0"
            ],
            [
             0.7,
             "#b8e186"
            ],
            [
             0.8,
             "#7fbc41"
            ],
            [
             0.9,
             "#4d9221"
            ],
            [
             1,
             "#276419"
            ]
           ],
           "sequential": [
            [
             0,
             "#0d0887"
            ],
            [
             0.1111111111111111,
             "#46039f"
            ],
            [
             0.2222222222222222,
             "#7201a8"
            ],
            [
             0.3333333333333333,
             "#9c179e"
            ],
            [
             0.4444444444444444,
             "#bd3786"
            ],
            [
             0.5555555555555556,
             "#d8576b"
            ],
            [
             0.6666666666666666,
             "#ed7953"
            ],
            [
             0.7777777777777778,
             "#fb9f3a"
            ],
            [
             0.8888888888888888,
             "#fdca26"
            ],
            [
             1,
             "#f0f921"
            ]
           ],
           "sequentialminus": [
            [
             0,
             "#0d0887"
            ],
            [
             0.1111111111111111,
             "#46039f"
            ],
            [
             0.2222222222222222,
             "#7201a8"
            ],
            [
             0.3333333333333333,
             "#9c179e"
            ],
            [
             0.4444444444444444,
             "#bd3786"
            ],
            [
             0.5555555555555556,
             "#d8576b"
            ],
            [
             0.6666666666666666,
             "#ed7953"
            ],
            [
             0.7777777777777778,
             "#fb9f3a"
            ],
            [
             0.8888888888888888,
             "#fdca26"
            ],
            [
             1,
             "#f0f921"
            ]
           ]
          },
          "colorway": [
           "#636efa",
           "#EF553B",
           "#00cc96",
           "#ab63fa",
           "#FFA15A",
           "#19d3f3",
           "#FF6692",
           "#B6E880",
           "#FF97FF",
           "#FECB52"
          ],
          "font": {
           "color": "#2a3f5f"
          },
          "geo": {
           "bgcolor": "white",
           "lakecolor": "white",
           "landcolor": "#E5ECF6",
           "showlakes": true,
           "showland": true,
           "subunitcolor": "white"
          },
          "hoverlabel": {
           "align": "left"
          },
          "hovermode": "closest",
          "mapbox": {
           "style": "light"
          },
          "paper_bgcolor": "white",
          "plot_bgcolor": "#E5ECF6",
          "polar": {
           "angularaxis": {
            "gridcolor": "white",
            "linecolor": "white",
            "ticks": ""
           },
           "bgcolor": "#E5ECF6",
           "radialaxis": {
            "gridcolor": "white",
            "linecolor": "white",
            "ticks": ""
           }
          },
          "scene": {
           "xaxis": {
            "backgroundcolor": "#E5ECF6",
            "gridcolor": "white",
            "gridwidth": 2,
            "linecolor": "white",
            "showbackground": true,
            "ticks": "",
            "zerolinecolor": "white"
           },
           "yaxis": {
            "backgroundcolor": "#E5ECF6",
            "gridcolor": "white",
            "gridwidth": 2,
            "linecolor": "white",
            "showbackground": true,
            "ticks": "",
            "zerolinecolor": "white"
           },
           "zaxis": {
            "backgroundcolor": "#E5ECF6",
            "gridcolor": "white",
            "gridwidth": 2,
            "linecolor": "white",
            "showbackground": true,
            "ticks": "",
            "zerolinecolor": "white"
           }
          },
          "shapedefaults": {
           "line": {
            "color": "#2a3f5f"
           }
          },
          "ternary": {
           "aaxis": {
            "gridcolor": "white",
            "linecolor": "white",
            "ticks": ""
           },
           "baxis": {
            "gridcolor": "white",
            "linecolor": "white",
            "ticks": ""
           },
           "bgcolor": "#E5ECF6",
           "caxis": {
            "gridcolor": "white",
            "linecolor": "white",
            "ticks": ""
           }
          },
          "title": {
           "x": 0.05
          },
          "xaxis": {
           "automargin": true,
           "gridcolor": "white",
           "linecolor": "white",
           "ticks": "",
           "title": {
            "standoff": 15
           },
           "zerolinecolor": "white",
           "zerolinewidth": 2
          },
          "yaxis": {
           "automargin": true,
           "gridcolor": "white",
           "linecolor": "white",
           "ticks": "",
           "title": {
            "standoff": 15
           },
           "zerolinecolor": "white",
           "zerolinewidth": 2
          }
         }
        }
       }
      }
     },
     "metadata": {},
     "output_type": "display_data"
    }
   ],
   "source": [
    "fig = go.Figure(go.Pie(\n",
    "    labels=df['total_benzos'].replace({1: \"Positive\", 0: \"Negative\"}).value_counts().index,\n",
    "    values=df['total_benzos'].value_counts().values,\n",
    "    hole=0.65\n",
    "))\n",
    "fig.update_traces(hoverinfo='value+percent', textinfo='label', textfont_size=20,\n",
    "                  marker=dict(line=dict(color='#000000', width=2)))\n",
    "fig.update_layout(\n",
    "    annotations=[\n",
    "        dict(text=\"Benzos<br>Present\", x=0.5, y=0.5, font_size=20, showarrow=False)\n",
    "    ])\n",
    "\n",
    "fig.show()"
   ]
  },
  {
   "cell_type": "code",
   "execution_count": 4,
   "metadata": {},
   "outputs": [],
   "source": [
    "ftirs = [x for x in df.columns.tolist() if x.startswith('ftir')]\n",
    "for col in ftirs:\n",
    "    df[col] = df[col].astype(str)"
   ]
  },
  {
   "cell_type": "code",
   "execution_count": 22,
   "metadata": {},
   "outputs": [
    {
     "data": {
      "application/vnd.plotly.v1+json": {
       "config": {
        "plotlyServerURL": "https://plot.ly"
       },
       "data": [
        {
         "hole": 0.65,
         "hoverinfo": "value+percent",
         "labels": [
          "Negative",
          "Positive"
         ],
         "marker": {
          "line": {
           "color": "#000000",
           "width": 2
          }
         },
         "textfont": {
          "size": 20
         },
         "textinfo": "label",
         "type": "pie",
         "values": [
          33546,
          2797
         ]
        }
       ],
       "layout": {
        "annotations": [
         {
          "font": {
           "size": 20
          },
          "showarrow": false,
          "text": "Unexpected<br>Opioids",
          "x": 0.5,
          "y": 0.5
         }
        ],
        "template": {
         "data": {
          "bar": [
           {
            "error_x": {
             "color": "#2a3f5f"
            },
            "error_y": {
             "color": "#2a3f5f"
            },
            "marker": {
             "line": {
              "color": "#E5ECF6",
              "width": 0.5
             },
             "pattern": {
              "fillmode": "overlay",
              "size": 10,
              "solidity": 0.2
             }
            },
            "type": "bar"
           }
          ],
          "barpolar": [
           {
            "marker": {
             "line": {
              "color": "#E5ECF6",
              "width": 0.5
             },
             "pattern": {
              "fillmode": "overlay",
              "size": 10,
              "solidity": 0.2
             }
            },
            "type": "barpolar"
           }
          ],
          "carpet": [
           {
            "aaxis": {
             "endlinecolor": "#2a3f5f",
             "gridcolor": "white",
             "linecolor": "white",
             "minorgridcolor": "white",
             "startlinecolor": "#2a3f5f"
            },
            "baxis": {
             "endlinecolor": "#2a3f5f",
             "gridcolor": "white",
             "linecolor": "white",
             "minorgridcolor": "white",
             "startlinecolor": "#2a3f5f"
            },
            "type": "carpet"
           }
          ],
          "choropleth": [
           {
            "colorbar": {
             "outlinewidth": 0,
             "ticks": ""
            },
            "type": "choropleth"
           }
          ],
          "contour": [
           {
            "colorbar": {
             "outlinewidth": 0,
             "ticks": ""
            },
            "colorscale": [
             [
              0,
              "#0d0887"
             ],
             [
              0.1111111111111111,
              "#46039f"
             ],
             [
              0.2222222222222222,
              "#7201a8"
             ],
             [
              0.3333333333333333,
              "#9c179e"
             ],
             [
              0.4444444444444444,
              "#bd3786"
             ],
             [
              0.5555555555555556,
              "#d8576b"
             ],
             [
              0.6666666666666666,
              "#ed7953"
             ],
             [
              0.7777777777777778,
              "#fb9f3a"
             ],
             [
              0.8888888888888888,
              "#fdca26"
             ],
             [
              1,
              "#f0f921"
             ]
            ],
            "type": "contour"
           }
          ],
          "contourcarpet": [
           {
            "colorbar": {
             "outlinewidth": 0,
             "ticks": ""
            },
            "type": "contourcarpet"
           }
          ],
          "heatmap": [
           {
            "colorbar": {
             "outlinewidth": 0,
             "ticks": ""
            },
            "colorscale": [
             [
              0,
              "#0d0887"
             ],
             [
              0.1111111111111111,
              "#46039f"
             ],
             [
              0.2222222222222222,
              "#7201a8"
             ],
             [
              0.3333333333333333,
              "#9c179e"
             ],
             [
              0.4444444444444444,
              "#bd3786"
             ],
             [
              0.5555555555555556,
              "#d8576b"
             ],
             [
              0.6666666666666666,
              "#ed7953"
             ],
             [
              0.7777777777777778,
              "#fb9f3a"
             ],
             [
              0.8888888888888888,
              "#fdca26"
             ],
             [
              1,
              "#f0f921"
             ]
            ],
            "type": "heatmap"
           }
          ],
          "heatmapgl": [
           {
            "colorbar": {
             "outlinewidth": 0,
             "ticks": ""
            },
            "colorscale": [
             [
              0,
              "#0d0887"
             ],
             [
              0.1111111111111111,
              "#46039f"
             ],
             [
              0.2222222222222222,
              "#7201a8"
             ],
             [
              0.3333333333333333,
              "#9c179e"
             ],
             [
              0.4444444444444444,
              "#bd3786"
             ],
             [
              0.5555555555555556,
              "#d8576b"
             ],
             [
              0.6666666666666666,
              "#ed7953"
             ],
             [
              0.7777777777777778,
              "#fb9f3a"
             ],
             [
              0.8888888888888888,
              "#fdca26"
             ],
             [
              1,
              "#f0f921"
             ]
            ],
            "type": "heatmapgl"
           }
          ],
          "histogram": [
           {
            "marker": {
             "pattern": {
              "fillmode": "overlay",
              "size": 10,
              "solidity": 0.2
             }
            },
            "type": "histogram"
           }
          ],
          "histogram2d": [
           {
            "colorbar": {
             "outlinewidth": 0,
             "ticks": ""
            },
            "colorscale": [
             [
              0,
              "#0d0887"
             ],
             [
              0.1111111111111111,
              "#46039f"
             ],
             [
              0.2222222222222222,
              "#7201a8"
             ],
             [
              0.3333333333333333,
              "#9c179e"
             ],
             [
              0.4444444444444444,
              "#bd3786"
             ],
             [
              0.5555555555555556,
              "#d8576b"
             ],
             [
              0.6666666666666666,
              "#ed7953"
             ],
             [
              0.7777777777777778,
              "#fb9f3a"
             ],
             [
              0.8888888888888888,
              "#fdca26"
             ],
             [
              1,
              "#f0f921"
             ]
            ],
            "type": "histogram2d"
           }
          ],
          "histogram2dcontour": [
           {
            "colorbar": {
             "outlinewidth": 0,
             "ticks": ""
            },
            "colorscale": [
             [
              0,
              "#0d0887"
             ],
             [
              0.1111111111111111,
              "#46039f"
             ],
             [
              0.2222222222222222,
              "#7201a8"
             ],
             [
              0.3333333333333333,
              "#9c179e"
             ],
             [
              0.4444444444444444,
              "#bd3786"
             ],
             [
              0.5555555555555556,
              "#d8576b"
             ],
             [
              0.6666666666666666,
              "#ed7953"
             ],
             [
              0.7777777777777778,
              "#fb9f3a"
             ],
             [
              0.8888888888888888,
              "#fdca26"
             ],
             [
              1,
              "#f0f921"
             ]
            ],
            "type": "histogram2dcontour"
           }
          ],
          "mesh3d": [
           {
            "colorbar": {
             "outlinewidth": 0,
             "ticks": ""
            },
            "type": "mesh3d"
           }
          ],
          "parcoords": [
           {
            "line": {
             "colorbar": {
              "outlinewidth": 0,
              "ticks": ""
             }
            },
            "type": "parcoords"
           }
          ],
          "pie": [
           {
            "automargin": true,
            "type": "pie"
           }
          ],
          "scatter": [
           {
            "fillpattern": {
             "fillmode": "overlay",
             "size": 10,
             "solidity": 0.2
            },
            "type": "scatter"
           }
          ],
          "scatter3d": [
           {
            "line": {
             "colorbar": {
              "outlinewidth": 0,
              "ticks": ""
             }
            },
            "marker": {
             "colorbar": {
              "outlinewidth": 0,
              "ticks": ""
             }
            },
            "type": "scatter3d"
           }
          ],
          "scattercarpet": [
           {
            "marker": {
             "colorbar": {
              "outlinewidth": 0,
              "ticks": ""
             }
            },
            "type": "scattercarpet"
           }
          ],
          "scattergeo": [
           {
            "marker": {
             "colorbar": {
              "outlinewidth": 0,
              "ticks": ""
             }
            },
            "type": "scattergeo"
           }
          ],
          "scattergl": [
           {
            "marker": {
             "colorbar": {
              "outlinewidth": 0,
              "ticks": ""
             }
            },
            "type": "scattergl"
           }
          ],
          "scattermapbox": [
           {
            "marker": {
             "colorbar": {
              "outlinewidth": 0,
              "ticks": ""
             }
            },
            "type": "scattermapbox"
           }
          ],
          "scatterpolar": [
           {
            "marker": {
             "colorbar": {
              "outlinewidth": 0,
              "ticks": ""
             }
            },
            "type": "scatterpolar"
           }
          ],
          "scatterpolargl": [
           {
            "marker": {
             "colorbar": {
              "outlinewidth": 0,
              "ticks": ""
             }
            },
            "type": "scatterpolargl"
           }
          ],
          "scatterternary": [
           {
            "marker": {
             "colorbar": {
              "outlinewidth": 0,
              "ticks": ""
             }
            },
            "type": "scatterternary"
           }
          ],
          "surface": [
           {
            "colorbar": {
             "outlinewidth": 0,
             "ticks": ""
            },
            "colorscale": [
             [
              0,
              "#0d0887"
             ],
             [
              0.1111111111111111,
              "#46039f"
             ],
             [
              0.2222222222222222,
              "#7201a8"
             ],
             [
              0.3333333333333333,
              "#9c179e"
             ],
             [
              0.4444444444444444,
              "#bd3786"
             ],
             [
              0.5555555555555556,
              "#d8576b"
             ],
             [
              0.6666666666666666,
              "#ed7953"
             ],
             [
              0.7777777777777778,
              "#fb9f3a"
             ],
             [
              0.8888888888888888,
              "#fdca26"
             ],
             [
              1,
              "#f0f921"
             ]
            ],
            "type": "surface"
           }
          ],
          "table": [
           {
            "cells": {
             "fill": {
              "color": "#EBF0F8"
             },
             "line": {
              "color": "white"
             }
            },
            "header": {
             "fill": {
              "color": "#C8D4E3"
             },
             "line": {
              "color": "white"
             }
            },
            "type": "table"
           }
          ]
         },
         "layout": {
          "annotationdefaults": {
           "arrowcolor": "#2a3f5f",
           "arrowhead": 0,
           "arrowwidth": 1
          },
          "autotypenumbers": "strict",
          "coloraxis": {
           "colorbar": {
            "outlinewidth": 0,
            "ticks": ""
           }
          },
          "colorscale": {
           "diverging": [
            [
             0,
             "#8e0152"
            ],
            [
             0.1,
             "#c51b7d"
            ],
            [
             0.2,
             "#de77ae"
            ],
            [
             0.3,
             "#f1b6da"
            ],
            [
             0.4,
             "#fde0ef"
            ],
            [
             0.5,
             "#f7f7f7"
            ],
            [
             0.6,
             "#e6f5d0"
            ],
            [
             0.7,
             "#b8e186"
            ],
            [
             0.8,
             "#7fbc41"
            ],
            [
             0.9,
             "#4d9221"
            ],
            [
             1,
             "#276419"
            ]
           ],
           "sequential": [
            [
             0,
             "#0d0887"
            ],
            [
             0.1111111111111111,
             "#46039f"
            ],
            [
             0.2222222222222222,
             "#7201a8"
            ],
            [
             0.3333333333333333,
             "#9c179e"
            ],
            [
             0.4444444444444444,
             "#bd3786"
            ],
            [
             0.5555555555555556,
             "#d8576b"
            ],
            [
             0.6666666666666666,
             "#ed7953"
            ],
            [
             0.7777777777777778,
             "#fb9f3a"
            ],
            [
             0.8888888888888888,
             "#fdca26"
            ],
            [
             1,
             "#f0f921"
            ]
           ],
           "sequentialminus": [
            [
             0,
             "#0d0887"
            ],
            [
             0.1111111111111111,
             "#46039f"
            ],
            [
             0.2222222222222222,
             "#7201a8"
            ],
            [
             0.3333333333333333,
             "#9c179e"
            ],
            [
             0.4444444444444444,
             "#bd3786"
            ],
            [
             0.5555555555555556,
             "#d8576b"
            ],
            [
             0.6666666666666666,
             "#ed7953"
            ],
            [
             0.7777777777777778,
             "#fb9f3a"
            ],
            [
             0.8888888888888888,
             "#fdca26"
            ],
            [
             1,
             "#f0f921"
            ]
           ]
          },
          "colorway": [
           "#636efa",
           "#EF553B",
           "#00cc96",
           "#ab63fa",
           "#FFA15A",
           "#19d3f3",
           "#FF6692",
           "#B6E880",
           "#FF97FF",
           "#FECB52"
          ],
          "font": {
           "color": "#2a3f5f"
          },
          "geo": {
           "bgcolor": "white",
           "lakecolor": "white",
           "landcolor": "#E5ECF6",
           "showlakes": true,
           "showland": true,
           "subunitcolor": "white"
          },
          "hoverlabel": {
           "align": "left"
          },
          "hovermode": "closest",
          "mapbox": {
           "style": "light"
          },
          "paper_bgcolor": "white",
          "plot_bgcolor": "#E5ECF6",
          "polar": {
           "angularaxis": {
            "gridcolor": "white",
            "linecolor": "white",
            "ticks": ""
           },
           "bgcolor": "#E5ECF6",
           "radialaxis": {
            "gridcolor": "white",
            "linecolor": "white",
            "ticks": ""
           }
          },
          "scene": {
           "xaxis": {
            "backgroundcolor": "#E5ECF6",
            "gridcolor": "white",
            "gridwidth": 2,
            "linecolor": "white",
            "showbackground": true,
            "ticks": "",
            "zerolinecolor": "white"
           },
           "yaxis": {
            "backgroundcolor": "#E5ECF6",
            "gridcolor": "white",
            "gridwidth": 2,
            "linecolor": "white",
            "showbackground": true,
            "ticks": "",
            "zerolinecolor": "white"
           },
           "zaxis": {
            "backgroundcolor": "#E5ECF6",
            "gridcolor": "white",
            "gridwidth": 2,
            "linecolor": "white",
            "showbackground": true,
            "ticks": "",
            "zerolinecolor": "white"
           }
          },
          "shapedefaults": {
           "line": {
            "color": "#2a3f5f"
           }
          },
          "ternary": {
           "aaxis": {
            "gridcolor": "white",
            "linecolor": "white",
            "ticks": ""
           },
           "baxis": {
            "gridcolor": "white",
            "linecolor": "white",
            "ticks": ""
           },
           "bgcolor": "#E5ECF6",
           "caxis": {
            "gridcolor": "white",
            "linecolor": "white",
            "ticks": ""
           }
          },
          "title": {
           "x": 0.05
          },
          "xaxis": {
           "automargin": true,
           "gridcolor": "white",
           "linecolor": "white",
           "ticks": "",
           "title": {
            "standoff": 15
           },
           "zerolinecolor": "white",
           "zerolinewidth": 2
          },
          "yaxis": {
           "automargin": true,
           "gridcolor": "white",
           "linecolor": "white",
           "ticks": "",
           "title": {
            "standoff": 15
           },
           "zerolinecolor": "white",
           "zerolinewidth": 2
          }
         }
        }
       }
      }
     },
     "metadata": {},
     "output_type": "display_data"
    }
   ],
   "source": [
    "no_opioid = df[~(df['category'] == 'Opioid') | (df['category'] == 'Polysubstance')].index\n",
    "no_opioid = df.iloc[no_opioid]\n",
    "\n",
    "fig = go.Figure(go.Pie(\n",
    "    labels=no_opioid['total_opioids'].replace({1: \"Positive\", 0: \"Negative\"}).value_counts().index,\n",
    "    values=no_opioid['total_opioids'].value_counts().values,\n",
    "    hole=0.65\n",
    "))\n",
    "fig.update_traces(hoverinfo='value+percent', textinfo='label', textfont_size=20,\n",
    "                  marker=dict(line=dict(color='#000000', width=2)))\n",
    "fig.update_layout(\n",
    "    annotations=[\n",
    "        dict(text=\"Unexpected<br>Opioids\", x=0.5, y=0.5, font_size=20, showarrow=False)\n",
    "    ])\n",
    "fig.show()"
   ]
  },
  {
   "cell_type": "code",
   "execution_count": 5,
   "metadata": {},
   "outputs": [
    {
     "data": {
      "application/vnd.plotly.v1+json": {
       "config": {
        "plotlyServerURL": "https://plot.ly"
       },
       "data": [
        {
         "hole": 0.65,
         "hoverinfo": "value+percent",
         "labels": [
          "Negative",
          "Positive"
         ],
         "marker": {
          "line": {
           "color": "#000000",
           "width": 2
          }
         },
         "textfont": {
          "size": 20
         },
         "textinfo": "label",
         "type": "pie",
         "values": [
          49259,
          7095
         ]
        }
       ],
       "layout": {
        "annotations": [
         {
          "font": {
           "size": 20
          },
          "showarrow": false,
          "text": "Unexpected<br>Benzos",
          "x": 0.5,
          "y": 0.5
         }
        ],
        "template": {
         "data": {
          "bar": [
           {
            "error_x": {
             "color": "#2a3f5f"
            },
            "error_y": {
             "color": "#2a3f5f"
            },
            "marker": {
             "line": {
              "color": "#E5ECF6",
              "width": 0.5
             },
             "pattern": {
              "fillmode": "overlay",
              "size": 10,
              "solidity": 0.2
             }
            },
            "type": "bar"
           }
          ],
          "barpolar": [
           {
            "marker": {
             "line": {
              "color": "#E5ECF6",
              "width": 0.5
             },
             "pattern": {
              "fillmode": "overlay",
              "size": 10,
              "solidity": 0.2
             }
            },
            "type": "barpolar"
           }
          ],
          "carpet": [
           {
            "aaxis": {
             "endlinecolor": "#2a3f5f",
             "gridcolor": "white",
             "linecolor": "white",
             "minorgridcolor": "white",
             "startlinecolor": "#2a3f5f"
            },
            "baxis": {
             "endlinecolor": "#2a3f5f",
             "gridcolor": "white",
             "linecolor": "white",
             "minorgridcolor": "white",
             "startlinecolor": "#2a3f5f"
            },
            "type": "carpet"
           }
          ],
          "choropleth": [
           {
            "colorbar": {
             "outlinewidth": 0,
             "ticks": ""
            },
            "type": "choropleth"
           }
          ],
          "contour": [
           {
            "colorbar": {
             "outlinewidth": 0,
             "ticks": ""
            },
            "colorscale": [
             [
              0,
              "#0d0887"
             ],
             [
              0.1111111111111111,
              "#46039f"
             ],
             [
              0.2222222222222222,
              "#7201a8"
             ],
             [
              0.3333333333333333,
              "#9c179e"
             ],
             [
              0.4444444444444444,
              "#bd3786"
             ],
             [
              0.5555555555555556,
              "#d8576b"
             ],
             [
              0.6666666666666666,
              "#ed7953"
             ],
             [
              0.7777777777777778,
              "#fb9f3a"
             ],
             [
              0.8888888888888888,
              "#fdca26"
             ],
             [
              1,
              "#f0f921"
             ]
            ],
            "type": "contour"
           }
          ],
          "contourcarpet": [
           {
            "colorbar": {
             "outlinewidth": 0,
             "ticks": ""
            },
            "type": "contourcarpet"
           }
          ],
          "heatmap": [
           {
            "colorbar": {
             "outlinewidth": 0,
             "ticks": ""
            },
            "colorscale": [
             [
              0,
              "#0d0887"
             ],
             [
              0.1111111111111111,
              "#46039f"
             ],
             [
              0.2222222222222222,
              "#7201a8"
             ],
             [
              0.3333333333333333,
              "#9c179e"
             ],
             [
              0.4444444444444444,
              "#bd3786"
             ],
             [
              0.5555555555555556,
              "#d8576b"
             ],
             [
              0.6666666666666666,
              "#ed7953"
             ],
             [
              0.7777777777777778,
              "#fb9f3a"
             ],
             [
              0.8888888888888888,
              "#fdca26"
             ],
             [
              1,
              "#f0f921"
             ]
            ],
            "type": "heatmap"
           }
          ],
          "heatmapgl": [
           {
            "colorbar": {
             "outlinewidth": 0,
             "ticks": ""
            },
            "colorscale": [
             [
              0,
              "#0d0887"
             ],
             [
              0.1111111111111111,
              "#46039f"
             ],
             [
              0.2222222222222222,
              "#7201a8"
             ],
             [
              0.3333333333333333,
              "#9c179e"
             ],
             [
              0.4444444444444444,
              "#bd3786"
             ],
             [
              0.5555555555555556,
              "#d8576b"
             ],
             [
              0.6666666666666666,
              "#ed7953"
             ],
             [
              0.7777777777777778,
              "#fb9f3a"
             ],
             [
              0.8888888888888888,
              "#fdca26"
             ],
             [
              1,
              "#f0f921"
             ]
            ],
            "type": "heatmapgl"
           }
          ],
          "histogram": [
           {
            "marker": {
             "pattern": {
              "fillmode": "overlay",
              "size": 10,
              "solidity": 0.2
             }
            },
            "type": "histogram"
           }
          ],
          "histogram2d": [
           {
            "colorbar": {
             "outlinewidth": 0,
             "ticks": ""
            },
            "colorscale": [
             [
              0,
              "#0d0887"
             ],
             [
              0.1111111111111111,
              "#46039f"
             ],
             [
              0.2222222222222222,
              "#7201a8"
             ],
             [
              0.3333333333333333,
              "#9c179e"
             ],
             [
              0.4444444444444444,
              "#bd3786"
             ],
             [
              0.5555555555555556,
              "#d8576b"
             ],
             [
              0.6666666666666666,
              "#ed7953"
             ],
             [
              0.7777777777777778,
              "#fb9f3a"
             ],
             [
              0.8888888888888888,
              "#fdca26"
             ],
             [
              1,
              "#f0f921"
             ]
            ],
            "type": "histogram2d"
           }
          ],
          "histogram2dcontour": [
           {
            "colorbar": {
             "outlinewidth": 0,
             "ticks": ""
            },
            "colorscale": [
             [
              0,
              "#0d0887"
             ],
             [
              0.1111111111111111,
              "#46039f"
             ],
             [
              0.2222222222222222,
              "#7201a8"
             ],
             [
              0.3333333333333333,
              "#9c179e"
             ],
             [
              0.4444444444444444,
              "#bd3786"
             ],
             [
              0.5555555555555556,
              "#d8576b"
             ],
             [
              0.6666666666666666,
              "#ed7953"
             ],
             [
              0.7777777777777778,
              "#fb9f3a"
             ],
             [
              0.8888888888888888,
              "#fdca26"
             ],
             [
              1,
              "#f0f921"
             ]
            ],
            "type": "histogram2dcontour"
           }
          ],
          "mesh3d": [
           {
            "colorbar": {
             "outlinewidth": 0,
             "ticks": ""
            },
            "type": "mesh3d"
           }
          ],
          "parcoords": [
           {
            "line": {
             "colorbar": {
              "outlinewidth": 0,
              "ticks": ""
             }
            },
            "type": "parcoords"
           }
          ],
          "pie": [
           {
            "automargin": true,
            "type": "pie"
           }
          ],
          "scatter": [
           {
            "fillpattern": {
             "fillmode": "overlay",
             "size": 10,
             "solidity": 0.2
            },
            "type": "scatter"
           }
          ],
          "scatter3d": [
           {
            "line": {
             "colorbar": {
              "outlinewidth": 0,
              "ticks": ""
             }
            },
            "marker": {
             "colorbar": {
              "outlinewidth": 0,
              "ticks": ""
             }
            },
            "type": "scatter3d"
           }
          ],
          "scattercarpet": [
           {
            "marker": {
             "colorbar": {
              "outlinewidth": 0,
              "ticks": ""
             }
            },
            "type": "scattercarpet"
           }
          ],
          "scattergeo": [
           {
            "marker": {
             "colorbar": {
              "outlinewidth": 0,
              "ticks": ""
             }
            },
            "type": "scattergeo"
           }
          ],
          "scattergl": [
           {
            "marker": {
             "colorbar": {
              "outlinewidth": 0,
              "ticks": ""
             }
            },
            "type": "scattergl"
           }
          ],
          "scattermapbox": [
           {
            "marker": {
             "colorbar": {
              "outlinewidth": 0,
              "ticks": ""
             }
            },
            "type": "scattermapbox"
           }
          ],
          "scatterpolar": [
           {
            "marker": {
             "colorbar": {
              "outlinewidth": 0,
              "ticks": ""
             }
            },
            "type": "scatterpolar"
           }
          ],
          "scatterpolargl": [
           {
            "marker": {
             "colorbar": {
              "outlinewidth": 0,
              "ticks": ""
             }
            },
            "type": "scatterpolargl"
           }
          ],
          "scatterternary": [
           {
            "marker": {
             "colorbar": {
              "outlinewidth": 0,
              "ticks": ""
             }
            },
            "type": "scatterternary"
           }
          ],
          "surface": [
           {
            "colorbar": {
             "outlinewidth": 0,
             "ticks": ""
            },
            "colorscale": [
             [
              0,
              "#0d0887"
             ],
             [
              0.1111111111111111,
              "#46039f"
             ],
             [
              0.2222222222222222,
              "#7201a8"
             ],
             [
              0.3333333333333333,
              "#9c179e"
             ],
             [
              0.4444444444444444,
              "#bd3786"
             ],
             [
              0.5555555555555556,
              "#d8576b"
             ],
             [
              0.6666666666666666,
              "#ed7953"
             ],
             [
              0.7777777777777778,
              "#fb9f3a"
             ],
             [
              0.8888888888888888,
              "#fdca26"
             ],
             [
              1,
              "#f0f921"
             ]
            ],
            "type": "surface"
           }
          ],
          "table": [
           {
            "cells": {
             "fill": {
              "color": "#EBF0F8"
             },
             "line": {
              "color": "white"
             }
            },
            "header": {
             "fill": {
              "color": "#C8D4E3"
             },
             "line": {
              "color": "white"
             }
            },
            "type": "table"
           }
          ]
         },
         "layout": {
          "annotationdefaults": {
           "arrowcolor": "#2a3f5f",
           "arrowhead": 0,
           "arrowwidth": 1
          },
          "autotypenumbers": "strict",
          "coloraxis": {
           "colorbar": {
            "outlinewidth": 0,
            "ticks": ""
           }
          },
          "colorscale": {
           "diverging": [
            [
             0,
             "#8e0152"
            ],
            [
             0.1,
             "#c51b7d"
            ],
            [
             0.2,
             "#de77ae"
            ],
            [
             0.3,
             "#f1b6da"
            ],
            [
             0.4,
             "#fde0ef"
            ],
            [
             0.5,
             "#f7f7f7"
            ],
            [
             0.6,
             "#e6f5d0"
            ],
            [
             0.7,
             "#b8e186"
            ],
            [
             0.8,
             "#7fbc41"
            ],
            [
             0.9,
             "#4d9221"
            ],
            [
             1,
             "#276419"
            ]
           ],
           "sequential": [
            [
             0,
             "#0d0887"
            ],
            [
             0.1111111111111111,
             "#46039f"
            ],
            [
             0.2222222222222222,
             "#7201a8"
            ],
            [
             0.3333333333333333,
             "#9c179e"
            ],
            [
             0.4444444444444444,
             "#bd3786"
            ],
            [
             0.5555555555555556,
             "#d8576b"
            ],
            [
             0.6666666666666666,
             "#ed7953"
            ],
            [
             0.7777777777777778,
             "#fb9f3a"
            ],
            [
             0.8888888888888888,
             "#fdca26"
            ],
            [
             1,
             "#f0f921"
            ]
           ],
           "sequentialminus": [
            [
             0,
             "#0d0887"
            ],
            [
             0.1111111111111111,
             "#46039f"
            ],
            [
             0.2222222222222222,
             "#7201a8"
            ],
            [
             0.3333333333333333,
             "#9c179e"
            ],
            [
             0.4444444444444444,
             "#bd3786"
            ],
            [
             0.5555555555555556,
             "#d8576b"
            ],
            [
             0.6666666666666666,
             "#ed7953"
            ],
            [
             0.7777777777777778,
             "#fb9f3a"
            ],
            [
             0.8888888888888888,
             "#fdca26"
            ],
            [
             1,
             "#f0f921"
            ]
           ]
          },
          "colorway": [
           "#636efa",
           "#EF553B",
           "#00cc96",
           "#ab63fa",
           "#FFA15A",
           "#19d3f3",
           "#FF6692",
           "#B6E880",
           "#FF97FF",
           "#FECB52"
          ],
          "font": {
           "color": "#2a3f5f"
          },
          "geo": {
           "bgcolor": "white",
           "lakecolor": "white",
           "landcolor": "#E5ECF6",
           "showlakes": true,
           "showland": true,
           "subunitcolor": "white"
          },
          "hoverlabel": {
           "align": "left"
          },
          "hovermode": "closest",
          "mapbox": {
           "style": "light"
          },
          "paper_bgcolor": "white",
          "plot_bgcolor": "#E5ECF6",
          "polar": {
           "angularaxis": {
            "gridcolor": "white",
            "linecolor": "white",
            "ticks": ""
           },
           "bgcolor": "#E5ECF6",
           "radialaxis": {
            "gridcolor": "white",
            "linecolor": "white",
            "ticks": ""
           }
          },
          "scene": {
           "xaxis": {
            "backgroundcolor": "#E5ECF6",
            "gridcolor": "white",
            "gridwidth": 2,
            "linecolor": "white",
            "showbackground": true,
            "ticks": "",
            "zerolinecolor": "white"
           },
           "yaxis": {
            "backgroundcolor": "#E5ECF6",
            "gridcolor": "white",
            "gridwidth": 2,
            "linecolor": "white",
            "showbackground": true,
            "ticks": "",
            "zerolinecolor": "white"
           },
           "zaxis": {
            "backgroundcolor": "#E5ECF6",
            "gridcolor": "white",
            "gridwidth": 2,
            "linecolor": "white",
            "showbackground": true,
            "ticks": "",
            "zerolinecolor": "white"
           }
          },
          "shapedefaults": {
           "line": {
            "color": "#2a3f5f"
           }
          },
          "ternary": {
           "aaxis": {
            "gridcolor": "white",
            "linecolor": "white",
            "ticks": ""
           },
           "baxis": {
            "gridcolor": "white",
            "linecolor": "white",
            "ticks": ""
           },
           "bgcolor": "#E5ECF6",
           "caxis": {
            "gridcolor": "white",
            "linecolor": "white",
            "ticks": ""
           }
          },
          "title": {
           "x": 0.05
          },
          "xaxis": {
           "automargin": true,
           "gridcolor": "white",
           "linecolor": "white",
           "ticks": "",
           "title": {
            "standoff": 15
           },
           "zerolinecolor": "white",
           "zerolinewidth": 2
          },
          "yaxis": {
           "automargin": true,
           "gridcolor": "white",
           "linecolor": "white",
           "ticks": "",
           "title": {
            "standoff": 15
           },
           "zerolinecolor": "white",
           "zerolinewidth": 2
          }
         }
        }
       }
      }
     },
     "metadata": {},
     "output_type": "display_data"
    }
   ],
   "source": [
    "no_benzo = df[~(df['category'] == 'Depressant')].index\n",
    "no_benzo = df.iloc[no_benzo]\n",
    "\n",
    "fig = go.Figure(go.Pie(\n",
    "    labels=no_benzo['total_benzos'].replace({1: \"Positive\", 0: \"Negative\"}).value_counts().index,\n",
    "    values=no_benzo['total_benzos'].value_counts().values,\n",
    "    hole=0.65\n",
    "))\n",
    "fig.update_traces(hoverinfo='value+percent', textinfo='label', textfont_size=20,\n",
    "                  marker=dict(line=dict(color='#000000', width=2)))\n",
    "fig.update_layout(\n",
    "    annotations=[\n",
    "        dict(text=\"Unexpected<br>Benzos\", x=0.5, y=0.5, font_size=20, showarrow=False)\n",
    "    ])\n",
    "fig.show()"
   ]
  },
  {
   "cell_type": "code",
   "execution_count": 25,
   "metadata": {},
   "outputs": [
    {
     "data": {
      "application/vnd.plotly.v1+json": {
       "config": {
        "plotlyServerURL": "https://plot.ly"
       },
       "data": [
        {
         "hole": 0.65,
         "hoverinfo": "value+percent",
         "labels": [
          "Negative",
          "Positive"
         ],
         "marker": {
          "line": {
           "color": "#000000",
           "width": 2
          }
         },
         "textfont": {
          "size": 20
         },
         "textinfo": "label",
         "type": "pie",
         "values": [
          18408,
          6412
         ]
        }
       ],
       "layout": {
        "annotations": [
         {
          "font": {
           "size": 20
          },
          "showarrow": false,
          "text": "Benzos in<br>Opioids",
          "x": 0.5,
          "y": 0.5
         }
        ],
        "template": {
         "data": {
          "bar": [
           {
            "error_x": {
             "color": "#2a3f5f"
            },
            "error_y": {
             "color": "#2a3f5f"
            },
            "marker": {
             "line": {
              "color": "#E5ECF6",
              "width": 0.5
             },
             "pattern": {
              "fillmode": "overlay",
              "size": 10,
              "solidity": 0.2
             }
            },
            "type": "bar"
           }
          ],
          "barpolar": [
           {
            "marker": {
             "line": {
              "color": "#E5ECF6",
              "width": 0.5
             },
             "pattern": {
              "fillmode": "overlay",
              "size": 10,
              "solidity": 0.2
             }
            },
            "type": "barpolar"
           }
          ],
          "carpet": [
           {
            "aaxis": {
             "endlinecolor": "#2a3f5f",
             "gridcolor": "white",
             "linecolor": "white",
             "minorgridcolor": "white",
             "startlinecolor": "#2a3f5f"
            },
            "baxis": {
             "endlinecolor": "#2a3f5f",
             "gridcolor": "white",
             "linecolor": "white",
             "minorgridcolor": "white",
             "startlinecolor": "#2a3f5f"
            },
            "type": "carpet"
           }
          ],
          "choropleth": [
           {
            "colorbar": {
             "outlinewidth": 0,
             "ticks": ""
            },
            "type": "choropleth"
           }
          ],
          "contour": [
           {
            "colorbar": {
             "outlinewidth": 0,
             "ticks": ""
            },
            "colorscale": [
             [
              0,
              "#0d0887"
             ],
             [
              0.1111111111111111,
              "#46039f"
             ],
             [
              0.2222222222222222,
              "#7201a8"
             ],
             [
              0.3333333333333333,
              "#9c179e"
             ],
             [
              0.4444444444444444,
              "#bd3786"
             ],
             [
              0.5555555555555556,
              "#d8576b"
             ],
             [
              0.6666666666666666,
              "#ed7953"
             ],
             [
              0.7777777777777778,
              "#fb9f3a"
             ],
             [
              0.8888888888888888,
              "#fdca26"
             ],
             [
              1,
              "#f0f921"
             ]
            ],
            "type": "contour"
           }
          ],
          "contourcarpet": [
           {
            "colorbar": {
             "outlinewidth": 0,
             "ticks": ""
            },
            "type": "contourcarpet"
           }
          ],
          "heatmap": [
           {
            "colorbar": {
             "outlinewidth": 0,
             "ticks": ""
            },
            "colorscale": [
             [
              0,
              "#0d0887"
             ],
             [
              0.1111111111111111,
              "#46039f"
             ],
             [
              0.2222222222222222,
              "#7201a8"
             ],
             [
              0.3333333333333333,
              "#9c179e"
             ],
             [
              0.4444444444444444,
              "#bd3786"
             ],
             [
              0.5555555555555556,
              "#d8576b"
             ],
             [
              0.6666666666666666,
              "#ed7953"
             ],
             [
              0.7777777777777778,
              "#fb9f3a"
             ],
             [
              0.8888888888888888,
              "#fdca26"
             ],
             [
              1,
              "#f0f921"
             ]
            ],
            "type": "heatmap"
           }
          ],
          "heatmapgl": [
           {
            "colorbar": {
             "outlinewidth": 0,
             "ticks": ""
            },
            "colorscale": [
             [
              0,
              "#0d0887"
             ],
             [
              0.1111111111111111,
              "#46039f"
             ],
             [
              0.2222222222222222,
              "#7201a8"
             ],
             [
              0.3333333333333333,
              "#9c179e"
             ],
             [
              0.4444444444444444,
              "#bd3786"
             ],
             [
              0.5555555555555556,
              "#d8576b"
             ],
             [
              0.6666666666666666,
              "#ed7953"
             ],
             [
              0.7777777777777778,
              "#fb9f3a"
             ],
             [
              0.8888888888888888,
              "#fdca26"
             ],
             [
              1,
              "#f0f921"
             ]
            ],
            "type": "heatmapgl"
           }
          ],
          "histogram": [
           {
            "marker": {
             "pattern": {
              "fillmode": "overlay",
              "size": 10,
              "solidity": 0.2
             }
            },
            "type": "histogram"
           }
          ],
          "histogram2d": [
           {
            "colorbar": {
             "outlinewidth": 0,
             "ticks": ""
            },
            "colorscale": [
             [
              0,
              "#0d0887"
             ],
             [
              0.1111111111111111,
              "#46039f"
             ],
             [
              0.2222222222222222,
              "#7201a8"
             ],
             [
              0.3333333333333333,
              "#9c179e"
             ],
             [
              0.4444444444444444,
              "#bd3786"
             ],
             [
              0.5555555555555556,
              "#d8576b"
             ],
             [
              0.6666666666666666,
              "#ed7953"
             ],
             [
              0.7777777777777778,
              "#fb9f3a"
             ],
             [
              0.8888888888888888,
              "#fdca26"
             ],
             [
              1,
              "#f0f921"
             ]
            ],
            "type": "histogram2d"
           }
          ],
          "histogram2dcontour": [
           {
            "colorbar": {
             "outlinewidth": 0,
             "ticks": ""
            },
            "colorscale": [
             [
              0,
              "#0d0887"
             ],
             [
              0.1111111111111111,
              "#46039f"
             ],
             [
              0.2222222222222222,
              "#7201a8"
             ],
             [
              0.3333333333333333,
              "#9c179e"
             ],
             [
              0.4444444444444444,
              "#bd3786"
             ],
             [
              0.5555555555555556,
              "#d8576b"
             ],
             [
              0.6666666666666666,
              "#ed7953"
             ],
             [
              0.7777777777777778,
              "#fb9f3a"
             ],
             [
              0.8888888888888888,
              "#fdca26"
             ],
             [
              1,
              "#f0f921"
             ]
            ],
            "type": "histogram2dcontour"
           }
          ],
          "mesh3d": [
           {
            "colorbar": {
             "outlinewidth": 0,
             "ticks": ""
            },
            "type": "mesh3d"
           }
          ],
          "parcoords": [
           {
            "line": {
             "colorbar": {
              "outlinewidth": 0,
              "ticks": ""
             }
            },
            "type": "parcoords"
           }
          ],
          "pie": [
           {
            "automargin": true,
            "type": "pie"
           }
          ],
          "scatter": [
           {
            "fillpattern": {
             "fillmode": "overlay",
             "size": 10,
             "solidity": 0.2
            },
            "type": "scatter"
           }
          ],
          "scatter3d": [
           {
            "line": {
             "colorbar": {
              "outlinewidth": 0,
              "ticks": ""
             }
            },
            "marker": {
             "colorbar": {
              "outlinewidth": 0,
              "ticks": ""
             }
            },
            "type": "scatter3d"
           }
          ],
          "scattercarpet": [
           {
            "marker": {
             "colorbar": {
              "outlinewidth": 0,
              "ticks": ""
             }
            },
            "type": "scattercarpet"
           }
          ],
          "scattergeo": [
           {
            "marker": {
             "colorbar": {
              "outlinewidth": 0,
              "ticks": ""
             }
            },
            "type": "scattergeo"
           }
          ],
          "scattergl": [
           {
            "marker": {
             "colorbar": {
              "outlinewidth": 0,
              "ticks": ""
             }
            },
            "type": "scattergl"
           }
          ],
          "scattermapbox": [
           {
            "marker": {
             "colorbar": {
              "outlinewidth": 0,
              "ticks": ""
             }
            },
            "type": "scattermapbox"
           }
          ],
          "scatterpolar": [
           {
            "marker": {
             "colorbar": {
              "outlinewidth": 0,
              "ticks": ""
             }
            },
            "type": "scatterpolar"
           }
          ],
          "scatterpolargl": [
           {
            "marker": {
             "colorbar": {
              "outlinewidth": 0,
              "ticks": ""
             }
            },
            "type": "scatterpolargl"
           }
          ],
          "scatterternary": [
           {
            "marker": {
             "colorbar": {
              "outlinewidth": 0,
              "ticks": ""
             }
            },
            "type": "scatterternary"
           }
          ],
          "surface": [
           {
            "colorbar": {
             "outlinewidth": 0,
             "ticks": ""
            },
            "colorscale": [
             [
              0,
              "#0d0887"
             ],
             [
              0.1111111111111111,
              "#46039f"
             ],
             [
              0.2222222222222222,
              "#7201a8"
             ],
             [
              0.3333333333333333,
              "#9c179e"
             ],
             [
              0.4444444444444444,
              "#bd3786"
             ],
             [
              0.5555555555555556,
              "#d8576b"
             ],
             [
              0.6666666666666666,
              "#ed7953"
             ],
             [
              0.7777777777777778,
              "#fb9f3a"
             ],
             [
              0.8888888888888888,
              "#fdca26"
             ],
             [
              1,
              "#f0f921"
             ]
            ],
            "type": "surface"
           }
          ],
          "table": [
           {
            "cells": {
             "fill": {
              "color": "#EBF0F8"
             },
             "line": {
              "color": "white"
             }
            },
            "header": {
             "fill": {
              "color": "#C8D4E3"
             },
             "line": {
              "color": "white"
             }
            },
            "type": "table"
           }
          ]
         },
         "layout": {
          "annotationdefaults": {
           "arrowcolor": "#2a3f5f",
           "arrowhead": 0,
           "arrowwidth": 1
          },
          "autotypenumbers": "strict",
          "coloraxis": {
           "colorbar": {
            "outlinewidth": 0,
            "ticks": ""
           }
          },
          "colorscale": {
           "diverging": [
            [
             0,
             "#8e0152"
            ],
            [
             0.1,
             "#c51b7d"
            ],
            [
             0.2,
             "#de77ae"
            ],
            [
             0.3,
             "#f1b6da"
            ],
            [
             0.4,
             "#fde0ef"
            ],
            [
             0.5,
             "#f7f7f7"
            ],
            [
             0.6,
             "#e6f5d0"
            ],
            [
             0.7,
             "#b8e186"
            ],
            [
             0.8,
             "#7fbc41"
            ],
            [
             0.9,
             "#4d9221"
            ],
            [
             1,
             "#276419"
            ]
           ],
           "sequential": [
            [
             0,
             "#0d0887"
            ],
            [
             0.1111111111111111,
             "#46039f"
            ],
            [
             0.2222222222222222,
             "#7201a8"
            ],
            [
             0.3333333333333333,
             "#9c179e"
            ],
            [
             0.4444444444444444,
             "#bd3786"
            ],
            [
             0.5555555555555556,
             "#d8576b"
            ],
            [
             0.6666666666666666,
             "#ed7953"
            ],
            [
             0.7777777777777778,
             "#fb9f3a"
            ],
            [
             0.8888888888888888,
             "#fdca26"
            ],
            [
             1,
             "#f0f921"
            ]
           ],
           "sequentialminus": [
            [
             0,
             "#0d0887"
            ],
            [
             0.1111111111111111,
             "#46039f"
            ],
            [
             0.2222222222222222,
             "#7201a8"
            ],
            [
             0.3333333333333333,
             "#9c179e"
            ],
            [
             0.4444444444444444,
             "#bd3786"
            ],
            [
             0.5555555555555556,
             "#d8576b"
            ],
            [
             0.6666666666666666,
             "#ed7953"
            ],
            [
             0.7777777777777778,
             "#fb9f3a"
            ],
            [
             0.8888888888888888,
             "#fdca26"
            ],
            [
             1,
             "#f0f921"
            ]
           ]
          },
          "colorway": [
           "#636efa",
           "#EF553B",
           "#00cc96",
           "#ab63fa",
           "#FFA15A",
           "#19d3f3",
           "#FF6692",
           "#B6E880",
           "#FF97FF",
           "#FECB52"
          ],
          "font": {
           "color": "#2a3f5f"
          },
          "geo": {
           "bgcolor": "white",
           "lakecolor": "white",
           "landcolor": "#E5ECF6",
           "showlakes": true,
           "showland": true,
           "subunitcolor": "white"
          },
          "hoverlabel": {
           "align": "left"
          },
          "hovermode": "closest",
          "mapbox": {
           "style": "light"
          },
          "paper_bgcolor": "white",
          "plot_bgcolor": "#E5ECF6",
          "polar": {
           "angularaxis": {
            "gridcolor": "white",
            "linecolor": "white",
            "ticks": ""
           },
           "bgcolor": "#E5ECF6",
           "radialaxis": {
            "gridcolor": "white",
            "linecolor": "white",
            "ticks": ""
           }
          },
          "scene": {
           "xaxis": {
            "backgroundcolor": "#E5ECF6",
            "gridcolor": "white",
            "gridwidth": 2,
            "linecolor": "white",
            "showbackground": true,
            "ticks": "",
            "zerolinecolor": "white"
           },
           "yaxis": {
            "backgroundcolor": "#E5ECF6",
            "gridcolor": "white",
            "gridwidth": 2,
            "linecolor": "white",
            "showbackground": true,
            "ticks": "",
            "zerolinecolor": "white"
           },
           "zaxis": {
            "backgroundcolor": "#E5ECF6",
            "gridcolor": "white",
            "gridwidth": 2,
            "linecolor": "white",
            "showbackground": true,
            "ticks": "",
            "zerolinecolor": "white"
           }
          },
          "shapedefaults": {
           "line": {
            "color": "#2a3f5f"
           }
          },
          "ternary": {
           "aaxis": {
            "gridcolor": "white",
            "linecolor": "white",
            "ticks": ""
           },
           "baxis": {
            "gridcolor": "white",
            "linecolor": "white",
            "ticks": ""
           },
           "bgcolor": "#E5ECF6",
           "caxis": {
            "gridcolor": "white",
            "linecolor": "white",
            "ticks": ""
           }
          },
          "title": {
           "x": 0.05
          },
          "xaxis": {
           "automargin": true,
           "gridcolor": "white",
           "linecolor": "white",
           "ticks": "",
           "title": {
            "standoff": 15
           },
           "zerolinecolor": "white",
           "zerolinewidth": 2
          },
          "yaxis": {
           "automargin": true,
           "gridcolor": "white",
           "linecolor": "white",
           "ticks": "",
           "title": {
            "standoff": 15
           },
           "zerolinecolor": "white",
           "zerolinewidth": 2
          }
         }
        }
       }
      }
     },
     "metadata": {},
     "output_type": "display_data"
    }
   ],
   "source": [
    "total_opioids = df[df['total_opioids'] == 1]\n",
    "\n",
    "fig = go.Figure(go.Pie(\n",
    "    labels=total_opioids['total_benzos'].replace({1: \"Positive\", 0: \"Negative\"}).value_counts().index,\n",
    "    values=total_opioids['total_benzos'].value_counts().values,\n",
    "    hole=0.65\n",
    "))\n",
    "fig.update_traces(hoverinfo='value+percent', textinfo='label', textfont_size=20,\n",
    "                  marker=dict(line=dict(color='#000000', width=2)))\n",
    "fig.update_layout(\n",
    "    annotations=[\n",
    "        dict(text=\"Benzos in<br>Opioids\", x=0.5, y=0.5, font_size=20, showarrow=False)\n",
    "    ])\n",
    "fig.show()"
   ]
  },
  {
   "cell_type": "code",
   "execution_count": 12,
   "metadata": {},
   "outputs": [],
   "source": [
    "df['colour2'] = df['colour2'].replace(r'([a-zA-Z]+)(\\s)\\((light|dark)\\)', r'\\3\\2\\1', regex=True)\n"
   ]
  },
  {
   "cell_type": "code",
   "execution_count": 402,
   "metadata": {},
   "outputs": [],
   "source": [
    "colours = df.groupby(['colour', 'texture'])['colour2'].head(1)"
   ]
  },
  {
   "cell_type": "code",
   "execution_count": 13,
   "metadata": {},
   "outputs": [],
   "source": [
    "df['colour2'] = df['colour2'].replace({\n",
    "    \"Purple\": '#A020F0',\n",
    "    \"light Brown\": \"#C4A484\",\n",
    "    \"light Green\": \"#90EE90\",\n",
    "    \"Pink\": \"#FFC0CB\",\n",
    "    \"Colourless\": \"#F8F8FF\",\n",
    "    \"White\": \"#FFFFFF\",\n",
    "    \"Black\": \"#000000\",\n",
    "    \"dark Purple\": \"#301934\",\n",
    "    \"Brown\": \"#964B00\",\n",
    "    \"dark Blue\": \"#00008B\",\n",
    "    \"Blue\": \"#0000FF\",\n",
    "    \"light Yellow\": \"#FFFFE0\",\n",
    "    \"light Pink\": \"#FFB6C1\",\n",
    "    \"dark Brown\": \"#654321\",\n",
    "    \"light Grey\": \"#D3D3D3\",\n",
    "    \"dark Pink\": \"#FF1493\",\n",
    "    \"light Blue\": \"#ADD8E6\",\n",
    "    \"light Purple\": \"#E6E6FA\",\n",
    "    \"light Orange\": \"#FFA07A\",\n",
    "    \"light Red\": \"#FFA07A\",\n",
    "    \"dark Orange\": \"#FF8C00\",\n",
    "    \"dark Green\": \"#006400\",\n",
    "    \"dark Grey\": \"#A9A9A9\",\n",
    "    \"dark Red\": \"#8B0000\",\n",
    "    \"dark Yellow\": \"#FFD700\",\n",
    "    \"Other\": \"#F8F8FF\"    \n",
    "})"
   ]
  },
  {
   "cell_type": "code",
   "execution_count": 146,
   "metadata": {},
   "outputs": [],
   "source": [
    "colour_map = dict(zip(df['colour'].unique(), df['colour2'].unique()))\n",
    "colour_map['All Drugs'] = 'White'"
   ]
  },
  {
   "cell_type": "code",
   "execution_count": 147,
   "metadata": {},
   "outputs": [
    {
     "data": {
      "application/vnd.plotly.v1+json": {
       "config": {
        "plotlyServerURL": "https://plot.ly"
       },
       "data": [
        {
         "branchvalues": "total",
         "customdata": [
          [
           "Purple (dark)"
          ],
          [
           "Black"
          ],
          [
           "White"
          ],
          [
           "Yellow (light)"
          ],
          [
           "Pink"
          ],
          [
           "Yellow (dark)"
          ],
          [
           "Yellow (light)"
          ],
          [
           "Purple (dark)"
          ],
          [
           "Purple (light)"
          ],
          [
           "Pink (light)"
          ],
          [
           "Orange (light)"
          ],
          [
           "Brown (light)"
          ],
          [
           "Beige"
          ],
          [
           "Red (dark)"
          ],
          [
           "(?)"
          ],
          [
           "Green (dark)"
          ],
          [
           "Yellow (dark)"
          ],
          [
           "Black"
          ],
          [
           "Blue (light)"
          ],
          [
           "Blue (light)"
          ],
          [
           "Green"
          ],
          [
           "Green"
          ],
          [
           "Colourless"
          ],
          [
           "Red"
          ],
          [
           "Pink (dark)"
          ],
          [
           "Other"
          ],
          [
           "Purple (light)"
          ],
          [
           "Yellow (dark)"
          ],
          [
           "Blue (dark)"
          ],
          [
           "Green (light)"
          ],
          [
           "Grey (dark)"
          ],
          [
           "Blue (light)"
          ],
          [
           "Beige"
          ],
          [
           "Grey"
          ],
          [
           "Red (light)"
          ],
          [
           "Other"
          ],
          [
           "Purple"
          ],
          [
           "Orange"
          ],
          [
           "Purple"
          ],
          [
           "Pink"
          ],
          [
           "Purple"
          ],
          [
           "Orange"
          ],
          [
           "Grey (dark)"
          ],
          [
           "Brown (light)"
          ],
          [
           "Purple (dark)"
          ],
          [
           "Purple (dark)"
          ],
          [
           "Purple"
          ],
          [
           "Red"
          ],
          [
           "Green"
          ],
          [
           "Yellow"
          ],
          [
           "Blue (light)"
          ],
          [
           "Brown"
          ],
          [
           "Brown (dark)"
          ],
          [
           "Blue"
          ],
          [
           "Black"
          ],
          [
           "Beige"
          ],
          [
           "Yellow (dark)"
          ],
          [
           "Brown (dark)"
          ],
          [
           "Purple"
          ],
          [
           "White"
          ],
          [
           "Pink"
          ],
          [
           "Black"
          ],
          [
           "Yellow"
          ],
          [
           "Pink"
          ],
          [
           "Grey (dark)"
          ],
          [
           "Green (light)"
          ],
          [
           "Yellow (dark)"
          ],
          [
           "Green (light)"
          ],
          [
           "Orange (light)"
          ],
          [
           "White"
          ],
          [
           "Colourless"
          ],
          [
           "Green (light)"
          ],
          [
           "Purple (light)"
          ],
          [
           "Grey"
          ],
          [
           "Yellow"
          ],
          [
           "Brown"
          ],
          [
           "Brown (light)"
          ],
          [
           "Orange"
          ],
          [
           "Yellow (light)"
          ],
          [
           "Grey (light)"
          ],
          [
           "Brown (light)"
          ],
          [
           "Blue"
          ],
          [
           "Grey (light)"
          ],
          [
           "Purple (light)"
          ],
          [
           "Blue"
          ],
          [
           "Green"
          ],
          [
           "Blue (light)"
          ],
          [
           "Purple (dark)"
          ],
          [
           "Orange (light)"
          ],
          [
           "Pink"
          ],
          [
           "Red (light)"
          ],
          [
           "Blue"
          ],
          [
           "Yellow"
          ],
          [
           "Blue"
          ],
          [
           "Blue (dark)"
          ],
          [
           "Purple"
          ],
          [
           "Other"
          ],
          [
           "Green (dark)"
          ],
          [
           "Purple (dark)"
          ],
          [
           "Blue (light)"
          ],
          [
           "Purple (light)"
          ],
          [
           "Blue (light)"
          ],
          [
           "Beige"
          ],
          [
           "Green (dark)"
          ],
          [
           "Beige"
          ],
          [
           "Pink"
          ],
          [
           "Blue"
          ],
          [
           "White"
          ],
          [
           "Blue (dark)"
          ],
          [
           "Blue (light)"
          ],
          [
           "Red"
          ],
          [
           "Orange (light)"
          ],
          [
           "Red (dark)"
          ],
          [
           "Yellow"
          ],
          [
           "Yellow (light)"
          ],
          [
           "Blue (dark)"
          ],
          [
           "Green (light)"
          ],
          [
           "Pink (light)"
          ],
          [
           "Grey"
          ],
          [
           "Red (dark)"
          ],
          [
           "Yellow (dark)"
          ],
          [
           "Grey (light)"
          ],
          [
           "Purple"
          ],
          [
           "Yellow (light)"
          ],
          [
           "Pink (light)"
          ],
          [
           "Pink (dark)"
          ],
          [
           "Green (light)"
          ],
          [
           "Grey (dark)"
          ],
          [
           "Blue (dark)"
          ],
          [
           "Purple"
          ],
          [
           "Colourless"
          ],
          [
           "Beige"
          ],
          [
           "Purple (light)"
          ],
          [
           "Yellow (dark)"
          ],
          [
           "Purple (dark)"
          ],
          [
           "Grey (light)"
          ],
          [
           "Blue (dark)"
          ],
          [
           "Orange"
          ],
          [
           "Orange"
          ],
          [
           "Beige"
          ],
          [
           "Yellow"
          ],
          [
           "Brown (light)"
          ],
          [
           "Green (dark)"
          ],
          [
           "Green"
          ],
          [
           "Red (dark)"
          ],
          [
           "Pink (light)"
          ],
          [
           "Red"
          ],
          [
           "Other"
          ],
          [
           "Yellow"
          ],
          [
           "Colourless"
          ],
          [
           "Other"
          ],
          [
           "Purple"
          ],
          [
           "Brown (dark)"
          ],
          [
           "Yellow"
          ],
          [
           "Black"
          ],
          [
           "Brown"
          ],
          [
           "Orange"
          ],
          [
           "Red (light)"
          ],
          [
           "Brown (dark)"
          ],
          [
           "Orange (light)"
          ],
          [
           "Black"
          ],
          [
           "Black"
          ],
          [
           "Orange (dark)"
          ],
          [
           "Grey"
          ],
          [
           "Other"
          ],
          [
           "Pink"
          ],
          [
           "Green (light)"
          ],
          [
           "Beige"
          ],
          [
           "Purple (dark)"
          ],
          [
           "Yellow (light)"
          ],
          [
           "Beige"
          ],
          [
           "Yellow (light)"
          ],
          [
           "Red (dark)"
          ],
          [
           "Brown (dark)"
          ],
          [
           "Orange (dark)"
          ],
          [
           "Orange (light)"
          ],
          [
           "Blue (dark)"
          ],
          [
           "Yellow (dark)"
          ],
          [
           "Orange"
          ],
          [
           "Red"
          ],
          [
           "Orange"
          ],
          [
           "Yellow"
          ],
          [
           "Pink (light)"
          ],
          [
           "Blue (dark)"
          ],
          [
           "Beige"
          ],
          [
           "Beige"
          ],
          [
           "Colourless"
          ],
          [
           "Blue"
          ],
          [
           "Pink"
          ],
          [
           "Yellow"
          ],
          [
           "Yellow (light)"
          ],
          [
           "White"
          ],
          [
           "Red"
          ],
          [
           "Brown (light)"
          ],
          [
           "Green"
          ],
          [
           "Orange (light)"
          ],
          [
           "Orange"
          ],
          [
           "Brown (dark)"
          ],
          [
           "Blue"
          ],
          [
           "Green (dark)"
          ],
          [
           "Brown (dark)"
          ],
          [
           "Brown"
          ],
          [
           "Yellow (dark)"
          ],
          [
           "Orange"
          ],
          [
           "Colourless"
          ],
          [
           "Green (dark)"
          ],
          [
           "Black"
          ],
          [
           "Green"
          ],
          [
           "Blue (dark)"
          ],
          [
           "White"
          ],
          [
           "Orange (dark)"
          ],
          [
           "Beige"
          ],
          [
           "Grey (dark)"
          ],
          [
           "Pink (light)"
          ],
          [
           "Pink"
          ],
          [
           "White"
          ],
          [
           "Red (light)"
          ],
          [
           "Blue (light)"
          ],
          [
           "Other"
          ],
          [
           "Green"
          ],
          [
           "Orange (light)"
          ],
          [
           "Beige"
          ],
          [
           "Grey"
          ],
          [
           "Green"
          ],
          [
           "Pink (dark)"
          ],
          [
           "Pink (dark)"
          ],
          [
           "Grey"
          ],
          [
           "Purple"
          ],
          [
           "Purple (light)"
          ],
          [
           "Brown (light)"
          ],
          [
           "Red"
          ],
          [
           "Colourless"
          ],
          [
           "Brown"
          ],
          [
           "Orange (dark)"
          ],
          [
           "Pink"
          ],
          [
           "Grey (light)"
          ],
          [
           "Pink (light)"
          ],
          [
           "Brown (dark)"
          ],
          [
           "Grey (dark)"
          ],
          [
           "Red"
          ],
          [
           "Red"
          ],
          [
           "Purple (dark)"
          ],
          [
           "White"
          ],
          [
           "Pink (light)"
          ],
          [
           "Grey (light)"
          ],
          [
           "Yellow (dark)"
          ],
          [
           "Red (dark)"
          ],
          [
           "Green (dark)"
          ],
          [
           "Brown"
          ],
          [
           "Grey"
          ],
          [
           "Purple (dark)"
          ],
          [
           "Red (light)"
          ],
          [
           "Other"
          ],
          [
           "Grey (dark)"
          ],
          [
           "Red"
          ],
          [
           "Yellow"
          ],
          [
           "Black"
          ],
          [
           "Green"
          ],
          [
           "Red (light)"
          ],
          [
           "Black"
          ],
          [
           "Grey"
          ],
          [
           "Pink (light)"
          ],
          [
           "Grey (dark)"
          ],
          [
           "Green"
          ],
          [
           "Green (light)"
          ],
          [
           "Grey (light)"
          ],
          [
           "Green (light)"
          ],
          [
           "Colourless"
          ],
          [
           "Brown"
          ],
          [
           "Blue"
          ],
          [
           "Green (dark)"
          ],
          [
           "White"
          ],
          [
           "Yellow (light)"
          ],
          [
           "Grey (light)"
          ],
          [
           "Purple (dark)"
          ],
          [
           "Pink (dark)"
          ],
          [
           "Red (dark)"
          ],
          [
           "Colourless"
          ],
          [
           "Red (dark)"
          ],
          [
           "Orange (dark)"
          ],
          [
           "Purple (light)"
          ],
          [
           "Yellow"
          ],
          [
           "Purple (dark)"
          ],
          [
           "Blue (dark)"
          ],
          [
           "Brown"
          ],
          [
           "Red (dark)"
          ],
          [
           "Grey"
          ],
          [
           "Blue (light)"
          ],
          [
           "Green (dark)"
          ],
          [
           "Pink (light)"
          ],
          [
           "Red (light)"
          ],
          [
           "White"
          ],
          [
           "Green (dark)"
          ],
          [
           "Brown (dark)"
          ],
          [
           "Orange (dark)"
          ],
          [
           "Blue"
          ],
          [
           "Yellow"
          ],
          [
           "White"
          ],
          [
           "Brown (light)"
          ],
          [
           "Other"
          ],
          [
           "Grey (light)"
          ],
          [
           "Yellow (dark)"
          ],
          [
           "Yellow"
          ],
          [
           "Black"
          ],
          [
           "Brown"
          ],
          [
           "Other"
          ],
          [
           "Brown (dark)"
          ],
          [
           "Black"
          ],
          [
           "Brown (light)"
          ],
          [
           "Blue (light)"
          ],
          [
           "Grey (light)"
          ],
          [
           "Grey"
          ],
          [
           "Brown (dark)"
          ],
          [
           "Purple (light)"
          ],
          [
           "Green (dark)"
          ],
          [
           "Red"
          ],
          [
           "Pink (dark)"
          ],
          [
           "Pink (dark)"
          ],
          [
           "Pink"
          ],
          [
           "Brown"
          ],
          [
           "Blue"
          ],
          [
           "Black"
          ],
          [
           "Brown"
          ],
          [
           "Brown (dark)"
          ],
          [
           "Brown (light)"
          ],
          [
           "Red (light)"
          ],
          [
           "Green"
          ],
          [
           "Brown"
          ],
          [
           "Pink (light)"
          ],
          [
           "Black"
          ],
          [
           "Grey"
          ],
          [
           "Green (light)"
          ],
          [
           "Green"
          ],
          [
           "Orange"
          ],
          [
           "Orange (dark)"
          ],
          [
           "Colourless"
          ],
          [
           "Green (light)"
          ],
          [
           "Yellow (dark)"
          ],
          [
           "Yellow (light)"
          ],
          [
           "Yellow"
          ],
          [
           "Green (dark)"
          ],
          [
           "Green (light)"
          ],
          [
           "Pink (dark)"
          ],
          [
           "Grey (dark)"
          ],
          [
           "Blue (light)"
          ],
          [
           "Red (light)"
          ],
          [
           "Black"
          ],
          [
           "Yellow"
          ],
          [
           "Red (light)"
          ],
          [
           "Pink"
          ],
          [
           "Pink (dark)"
          ],
          [
           "Red (dark)"
          ],
          [
           "Pink (dark)"
          ],
          [
           "Purple (dark)"
          ],
          [
           "Purple (light)"
          ],
          [
           "Orange (dark)"
          ],
          [
           "Purple (dark)"
          ],
          [
           "Brown (light)"
          ],
          [
           "Grey"
          ],
          [
           "Purple"
          ],
          [
           "Other"
          ],
          [
           "Green (light)"
          ],
          [
           "Orange (light)"
          ],
          [
           "Brown (dark)"
          ],
          [
           "Pink (dark)"
          ],
          [
           "Pink (light)"
          ],
          [
           "Blue"
          ],
          [
           "Purple"
          ],
          [
           "Orange"
          ],
          [
           "Yellow (dark)"
          ],
          [
           "Yellow (light)"
          ],
          [
           "Blue"
          ],
          [
           "Blue (dark)"
          ],
          [
           "Colourless"
          ],
          [
           "Brown"
          ],
          [
           "Brown (dark)"
          ],
          [
           "Green (dark)"
          ],
          [
           "Black"
          ],
          [
           "Grey (dark)"
          ],
          [
           "Other"
          ],
          [
           "Pink (light)"
          ],
          [
           "Orange (light)"
          ],
          [
           "Orange (dark)"
          ],
          [
           "Red"
          ],
          [
           "Red (dark)"
          ],
          [
           "Red (light)"
          ],
          [
           "Grey (light)"
          ],
          [
           "Yellow (dark)"
          ],
          [
           "Grey (dark)"
          ],
          [
           "Green (light)"
          ],
          [
           "Green (dark)"
          ],
          [
           "Colourless"
          ],
          [
           "Blue (dark)"
          ],
          [
           "Brown (light)"
          ],
          [
           "Brown"
          ],
          [
           "Brown (light)"
          ],
          [
           "Green"
          ],
          [
           "Yellow (light)"
          ],
          [
           "Green"
          ],
          [
           "Brown (light)"
          ],
          [
           "Red (light)"
          ],
          [
           "Grey (light)"
          ],
          [
           "Brown"
          ],
          [
           "Yellow (light)"
          ],
          [
           "Grey"
          ],
          [
           "Blue"
          ],
          [
           "Blue (light)"
          ],
          [
           "Green (light)"
          ],
          [
           "Brown (dark)"
          ],
          [
           "Brown (light)"
          ],
          [
           "Colourless"
          ],
          [
           "Green (dark)"
          ],
          [
           "Yellow (dark)"
          ],
          [
           "Red"
          ],
          [
           "Pink (light)"
          ],
          [
           "Orange"
          ],
          [
           "Orange (light)"
          ],
          [
           "Orange"
          ],
          [
           "Grey (light)"
          ],
          [
           "Pink (light)"
          ],
          [
           "Grey (dark)"
          ],
          [
           "Orange"
          ],
          [
           "Orange (dark)"
          ],
          [
           "Green"
          ],
          [
           "Red"
          ],
          [
           "White"
          ],
          [
           "Pink"
          ],
          [
           "Blue (light)"
          ],
          [
           "Blue"
          ],
          [
           "Red (light)"
          ],
          [
           "Purple"
          ],
          [
           "Yellow (light)"
          ],
          [
           "Pink (dark)"
          ],
          [
           "White"
          ],
          [
           "Purple (light)"
          ],
          [
           "Grey"
          ],
          [
           "Pink"
          ],
          [
           "Blue (light)"
          ],
          [
           "Brown (light)"
          ],
          [
           "Orange (light)"
          ],
          [
           "Pink"
          ],
          [
           "Yellow (light)"
          ],
          [
           "Orange"
          ],
          [
           "Purple (light)"
          ],
          [
           "White"
          ],
          [
           "Purple"
          ],
          [
           "Orange (light)"
          ],
          [
           "Brown"
          ],
          [
           "White"
          ],
          [
           "Purple"
          ],
          [
           "Red"
          ],
          [
           "Blue (dark)"
          ],
          [
           "Grey (light)"
          ]
         ],
         "domain": {
          "x": [
           0,
           1
          ],
          "y": [
           0,
           1
          ]
         },
         "hovertemplate": "%{parent} %{label}<br>count=%{value}",
         "ids": [
          "All Drugs/Purple (dark)/Flake",
          "All Drugs/Black",
          "All Drugs/White/Tablet (pharmaceutical)",
          "All Drugs/Yellow (light)/Chunk",
          "All Drugs/Pink/Crystal",
          "All Drugs/Yellow (dark)/Pressed tablet",
          "All Drugs/Yellow (light)/Flake",
          "All Drugs/Purple (dark)",
          "All Drugs/Purple (light)/Liquid",
          "All Drugs/Pink (light)/Powder",
          "All Drugs/Orange (light)/Granules",
          "All Drugs/Brown (light)/Blotter paper (tab)",
          "All Drugs/Beige/Capsule",
          "All Drugs/Red (dark)",
          "All Drugs",
          "All Drugs/Green (dark)/Powder",
          "All Drugs/Yellow (dark)/Crystal",
          "All Drugs/Black/Tablet (pharmaceutical)",
          "All Drugs/Blue (light)/Powder",
          "All Drugs/Blue (light)/Organic",
          "All Drugs/Green/Chunk",
          "All Drugs/Green/Organic",
          "All Drugs/Colourless/Liquid",
          "All Drugs/Red/Pressed tablet",
          "All Drugs/Pink (dark)/Paste",
          "All Drugs/Other/Blotter paper (tab)",
          "All Drugs/Purple (light)/Powder",
          "All Drugs/Yellow (dark)/Chunk",
          "All Drugs/Blue (dark)/Tablet (pharmaceutical)",
          "All Drugs/Green (light)/Pressed tablet",
          "All Drugs/Grey (dark)/Blotter paper (tab)",
          "All Drugs/Blue (light)/Granules",
          "All Drugs/Beige/Granules",
          "All Drugs/Grey/Pebble",
          "All Drugs/Red (light)/Other",
          "All Drugs/Other",
          "All Drugs/Purple/Crystal",
          "All Drugs/Orange/Tablet (pharmaceutical)",
          "All Drugs/Purple/Blotter paper (tab)",
          "All Drugs/Pink/Paste",
          "All Drugs/Purple/Pressed tablet",
          "All Drugs/Orange/Residue",
          "All Drugs/Grey (dark)/Chunk",
          "All Drugs/Brown (light)/Granules",
          "All Drugs/Purple (dark)/Chunk",
          "All Drugs/Purple (dark)/Granules",
          "All Drugs/Purple/Powder",
          "All Drugs/Red/Capsule",
          "All Drugs/Green/Blotter paper (tab)",
          "All Drugs/Yellow/Granules",
          "All Drugs/Blue (light)/Pebble",
          "All Drugs/Brown/Paste",
          "All Drugs/Brown (dark)/Pebble",
          "All Drugs/Blue/Capsule",
          "All Drugs/Black/Paste",
          "All Drugs/Beige/Paste",
          "All Drugs/Yellow (dark)/Other",
          "All Drugs/Brown (dark)/Capsule",
          "All Drugs/Purple/Chunk",
          "All Drugs/White/Other",
          "All Drugs/Pink/Pebble",
          "All Drugs/Black/Other",
          "All Drugs/Yellow/Liquid",
          "All Drugs/Pink/Liquid",
          "All Drugs/Grey (dark)/Liquid",
          "All Drugs/Green (light)/Powder",
          "All Drugs/Yellow (dark)/Granules",
          "All Drugs/Green (light)/Pebble",
          "All Drugs/Orange (light)/Chunk",
          "All Drugs/White/Flake",
          "All Drugs/Colourless/Crystal",
          "All Drugs/Green (light)/Liquid",
          "All Drugs/Purple (light)/Paste",
          "All Drugs/Grey/Pressed tablet",
          "All Drugs/Yellow/Blotter paper (tab)",
          "All Drugs/Brown/Capsule",
          "All Drugs/Brown (light)/Chunk",
          "All Drugs/Orange/Pebble",
          "All Drugs/Yellow (light)",
          "All Drugs/Grey (light)/Blotter paper (tab)",
          "All Drugs/Brown (light)/Residue",
          "All Drugs/Blue/Flake",
          "All Drugs/Grey (light)/Capsule",
          "All Drugs/Purple (light)/Pebble",
          "All Drugs/Blue/Blotter paper (tab)",
          "All Drugs/Green/Flake",
          "All Drugs/Blue (light)/Chunk",
          "All Drugs/Purple (dark)/Pressed tablet",
          "All Drugs/Orange (light)/Liquid",
          "All Drugs/Pink/Capsule",
          "All Drugs/Red (light)/Flake",
          "All Drugs/Blue/Chunk",
          "All Drugs/Yellow/Flake",
          "All Drugs/Blue/Granules",
          "All Drugs/Blue (dark)/Granules",
          "All Drugs/Purple/Capsule",
          "All Drugs/Other/Powder",
          "All Drugs/Green (dark)/Granules",
          "All Drugs/Purple (dark)/Powder",
          "All Drugs/Blue (light)",
          "All Drugs/Purple (light)/Residue",
          "All Drugs/Blue (light)/Capsule",
          "All Drugs/Beige/Flake",
          "All Drugs/Green (dark)/Blotter paper (tab)",
          "All Drugs/Beige/Crystal",
          "All Drugs/Pink/Blotter paper (tab)",
          "All Drugs/Blue/Crystal",
          "All Drugs/White/Chunk",
          "All Drugs/Blue (dark)/Crystal",
          "All Drugs/Blue (light)/Tablet (pharmaceutical)",
          "All Drugs/Red/Chunk",
          "All Drugs/Orange (light)/Blotter paper (tab)",
          "All Drugs/Red (dark)/Blotter paper (tab)",
          "All Drugs/Yellow/Paste",
          "All Drugs/Yellow (light)/Residue",
          "All Drugs/Blue (dark)/Paste",
          "All Drugs/Green (light)/Crystal",
          "All Drugs/Pink (light)/Paste",
          "All Drugs/Grey/Liquid",
          "All Drugs/Red (dark)/Tablet (pharmaceutical)",
          "All Drugs/Yellow (dark)",
          "All Drugs/Grey (light)/Granules",
          "All Drugs/Purple/Tablet (pharmaceutical)",
          "All Drugs/Yellow (light)/Paste",
          "All Drugs/Pink (light)/Chunk",
          "All Drugs/Pink (dark)/Capsule",
          "All Drugs/Green (light)/Blotter paper (tab)",
          "All Drugs/Grey (dark)/Powder",
          "All Drugs/Blue (dark)/Liquid",
          "All Drugs/Purple/Flake",
          "All Drugs/Colourless",
          "All Drugs/Beige/Liquid",
          "All Drugs/Purple (light)/Chunk",
          "All Drugs/Yellow (dark)/Capsule",
          "All Drugs/Purple (dark)/Capsule",
          "All Drugs/Grey (light)/Pressed tablet",
          "All Drugs/Blue (dark)/Capsule",
          "All Drugs/Orange/Liquid",
          "All Drugs/Orange/Blotter paper (tab)",
          "All Drugs/Beige/Tablet (pharmaceutical)",
          "All Drugs/Yellow/Other",
          "All Drugs/Brown (light)/Capsule",
          "All Drugs/Green (dark)/Capsule",
          "All Drugs/Green/Residue",
          "All Drugs/Red (dark)/Crystal",
          "All Drugs/Pink (light)/Blotter paper (tab)",
          "All Drugs/Red/Blotter paper (tab)",
          "All Drugs/Other/Capsule",
          "All Drugs/Yellow/Powder",
          "All Drugs/Colourless/Other",
          "All Drugs/Other/Pebble",
          "All Drugs/Purple",
          "All Drugs/Brown (dark)/Organic",
          "All Drugs/Yellow/Pebble",
          "All Drugs/Black/Powder",
          "All Drugs/Brown/Blotter paper (tab)",
          "All Drugs/Orange/Crystal",
          "All Drugs/Red (light)/Tablet (pharmaceutical)",
          "All Drugs/Brown (dark)/Crystal",
          "All Drugs/Orange (light)/Capsule",
          "All Drugs/Black/Liquid",
          "All Drugs/Black/Pebble",
          "All Drugs/Orange (dark)/Pebble",
          "All Drugs/Grey/Paste",
          "All Drugs/Other/Chunk",
          "All Drugs/Pink/Chunk",
          "All Drugs/Green (light)/Residue",
          "All Drugs/Beige",
          "All Drugs/Purple (dark)/Crystal",
          "All Drugs/Yellow (light)/Capsule",
          "All Drugs/Beige/Pressed tablet",
          "All Drugs/Yellow (light)/Crystal",
          "All Drugs/Red (dark)/Granules",
          "All Drugs/Brown (dark)/Liquid",
          "All Drugs/Orange (dark)/Liquid",
          "All Drugs/Orange (light)/Flake",
          "All Drugs/Blue (dark)/Chunk",
          "All Drugs/Yellow (dark)/Liquid",
          "All Drugs/Orange/Capsule",
          "All Drugs/Red/Pebble",
          "All Drugs/Orange/Chunk",
          "All Drugs/Yellow/Capsule",
          "All Drugs/Pink (light)/Granules",
          "All Drugs/Blue (dark)/Blotter paper (tab)",
          "All Drugs/Beige/Powder",
          "All Drugs/Beige/Pebble",
          "All Drugs/Colourless/Residue",
          "All Drugs/Blue/Residue",
          "All Drugs/Pink/Pressed tablet",
          "All Drugs/Yellow/Residue",
          "All Drugs/Yellow (light)/Pressed tablet",
          "All Drugs/White/Liquid",
          "All Drugs/Red/Other",
          "All Drugs/Brown (light)/Other",
          "All Drugs/Green/Granules",
          "All Drugs/Orange (light)/Tablet (pharmaceutical)",
          "All Drugs/Orange/Powder",
          "All Drugs/Brown (dark)/Paste",
          "All Drugs/Blue/Pebble",
          "All Drugs/Green (dark)",
          "All Drugs/Brown (dark)/Granules",
          "All Drugs/Brown/Granules",
          "All Drugs/Yellow (dark)/Tablet (pharmaceutical)",
          "All Drugs/Orange/Organic",
          "All Drugs/Colourless/Pebble",
          "All Drugs/Green (dark)/Organic",
          "All Drugs/Black/Granules",
          "All Drugs/Green/Paste",
          "All Drugs/Blue (dark)",
          "All Drugs/White/Crystal",
          "All Drugs/Orange (dark)/Tablet (pharmaceutical)",
          "All Drugs/Beige/Residue",
          "All Drugs/Grey (dark)/Crystal",
          "All Drugs/Pink (light)",
          "All Drugs/Pink/Other",
          "All Drugs/White/Residue",
          "All Drugs/Red (light)/Crystal",
          "All Drugs/Blue (light)/Blotter paper (tab)",
          "All Drugs/Other/Granules",
          "All Drugs/Green/Pressed tablet",
          "All Drugs/Orange (light)/Powder",
          "All Drugs/Beige/Chunk",
          "All Drugs/Grey/Powder",
          "All Drugs/Green/Powder",
          "All Drugs/Pink (dark)/Pressed tablet",
          "All Drugs/Pink (dark)/Liquid",
          "All Drugs/Grey/Blotter paper (tab)",
          "All Drugs/Purple/Liquid",
          "All Drugs/Purple (light)/Pressed tablet",
          "All Drugs/Brown (light)/Powder",
          "All Drugs/Red/Liquid",
          "All Drugs/Colourless/Powder",
          "All Drugs/Brown/Pressed tablet",
          "All Drugs/Orange (dark)/Powder",
          "All Drugs/Pink/Residue",
          "All Drugs/Grey (light)",
          "All Drugs/Pink (light)/Liquid",
          "All Drugs/Brown (dark)/Chunk",
          "All Drugs/Grey (dark)",
          "All Drugs/Red/Tablet (pharmaceutical)",
          "All Drugs/Red/Powder",
          "All Drugs/Purple (dark)/Paste",
          "All Drugs/White/Paste",
          "All Drugs/Pink (light)/Tablet (pharmaceutical)",
          "All Drugs/Grey (light)/Tablet (pharmaceutical)",
          "All Drugs/Yellow (dark)/Powder",
          "All Drugs/Red (dark)/Pressed tablet",
          "All Drugs/Green (dark)/Pebble",
          "All Drugs/Brown/Residue",
          "All Drugs/Grey",
          "All Drugs/Purple (dark)/Pebble",
          "All Drugs/Red (light)/Pebble",
          "All Drugs/Other/Pressed tablet",
          "All Drugs/Grey (dark)/Pressed tablet",
          "All Drugs/Red",
          "All Drugs/Yellow",
          "All Drugs/Black/Pressed tablet",
          "All Drugs/Green/Tablet (pharmaceutical)",
          "All Drugs/Red (light)/Powder",
          "All Drugs/Black/Blotter paper (tab)",
          "All Drugs/Grey/Flake",
          "All Drugs/Pink (light)/Crystal",
          "All Drugs/Grey (dark)/Granules",
          "All Drugs/Green/Crystal",
          "All Drugs/Green (light)/Flake",
          "All Drugs/Grey (light)/Chunk",
          "All Drugs/Green (light)/Chunk",
          "All Drugs/Colourless/Chunk",
          "All Drugs/Brown/Other",
          "All Drugs/Blue/Paste",
          "All Drugs/Green (dark)/Flake",
          "All Drugs/White/Blotter paper (tab)",
          "All Drugs/Yellow (light)/Blotter paper (tab)",
          "All Drugs/Grey (light)/Liquid",
          "All Drugs/Purple (dark)/Liquid",
          "All Drugs/Pink (dark)/Granules",
          "All Drugs/Red (dark)/Powder",
          "All Drugs/Colourless/Blotter paper (tab)",
          "All Drugs/Red (dark)/Pebble",
          "All Drugs/Orange (dark)/Pressed tablet",
          "All Drugs/Purple (light)/Flake",
          "All Drugs/Yellow/Organic",
          "All Drugs/Purple (dark)/Residue",
          "All Drugs/Blue (dark)/Pressed tablet",
          "All Drugs/Brown/Tablet (pharmaceutical)",
          "All Drugs/Red (dark)/Liquid",
          "All Drugs/Grey/Chunk",
          "All Drugs/Blue (light)/Flake",
          "All Drugs/Green (dark)/Chunk",
          "All Drugs/Pink (light)/Residue",
          "All Drugs/Red (light)/Pressed tablet",
          "All Drugs/White/Pressed tablet",
          "All Drugs/Green (dark)/Crystal",
          "All Drugs/Brown (dark)/Flake",
          "All Drugs/Orange (dark)/Crystal",
          "All Drugs/Blue/Tablet (pharmaceutical)",
          "All Drugs/Yellow/Pressed tablet",
          "All Drugs/White",
          "All Drugs/Brown (light)/Flake",
          "All Drugs/Other/Crystal",
          "All Drugs/Grey (light)/Crystal",
          "All Drugs/Yellow (dark)/Residue",
          "All Drugs/Yellow/Crystal",
          "All Drugs/Black/Flake",
          "All Drugs/Brown/Flake",
          "All Drugs/Other/Residue",
          "All Drugs/Brown (dark)/Blotter paper (tab)",
          "All Drugs/Black/Residue",
          "All Drugs/Brown (light)/Crystal",
          "All Drugs/Blue (light)/Residue",
          "All Drugs/Grey (light)/Residue",
          "All Drugs/Grey/Residue",
          "All Drugs/Brown (dark)/Residue",
          "All Drugs/Purple (light)/Crystal",
          "All Drugs/Green (dark)/Residue",
          "All Drugs/Red/Crystal",
          "All Drugs/Pink (dark)/Residue",
          "All Drugs/Pink (dark)/Crystal",
          "All Drugs/Pink",
          "All Drugs/Brown/Crystal",
          "All Drugs/Blue",
          "All Drugs/Black/Chunk",
          "All Drugs/Brown",
          "All Drugs/Brown (dark)",
          "All Drugs/Brown (light)",
          "All Drugs/Red (light)/Capsule",
          "All Drugs/Green",
          "All Drugs/Brown/Chunk",
          "All Drugs/Pink (light)/Capsule",
          "All Drugs/Black/Capsule",
          "All Drugs/Grey/Capsule",
          "All Drugs/Green (light)/Capsule",
          "All Drugs/Green/Capsule",
          "All Drugs/Orange",
          "All Drugs/Orange (dark)",
          "All Drugs/Colourless/Capsule",
          "All Drugs/Green (light)",
          "All Drugs/Yellow (dark)/Blotter paper (tab)",
          "All Drugs/Yellow (light)/Tablet (pharmaceutical)",
          "All Drugs/Yellow/Tablet (pharmaceutical)",
          "All Drugs/Green (dark)/Tablet (pharmaceutical)",
          "All Drugs/Green (light)/Tablet (pharmaceutical)",
          "All Drugs/Pink (dark)",
          "All Drugs/Grey (dark)/Tablet (pharmaceutical)",
          "All Drugs/Blue (light)/Crystal",
          "All Drugs/Red (light)",
          "All Drugs/Black/Crystal",
          "All Drugs/Yellow/Chunk",
          "All Drugs/Red (light)/Chunk",
          "All Drugs/Pink/Tablet (pharmaceutical)",
          "All Drugs/Pink (dark)/Tablet (pharmaceutical)",
          "All Drugs/Red (dark)/Chunk",
          "All Drugs/Pink (dark)/Chunk",
          "All Drugs/Purple (dark)/Tablet (pharmaceutical)",
          "All Drugs/Purple (light)/Tablet (pharmaceutical)",
          "All Drugs/Orange (dark)/Chunk",
          "All Drugs/Purple (dark)/Blotter paper (tab)",
          "All Drugs/Brown (light)/Tablet (pharmaceutical)",
          "All Drugs/Grey/Tablet (pharmaceutical)",
          "All Drugs/Purple/Paste",
          "All Drugs/Other/Paste",
          "All Drugs/Green (light)/Other",
          "All Drugs/Orange (light)/Pebble",
          "All Drugs/Brown (dark)/Other",
          "All Drugs/Pink (dark)/Pebble",
          "All Drugs/Pink (light)/Pebble",
          "All Drugs/Blue/Other",
          "All Drugs/Purple/Organic",
          "All Drugs/Orange/Other",
          "All Drugs/Yellow (dark)/Pebble",
          "All Drugs/Yellow (light)/Liquid",
          "All Drugs/Blue/Powder",
          "All Drugs/Blue (dark)/Powder",
          "All Drugs/Colourless/Flake",
          "All Drugs/Brown/Powder",
          "All Drugs/Brown (dark)/Powder",
          "All Drugs/Green (dark)/Liquid",
          "All Drugs/Black/Organic",
          "All Drugs/Grey (dark)/Pebble",
          "All Drugs/Other/Other",
          "All Drugs/Pink (light)/Other",
          "All Drugs/Orange (light)/Paste",
          "All Drugs/Orange (dark)/Paste",
          "All Drugs/Red/Paste",
          "All Drugs/Red (dark)/Paste",
          "All Drugs/Red (light)/Paste",
          "All Drugs/Grey (light)/Paste",
          "All Drugs/Yellow (dark)/Paste",
          "All Drugs/Grey (dark)/Paste",
          "All Drugs/Green (light)/Paste",
          "All Drugs/Green (dark)/Paste",
          "All Drugs/Colourless/Paste",
          "All Drugs/Blue (dark)/Pebble",
          "All Drugs/Brown (light)/Paste",
          "All Drugs/Brown/Pebble",
          "All Drugs/Brown (light)/Pebble",
          "All Drugs/Green/Pebble",
          "All Drugs/Yellow (light)/Other",
          "All Drugs/Green/Liquid",
          "All Drugs/Brown (light)/Liquid",
          "All Drugs/Red (light)/Liquid",
          "All Drugs/Grey (light)/Powder",
          "All Drugs/Brown/Liquid",
          "All Drugs/Yellow (light)/Powder",
          "All Drugs/Grey/Granules",
          "All Drugs/Blue/Pressed tablet",
          "All Drugs/Blue (light)/Pressed tablet",
          "All Drugs/Green (light)/Granules",
          "All Drugs/Brown (dark)/Pressed tablet",
          "All Drugs/Brown (light)/Pressed tablet",
          "All Drugs/Colourless/Granules",
          "All Drugs/Green (dark)/Pressed tablet",
          "All Drugs/Yellow (dark)/Flake",
          "All Drugs/Red/Flake",
          "All Drugs/Pink (light)/Flake",
          "All Drugs/Orange/Pressed tablet",
          "All Drugs/Orange (light)/Pressed tablet",
          "All Drugs/Orange/Flake",
          "All Drugs/Grey (light)/Flake",
          "All Drugs/Pink (light)/Pressed tablet",
          "All Drugs/Grey (dark)/Flake",
          "All Drugs/Orange/Granules",
          "All Drugs/Orange (dark)/Granules",
          "All Drugs/Green/Other",
          "All Drugs/Red/Granules",
          "All Drugs/White/Powder",
          "All Drugs/Pink/Granules",
          "All Drugs/Blue (light)/Liquid",
          "All Drugs/Blue/Liquid",
          "All Drugs/Red (light)/Granules",
          "All Drugs/Purple/Granules",
          "All Drugs/Yellow (light)/Granules",
          "All Drugs/Pink (dark)/Powder",
          "All Drugs/White/Granules",
          "All Drugs/Purple (light)/Granules",
          "All Drugs/Grey/Crystal",
          "All Drugs/Pink/Flake",
          "All Drugs/Blue (light)/Paste",
          "All Drugs/Brown (light)/Organic",
          "All Drugs/Orange (light)/Crystal",
          "All Drugs/Pink/Powder",
          "All Drugs/Yellow (light)/Pebble",
          "All Drugs/Orange/Paste",
          "All Drugs/Purple (light)",
          "All Drugs/White/Capsule",
          "All Drugs/Purple/Residue",
          "All Drugs/Orange (light)",
          "All Drugs/Brown/Organic",
          "All Drugs/White/Pebble",
          "All Drugs/Purple/Pebble",
          "All Drugs/Red/Residue",
          "All Drugs/Blue (dark)/Flake",
          "All Drugs/Grey (light)/Pebble"
         ],
         "insidetextorientation": "radial",
         "labels": [
          "Flake",
          "Black",
          "Tablet (pharmaceutical)",
          "Chunk",
          "Crystal",
          "Pressed tablet",
          "Flake",
          "Purple (dark)",
          "Liquid",
          "Powder",
          "Granules",
          "Blotter paper (tab)",
          "Capsule",
          "Red (dark)",
          "All Drugs",
          "Powder",
          "Crystal",
          "Tablet (pharmaceutical)",
          "Powder",
          "Organic",
          "Chunk",
          "Organic",
          "Liquid",
          "Pressed tablet",
          "Paste",
          "Blotter paper (tab)",
          "Powder",
          "Chunk",
          "Tablet (pharmaceutical)",
          "Pressed tablet",
          "Blotter paper (tab)",
          "Granules",
          "Granules",
          "Pebble",
          "Other",
          "Other",
          "Crystal",
          "Tablet (pharmaceutical)",
          "Blotter paper (tab)",
          "Paste",
          "Pressed tablet",
          "Residue",
          "Chunk",
          "Granules",
          "Chunk",
          "Granules",
          "Powder",
          "Capsule",
          "Blotter paper (tab)",
          "Granules",
          "Pebble",
          "Paste",
          "Pebble",
          "Capsule",
          "Paste",
          "Paste",
          "Other",
          "Capsule",
          "Chunk",
          "Other",
          "Pebble",
          "Other",
          "Liquid",
          "Liquid",
          "Liquid",
          "Powder",
          "Granules",
          "Pebble",
          "Chunk",
          "Flake",
          "Crystal",
          "Liquid",
          "Paste",
          "Pressed tablet",
          "Blotter paper (tab)",
          "Capsule",
          "Chunk",
          "Pebble",
          "Yellow (light)",
          "Blotter paper (tab)",
          "Residue",
          "Flake",
          "Capsule",
          "Pebble",
          "Blotter paper (tab)",
          "Flake",
          "Chunk",
          "Pressed tablet",
          "Liquid",
          "Capsule",
          "Flake",
          "Chunk",
          "Flake",
          "Granules",
          "Granules",
          "Capsule",
          "Powder",
          "Granules",
          "Powder",
          "Blue (light)",
          "Residue",
          "Capsule",
          "Flake",
          "Blotter paper (tab)",
          "Crystal",
          "Blotter paper (tab)",
          "Crystal",
          "Chunk",
          "Crystal",
          "Tablet (pharmaceutical)",
          "Chunk",
          "Blotter paper (tab)",
          "Blotter paper (tab)",
          "Paste",
          "Residue",
          "Paste",
          "Crystal",
          "Paste",
          "Liquid",
          "Tablet (pharmaceutical)",
          "Yellow (dark)",
          "Granules",
          "Tablet (pharmaceutical)",
          "Paste",
          "Chunk",
          "Capsule",
          "Blotter paper (tab)",
          "Powder",
          "Liquid",
          "Flake",
          "Colourless",
          "Liquid",
          "Chunk",
          "Capsule",
          "Capsule",
          "Pressed tablet",
          "Capsule",
          "Liquid",
          "Blotter paper (tab)",
          "Tablet (pharmaceutical)",
          "Other",
          "Capsule",
          "Capsule",
          "Residue",
          "Crystal",
          "Blotter paper (tab)",
          "Blotter paper (tab)",
          "Capsule",
          "Powder",
          "Other",
          "Pebble",
          "Purple",
          "Organic",
          "Pebble",
          "Powder",
          "Blotter paper (tab)",
          "Crystal",
          "Tablet (pharmaceutical)",
          "Crystal",
          "Capsule",
          "Liquid",
          "Pebble",
          "Pebble",
          "Paste",
          "Chunk",
          "Chunk",
          "Residue",
          "Beige",
          "Crystal",
          "Capsule",
          "Pressed tablet",
          "Crystal",
          "Granules",
          "Liquid",
          "Liquid",
          "Flake",
          "Chunk",
          "Liquid",
          "Capsule",
          "Pebble",
          "Chunk",
          "Capsule",
          "Granules",
          "Blotter paper (tab)",
          "Powder",
          "Pebble",
          "Residue",
          "Residue",
          "Pressed tablet",
          "Residue",
          "Pressed tablet",
          "Liquid",
          "Other",
          "Other",
          "Granules",
          "Tablet (pharmaceutical)",
          "Powder",
          "Paste",
          "Pebble",
          "Green (dark)",
          "Granules",
          "Granules",
          "Tablet (pharmaceutical)",
          "Organic",
          "Pebble",
          "Organic",
          "Granules",
          "Paste",
          "Blue (dark)",
          "Crystal",
          "Tablet (pharmaceutical)",
          "Residue",
          "Crystal",
          "Pink (light)",
          "Other",
          "Residue",
          "Crystal",
          "Blotter paper (tab)",
          "Granules",
          "Pressed tablet",
          "Powder",
          "Chunk",
          "Powder",
          "Powder",
          "Pressed tablet",
          "Liquid",
          "Blotter paper (tab)",
          "Liquid",
          "Pressed tablet",
          "Powder",
          "Liquid",
          "Powder",
          "Pressed tablet",
          "Powder",
          "Residue",
          "Grey (light)",
          "Liquid",
          "Chunk",
          "Grey (dark)",
          "Tablet (pharmaceutical)",
          "Powder",
          "Paste",
          "Paste",
          "Tablet (pharmaceutical)",
          "Tablet (pharmaceutical)",
          "Powder",
          "Pressed tablet",
          "Pebble",
          "Residue",
          "Grey",
          "Pebble",
          "Pebble",
          "Pressed tablet",
          "Pressed tablet",
          "Red",
          "Yellow",
          "Pressed tablet",
          "Tablet (pharmaceutical)",
          "Powder",
          "Blotter paper (tab)",
          "Flake",
          "Crystal",
          "Granules",
          "Crystal",
          "Flake",
          "Chunk",
          "Chunk",
          "Chunk",
          "Other",
          "Paste",
          "Flake",
          "Blotter paper (tab)",
          "Blotter paper (tab)",
          "Liquid",
          "Liquid",
          "Granules",
          "Powder",
          "Blotter paper (tab)",
          "Pebble",
          "Pressed tablet",
          "Flake",
          "Organic",
          "Residue",
          "Pressed tablet",
          "Tablet (pharmaceutical)",
          "Liquid",
          "Chunk",
          "Flake",
          "Chunk",
          "Residue",
          "Pressed tablet",
          "Pressed tablet",
          "Crystal",
          "Flake",
          "Crystal",
          "Tablet (pharmaceutical)",
          "Pressed tablet",
          "White",
          "Flake",
          "Crystal",
          "Crystal",
          "Residue",
          "Crystal",
          "Flake",
          "Flake",
          "Residue",
          "Blotter paper (tab)",
          "Residue",
          "Crystal",
          "Residue",
          "Residue",
          "Residue",
          "Residue",
          "Crystal",
          "Residue",
          "Crystal",
          "Residue",
          "Crystal",
          "Pink",
          "Crystal",
          "Blue",
          "Chunk",
          "Brown",
          "Brown (dark)",
          "Brown (light)",
          "Capsule",
          "Green",
          "Chunk",
          "Capsule",
          "Capsule",
          "Capsule",
          "Capsule",
          "Capsule",
          "Orange",
          "Orange (dark)",
          "Capsule",
          "Green (light)",
          "Blotter paper (tab)",
          "Tablet (pharmaceutical)",
          "Tablet (pharmaceutical)",
          "Tablet (pharmaceutical)",
          "Tablet (pharmaceutical)",
          "Pink (dark)",
          "Tablet (pharmaceutical)",
          "Crystal",
          "Red (light)",
          "Crystal",
          "Chunk",
          "Chunk",
          "Tablet (pharmaceutical)",
          "Tablet (pharmaceutical)",
          "Chunk",
          "Chunk",
          "Tablet (pharmaceutical)",
          "Tablet (pharmaceutical)",
          "Chunk",
          "Blotter paper (tab)",
          "Tablet (pharmaceutical)",
          "Tablet (pharmaceutical)",
          "Paste",
          "Paste",
          "Other",
          "Pebble",
          "Other",
          "Pebble",
          "Pebble",
          "Other",
          "Organic",
          "Other",
          "Pebble",
          "Liquid",
          "Powder",
          "Powder",
          "Flake",
          "Powder",
          "Powder",
          "Liquid",
          "Organic",
          "Pebble",
          "Other",
          "Other",
          "Paste",
          "Paste",
          "Paste",
          "Paste",
          "Paste",
          "Paste",
          "Paste",
          "Paste",
          "Paste",
          "Paste",
          "Paste",
          "Pebble",
          "Paste",
          "Pebble",
          "Pebble",
          "Pebble",
          "Other",
          "Liquid",
          "Liquid",
          "Liquid",
          "Powder",
          "Liquid",
          "Powder",
          "Granules",
          "Pressed tablet",
          "Pressed tablet",
          "Granules",
          "Pressed tablet",
          "Pressed tablet",
          "Granules",
          "Pressed tablet",
          "Flake",
          "Flake",
          "Flake",
          "Pressed tablet",
          "Pressed tablet",
          "Flake",
          "Flake",
          "Pressed tablet",
          "Flake",
          "Granules",
          "Granules",
          "Other",
          "Granules",
          "Powder",
          "Granules",
          "Liquid",
          "Liquid",
          "Granules",
          "Granules",
          "Granules",
          "Powder",
          "Granules",
          "Granules",
          "Crystal",
          "Flake",
          "Paste",
          "Organic",
          "Crystal",
          "Powder",
          "Pebble",
          "Paste",
          "Purple (light)",
          "Capsule",
          "Residue",
          "Orange (light)",
          "Organic",
          "Pebble",
          "Pebble",
          "Residue",
          "Flake",
          "Pebble"
         ],
         "marker": {
          "colors": [
           "#301934",
           "#000000",
           "#FFFFFF",
           "#FFFFE0",
           "#FFC0CB",
           "#FFD700",
           "#FFFFE0",
           "#301934",
           "#E6E6FA",
           "#FFB6C1",
           "#FFA07A",
           "#C4A484",
           "Beige",
           "#8B0000",
           "#EF553B",
           "#006400",
           "#FFD700",
           "#000000",
           "#ADD8E6",
           "#ADD8E6",
           "Green",
           "Green",
           "#F8F8FF",
           "Red",
           "#FF1493",
           "#00cc96",
           "#E6E6FA",
           "#FFD700",
           "#00008B",
           "#90EE90",
           "#A9A9A9",
           "#ADD8E6",
           "Beige",
           "Grey",
           "#ab63fa",
           "#00cc96",
           "#A020F0",
           "Orange",
           "#A020F0",
           "#FFC0CB",
           "#A020F0",
           "Orange",
           "#A9A9A9",
           "#C4A484",
           "#301934",
           "#301934",
           "#A020F0",
           "Red",
           "Green",
           "Yellow",
           "#ADD8E6",
           "#964B00",
           "#654321",
           "#0000FF",
           "#000000",
           "Beige",
           "#FFD700",
           "#654321",
           "#A020F0",
           "#FFFFFF",
           "#FFC0CB",
           "#000000",
           "Yellow",
           "#FFC0CB",
           "#A9A9A9",
           "#90EE90",
           "#FFD700",
           "#90EE90",
           "#FFA07A",
           "#FFFFFF",
           "#F8F8FF",
           "#90EE90",
           "#E6E6FA",
           "Grey",
           "Yellow",
           "#964B00",
           "#C4A484",
           "Orange",
           "#FFFFE0",
           "#D3D3D3",
           "#C4A484",
           "#0000FF",
           "#D3D3D3",
           "#E6E6FA",
           "#0000FF",
           "Green",
           "#ADD8E6",
           "#301934",
           "#FFA07A",
           "#FFC0CB",
           "#ab63fa",
           "#0000FF",
           "Yellow",
           "#0000FF",
           "#00008B",
           "#A020F0",
           "#00cc96",
           "#006400",
           "#301934",
           "#ADD8E6",
           "#E6E6FA",
           "#ADD8E6",
           "Beige",
           "#006400",
           "Beige",
           "#FFC0CB",
           "#0000FF",
           "#FFFFFF",
           "#00008B",
           "#ADD8E6",
           "Red",
           "#FFA07A",
           "#8B0000",
           "Yellow",
           "#FFFFE0",
           "#00008B",
           "#90EE90",
           "#FFB6C1",
           "Grey",
           "#8B0000",
           "#FFD700",
           "#D3D3D3",
           "#A020F0",
           "#FFFFE0",
           "#FFB6C1",
           "#FF1493",
           "#90EE90",
           "#A9A9A9",
           "#00008B",
           "#A020F0",
           "#F8F8FF",
           "Beige",
           "#E6E6FA",
           "#FFD700",
           "#301934",
           "#D3D3D3",
           "#00008B",
           "Orange",
           "Orange",
           "Beige",
           "Yellow",
           "#C4A484",
           "#006400",
           "Green",
           "#8B0000",
           "#FFB6C1",
           "Red",
           "#00cc96",
           "Yellow",
           "#F8F8FF",
           "#00cc96",
           "#A020F0",
           "#654321",
           "Yellow",
           "#000000",
           "#964B00",
           "Orange",
           "#ab63fa",
           "#654321",
           "#FFA07A",
           "#000000",
           "#000000",
           "#FF8C00",
           "Grey",
           "#00cc96",
           "#FFC0CB",
           "#90EE90",
           "Beige",
           "#301934",
           "#FFFFE0",
           "Beige",
           "#FFFFE0",
           "#8B0000",
           "#654321",
           "#FF8C00",
           "#FFA07A",
           "#00008B",
           "#FFD700",
           "Orange",
           "Red",
           "Orange",
           "Yellow",
           "#FFB6C1",
           "#00008B",
           "Beige",
           "Beige",
           "#F8F8FF",
           "#0000FF",
           "#FFC0CB",
           "Yellow",
           "#FFFFE0",
           "#FFFFFF",
           "Red",
           "#C4A484",
           "Green",
           "#FFA07A",
           "Orange",
           "#654321",
           "#0000FF",
           "#006400",
           "#654321",
           "#964B00",
           "#FFD700",
           "Orange",
           "#F8F8FF",
           "#006400",
           "#000000",
           "Green",
           "#00008B",
           "#FFFFFF",
           "#FF8C00",
           "Beige",
           "#A9A9A9",
           "#FFB6C1",
           "#FFC0CB",
           "#FFFFFF",
           "#ab63fa",
           "#ADD8E6",
           "#00cc96",
           "Green",
           "#FFA07A",
           "Beige",
           "Grey",
           "Green",
           "#FF1493",
           "#FF1493",
           "Grey",
           "#A020F0",
           "#E6E6FA",
           "#C4A484",
           "Red",
           "#F8F8FF",
           "#964B00",
           "#FF8C00",
           "#FFC0CB",
           "#D3D3D3",
           "#FFB6C1",
           "#654321",
           "#A9A9A9",
           "Red",
           "Red",
           "#301934",
           "#FFFFFF",
           "#FFB6C1",
           "#D3D3D3",
           "#FFD700",
           "#8B0000",
           "#006400",
           "#964B00",
           "Grey",
           "#301934",
           "#ab63fa",
           "#00cc96",
           "#A9A9A9",
           "Red",
           "Yellow",
           "#000000",
           "Green",
           "#ab63fa",
           "#000000",
           "Grey",
           "#FFB6C1",
           "#A9A9A9",
           "Green",
           "#90EE90",
           "#D3D3D3",
           "#90EE90",
           "#F8F8FF",
           "#964B00",
           "#0000FF",
           "#006400",
           "#FFFFFF",
           "#FFFFE0",
           "#D3D3D3",
           "#301934",
           "#FF1493",
           "#8B0000",
           "#F8F8FF",
           "#8B0000",
           "#FF8C00",
           "#E6E6FA",
           "Yellow",
           "#301934",
           "#00008B",
           "#964B00",
           "#8B0000",
           "Grey",
           "#ADD8E6",
           "#006400",
           "#FFB6C1",
           "#ab63fa",
           "#FFFFFF",
           "#006400",
           "#654321",
           "#FF8C00",
           "#0000FF",
           "Yellow",
           "#FFFFFF",
           "#C4A484",
           "#00cc96",
           "#D3D3D3",
           "#FFD700",
           "Yellow",
           "#000000",
           "#964B00",
           "#00cc96",
           "#654321",
           "#000000",
           "#C4A484",
           "#ADD8E6",
           "#D3D3D3",
           "Grey",
           "#654321",
           "#E6E6FA",
           "#006400",
           "Red",
           "#FF1493",
           "#FF1493",
           "#FFC0CB",
           "#964B00",
           "#0000FF",
           "#000000",
           "#964B00",
           "#654321",
           "#C4A484",
           "#ab63fa",
           "Green",
           "#964B00",
           "#FFB6C1",
           "#000000",
           "Grey",
           "#90EE90",
           "Green",
           "Orange",
           "#FF8C00",
           "#F8F8FF",
           "#90EE90",
           "#FFD700",
           "#FFFFE0",
           "Yellow",
           "#006400",
           "#90EE90",
           "#FF1493",
           "#A9A9A9",
           "#ADD8E6",
           "#ab63fa",
           "#000000",
           "Yellow",
           "#ab63fa",
           "#FFC0CB",
           "#FF1493",
           "#8B0000",
           "#FF1493",
           "#301934",
           "#E6E6FA",
           "#FF8C00",
           "#301934",
           "#C4A484",
           "Grey",
           "#A020F0",
           "#00cc96",
           "#90EE90",
           "#FFA07A",
           "#654321",
           "#FF1493",
           "#FFB6C1",
           "#0000FF",
           "#A020F0",
           "Orange",
           "#FFD700",
           "#FFFFE0",
           "#0000FF",
           "#00008B",
           "#F8F8FF",
           "#964B00",
           "#654321",
           "#006400",
           "#000000",
           "#A9A9A9",
           "#00cc96",
           "#FFB6C1",
           "#FFA07A",
           "#FF8C00",
           "Red",
           "#8B0000",
           "#ab63fa",
           "#D3D3D3",
           "#FFD700",
           "#A9A9A9",
           "#90EE90",
           "#006400",
           "#F8F8FF",
           "#00008B",
           "#C4A484",
           "#964B00",
           "#C4A484",
           "Green",
           "#FFFFE0",
           "Green",
           "#C4A484",
           "#ab63fa",
           "#D3D3D3",
           "#964B00",
           "#FFFFE0",
           "Grey",
           "#0000FF",
           "#ADD8E6",
           "#90EE90",
           "#654321",
           "#C4A484",
           "#F8F8FF",
           "#006400",
           "#FFD700",
           "Red",
           "#FFB6C1",
           "Orange",
           "#FFA07A",
           "Orange",
           "#D3D3D3",
           "#FFB6C1",
           "#A9A9A9",
           "Orange",
           "#FF8C00",
           "Green",
           "Red",
           "#FFFFFF",
           "#FFC0CB",
           "#ADD8E6",
           "#0000FF",
           "#ab63fa",
           "#A020F0",
           "#FFFFE0",
           "#FF1493",
           "#FFFFFF",
           "#E6E6FA",
           "Grey",
           "#FFC0CB",
           "#ADD8E6",
           "#C4A484",
           "#FFA07A",
           "#FFC0CB",
           "#FFFFE0",
           "Orange",
           "#E6E6FA",
           "#FFFFFF",
           "#A020F0",
           "#FFA07A",
           "#964B00",
           "#FFFFFF",
           "#A020F0",
           "Red",
           "#00008B",
           "#D3D3D3"
          ],
          "line": {
           "width": 0
          }
         },
         "name": "",
         "parents": [
          "All Drugs/Purple (dark)",
          "All Drugs",
          "All Drugs/White",
          "All Drugs/Yellow (light)",
          "All Drugs/Pink",
          "All Drugs/Yellow (dark)",
          "All Drugs/Yellow (light)",
          "All Drugs",
          "All Drugs/Purple (light)",
          "All Drugs/Pink (light)",
          "All Drugs/Orange (light)",
          "All Drugs/Brown (light)",
          "All Drugs/Beige",
          "All Drugs",
          "",
          "All Drugs/Green (dark)",
          "All Drugs/Yellow (dark)",
          "All Drugs/Black",
          "All Drugs/Blue (light)",
          "All Drugs/Blue (light)",
          "All Drugs/Green",
          "All Drugs/Green",
          "All Drugs/Colourless",
          "All Drugs/Red",
          "All Drugs/Pink (dark)",
          "All Drugs/Other",
          "All Drugs/Purple (light)",
          "All Drugs/Yellow (dark)",
          "All Drugs/Blue (dark)",
          "All Drugs/Green (light)",
          "All Drugs/Grey (dark)",
          "All Drugs/Blue (light)",
          "All Drugs/Beige",
          "All Drugs/Grey",
          "All Drugs/Red (light)",
          "All Drugs",
          "All Drugs/Purple",
          "All Drugs/Orange",
          "All Drugs/Purple",
          "All Drugs/Pink",
          "All Drugs/Purple",
          "All Drugs/Orange",
          "All Drugs/Grey (dark)",
          "All Drugs/Brown (light)",
          "All Drugs/Purple (dark)",
          "All Drugs/Purple (dark)",
          "All Drugs/Purple",
          "All Drugs/Red",
          "All Drugs/Green",
          "All Drugs/Yellow",
          "All Drugs/Blue (light)",
          "All Drugs/Brown",
          "All Drugs/Brown (dark)",
          "All Drugs/Blue",
          "All Drugs/Black",
          "All Drugs/Beige",
          "All Drugs/Yellow (dark)",
          "All Drugs/Brown (dark)",
          "All Drugs/Purple",
          "All Drugs/White",
          "All Drugs/Pink",
          "All Drugs/Black",
          "All Drugs/Yellow",
          "All Drugs/Pink",
          "All Drugs/Grey (dark)",
          "All Drugs/Green (light)",
          "All Drugs/Yellow (dark)",
          "All Drugs/Green (light)",
          "All Drugs/Orange (light)",
          "All Drugs/White",
          "All Drugs/Colourless",
          "All Drugs/Green (light)",
          "All Drugs/Purple (light)",
          "All Drugs/Grey",
          "All Drugs/Yellow",
          "All Drugs/Brown",
          "All Drugs/Brown (light)",
          "All Drugs/Orange",
          "All Drugs",
          "All Drugs/Grey (light)",
          "All Drugs/Brown (light)",
          "All Drugs/Blue",
          "All Drugs/Grey (light)",
          "All Drugs/Purple (light)",
          "All Drugs/Blue",
          "All Drugs/Green",
          "All Drugs/Blue (light)",
          "All Drugs/Purple (dark)",
          "All Drugs/Orange (light)",
          "All Drugs/Pink",
          "All Drugs/Red (light)",
          "All Drugs/Blue",
          "All Drugs/Yellow",
          "All Drugs/Blue",
          "All Drugs/Blue (dark)",
          "All Drugs/Purple",
          "All Drugs/Other",
          "All Drugs/Green (dark)",
          "All Drugs/Purple (dark)",
          "All Drugs",
          "All Drugs/Purple (light)",
          "All Drugs/Blue (light)",
          "All Drugs/Beige",
          "All Drugs/Green (dark)",
          "All Drugs/Beige",
          "All Drugs/Pink",
          "All Drugs/Blue",
          "All Drugs/White",
          "All Drugs/Blue (dark)",
          "All Drugs/Blue (light)",
          "All Drugs/Red",
          "All Drugs/Orange (light)",
          "All Drugs/Red (dark)",
          "All Drugs/Yellow",
          "All Drugs/Yellow (light)",
          "All Drugs/Blue (dark)",
          "All Drugs/Green (light)",
          "All Drugs/Pink (light)",
          "All Drugs/Grey",
          "All Drugs/Red (dark)",
          "All Drugs",
          "All Drugs/Grey (light)",
          "All Drugs/Purple",
          "All Drugs/Yellow (light)",
          "All Drugs/Pink (light)",
          "All Drugs/Pink (dark)",
          "All Drugs/Green (light)",
          "All Drugs/Grey (dark)",
          "All Drugs/Blue (dark)",
          "All Drugs/Purple",
          "All Drugs",
          "All Drugs/Beige",
          "All Drugs/Purple (light)",
          "All Drugs/Yellow (dark)",
          "All Drugs/Purple (dark)",
          "All Drugs/Grey (light)",
          "All Drugs/Blue (dark)",
          "All Drugs/Orange",
          "All Drugs/Orange",
          "All Drugs/Beige",
          "All Drugs/Yellow",
          "All Drugs/Brown (light)",
          "All Drugs/Green (dark)",
          "All Drugs/Green",
          "All Drugs/Red (dark)",
          "All Drugs/Pink (light)",
          "All Drugs/Red",
          "All Drugs/Other",
          "All Drugs/Yellow",
          "All Drugs/Colourless",
          "All Drugs/Other",
          "All Drugs",
          "All Drugs/Brown (dark)",
          "All Drugs/Yellow",
          "All Drugs/Black",
          "All Drugs/Brown",
          "All Drugs/Orange",
          "All Drugs/Red (light)",
          "All Drugs/Brown (dark)",
          "All Drugs/Orange (light)",
          "All Drugs/Black",
          "All Drugs/Black",
          "All Drugs/Orange (dark)",
          "All Drugs/Grey",
          "All Drugs/Other",
          "All Drugs/Pink",
          "All Drugs/Green (light)",
          "All Drugs",
          "All Drugs/Purple (dark)",
          "All Drugs/Yellow (light)",
          "All Drugs/Beige",
          "All Drugs/Yellow (light)",
          "All Drugs/Red (dark)",
          "All Drugs/Brown (dark)",
          "All Drugs/Orange (dark)",
          "All Drugs/Orange (light)",
          "All Drugs/Blue (dark)",
          "All Drugs/Yellow (dark)",
          "All Drugs/Orange",
          "All Drugs/Red",
          "All Drugs/Orange",
          "All Drugs/Yellow",
          "All Drugs/Pink (light)",
          "All Drugs/Blue (dark)",
          "All Drugs/Beige",
          "All Drugs/Beige",
          "All Drugs/Colourless",
          "All Drugs/Blue",
          "All Drugs/Pink",
          "All Drugs/Yellow",
          "All Drugs/Yellow (light)",
          "All Drugs/White",
          "All Drugs/Red",
          "All Drugs/Brown (light)",
          "All Drugs/Green",
          "All Drugs/Orange (light)",
          "All Drugs/Orange",
          "All Drugs/Brown (dark)",
          "All Drugs/Blue",
          "All Drugs",
          "All Drugs/Brown (dark)",
          "All Drugs/Brown",
          "All Drugs/Yellow (dark)",
          "All Drugs/Orange",
          "All Drugs/Colourless",
          "All Drugs/Green (dark)",
          "All Drugs/Black",
          "All Drugs/Green",
          "All Drugs",
          "All Drugs/White",
          "All Drugs/Orange (dark)",
          "All Drugs/Beige",
          "All Drugs/Grey (dark)",
          "All Drugs",
          "All Drugs/Pink",
          "All Drugs/White",
          "All Drugs/Red (light)",
          "All Drugs/Blue (light)",
          "All Drugs/Other",
          "All Drugs/Green",
          "All Drugs/Orange (light)",
          "All Drugs/Beige",
          "All Drugs/Grey",
          "All Drugs/Green",
          "All Drugs/Pink (dark)",
          "All Drugs/Pink (dark)",
          "All Drugs/Grey",
          "All Drugs/Purple",
          "All Drugs/Purple (light)",
          "All Drugs/Brown (light)",
          "All Drugs/Red",
          "All Drugs/Colourless",
          "All Drugs/Brown",
          "All Drugs/Orange (dark)",
          "All Drugs/Pink",
          "All Drugs",
          "All Drugs/Pink (light)",
          "All Drugs/Brown (dark)",
          "All Drugs",
          "All Drugs/Red",
          "All Drugs/Red",
          "All Drugs/Purple (dark)",
          "All Drugs/White",
          "All Drugs/Pink (light)",
          "All Drugs/Grey (light)",
          "All Drugs/Yellow (dark)",
          "All Drugs/Red (dark)",
          "All Drugs/Green (dark)",
          "All Drugs/Brown",
          "All Drugs",
          "All Drugs/Purple (dark)",
          "All Drugs/Red (light)",
          "All Drugs/Other",
          "All Drugs/Grey (dark)",
          "All Drugs",
          "All Drugs",
          "All Drugs/Black",
          "All Drugs/Green",
          "All Drugs/Red (light)",
          "All Drugs/Black",
          "All Drugs/Grey",
          "All Drugs/Pink (light)",
          "All Drugs/Grey (dark)",
          "All Drugs/Green",
          "All Drugs/Green (light)",
          "All Drugs/Grey (light)",
          "All Drugs/Green (light)",
          "All Drugs/Colourless",
          "All Drugs/Brown",
          "All Drugs/Blue",
          "All Drugs/Green (dark)",
          "All Drugs/White",
          "All Drugs/Yellow (light)",
          "All Drugs/Grey (light)",
          "All Drugs/Purple (dark)",
          "All Drugs/Pink (dark)",
          "All Drugs/Red (dark)",
          "All Drugs/Colourless",
          "All Drugs/Red (dark)",
          "All Drugs/Orange (dark)",
          "All Drugs/Purple (light)",
          "All Drugs/Yellow",
          "All Drugs/Purple (dark)",
          "All Drugs/Blue (dark)",
          "All Drugs/Brown",
          "All Drugs/Red (dark)",
          "All Drugs/Grey",
          "All Drugs/Blue (light)",
          "All Drugs/Green (dark)",
          "All Drugs/Pink (light)",
          "All Drugs/Red (light)",
          "All Drugs/White",
          "All Drugs/Green (dark)",
          "All Drugs/Brown (dark)",
          "All Drugs/Orange (dark)",
          "All Drugs/Blue",
          "All Drugs/Yellow",
          "All Drugs",
          "All Drugs/Brown (light)",
          "All Drugs/Other",
          "All Drugs/Grey (light)",
          "All Drugs/Yellow (dark)",
          "All Drugs/Yellow",
          "All Drugs/Black",
          "All Drugs/Brown",
          "All Drugs/Other",
          "All Drugs/Brown (dark)",
          "All Drugs/Black",
          "All Drugs/Brown (light)",
          "All Drugs/Blue (light)",
          "All Drugs/Grey (light)",
          "All Drugs/Grey",
          "All Drugs/Brown (dark)",
          "All Drugs/Purple (light)",
          "All Drugs/Green (dark)",
          "All Drugs/Red",
          "All Drugs/Pink (dark)",
          "All Drugs/Pink (dark)",
          "All Drugs",
          "All Drugs/Brown",
          "All Drugs",
          "All Drugs/Black",
          "All Drugs",
          "All Drugs",
          "All Drugs",
          "All Drugs/Red (light)",
          "All Drugs",
          "All Drugs/Brown",
          "All Drugs/Pink (light)",
          "All Drugs/Black",
          "All Drugs/Grey",
          "All Drugs/Green (light)",
          "All Drugs/Green",
          "All Drugs",
          "All Drugs",
          "All Drugs/Colourless",
          "All Drugs",
          "All Drugs/Yellow (dark)",
          "All Drugs/Yellow (light)",
          "All Drugs/Yellow",
          "All Drugs/Green (dark)",
          "All Drugs/Green (light)",
          "All Drugs",
          "All Drugs/Grey (dark)",
          "All Drugs/Blue (light)",
          "All Drugs",
          "All Drugs/Black",
          "All Drugs/Yellow",
          "All Drugs/Red (light)",
          "All Drugs/Pink",
          "All Drugs/Pink (dark)",
          "All Drugs/Red (dark)",
          "All Drugs/Pink (dark)",
          "All Drugs/Purple (dark)",
          "All Drugs/Purple (light)",
          "All Drugs/Orange (dark)",
          "All Drugs/Purple (dark)",
          "All Drugs/Brown (light)",
          "All Drugs/Grey",
          "All Drugs/Purple",
          "All Drugs/Other",
          "All Drugs/Green (light)",
          "All Drugs/Orange (light)",
          "All Drugs/Brown (dark)",
          "All Drugs/Pink (dark)",
          "All Drugs/Pink (light)",
          "All Drugs/Blue",
          "All Drugs/Purple",
          "All Drugs/Orange",
          "All Drugs/Yellow (dark)",
          "All Drugs/Yellow (light)",
          "All Drugs/Blue",
          "All Drugs/Blue (dark)",
          "All Drugs/Colourless",
          "All Drugs/Brown",
          "All Drugs/Brown (dark)",
          "All Drugs/Green (dark)",
          "All Drugs/Black",
          "All Drugs/Grey (dark)",
          "All Drugs/Other",
          "All Drugs/Pink (light)",
          "All Drugs/Orange (light)",
          "All Drugs/Orange (dark)",
          "All Drugs/Red",
          "All Drugs/Red (dark)",
          "All Drugs/Red (light)",
          "All Drugs/Grey (light)",
          "All Drugs/Yellow (dark)",
          "All Drugs/Grey (dark)",
          "All Drugs/Green (light)",
          "All Drugs/Green (dark)",
          "All Drugs/Colourless",
          "All Drugs/Blue (dark)",
          "All Drugs/Brown (light)",
          "All Drugs/Brown",
          "All Drugs/Brown (light)",
          "All Drugs/Green",
          "All Drugs/Yellow (light)",
          "All Drugs/Green",
          "All Drugs/Brown (light)",
          "All Drugs/Red (light)",
          "All Drugs/Grey (light)",
          "All Drugs/Brown",
          "All Drugs/Yellow (light)",
          "All Drugs/Grey",
          "All Drugs/Blue",
          "All Drugs/Blue (light)",
          "All Drugs/Green (light)",
          "All Drugs/Brown (dark)",
          "All Drugs/Brown (light)",
          "All Drugs/Colourless",
          "All Drugs/Green (dark)",
          "All Drugs/Yellow (dark)",
          "All Drugs/Red",
          "All Drugs/Pink (light)",
          "All Drugs/Orange",
          "All Drugs/Orange (light)",
          "All Drugs/Orange",
          "All Drugs/Grey (light)",
          "All Drugs/Pink (light)",
          "All Drugs/Grey (dark)",
          "All Drugs/Orange",
          "All Drugs/Orange (dark)",
          "All Drugs/Green",
          "All Drugs/Red",
          "All Drugs/White",
          "All Drugs/Pink",
          "All Drugs/Blue (light)",
          "All Drugs/Blue",
          "All Drugs/Red (light)",
          "All Drugs/Purple",
          "All Drugs/Yellow (light)",
          "All Drugs/Pink (dark)",
          "All Drugs/White",
          "All Drugs/Purple (light)",
          "All Drugs/Grey",
          "All Drugs/Pink",
          "All Drugs/Blue (light)",
          "All Drugs/Brown (light)",
          "All Drugs/Orange (light)",
          "All Drugs/Pink",
          "All Drugs/Yellow (light)",
          "All Drugs/Orange",
          "All Drugs",
          "All Drugs/White",
          "All Drugs/Purple",
          "All Drugs",
          "All Drugs/Brown",
          "All Drugs/White",
          "All Drugs/Purple",
          "All Drugs/Red",
          "All Drugs/Blue (dark)",
          "All Drugs/Grey (light)"
         ],
         "type": "sunburst",
         "values": [
          3,
          566,
          1620,
          231,
          160,
          5,
          19,
          877,
          4,
          292,
          67,
          25,
          11,
          151,
          62555,
          19,
          11,
          3,
          109,
          2,
          492,
          18,
          646,
          53,
          7,
          30,
          209,
          61,
          2,
          82,
          1,
          168,
          156,
          319,
          1,
          115,
          544,
          91,
          30,
          16,
          23,
          5,
          48,
          683,
          295,
          113,
          287,
          8,
          44,
          295,
          215,
          114,
          106,
          18,
          40,
          7,
          1,
          3,
          783,
          5,
          545,
          4,
          44,
          24,
          2,
          109,
          62,
          279,
          109,
          337,
          4491,
          6,
          8,
          19,
          43,
          7,
          829,
          189,
          1847,
          1,
          31,
          2,
          1,
          325,
          57,
          4,
          228,
          7,
          6,
          5,
          1,
          257,
          17,
          198,
          40,
          1,
          6,
          85,
          32,
          1023,
          5,
          2,
          12,
          5,
          43,
          5,
          42,
          2685,
          4,
          99,
          146,
          1,
          2,
          48,
          3,
          8,
          48,
          3,
          2,
          2,
          282,
          70,
          6,
          21,
          162,
          1,
          8,
          18,
          2,
          13,
          5242,
          4,
          322,
          2,
          1,
          8,
          2,
          13,
          36,
          3,
          2,
          5,
          2,
          13,
          4,
          2,
          53,
          6,
          465,
          3,
          9,
          3468,
          5,
          228,
          25,
          13,
          36,
          3,
          60,
          2,
          8,
          111,
          11,
          5,
          18,
          308,
          3,
          1011,
          77,
          5,
          3,
          415,
          20,
          12,
          2,
          2,
          101,
          12,
          13,
          108,
          241,
          4,
          133,
          11,
          216,
          138,
          23,
          14,
          79,
          9,
          49,
          5,
          1,
          1,
          285,
          24,
          152,
          57,
          381,
          643,
          96,
          646,
          12,
          2,
          2,
          3,
          85,
          20,
          298,
          3767,
          2,
          24,
          39,
          1019,
          2,
          79,
          4,
          5,
          36,
          99,
          204,
          394,
          249,
          130,
          11,
          5,
          4,
          19,
          18,
          1447,
          26,
          5,
          8,
          10,
          25,
          656,
          5,
          293,
          215,
          22,
          27,
          15,
          59,
          14,
          4,
          64,
          8,
          298,
          100,
          1305,
          321,
          31,
          1,
          3,
          571,
          1908,
          2,
          116,
          11,
          39,
          2,
          204,
          36,
          52,
          7,
          93,
          381,
          25,
          5,
          13,
          1,
          99,
          4,
          1,
          3,
          50,
          10,
          2,
          49,
          4,
          9,
          1,
          2,
          17,
          3,
          1,
          166,
          6,
          157,
          7,
          8,
          938,
          26,
          10,
          5,
          150,
          113,
          22207,
          26,
          3,
          236,
          1,
          164,
          6,
          35,
          2,
          3,
          71,
          855,
          5,
          4,
          6,
          29,
          313,
          1,
          9,
          4,
          16,
          1862,
          532,
          1421,
          129,
          3542,
          735,
          4654,
          2,
          2159,
          791,
          1,
          2,
          5,
          3,
          3,
          1110,
          79,
          3,
          1168,
          1,
          37,
          129,
          11,
          88,
          279,
          1,
          63,
          156,
          40,
          346,
          67,
          12,
          6,
          50,
          79,
          1,
          2,
          23,
          7,
          12,
          7,
          34,
          1,
          1,
          87,
          2,
          62,
          167,
          4,
          1,
          2,
          35,
          58,
          107,
          24,
          9,
          586,
          58,
          2,
          1,
          65,
          3,
          1,
          7,
          1,
          9,
          5,
          2,
          1,
          13,
          1,
          5,
          16,
          5,
          85,
          34,
          653,
          661,
          865,
          1,
          15,
          11,
          1,
          170,
          35,
          612,
          148,
          171,
          104,
          148,
          1,
          31,
          28,
          17,
          2,
          3,
          7,
          120,
          51,
          1,
          4,
          21,
          1,
          163,
          21,
          3,
          94,
          9487,
          341,
          10,
          7,
          25,
          529,
          238,
          38,
          2107,
          161,
          373,
          6,
          7,
          3,
          50,
          334,
          154,
          46,
          1376,
          35,
          28,
          610,
          14,
          984,
          1170,
          12,
          2,
          63
         ]
        }
       ],
       "layout": {
        "legend": {
         "tracegroupgap": 0
        },
        "margin": {
         "b": 0,
         "l": 0,
         "r": 0,
         "t": 0
        },
        "template": {
         "data": {
          "bar": [
           {
            "error_x": {
             "color": "#2a3f5f"
            },
            "error_y": {
             "color": "#2a3f5f"
            },
            "marker": {
             "line": {
              "color": "#E5ECF6",
              "width": 0.5
             },
             "pattern": {
              "fillmode": "overlay",
              "size": 10,
              "solidity": 0.2
             }
            },
            "type": "bar"
           }
          ],
          "barpolar": [
           {
            "marker": {
             "line": {
              "color": "#E5ECF6",
              "width": 0.5
             },
             "pattern": {
              "fillmode": "overlay",
              "size": 10,
              "solidity": 0.2
             }
            },
            "type": "barpolar"
           }
          ],
          "carpet": [
           {
            "aaxis": {
             "endlinecolor": "#2a3f5f",
             "gridcolor": "white",
             "linecolor": "white",
             "minorgridcolor": "white",
             "startlinecolor": "#2a3f5f"
            },
            "baxis": {
             "endlinecolor": "#2a3f5f",
             "gridcolor": "white",
             "linecolor": "white",
             "minorgridcolor": "white",
             "startlinecolor": "#2a3f5f"
            },
            "type": "carpet"
           }
          ],
          "choropleth": [
           {
            "colorbar": {
             "outlinewidth": 0,
             "ticks": ""
            },
            "type": "choropleth"
           }
          ],
          "contour": [
           {
            "colorbar": {
             "outlinewidth": 0,
             "ticks": ""
            },
            "colorscale": [
             [
              0,
              "#0d0887"
             ],
             [
              0.1111111111111111,
              "#46039f"
             ],
             [
              0.2222222222222222,
              "#7201a8"
             ],
             [
              0.3333333333333333,
              "#9c179e"
             ],
             [
              0.4444444444444444,
              "#bd3786"
             ],
             [
              0.5555555555555556,
              "#d8576b"
             ],
             [
              0.6666666666666666,
              "#ed7953"
             ],
             [
              0.7777777777777778,
              "#fb9f3a"
             ],
             [
              0.8888888888888888,
              "#fdca26"
             ],
             [
              1,
              "#f0f921"
             ]
            ],
            "type": "contour"
           }
          ],
          "contourcarpet": [
           {
            "colorbar": {
             "outlinewidth": 0,
             "ticks": ""
            },
            "type": "contourcarpet"
           }
          ],
          "heatmap": [
           {
            "colorbar": {
             "outlinewidth": 0,
             "ticks": ""
            },
            "colorscale": [
             [
              0,
              "#0d0887"
             ],
             [
              0.1111111111111111,
              "#46039f"
             ],
             [
              0.2222222222222222,
              "#7201a8"
             ],
             [
              0.3333333333333333,
              "#9c179e"
             ],
             [
              0.4444444444444444,
              "#bd3786"
             ],
             [
              0.5555555555555556,
              "#d8576b"
             ],
             [
              0.6666666666666666,
              "#ed7953"
             ],
             [
              0.7777777777777778,
              "#fb9f3a"
             ],
             [
              0.8888888888888888,
              "#fdca26"
             ],
             [
              1,
              "#f0f921"
             ]
            ],
            "type": "heatmap"
           }
          ],
          "heatmapgl": [
           {
            "colorbar": {
             "outlinewidth": 0,
             "ticks": ""
            },
            "colorscale": [
             [
              0,
              "#0d0887"
             ],
             [
              0.1111111111111111,
              "#46039f"
             ],
             [
              0.2222222222222222,
              "#7201a8"
             ],
             [
              0.3333333333333333,
              "#9c179e"
             ],
             [
              0.4444444444444444,
              "#bd3786"
             ],
             [
              0.5555555555555556,
              "#d8576b"
             ],
             [
              0.6666666666666666,
              "#ed7953"
             ],
             [
              0.7777777777777778,
              "#fb9f3a"
             ],
             [
              0.8888888888888888,
              "#fdca26"
             ],
             [
              1,
              "#f0f921"
             ]
            ],
            "type": "heatmapgl"
           }
          ],
          "histogram": [
           {
            "marker": {
             "pattern": {
              "fillmode": "overlay",
              "size": 10,
              "solidity": 0.2
             }
            },
            "type": "histogram"
           }
          ],
          "histogram2d": [
           {
            "colorbar": {
             "outlinewidth": 0,
             "ticks": ""
            },
            "colorscale": [
             [
              0,
              "#0d0887"
             ],
             [
              0.1111111111111111,
              "#46039f"
             ],
             [
              0.2222222222222222,
              "#7201a8"
             ],
             [
              0.3333333333333333,
              "#9c179e"
             ],
             [
              0.4444444444444444,
              "#bd3786"
             ],
             [
              0.5555555555555556,
              "#d8576b"
             ],
             [
              0.6666666666666666,
              "#ed7953"
             ],
             [
              0.7777777777777778,
              "#fb9f3a"
             ],
             [
              0.8888888888888888,
              "#fdca26"
             ],
             [
              1,
              "#f0f921"
             ]
            ],
            "type": "histogram2d"
           }
          ],
          "histogram2dcontour": [
           {
            "colorbar": {
             "outlinewidth": 0,
             "ticks": ""
            },
            "colorscale": [
             [
              0,
              "#0d0887"
             ],
             [
              0.1111111111111111,
              "#46039f"
             ],
             [
              0.2222222222222222,
              "#7201a8"
             ],
             [
              0.3333333333333333,
              "#9c179e"
             ],
             [
              0.4444444444444444,
              "#bd3786"
             ],
             [
              0.5555555555555556,
              "#d8576b"
             ],
             [
              0.6666666666666666,
              "#ed7953"
             ],
             [
              0.7777777777777778,
              "#fb9f3a"
             ],
             [
              0.8888888888888888,
              "#fdca26"
             ],
             [
              1,
              "#f0f921"
             ]
            ],
            "type": "histogram2dcontour"
           }
          ],
          "mesh3d": [
           {
            "colorbar": {
             "outlinewidth": 0,
             "ticks": ""
            },
            "type": "mesh3d"
           }
          ],
          "parcoords": [
           {
            "line": {
             "colorbar": {
              "outlinewidth": 0,
              "ticks": ""
             }
            },
            "type": "parcoords"
           }
          ],
          "pie": [
           {
            "automargin": true,
            "type": "pie"
           }
          ],
          "scatter": [
           {
            "fillpattern": {
             "fillmode": "overlay",
             "size": 10,
             "solidity": 0.2
            },
            "type": "scatter"
           }
          ],
          "scatter3d": [
           {
            "line": {
             "colorbar": {
              "outlinewidth": 0,
              "ticks": ""
             }
            },
            "marker": {
             "colorbar": {
              "outlinewidth": 0,
              "ticks": ""
             }
            },
            "type": "scatter3d"
           }
          ],
          "scattercarpet": [
           {
            "marker": {
             "colorbar": {
              "outlinewidth": 0,
              "ticks": ""
             }
            },
            "type": "scattercarpet"
           }
          ],
          "scattergeo": [
           {
            "marker": {
             "colorbar": {
              "outlinewidth": 0,
              "ticks": ""
             }
            },
            "type": "scattergeo"
           }
          ],
          "scattergl": [
           {
            "marker": {
             "colorbar": {
              "outlinewidth": 0,
              "ticks": ""
             }
            },
            "type": "scattergl"
           }
          ],
          "scattermapbox": [
           {
            "marker": {
             "colorbar": {
              "outlinewidth": 0,
              "ticks": ""
             }
            },
            "type": "scattermapbox"
           }
          ],
          "scatterpolar": [
           {
            "marker": {
             "colorbar": {
              "outlinewidth": 0,
              "ticks": ""
             }
            },
            "type": "scatterpolar"
           }
          ],
          "scatterpolargl": [
           {
            "marker": {
             "colorbar": {
              "outlinewidth": 0,
              "ticks": ""
             }
            },
            "type": "scatterpolargl"
           }
          ],
          "scatterternary": [
           {
            "marker": {
             "colorbar": {
              "outlinewidth": 0,
              "ticks": ""
             }
            },
            "type": "scatterternary"
           }
          ],
          "surface": [
           {
            "colorbar": {
             "outlinewidth": 0,
             "ticks": ""
            },
            "colorscale": [
             [
              0,
              "#0d0887"
             ],
             [
              0.1111111111111111,
              "#46039f"
             ],
             [
              0.2222222222222222,
              "#7201a8"
             ],
             [
              0.3333333333333333,
              "#9c179e"
             ],
             [
              0.4444444444444444,
              "#bd3786"
             ],
             [
              0.5555555555555556,
              "#d8576b"
             ],
             [
              0.6666666666666666,
              "#ed7953"
             ],
             [
              0.7777777777777778,
              "#fb9f3a"
             ],
             [
              0.8888888888888888,
              "#fdca26"
             ],
             [
              1,
              "#f0f921"
             ]
            ],
            "type": "surface"
           }
          ],
          "table": [
           {
            "cells": {
             "fill": {
              "color": "#EBF0F8"
             },
             "line": {
              "color": "white"
             }
            },
            "header": {
             "fill": {
              "color": "#C8D4E3"
             },
             "line": {
              "color": "white"
             }
            },
            "type": "table"
           }
          ]
         },
         "layout": {
          "annotationdefaults": {
           "arrowcolor": "#2a3f5f",
           "arrowhead": 0,
           "arrowwidth": 1
          },
          "autotypenumbers": "strict",
          "coloraxis": {
           "colorbar": {
            "outlinewidth": 0,
            "ticks": ""
           }
          },
          "colorscale": {
           "diverging": [
            [
             0,
             "#8e0152"
            ],
            [
             0.1,
             "#c51b7d"
            ],
            [
             0.2,
             "#de77ae"
            ],
            [
             0.3,
             "#f1b6da"
            ],
            [
             0.4,
             "#fde0ef"
            ],
            [
             0.5,
             "#f7f7f7"
            ],
            [
             0.6,
             "#e6f5d0"
            ],
            [
             0.7,
             "#b8e186"
            ],
            [
             0.8,
             "#7fbc41"
            ],
            [
             0.9,
             "#4d9221"
            ],
            [
             1,
             "#276419"
            ]
           ],
           "sequential": [
            [
             0,
             "#0d0887"
            ],
            [
             0.1111111111111111,
             "#46039f"
            ],
            [
             0.2222222222222222,
             "#7201a8"
            ],
            [
             0.3333333333333333,
             "#9c179e"
            ],
            [
             0.4444444444444444,
             "#bd3786"
            ],
            [
             0.5555555555555556,
             "#d8576b"
            ],
            [
             0.6666666666666666,
             "#ed7953"
            ],
            [
             0.7777777777777778,
             "#fb9f3a"
            ],
            [
             0.8888888888888888,
             "#fdca26"
            ],
            [
             1,
             "#f0f921"
            ]
           ],
           "sequentialminus": [
            [
             0,
             "#0d0887"
            ],
            [
             0.1111111111111111,
             "#46039f"
            ],
            [
             0.2222222222222222,
             "#7201a8"
            ],
            [
             0.3333333333333333,
             "#9c179e"
            ],
            [
             0.4444444444444444,
             "#bd3786"
            ],
            [
             0.5555555555555556,
             "#d8576b"
            ],
            [
             0.6666666666666666,
             "#ed7953"
            ],
            [
             0.7777777777777778,
             "#fb9f3a"
            ],
            [
             0.8888888888888888,
             "#fdca26"
            ],
            [
             1,
             "#f0f921"
            ]
           ]
          },
          "colorway": [
           "#636efa",
           "#EF553B",
           "#00cc96",
           "#ab63fa",
           "#FFA15A",
           "#19d3f3",
           "#FF6692",
           "#B6E880",
           "#FF97FF",
           "#FECB52"
          ],
          "font": {
           "color": "#2a3f5f"
          },
          "geo": {
           "bgcolor": "white",
           "lakecolor": "white",
           "landcolor": "#E5ECF6",
           "showlakes": true,
           "showland": true,
           "subunitcolor": "white"
          },
          "hoverlabel": {
           "align": "left"
          },
          "hovermode": "closest",
          "mapbox": {
           "style": "light"
          },
          "paper_bgcolor": "white",
          "plot_bgcolor": "#E5ECF6",
          "polar": {
           "angularaxis": {
            "gridcolor": "white",
            "linecolor": "white",
            "ticks": ""
           },
           "bgcolor": "#E5ECF6",
           "radialaxis": {
            "gridcolor": "white",
            "linecolor": "white",
            "ticks": ""
           }
          },
          "scene": {
           "xaxis": {
            "backgroundcolor": "#E5ECF6",
            "gridcolor": "white",
            "gridwidth": 2,
            "linecolor": "white",
            "showbackground": true,
            "ticks": "",
            "zerolinecolor": "white"
           },
           "yaxis": {
            "backgroundcolor": "#E5ECF6",
            "gridcolor": "white",
            "gridwidth": 2,
            "linecolor": "white",
            "showbackground": true,
            "ticks": "",
            "zerolinecolor": "white"
           },
           "zaxis": {
            "backgroundcolor": "#E5ECF6",
            "gridcolor": "white",
            "gridwidth": 2,
            "linecolor": "white",
            "showbackground": true,
            "ticks": "",
            "zerolinecolor": "white"
           }
          },
          "shapedefaults": {
           "line": {
            "color": "#2a3f5f"
           }
          },
          "ternary": {
           "aaxis": {
            "gridcolor": "white",
            "linecolor": "white",
            "ticks": ""
           },
           "baxis": {
            "gridcolor": "white",
            "linecolor": "white",
            "ticks": ""
           },
           "bgcolor": "#E5ECF6",
           "caxis": {
            "gridcolor": "white",
            "linecolor": "white",
            "ticks": ""
           }
          },
          "title": {
           "x": 0.05
          },
          "xaxis": {
           "automargin": true,
           "gridcolor": "white",
           "linecolor": "white",
           "ticks": "",
           "title": {
            "standoff": 15
           },
           "zerolinecolor": "white",
           "zerolinewidth": 2
          },
          "yaxis": {
           "automargin": true,
           "gridcolor": "white",
           "linecolor": "white",
           "ticks": "",
           "title": {
            "standoff": 15
           },
           "zerolinecolor": "white",
           "zerolinewidth": 2
          }
         }
        }
       }
      }
     },
     "metadata": {},
     "output_type": "display_data"
    }
   ],
   "source": [
    "df['all drugs'] = 'All Drugs'\n",
    "fig = px.sunburst(\n",
    "    df, path=['all drugs', 'colour', 'texture'],\n",
    "    color_discrete_map=colour_map,\n",
    "    color='colour',\n",
    "    )\n",
    "fig.update_traces(\n",
    "    insidetextorientation='radial',\n",
    "    marker_line_width=0,\n",
    "    hovertemplate='%{parent} %{label}<br>count=%{value}',\n",
    ")\n",
    "fig.update_layout(\n",
    "    margin=dict(t=0, l=0, r=0, b=0),\n",
    "    )\n",
    "fig.show()"
   ]
  },
  {
   "cell_type": "code",
   "execution_count": 63,
   "metadata": {},
   "outputs": [
    {
     "data": {
      "text/html": [
       "<div>\n",
       "<style scoped>\n",
       "    .dataframe tbody tr th:only-of-type {\n",
       "        vertical-align: middle;\n",
       "    }\n",
       "\n",
       "    .dataframe tbody tr th {\n",
       "        vertical-align: top;\n",
       "    }\n",
       "\n",
       "    .dataframe thead th {\n",
       "        text-align: right;\n",
       "    }\n",
       "</style>\n",
       "<table border=\"1\" class=\"dataframe\">\n",
       "  <thead>\n",
       "    <tr style=\"text-align: right;\">\n",
       "      <th></th>\n",
       "      <th>root</th>\n",
       "      <th>root_colour</th>\n",
       "      <th>colour</th>\n",
       "      <th>colour2</th>\n",
       "      <th>texture</th>\n",
       "      <th>value</th>\n",
       "      <th>level1</th>\n",
       "      <th>level2</th>\n",
       "      <th>colour_value</th>\n",
       "      <th>root_value</th>\n",
       "    </tr>\n",
       "  </thead>\n",
       "  <tbody>\n",
       "    <tr>\n",
       "      <th>0</th>\n",
       "      <td>All Drugs</td>\n",
       "      <td>White</td>\n",
       "      <td>Beige</td>\n",
       "      <td>Beige</td>\n",
       "      <td>Capsule</td>\n",
       "      <td>11</td>\n",
       "      <td>All Drugs/Beige</td>\n",
       "      <td>All Drugs/Beige/Capsule</td>\n",
       "      <td>1011</td>\n",
       "      <td>62555</td>\n",
       "    </tr>\n",
       "    <tr>\n",
       "      <th>1</th>\n",
       "      <td>All Drugs</td>\n",
       "      <td>White</td>\n",
       "      <td>Beige</td>\n",
       "      <td>Beige</td>\n",
       "      <td>Chunk</td>\n",
       "      <td>394</td>\n",
       "      <td>All Drugs/Beige</td>\n",
       "      <td>All Drugs/Beige/Chunk</td>\n",
       "      <td>1011</td>\n",
       "      <td>62555</td>\n",
       "    </tr>\n",
       "    <tr>\n",
       "      <th>2</th>\n",
       "      <td>All Drugs</td>\n",
       "      <td>White</td>\n",
       "      <td>Beige</td>\n",
       "      <td>Beige</td>\n",
       "      <td>Crystal</td>\n",
       "      <td>43</td>\n",
       "      <td>All Drugs/Beige</td>\n",
       "      <td>All Drugs/Beige/Crystal</td>\n",
       "      <td>1011</td>\n",
       "      <td>62555</td>\n",
       "    </tr>\n",
       "    <tr>\n",
       "      <th>3</th>\n",
       "      <td>All Drugs</td>\n",
       "      <td>White</td>\n",
       "      <td>Beige</td>\n",
       "      <td>Beige</td>\n",
       "      <td>Flake</td>\n",
       "      <td>12</td>\n",
       "      <td>All Drugs/Beige</td>\n",
       "      <td>All Drugs/Beige/Flake</td>\n",
       "      <td>1011</td>\n",
       "      <td>62555</td>\n",
       "    </tr>\n",
       "    <tr>\n",
       "      <th>4</th>\n",
       "      <td>All Drugs</td>\n",
       "      <td>White</td>\n",
       "      <td>Beige</td>\n",
       "      <td>Beige</td>\n",
       "      <td>Granules</td>\n",
       "      <td>156</td>\n",
       "      <td>All Drugs/Beige</td>\n",
       "      <td>All Drugs/Beige/Granules</td>\n",
       "      <td>1011</td>\n",
       "      <td>62555</td>\n",
       "    </tr>\n",
       "    <tr>\n",
       "      <th>...</th>\n",
       "      <td>...</td>\n",
       "      <td>...</td>\n",
       "      <td>...</td>\n",
       "      <td>...</td>\n",
       "      <td>...</td>\n",
       "      <td>...</td>\n",
       "      <td>...</td>\n",
       "      <td>...</td>\n",
       "      <td>...</td>\n",
       "      <td>...</td>\n",
       "    </tr>\n",
       "    <tr>\n",
       "      <th>415</th>\n",
       "      <td>All Drugs</td>\n",
       "      <td>White</td>\n",
       "      <td>Yellow (light)</td>\n",
       "      <td>#FFFFE0</td>\n",
       "      <td>Pebble</td>\n",
       "      <td>154</td>\n",
       "      <td>All Drugs/Yellow (light)</td>\n",
       "      <td>All Drugs/Yellow (light)/Pebble</td>\n",
       "      <td>1847</td>\n",
       "      <td>62555</td>\n",
       "    </tr>\n",
       "    <tr>\n",
       "      <th>416</th>\n",
       "      <td>All Drugs</td>\n",
       "      <td>White</td>\n",
       "      <td>Yellow (light)</td>\n",
       "      <td>#FFFFE0</td>\n",
       "      <td>Powder</td>\n",
       "      <td>612</td>\n",
       "      <td>All Drugs/Yellow (light)</td>\n",
       "      <td>All Drugs/Yellow (light)/Powder</td>\n",
       "      <td>1847</td>\n",
       "      <td>62555</td>\n",
       "    </tr>\n",
       "    <tr>\n",
       "      <th>417</th>\n",
       "      <td>All Drugs</td>\n",
       "      <td>White</td>\n",
       "      <td>Yellow (light)</td>\n",
       "      <td>#FFFFE0</td>\n",
       "      <td>Pressed tablet</td>\n",
       "      <td>49</td>\n",
       "      <td>All Drugs/Yellow (light)</td>\n",
       "      <td>All Drugs/Yellow (light)/Pressed tablet</td>\n",
       "      <td>1847</td>\n",
       "      <td>62555</td>\n",
       "    </tr>\n",
       "    <tr>\n",
       "      <th>418</th>\n",
       "      <td>All Drugs</td>\n",
       "      <td>White</td>\n",
       "      <td>Yellow (light)</td>\n",
       "      <td>#FFFFE0</td>\n",
       "      <td>Residue</td>\n",
       "      <td>3</td>\n",
       "      <td>All Drugs/Yellow (light)</td>\n",
       "      <td>All Drugs/Yellow (light)/Residue</td>\n",
       "      <td>1847</td>\n",
       "      <td>62555</td>\n",
       "    </tr>\n",
       "    <tr>\n",
       "      <th>419</th>\n",
       "      <td>All Drugs</td>\n",
       "      <td>White</td>\n",
       "      <td>Yellow (light)</td>\n",
       "      <td>#FFFFE0</td>\n",
       "      <td>Tablet (pharmaceutical)</td>\n",
       "      <td>37</td>\n",
       "      <td>All Drugs/Yellow (light)</td>\n",
       "      <td>All Drugs/Yellow (light)/Tablet (pharmaceutical)</td>\n",
       "      <td>1847</td>\n",
       "      <td>62555</td>\n",
       "    </tr>\n",
       "  </tbody>\n",
       "</table>\n",
       "<p>420 rows × 10 columns</p>\n",
       "</div>"
      ],
      "text/plain": [
       "          root root_colour          colour  colour2                  texture  \\\n",
       "0    All Drugs       White           Beige    Beige                  Capsule   \n",
       "1    All Drugs       White           Beige    Beige                    Chunk   \n",
       "2    All Drugs       White           Beige    Beige                  Crystal   \n",
       "3    All Drugs       White           Beige    Beige                    Flake   \n",
       "4    All Drugs       White           Beige    Beige                 Granules   \n",
       "..         ...         ...             ...      ...                      ...   \n",
       "415  All Drugs       White  Yellow (light)  #FFFFE0                   Pebble   \n",
       "416  All Drugs       White  Yellow (light)  #FFFFE0                   Powder   \n",
       "417  All Drugs       White  Yellow (light)  #FFFFE0           Pressed tablet   \n",
       "418  All Drugs       White  Yellow (light)  #FFFFE0                  Residue   \n",
       "419  All Drugs       White  Yellow (light)  #FFFFE0  Tablet (pharmaceutical)   \n",
       "\n",
       "     value                    level1  \\\n",
       "0       11           All Drugs/Beige   \n",
       "1      394           All Drugs/Beige   \n",
       "2       43           All Drugs/Beige   \n",
       "3       12           All Drugs/Beige   \n",
       "4      156           All Drugs/Beige   \n",
       "..     ...                       ...   \n",
       "415    154  All Drugs/Yellow (light)   \n",
       "416    612  All Drugs/Yellow (light)   \n",
       "417     49  All Drugs/Yellow (light)   \n",
       "418      3  All Drugs/Yellow (light)   \n",
       "419     37  All Drugs/Yellow (light)   \n",
       "\n",
       "                                               level2  colour_value  \\\n",
       "0                             All Drugs/Beige/Capsule          1011   \n",
       "1                               All Drugs/Beige/Chunk          1011   \n",
       "2                             All Drugs/Beige/Crystal          1011   \n",
       "3                               All Drugs/Beige/Flake          1011   \n",
       "4                            All Drugs/Beige/Granules          1011   \n",
       "..                                                ...           ...   \n",
       "415                   All Drugs/Yellow (light)/Pebble          1847   \n",
       "416                   All Drugs/Yellow (light)/Powder          1847   \n",
       "417           All Drugs/Yellow (light)/Pressed tablet          1847   \n",
       "418                  All Drugs/Yellow (light)/Residue          1847   \n",
       "419  All Drugs/Yellow (light)/Tablet (pharmaceutical)          1847   \n",
       "\n",
       "     root_value  \n",
       "0         62555  \n",
       "1         62555  \n",
       "2         62555  \n",
       "3         62555  \n",
       "4         62555  \n",
       "..          ...  \n",
       "415       62555  \n",
       "416       62555  \n",
       "417       62555  \n",
       "418       62555  \n",
       "419       62555  \n",
       "\n",
       "[420 rows x 10 columns]"
      ]
     },
     "execution_count": 63,
     "metadata": {},
     "output_type": "execute_result"
    }
   ],
   "source": [
    "colours = df.copy()\n",
    "colours['root'] = 'All Drugs'\n",
    "colours['root_colour'] = 'White'\n",
    "grouped = colours.groupby(['root', 'root_colour', 'colour', 'colour2', 'texture']).count()['city'].reset_index()\n",
    "grouped = grouped.rename({'city': 'value'}, axis=1)\n",
    "grouped['level1'] = grouped['root'] + '/' + grouped['colour']\n",
    "grouped['level2'] = grouped['level1'] + '/' + grouped['texture']\n",
    "grouped['colour_value'] = grouped.groupby(['colour'])['value'].transform('sum')\n",
    "grouped['root_value'] = grouped.groupby('root')['value'].transform('sum')\n",
    "grouped\n"
   ]
  },
  {
   "cell_type": "code",
   "execution_count": 68,
   "metadata": {},
   "outputs": [],
   "source": [
    "level1 = grouped[['level1', 'colour2', 'colour_value']].drop_duplicates().rename({'level1': 'id', 'colour2': 'color', 'colour_value': 'value'}, axis=1)\n",
    "level2 = grouped[['level2', 'colour2', 'value']].rename({'level2': 'id', 'colour2': 'color'}, axis=1)\n",
    "root = grouped[['root', 'root_colour', 'root_value']].drop_duplicates().rename({'root': 'id', 'root_colour': 'color', 'root_value': 'value'}, axis=1)"
   ]
  },
  {
   "cell_type": "code",
   "execution_count": 80,
   "metadata": {},
   "outputs": [
    {
     "data": {
      "text/plain": [
       "0                      Capsule\n",
       "1                        Chunk\n",
       "2                      Crystal\n",
       "3                        Flake\n",
       "4                     Granules\n",
       "                ...           \n",
       "415                     Pebble\n",
       "416                     Powder\n",
       "417             Pressed tablet\n",
       "418                    Residue\n",
       "419    Tablet (pharmaceutical)\n",
       "Name: id, Length: 420, dtype: object"
      ]
     },
     "execution_count": 80,
     "metadata": {},
     "output_type": "execute_result"
    }
   ],
   "source": [
    "level2['id'].apply(lambda x: x.split('/')[-1])"
   ]
  },
  {
   "cell_type": "code",
   "execution_count": 85,
   "metadata": {},
   "outputs": [],
   "source": [
    "level2['labels'] = level2['id'].apply(lambda x: x.split('/')[-1])\n",
    "level2['parents'] = level2['id'].apply(lambda x: x.split('/')[-2])\n",
    "level1['labels'] = level1['id'].apply(lambda x: x.split('/')[-1])\n",
    "level1['parents'] = level1['id'].apply(lambda x: x.split('/')[-2])"
   ]
  },
  {
   "cell_type": "code",
   "execution_count": 86,
   "metadata": {},
   "outputs": [],
   "source": [
    "root['parents'] = ''\n",
    "root['labels'] = root['id']"
   ]
  },
  {
   "cell_type": "code",
   "execution_count": 91,
   "metadata": {},
   "outputs": [
    {
     "data": {
      "text/html": [
       "<div>\n",
       "<style scoped>\n",
       "    .dataframe tbody tr th:only-of-type {\n",
       "        vertical-align: middle;\n",
       "    }\n",
       "\n",
       "    .dataframe tbody tr th {\n",
       "        vertical-align: top;\n",
       "    }\n",
       "\n",
       "    .dataframe thead th {\n",
       "        text-align: right;\n",
       "    }\n",
       "</style>\n",
       "<table border=\"1\" class=\"dataframe\">\n",
       "  <thead>\n",
       "    <tr style=\"text-align: right;\">\n",
       "      <th></th>\n",
       "      <th>id</th>\n",
       "      <th>color</th>\n",
       "      <th>value</th>\n",
       "      <th>parents</th>\n",
       "      <th>labels</th>\n",
       "    </tr>\n",
       "  </thead>\n",
       "  <tbody>\n",
       "    <tr>\n",
       "      <th>0</th>\n",
       "      <td>All Drugs</td>\n",
       "      <td>White</td>\n",
       "      <td>62555</td>\n",
       "      <td></td>\n",
       "      <td>All Drugs</td>\n",
       "    </tr>\n",
       "    <tr>\n",
       "      <th>1</th>\n",
       "      <td>All Drugs/Beige</td>\n",
       "      <td>Beige</td>\n",
       "      <td>1011</td>\n",
       "      <td>All Drugs</td>\n",
       "      <td>Beige</td>\n",
       "    </tr>\n",
       "    <tr>\n",
       "      <th>2</th>\n",
       "      <td>All Drugs/Black</td>\n",
       "      <td>#000000</td>\n",
       "      <td>566</td>\n",
       "      <td>All Drugs</td>\n",
       "      <td>Black</td>\n",
       "    </tr>\n",
       "    <tr>\n",
       "      <th>3</th>\n",
       "      <td>All Drugs/Blue</td>\n",
       "      <td>#0000FF</td>\n",
       "      <td>1421</td>\n",
       "      <td>All Drugs</td>\n",
       "      <td>Blue</td>\n",
       "    </tr>\n",
       "    <tr>\n",
       "      <th>4</th>\n",
       "      <td>All Drugs/Blue (dark)</td>\n",
       "      <td>#00008B</td>\n",
       "      <td>298</td>\n",
       "      <td>All Drugs</td>\n",
       "      <td>Blue (dark)</td>\n",
       "    </tr>\n",
       "    <tr>\n",
       "      <th>...</th>\n",
       "      <td>...</td>\n",
       "      <td>...</td>\n",
       "      <td>...</td>\n",
       "      <td>...</td>\n",
       "      <td>...</td>\n",
       "    </tr>\n",
       "    <tr>\n",
       "      <th>448</th>\n",
       "      <td>All Drugs/Yellow (light)/Pebble</td>\n",
       "      <td>#FFFFE0</td>\n",
       "      <td>154</td>\n",
       "      <td>Yellow (light)</td>\n",
       "      <td>Pebble</td>\n",
       "    </tr>\n",
       "    <tr>\n",
       "      <th>449</th>\n",
       "      <td>All Drugs/Yellow (light)/Powder</td>\n",
       "      <td>#FFFFE0</td>\n",
       "      <td>612</td>\n",
       "      <td>Yellow (light)</td>\n",
       "      <td>Powder</td>\n",
       "    </tr>\n",
       "    <tr>\n",
       "      <th>450</th>\n",
       "      <td>All Drugs/Yellow (light)/Pressed tablet</td>\n",
       "      <td>#FFFFE0</td>\n",
       "      <td>49</td>\n",
       "      <td>Yellow (light)</td>\n",
       "      <td>Pressed tablet</td>\n",
       "    </tr>\n",
       "    <tr>\n",
       "      <th>451</th>\n",
       "      <td>All Drugs/Yellow (light)/Residue</td>\n",
       "      <td>#FFFFE0</td>\n",
       "      <td>3</td>\n",
       "      <td>Yellow (light)</td>\n",
       "      <td>Residue</td>\n",
       "    </tr>\n",
       "    <tr>\n",
       "      <th>452</th>\n",
       "      <td>All Drugs/Yellow (light)/Tablet (pharmaceutical)</td>\n",
       "      <td>#FFFFE0</td>\n",
       "      <td>37</td>\n",
       "      <td>Yellow (light)</td>\n",
       "      <td>Tablet (pharmaceutical)</td>\n",
       "    </tr>\n",
       "  </tbody>\n",
       "</table>\n",
       "<p>453 rows × 5 columns</p>\n",
       "</div>"
      ],
      "text/plain": [
       "                                                   id    color  value  \\\n",
       "0                                           All Drugs    White  62555   \n",
       "1                                     All Drugs/Beige    Beige   1011   \n",
       "2                                     All Drugs/Black  #000000    566   \n",
       "3                                      All Drugs/Blue  #0000FF   1421   \n",
       "4                               All Drugs/Blue (dark)  #00008B    298   \n",
       "..                                                ...      ...    ...   \n",
       "448                   All Drugs/Yellow (light)/Pebble  #FFFFE0    154   \n",
       "449                   All Drugs/Yellow (light)/Powder  #FFFFE0    612   \n",
       "450           All Drugs/Yellow (light)/Pressed tablet  #FFFFE0     49   \n",
       "451                  All Drugs/Yellow (light)/Residue  #FFFFE0      3   \n",
       "452  All Drugs/Yellow (light)/Tablet (pharmaceutical)  #FFFFE0     37   \n",
       "\n",
       "            parents                   labels  \n",
       "0                                  All Drugs  \n",
       "1         All Drugs                    Beige  \n",
       "2         All Drugs                    Black  \n",
       "3         All Drugs                     Blue  \n",
       "4         All Drugs              Blue (dark)  \n",
       "..              ...                      ...  \n",
       "448  Yellow (light)                   Pebble  \n",
       "449  Yellow (light)                   Powder  \n",
       "450  Yellow (light)           Pressed tablet  \n",
       "451  Yellow (light)                  Residue  \n",
       "452  Yellow (light)  Tablet (pharmaceutical)  \n",
       "\n",
       "[453 rows x 5 columns]"
      ]
     },
     "execution_count": 91,
     "metadata": {},
     "output_type": "execute_result"
    }
   ],
   "source": [
    "newcolours = pd.concat([root, level1, level2]).reset_index(drop=True)\n",
    "newcolours"
   ]
  },
  {
   "cell_type": "code",
   "execution_count": 151,
   "metadata": {},
   "outputs": [],
   "source": [
    "def build_hierarchical_dataframe(df, levels, value_column, color_column=None):\n",
    "    \"\"\"\n",
    "    Build a hierarchy of levels for Sunburst or Treemap charts.\n",
    "\n",
    "    Levels are given starting from the bottom to the top of the hierarchy,\n",
    "    ie the last level corresponds to the root.\n",
    "    \"\"\"\n",
    "    df_all_trees = pd.DataFrame(columns=['id', 'parent', 'value', 'color'])\n",
    "    for i, level in enumerate(levels):\n",
    "        df_tree = pd.DataFrame(columns=['id', 'parent', 'value', 'color'])\n",
    "        dfg = df.groupby(levels[i:]+color_column).sum()\n",
    "        dfg = dfg.reset_index()\n",
    "        df_tree['id'] = dfg[level].copy()\n",
    "        if i < len(levels) - 1:\n",
    "            df_tree['parent'] = dfg[levels[i+1]].copy()\n",
    "        else:\n",
    "            df_tree['parent'] = 'total'\n",
    "        df_tree['value'] = dfg[value_column]\n",
    "        df_tree['color'] = dfg[color_column]\n",
    "        df_all_trees = df_all_trees.append(df_tree, ignore_index=True)\n",
    "    total = pd.Series(dict(id='total', parent='',\n",
    "                              value=df[value_column].sum(),\n",
    "                              color='white'))\n",
    "    df_all_trees = df_all_trees.append(total, ignore_index=True)\n",
    "    return df_all_trees"
   ]
  },
  {
   "cell_type": "code",
   "execution_count": 153,
   "metadata": {},
   "outputs": [],
   "source": [
    "levels = ['texture', 'colour']\n",
    "copy = df.copy()\n",
    "copy['value'] = 1\n",
    "colour_columns = ['colour2']"
   ]
  },
  {
   "cell_type": "code",
   "execution_count": 154,
   "metadata": {},
   "outputs": [
    {
     "data": {
      "text/html": [
       "<div>\n",
       "<style scoped>\n",
       "    .dataframe tbody tr th:only-of-type {\n",
       "        vertical-align: middle;\n",
       "    }\n",
       "\n",
       "    .dataframe tbody tr th {\n",
       "        vertical-align: top;\n",
       "    }\n",
       "\n",
       "    .dataframe thead th {\n",
       "        text-align: right;\n",
       "    }\n",
       "</style>\n",
       "<table border=\"1\" class=\"dataframe\">\n",
       "  <thead>\n",
       "    <tr style=\"text-align: right;\">\n",
       "      <th></th>\n",
       "      <th>id</th>\n",
       "      <th>parent</th>\n",
       "      <th>value</th>\n",
       "      <th>color</th>\n",
       "    </tr>\n",
       "  </thead>\n",
       "  <tbody>\n",
       "    <tr>\n",
       "      <th>0</th>\n",
       "      <td>Blotter paper (tab)</td>\n",
       "      <td>Black</td>\n",
       "      <td>39</td>\n",
       "      <td>#000000</td>\n",
       "    </tr>\n",
       "    <tr>\n",
       "      <th>1</th>\n",
       "      <td>Blotter paper (tab)</td>\n",
       "      <td>Blue</td>\n",
       "      <td>57</td>\n",
       "      <td>#0000FF</td>\n",
       "    </tr>\n",
       "    <tr>\n",
       "      <th>2</th>\n",
       "      <td>Blotter paper (tab)</td>\n",
       "      <td>Blue (dark)</td>\n",
       "      <td>11</td>\n",
       "      <td>#00008B</td>\n",
       "    </tr>\n",
       "    <tr>\n",
       "      <th>3</th>\n",
       "      <td>Blotter paper (tab)</td>\n",
       "      <td>Blue (light)</td>\n",
       "      <td>5</td>\n",
       "      <td>#ADD8E6</td>\n",
       "    </tr>\n",
       "    <tr>\n",
       "      <th>4</th>\n",
       "      <td>Blotter paper (tab)</td>\n",
       "      <td>Brown</td>\n",
       "      <td>13</td>\n",
       "      <td>#964B00</td>\n",
       "    </tr>\n",
       "    <tr>\n",
       "      <th>...</th>\n",
       "      <td>...</td>\n",
       "      <td>...</td>\n",
       "      <td>...</td>\n",
       "      <td>...</td>\n",
       "    </tr>\n",
       "    <tr>\n",
       "      <th>448</th>\n",
       "      <td>White</td>\n",
       "      <td>total</td>\n",
       "      <td>22207</td>\n",
       "      <td>#FFFFFF</td>\n",
       "    </tr>\n",
       "    <tr>\n",
       "      <th>449</th>\n",
       "      <td>Yellow</td>\n",
       "      <td>total</td>\n",
       "      <td>1908</td>\n",
       "      <td>Yellow</td>\n",
       "    </tr>\n",
       "    <tr>\n",
       "      <th>450</th>\n",
       "      <td>Yellow (dark)</td>\n",
       "      <td>total</td>\n",
       "      <td>282</td>\n",
       "      <td>#FFD700</td>\n",
       "    </tr>\n",
       "    <tr>\n",
       "      <th>451</th>\n",
       "      <td>Yellow (light)</td>\n",
       "      <td>total</td>\n",
       "      <td>1847</td>\n",
       "      <td>#FFFFE0</td>\n",
       "    </tr>\n",
       "    <tr>\n",
       "      <th>452</th>\n",
       "      <td>total</td>\n",
       "      <td></td>\n",
       "      <td>62555</td>\n",
       "      <td>white</td>\n",
       "    </tr>\n",
       "  </tbody>\n",
       "</table>\n",
       "<p>453 rows × 4 columns</p>\n",
       "</div>"
      ],
      "text/plain": [
       "                      id        parent  value    color\n",
       "0    Blotter paper (tab)         Black     39  #000000\n",
       "1    Blotter paper (tab)          Blue     57  #0000FF\n",
       "2    Blotter paper (tab)   Blue (dark)     11  #00008B\n",
       "3    Blotter paper (tab)  Blue (light)      5  #ADD8E6\n",
       "4    Blotter paper (tab)         Brown     13  #964B00\n",
       "..                   ...           ...    ...      ...\n",
       "448                White         total  22207  #FFFFFF\n",
       "449               Yellow         total   1908   Yellow\n",
       "450        Yellow (dark)         total    282  #FFD700\n",
       "451       Yellow (light)         total   1847  #FFFFE0\n",
       "452                total                62555    white\n",
       "\n",
       "[453 rows x 4 columns]"
      ]
     },
     "execution_count": 154,
     "metadata": {},
     "output_type": "execute_result"
    }
   ],
   "source": [
    "build_hierarchical_dataframe(copy, levels, 'value', colour_columns)\n"
   ]
  },
  {
   "cell_type": "code",
   "execution_count": 115,
   "metadata": {},
   "outputs": [],
   "source": [
    "newcolours = newcolours.sort_values('value', ascending=False)\n",
    "heir = heir.sort_values('value', ascending=False)"
   ]
  },
  {
   "cell_type": "code",
   "execution_count": 143,
   "metadata": {},
   "outputs": [
    {
     "name": "stdout",
     "output_type": "stream",
     "text": [
      "              id      parent  value    color\n",
      "0          total              62555  #FFFFE0\n",
      "1          White       total  22207  #FFFFE0\n",
      "2         Powder       White   9487  #A020F0\n",
      "3     Colourless       total   5242  #FFD700\n",
      "4  Brown (light)       total   4654  #FFD700\n",
      "5        Crystal  Colourless   4491  #ADD8E6\n",
      "6        Crystal       White   3767  #654321\n",
      "7          Brown       total   3542  #FFD700\n",
      "8         Purple       total   3468  #FFFFE0\n",
      "9          Chunk       White   2685  #00008B\n"
     ]
    }
   ],
   "source": [
    "# heir['color'] = newcolours['color']\n",
    "#heir.reset_index(drop=True).to_csv('heir.csv', index=False)\n",
    "print(heir.reset_index(drop=True).head(10))"
   ]
  },
  {
   "cell_type": "code",
   "execution_count": 159,
   "metadata": {},
   "outputs": [
    {
     "data": {
      "text/plain": [
       "{'total': '#FFFFE0',\n",
       " 'White': '#FFFFE0',\n",
       " 'Powder': '#FFB6C1',\n",
       " 'Colourless': '#FFD700',\n",
       " 'Brown (light)': '#FFD700',\n",
       " 'Crystal': '#964B00',\n",
       " 'Brown': '#FFD700',\n",
       " 'Purple': '#FFFFE0',\n",
       " 'Chunk': '#0000FF',\n",
       " 'Green': '#FFD700',\n",
       " 'Granules': '#006400',\n",
       " 'Yellow': '#FFFFE0',\n",
       " 'Pink': '#FFFFE0',\n",
       " 'Yellow (light)': '#FFFFE0',\n",
       " 'Tablet (pharmaceutical)': 'Yellow',\n",
       " 'Blue': 'Yellow',\n",
       " 'Purple (light)': '#FFFFE0',\n",
       " 'Grey': '#FFD700',\n",
       " 'Pebble': '#F8F8FF',\n",
       " 'Green (light)': '#FFD700',\n",
       " 'Orange': '#FFD700',\n",
       " 'Blue (light)': 'Yellow',\n",
       " 'Pink (light)': '#FFFFE0',\n",
       " 'Beige': 'Yellow',\n",
       " 'Pressed tablet': '#301934',\n",
       " 'Purple (dark)': '#FFFFE0',\n",
       " 'Brown (dark)': '#FFD700',\n",
       " 'Grey (light)': '#FFD700',\n",
       " 'Liquid': '#90EE90',\n",
       " 'Green (dark)': '#FFD700',\n",
       " 'Orange (light)': '#FFD700',\n",
       " 'Red': '#FFFFE0',\n",
       " 'Black': 'Yellow',\n",
       " 'Flake': '#C4A484',\n",
       " 'Blue (dark)': 'Yellow',\n",
       " 'Yellow (dark)': '#FFFFE0',\n",
       " 'Pink (dark)': '#FFFFE0',\n",
       " 'Grey (dark)': '#FFD700',\n",
       " 'Red (light)': '#FFFFE0',\n",
       " 'Red (dark)': '#FFFFE0',\n",
       " 'Other': '#D3D3D3',\n",
       " 'Paste': '#FF8C00',\n",
       " 'Residue': '#FFA07A',\n",
       " 'Blotter paper (tab)': 'Grey',\n",
       " 'Orange (dark)': '#FFD700',\n",
       " 'Capsule': '#000000',\n",
       " 'Organic': 'Grey'}"
      ]
     },
     "execution_count": 159,
     "metadata": {},
     "output_type": "execute_result"
    }
   ],
   "source": [
    "dict(zip(heir['id'], heir['color']))"
   ]
  },
  {
   "cell_type": "code",
   "execution_count": 167,
   "metadata": {},
   "outputs": [
    {
     "data": {
      "application/vnd.plotly.v1+json": {
       "config": {
        "plotlyServerURL": "https://plot.ly"
       },
       "data": [
        {
         "branchvalues": "total",
         "labels": [
          "total",
          "White",
          "Powder",
          "Colourless",
          "Brown (light)",
          "Crystal",
          "Crystal",
          "Brown",
          "Purple",
          "Chunk",
          "Green",
          "Granules",
          "Yellow",
          "Pink",
          "Yellow (light)",
          "Tablet (pharmaceutical)",
          "Powder",
          "Blue",
          "Purple (light)",
          "Grey",
          "Pebble",
          "Green (light)",
          "Orange",
          "Blue (light)",
          "Pink (light)",
          "Beige",
          "Pebble",
          "Pressed tablet",
          "Purple (dark)",
          "Pebble",
          "Crystal",
          "Chunk",
          "Chunk",
          "Chunk",
          "Brown (dark)",
          "Granules",
          "Pebble",
          "Grey (light)",
          "Pebble",
          "Granules",
          "Liquid",
          "Green (dark)",
          "Powder",
          "Orange (light)",
          "Powder",
          "Red",
          "Black",
          "Pebble",
          "Crystal",
          "Crystal",
          "Granules",
          "Chunk",
          "Powder",
          "Crystal",
          "Chunk",
          "Pebble",
          "Chunk",
          "Crystal",
          "Chunk",
          "Granules",
          "Flake",
          "Powder",
          "Pebble",
          "Chunk",
          "Pebble",
          "Pebble",
          "Crystal",
          "Chunk",
          "Pebble",
          "Blue (dark)",
          "Chunk",
          "Granules",
          "Chunk",
          "Powder",
          "Powder",
          "Granules",
          "Yellow (dark)",
          "Pink (dark)",
          "Pebble",
          "Chunk",
          "Powder",
          "Chunk",
          "Granules",
          "Crystal",
          "Chunk",
          "Chunk",
          "Pebble",
          "Powder",
          "Pebble",
          "Grey (dark)",
          "Powder",
          "Powder",
          "Crystal",
          "Granules",
          "Pebble",
          "Pressed tablet",
          "Powder",
          "Granules",
          "Pebble",
          "Chunk",
          "Crystal",
          "Granules",
          "Chunk",
          "Granules",
          "Crystal",
          "Chunk",
          "Granules",
          "Red (light)",
          "Pebble",
          "Powder",
          "Red (dark)",
          "Tablet (pharmaceutical)",
          "Granules",
          "Granules",
          "Chunk",
          "Pebble",
          "Granules",
          "Powder",
          "Tablet (pharmaceutical)",
          "Chunk",
          "Pressed tablet",
          "Tablet (pharmaceutical)",
          "Other",
          "Paste",
          "Granules",
          "Pressed tablet",
          "Pebble",
          "Chunk",
          "Powder",
          "Powder",
          "Pebble",
          "Powder",
          "Pebble",
          "Pressed tablet",
          "Chunk",
          "Residue",
          "Tablet (pharmaceutical)",
          "Blotter paper (tab)",
          "Pressed tablet",
          "Granules",
          "Granules",
          "Chunk",
          "Tablet (pharmaceutical)",
          "Tablet (pharmaceutical)",
          "Pebble",
          "Pebble",
          "Granules",
          "Granules",
          "Pressed tablet",
          "Chunk",
          "Orange (dark)",
          "Pressed tablet",
          "Residue",
          "Crystal",
          "Residue",
          "Granules",
          "Chunk",
          "Granules",
          "Pebble",
          "Powder",
          "Crystal",
          "Pebble",
          "Pebble",
          "Granules",
          "Chunk",
          "Crystal",
          "Paste",
          "Liquid",
          "Powder",
          "Blotter paper (tab)",
          "Paste",
          "Pressed tablet",
          "Blotter paper (tab)",
          "Crystal",
          "Pressed tablet",
          "Granules",
          "Chunk",
          "Crystal",
          "Pressed tablet",
          "Pebble",
          "Crystal",
          "Paste",
          "Chunk",
          "Paste",
          "Liquid",
          "Blotter paper (tab)",
          "Blotter paper (tab)",
          "Crystal",
          "Crystal",
          "Crystal",
          "Granules",
          "Paste",
          "Blotter paper (tab)",
          "Crystal",
          "Powder",
          "Tablet (pharmaceutical)",
          "Granules",
          "Granules",
          "Blotter paper (tab)",
          "Crystal",
          "Liquid",
          "Capsule",
          "Pebble",
          "Flake",
          "Paste",
          "Paste",
          "Powder",
          "Pebble",
          "Residue",
          "Pressed tablet",
          "Blotter paper (tab)",
          "Blotter paper (tab)",
          "Residue",
          "Residue",
          "Granules",
          "Powder",
          "Flake",
          "Liquid",
          "Crystal",
          "Granules",
          "Powder",
          "Chunk",
          "Blotter paper (tab)",
          "Residue",
          "Tablet (pharmaceutical)",
          "Powder",
          "Residue",
          "Liquid",
          "Residue",
          "Pressed tablet",
          "Chunk",
          "Tablet (pharmaceutical)",
          "Paste",
          "Pressed tablet",
          "Granules",
          "Granules",
          "Paste",
          "Powder",
          "Pressed tablet",
          "Flake",
          "Liquid",
          "Chunk",
          "Capsule",
          "Pressed tablet",
          "Organic",
          "Powder",
          "Pressed tablet",
          "Flake",
          "Pressed tablet",
          "Crystal",
          "Paste",
          "Paste",
          "Liquid",
          "Paste",
          "Organic",
          "Tablet (pharmaceutical)",
          "Residue",
          "Paste",
          "Flake",
          "Liquid",
          "Capsule",
          "Paste",
          "Blotter paper (tab)",
          "Residue",
          "Residue",
          "Tablet (pharmaceutical)",
          "Liquid",
          "Tablet (pharmaceutical)",
          "Tablet (pharmaceutical)",
          "Flake",
          "Liquid",
          "Pressed tablet",
          "Liquid",
          "Tablet (pharmaceutical)",
          "Blotter paper (tab)",
          "Capsule",
          "Pebble",
          "Crystal",
          "Powder",
          "Flake",
          "Powder",
          "Liquid",
          "Powder",
          "Residue",
          "Flake",
          "Flake",
          "Pebble",
          "Crystal",
          "Paste",
          "Pressed tablet",
          "Pressed tablet",
          "Paste",
          "Liquid",
          "Pressed tablet",
          "Blotter paper (tab)",
          "Pressed tablet",
          "Paste",
          "Capsule",
          "Blotter paper (tab)",
          "Liquid",
          "Tablet (pharmaceutical)",
          "Paste",
          "Paste",
          "Flake",
          "Paste",
          "Capsule",
          "Paste",
          "Residue",
          "Pressed tablet",
          "Flake",
          "Powder",
          "Flake",
          "Flake",
          "Tablet (pharmaceutical)",
          "Residue",
          "Liquid",
          "Flake",
          "Tablet (pharmaceutical)",
          "Liquid",
          "Capsule",
          "Capsule",
          "Paste",
          "Residue",
          "Paste",
          "Liquid",
          "Liquid",
          "Capsule",
          "Blotter paper (tab)",
          "Blotter paper (tab)",
          "Liquid",
          "Paste",
          "Crystal",
          "Residue",
          "Capsule",
          "Residue",
          "Other",
          "Capsule",
          "Paste",
          "Pressed tablet",
          "Blotter paper (tab)",
          "Powder",
          "Organic",
          "Other",
          "Liquid",
          "Residue",
          "Tablet (pharmaceutical)",
          "Flake",
          "Blotter paper (tab)",
          "Flake",
          "Capsule",
          "Residue",
          "Crystal",
          "Pressed tablet",
          "Crystal",
          "Other",
          "Blotter paper (tab)",
          "Liquid",
          "Crystal",
          "Other",
          "Residue",
          "Tablet (pharmaceutical)",
          "Tablet (pharmaceutical)",
          "Blotter paper (tab)",
          "Capsule",
          "Capsule",
          "Capsule",
          "Residue",
          "Tablet (pharmaceutical)",
          "Tablet (pharmaceutical)",
          "Capsule",
          "Other",
          "Flake",
          "Crystal",
          "Other",
          "Liquid",
          "Organic",
          "Other",
          "Flake",
          "Pressed tablet",
          "Paste",
          "Organic",
          "Pressed tablet",
          "Tablet (pharmaceutical)",
          "Tablet (pharmaceutical)",
          "Paste",
          "Blotter paper (tab)",
          "Liquid",
          "Organic",
          "Blotter paper (tab)",
          "Liquid",
          "Tablet (pharmaceutical)",
          "Capsule",
          "Other",
          "Other",
          "Capsule",
          "Capsule",
          "Other",
          "Other",
          "Pebble",
          "Flake",
          "Capsule",
          "Blotter paper (tab)",
          "Liquid",
          "Capsule",
          "Capsule",
          "Residue",
          "Pressed tablet",
          "Residue",
          "Flake",
          "Flake",
          "Liquid",
          "Liquid",
          "Flake",
          "Organic",
          "Flake",
          "Tablet (pharmaceutical)",
          "Capsule",
          "Organic",
          "Organic",
          "Blotter paper (tab)",
          "Blotter paper (tab)",
          "Blotter paper (tab)",
          "Organic",
          "Other",
          "Liquid",
          "Liquid",
          "Blotter paper (tab)",
          "Capsule",
          "Other",
          "Tablet (pharmaceutical)",
          "Capsule",
          "Residue",
          "Pressed tablet",
          "Pressed tablet",
          "Capsule",
          "Flake",
          "Residue",
          "Flake",
          "Flake",
          "Flake",
          "Capsule",
          "Other",
          "Paste",
          "Paste",
          "Paste",
          "Paste",
          "Tablet (pharmaceutical)",
          "Capsule",
          "Other",
          "Other",
          "Other",
          "Other",
          "Liquid"
         ],
         "marker": {
          "colors": [
           "#FFFFE0",
           "#FFFFE0",
           "#A020F0",
           "#FFD700",
           "#FFD700",
           "#ADD8E6",
           "#654321",
           "#FFD700",
           "#FFFFE0",
           "#00008B",
           "#FFD700",
           "#006400",
           "#FFFFE0",
           "#FFFFE0",
           "#FFFFE0",
           "Yellow",
           "#FFB6C1",
           "Yellow",
           "#FFFFE0",
           "#FFD700",
           "#FFC0CB",
           "#FFD700",
           "#FFD700",
           "Yellow",
           "#FFFFE0",
           "Yellow",
           "#FF1493",
           "Red",
           "#FFFFE0",
           "#F8F8FF",
           "#ADD8E6",
           "#0000FF",
           "#0000FF",
           "#00008B",
           "#FFD700",
           "#F8F8FF",
           "#F8F8FF",
           "#FFD700",
           "#F8F8FF",
           "#F8F8FF",
           "#90EE90",
           "#FFD700",
           "#A020F0",
           "#FFD700",
           "#FF1493",
           "#FFFFE0",
           "Yellow",
           "#FFC0CB",
           "#964B00",
           "#ADD8E6",
           "Green",
           "#0000FF",
           "#A020F0",
           "#654321",
           "#000000",
           "#F8F8FF",
           "#0000FF",
           "#ADD8E6",
           "#00008B",
           "Green",
           "#C4A484",
           "#FFB6C1",
           "#FFC0CB",
           "#00008B",
           "#FFC0CB",
           "#F8F8FF",
           "#964B00",
           "#00008B",
           "#F8F8FF",
           "Yellow",
           "#00008B",
           "#006400",
           "#0000FF",
           "#A020F0",
           "#A020F0",
           "Green",
           "#FFFFE0",
           "#FFFFE0",
           "#F8F8FF",
           "#000000",
           "#FFB6C1",
           "#0000FF",
           "#006400",
           "#964B00",
           "#ADD8E6",
           "#000000",
           "#FF1493",
           "#FF1493",
           "#F8F8FF",
           "#FFD700",
           "#A020F0",
           "#FFB6C1",
           "#964B00",
           "#F8F8FF",
           "#FFC0CB",
           "#301934",
           "#FFB6C1",
           "#F8F8FF",
           "#FFC0CB",
           "#0000FF",
           "#654321",
           "Green",
           "#00008B",
           "#006400",
           "#964B00",
           "#0000FF",
           "#F8F8FF",
           "#FFFFE0",
           "#FF1493",
           "#FFB6C1",
           "#FFFFE0",
           "#FFA07A",
           "Green",
           "Green",
           "#00008B",
           "#FFA07A",
           "Green",
           "#FFB6C1",
           "Yellow",
           "#000000",
           "#301934",
           "#FFFFFF",
           "#FFD700",
           "Orange",
           "Green",
           "Red",
           "#FFA07A",
           "#0000FF",
           "#FF1493",
           "#FFB6C1",
           "#FFC0CB",
           "#FF1493",
           "#F8F8FF",
           "#301934",
           "#000000",
           "Red",
           "#FFA07A",
           "#A020F0",
           "#301934",
           "#F8F8FF",
           "#006400",
           "#0000FF",
           "#FFFFFF",
           "#FFFFFF",
           "#FFC0CB",
           "#F8F8FF",
           "Green",
           "#F8F8FF",
           "#301934",
           "#00008B",
           "#FFD700",
           "#E6E6FA",
           "#FFA07A",
           "#964B00",
           "Red",
           "Green",
           "#00008B",
           "Green",
           "#FFC0CB",
           "#A020F0",
           "#ADD8E6",
           "#FFC0CB",
           "#FFC0CB",
           "#006400",
           "#00008B",
           "#ADD8E6",
           "#FFA07A",
           "Grey",
           "#FFB6C1",
           "Beige",
           "Orange",
           "#E6E6FA",
           "#FF1493",
           "#ADD8E6",
           "#E6E6FA",
           "Green",
           "#00008B",
           "#964B00",
           "Red",
           "#FFC0CB",
           "#ADD8E6",
           "#FFA07A",
           "#0000FF",
           "#FF8C00",
           "Grey",
           "#C4A484",
           "#301934",
           "#ADD8E6",
           "#ADD8E6",
           "#ADD8E6",
           "#F8F8FF",
           "Orange",
           "White",
           "#964B00",
           "#A020F0",
           "Yellow",
           "Green",
           "Green",
           "#A9A9A9",
           "#964B00",
           "#006400",
           "#000000",
           "#FF1493",
           "#654321",
           "Orange",
           "#FFA07A",
           "#A020F0",
           "#FF1493",
           "Red",
           "#301934",
           "Orange",
           "#F8F8FF",
           "Red",
           "#8B0000",
           "#F8F8FF",
           "#A020F0",
           "#654321",
           "Grey",
           "#ADD8E6",
           "#006400",
           "#FF1493",
           "#0000FF",
           "#964B00",
           "#8B0000",
           "#FFFFFF",
           "#FF1493",
           "Red",
           "#90EE90",
           "Red",
           "#E6E6FA",
           "#0000FF",
           "Yellow",
           "#FFA07A",
           "#E6E6FA",
           "Green",
           "#006400",
           "Orange",
           "#FFB6C1",
           "#301934",
           "#F8F8FF",
           "Grey",
           "#0000FF",
           "#FFFFFF",
           "#E6E6FA",
           "#A9A9A9",
           "#FFB6C1",
           "#301934",
           "#F8F8FF",
           "#301934",
           "#964B00",
           "#FF8C00",
           "Orange",
           "#90EE90",
           "#FFA07A",
           "#A9A9A9",
           "#FFFFFF",
           "Red",
           "#FFA07A",
           "#C4A484",
           "#90EE90",
           "Beige",
           "Orange",
           "#00008B",
           "Red",
           "#FFA07A",
           "#FFFFFF",
           "Grey",
           "#FFFFFF",
           "Yellow",
           "#654321",
           "#90EE90",
           "#E6E6FA",
           "#90EE90",
           "#FFFFFF",
           "#000000",
           "#8B0000",
           "#FFC0CB",
           "#654321",
           "#A020F0",
           "#654321",
           "#FFB6C1",
           "#006400",
           "#A020F0",
           "#FFA07A",
           "#654321",
           "#C4A484",
           "#FFC0CB",
           "#964B00",
           "#FFA07A",
           "#E6E6FA",
           "#301934",
           "#FFA07A",
           "#006400",
           "Red",
           "Green",
           "#301934",
           "Orange",
           "#000000",
           "#FFC0CB",
           "#006400",
           "#FFFFFF",
           "#FF8C00",
           "#FF8C00",
           "#C4A484",
           "Orange",
           "#FFFFE0",
           "Orange",
           "#8B0000",
           "#E6E6FA",
           "#C4A484",
           "#FFB6C1",
           "#654321",
           "#654321",
           "#FFFFFF",
           "#8B0000",
           "#90EE90",
           "#C4A484",
           "Yellow",
           "#90EE90",
           "Beige",
           "#000000",
           "Orange",
           "#8B0000",
           "Orange",
           "Grey",
           "#90EE90",
           "Beige",
           "#0000FF",
           "#F8F8FF",
           "Grey",
           "#FFA07A",
           "#964B00",
           "#FFA07A",
           "Beige",
           "Red",
           "#A9A9A9",
           "Beige",
           "Orange",
           "Red",
           "#FF8C00",
           "#FFB6C1",
           "#A9A9A9",
           "#D3D3D3",
           "#006400",
           "#8B0000",
           "#FFFFFF",
           "#C4A484",
           "Red",
           "#654321",
           "#000000",
           "#8B0000",
           "#964B00",
           "#E6E6FA",
           "#ADD8E6",
           "#A9A9A9",
           "#006400",
           "Grey",
           "#964B00",
           "#A9A9A9",
           "#8B0000",
           "#FFFFFF",
           "Yellow",
           "#ADD8E6",
           "Beige",
           "Beige",
           "Beige",
           "#FFA07A",
           "#FFA07A",
           "#FFA07A",
           "Beige",
           "#D3D3D3",
           "#C4A484",
           "#964B00",
           "#D3D3D3",
           "Grey",
           "#A9A9A9",
           "#D3D3D3",
           "#C4A484",
           "#301934",
           "#FF8C00",
           "#A9A9A9",
           "#A020F0",
           "#FFFFFF",
           "Yellow",
           "#FFA07A",
           "#FFA07A",
           "#006400",
           "#A9A9A9",
           "#FFB6C1",
           "#90EE90",
           "Yellow",
           "Yellow",
           "#D3D3D3",
           "#D3D3D3",
           "Beige",
           "#FFA07A",
           "#D3D3D3",
           "#D3D3D3",
           "#F8F8FF",
           "#F8F8FF",
           "Beige",
           "#654321",
           "#90EE90",
           "#000000",
           "#000000",
           "#8B0000",
           "#A020F0",
           "#FFA07A",
           "#654321",
           "#654321",
           "#90EE90",
           "#90EE90",
           "#C4A484",
           "Grey",
           "#C4A484",
           "#FFA07A",
           "#FFD700",
           "#A9A9A9",
           "#A9A9A9",
           "#90EE90",
           "#E6E6FA",
           "#D3D3D3",
           "Grey",
           "#D3D3D3",
           "Grey",
           "Grey",
           "Grey",
           "#000000",
           "#D3D3D3",
           "#FFFFFF",
           "#000000",
           "#8B0000",
           "#E6E6FA",
           "#301934",
           "#000000",
           "#C4A484",
           "#FFA07A",
           "#C4A484",
           "#C4A484",
           "#C4A484",
           "Beige",
           "#D3D3D3",
           "#FF8C00",
           "#FF8C00",
           "#FF8C00",
           "#FF8C00",
           "Yellow",
           "#000000",
           "Orange",
           "Orange",
           "#D3D3D3",
           "#D3D3D3",
           "#90EE90"
          ]
         },
         "parents": [
          "",
          "total",
          "White",
          "total",
          "total",
          "Colourless",
          "White",
          "total",
          "total",
          "White",
          "total",
          "White",
          "total",
          "total",
          "total",
          "White",
          "Brown (light)",
          "total",
          "total",
          "total",
          "Purple",
          "total",
          "total",
          "total",
          "total",
          "total",
          "White",
          "White",
          "total",
          "Green",
          "Brown (light)",
          "Brown (light)",
          "Brown",
          "Purple",
          "total",
          "Brown (light)",
          "Brown (light)",
          "total",
          "Brown",
          "Brown",
          "Colourless",
          "total",
          "Yellow (light)",
          "total",
          "Brown",
          "total",
          "total",
          "Pink",
          "Purple",
          "Brown",
          "Purple",
          "Green",
          "Yellow",
          "Yellow (light)",
          "Beige",
          "Blue",
          "Green (light)",
          "Grey",
          "Yellow",
          "Pink",
          "White",
          "Pink",
          "Purple (light)",
          "Purple (light)",
          "Purple (dark)",
          "Grey",
          "Purple (light)",
          "Pink",
          "Green (dark)",
          "total",
          "Purple (dark)",
          "Yellow",
          "Brown (dark)",
          "Pink (light)",
          "Purple",
          "Green",
          "total",
          "total",
          "Green (light)",
          "Blue",
          "Grey",
          "Orange",
          "Yellow (light)",
          "Grey (light)",
          "Yellow (light)",
          "Blue (light)",
          "Yellow",
          "Beige",
          "Blue (light)",
          "total",
          "Purple (light)",
          "Orange (light)",
          "Pink (light)",
          "Blue",
          "Orange",
          "Blue",
          "Grey (light)",
          "Blue (light)",
          "Pink (light)",
          "Grey",
          "Yellow",
          "Orange",
          "Pink (light)",
          "Purple (light)",
          "Pink",
          "Green (dark)",
          "Beige",
          "total",
          "Yellow (light)",
          "Orange",
          "total",
          "Blue",
          "Grey",
          "Green (light)",
          "Red",
          "Beige",
          "Pink (light)",
          "Green",
          "Yellow",
          "Black",
          "Orange",
          "Green",
          "total",
          "Brown",
          "Purple (dark)",
          "Yellow",
          "Black",
          "Orange (light)",
          "Blue (light)",
          "Green (light)",
          "Red",
          "Blue",
          "Brown (dark)",
          "Blue (light)",
          "Blue (dark)",
          "Brown",
          "Blue (light)",
          "White",
          "Green",
          "Brown (dark)",
          "Red",
          "Grey (light)",
          "Orange",
          "Green (light)",
          "Orange (light)",
          "Blue (dark)",
          "Green (dark)",
          "Black",
          "Green (light)",
          "Pink (dark)",
          "total",
          "Pink",
          "White",
          "Purple (dark)",
          "Black",
          "Grey (light)",
          "Red (light)",
          "Orange (light)",
          "Grey (dark)",
          "Yellow (dark)",
          "Blue (light)",
          "Grey (light)",
          "Pink (dark)",
          "Yellow (dark)",
          "Yellow (dark)",
          "Brown (dark)",
          "White",
          "Yellow (light)",
          "Brown (dark)",
          "Blue",
          "Brown (dark)",
          "Red",
          "Red",
          "Green",
          "Orange (light)",
          "Pink (dark)",
          "Red (dark)",
          "Orange (light)",
          "Yellow (light)",
          "Red (dark)",
          "Green (light)",
          "Yellow",
          "Grey (dark)",
          "Orange",
          "Yellow",
          "Green",
          "Yellow",
          "Beige",
          "Blue",
          "Black",
          "Blue (dark)",
          "Black",
          "Black",
          "Grey (dark)",
          "Pink (dark)",
          "Yellow (light)",
          "Other",
          "Grey (dark)",
          "Orange",
          "Orange",
          "Brown",
          "White",
          "Yellow (dark)",
          "Brown",
          "Brown (light)",
          "Purple",
          "Purple (dark)",
          "Red (light)",
          "Brown (light)",
          "Brown (light)",
          "Other",
          "Purple",
          "Brown (dark)",
          "Purple",
          "Colourless",
          "Red",
          "Brown (light)",
          "Red",
          "Green (dark)",
          "Red (light)",
          "Black",
          "Colourless",
          "Brown (light)",
          "Pink",
          "Orange (light)",
          "Blue (dark)",
          "Beige",
          "Pink",
          "Colourless",
          "Purple",
          "Orange (dark)",
          "Red",
          "Yellow (light)",
          "Pink (light)",
          "Orange (dark)",
          "Red (dark)",
          "Green",
          "Green (dark)",
          "Grey",
          "Yellow (light)",
          "Purple",
          "Other",
          "Blue",
          "Purple (light)",
          "Green",
          "Grey (dark)",
          "Blue (dark)",
          "Yellow",
          "Green (dark)",
          "Pink (dark)",
          "Pink",
          "Green (dark)",
          "Green",
          "Purple (dark)",
          "Brown",
          "Pink (light)",
          "Blue",
          "Yellow (dark)",
          "Purple",
          "Orange",
          "Orange",
          "Blue",
          "Brown",
          "Green",
          "Red",
          "Brown (light)",
          "Yellow (dark)",
          "Pink",
          "Yellow (dark)",
          "Beige",
          "Brown (dark)",
          "Pink (dark)",
          "Brown (light)",
          "Green (dark)",
          "Blue (dark)",
          "Beige",
          "Orange (dark)",
          "Yellow (dark)",
          "Red (light)",
          "Brown (dark)",
          "Orange (dark)",
          "Blue (light)",
          "Red (dark)",
          "Yellow",
          "Colourless",
          "Purple (light)",
          "Other",
          "Red",
          "Red",
          "Red (dark)",
          "Brown",
          "Purple (light)",
          "Black",
          "Red (light)",
          "Green (light)",
          "Grey (light)",
          "Blue (dark)",
          "Red",
          "Purple (dark)",
          "Blue",
          "Grey",
          "Pink (dark)",
          "Orange (light)",
          "Green (light)",
          "Beige",
          "Brown",
          "Blue (light)",
          "Pink (light)",
          "Purple (dark)",
          "Pink (light)",
          "Other",
          "Black",
          "Blue (light)",
          "Pink (dark)",
          "Grey",
          "Green (light)",
          "Pink",
          "Purple",
          "Orange (light)",
          "Other",
          "Yellow (light)",
          "Grey",
          "Orange",
          "Green (light)",
          "Pink (light)",
          "Pink (dark)",
          "Grey",
          "Blue (light)",
          "Green (dark)",
          "White",
          "Red (dark)",
          "Orange (dark)",
          "Purple (light)",
          "Pink",
          "Blue (light)",
          "Brown",
          "Brown (light)",
          "Colourless",
          "Yellow (dark)",
          "Pink",
          "Colourless",
          "Brown (dark)",
          "White",
          "Beige",
          "Pink (dark)",
          "Grey (light)",
          "Grey (light)",
          "Yellow (light)",
          "Green",
          "Yellow",
          "Grey (light)",
          "Red (light)",
          "Orange (dark)",
          "Blue (dark)",
          "Black",
          "Grey",
          "Purple (light)",
          "Red (dark)",
          "Blue",
          "Green (light)",
          "Brown",
          "Red (light)",
          "Brown (dark)",
          "Green",
          "Colourless",
          "Brown (dark)",
          "Yellow (light)",
          "Beige",
          "Black",
          "Green (light)",
          "Green",
          "Purple (dark)",
          "Other",
          "Colourless",
          "Purple (dark)",
          "Green (dark)",
          "Other",
          "Red",
          "Grey (dark)",
          "Pink (light)",
          "Brown (light)",
          "Beige",
          "Orange (dark)",
          "Purple (light)",
          "Red (light)",
          "Pink (light)",
          "Blue (dark)",
          "Orange",
          "Red (dark)",
          "Green (dark)",
          "Red (dark)",
          "Blue (dark)",
          "Yellow",
          "Brown (dark)",
          "Green (dark)",
          "Black",
          "Pink",
          "Orange",
          "Colourless",
          "Yellow (dark)",
          "Orange (light)",
          "Colourless",
          "Orange (dark)",
          "Red (light)",
          "Yellow (dark)",
          "Other",
          "Black",
          "Purple (dark)",
          "Blue",
          "Blue (dark)",
          "Grey (dark)",
          "Grey",
          "Grey",
          "Blue (light)",
          "Orange (light)",
          "Blue (dark)",
          "Blue (light)",
          "Purple",
          "Yellow",
          "Grey (dark)",
          "Yellow (dark)",
          "Orange (light)",
          "Black",
          "Brown (light)",
          "Red (light)",
          "Red (dark)",
          "Grey (light)",
          "Pink (light)",
          "Green (light)",
          "Grey (dark)",
          "Purple (dark)",
          "Green (dark)",
          "Other",
          "Brown (dark)",
          "Pink (dark)",
          "Green (dark)",
          "Yellow (dark)",
          "Grey (dark)",
          "Orange",
          "Red (light)",
          "Grey (light)",
          "Pink (light)",
          "Other",
          "Orange (dark)",
          "Grey (light)",
          "Grey (dark)",
          "Purple (dark)",
          "Purple",
          "Yellow (light)",
          "Yellow (dark)",
          "Red (light)",
          "Red",
          "Grey (light)"
         ],
         "type": "sunburst",
         "values": [
          62555,
          22207,
          9487,
          5242,
          4654,
          4491,
          3767,
          3542,
          3468,
          2685,
          2159,
          2107,
          1908,
          1862,
          1847,
          1620,
          1447,
          1421,
          1376,
          1305,
          1170,
          1168,
          1110,
          1023,
          1019,
          1011,
          984,
          938,
          877,
          865,
          855,
          829,
          791,
          783,
          735,
          683,
          661,
          656,
          653,
          646,
          646,
          643,
          612,
          610,
          586,
          571,
          566,
          545,
          544,
          532,
          529,
          492,
          465,
          415,
          394,
          381,
          381,
          373,
          346,
          341,
          337,
          334,
          325,
          322,
          321,
          319,
          313,
          308,
          298,
          298,
          295,
          295,
          293,
          292,
          287,
          285,
          282,
          279,
          279,
          257,
          249,
          241,
          238,
          236,
          231,
          228,
          228,
          216,
          215,
          215,
          209,
          204,
          204,
          198,
          189,
          171,
          170,
          168,
          167,
          166,
          164,
          163,
          162,
          161,
          160,
          157,
          156,
          156,
          154,
          152,
          151,
          150,
          148,
          148,
          146,
          138,
          133,
          130,
          129,
          129,
          120,
          116,
          115,
          114,
          113,
          113,
          111,
          109,
          109,
          109,
          108,
          107,
          106,
          104,
          101,
          100,
          99,
          99,
          99,
          96,
          94,
          93,
          91,
          88,
          87,
          85,
          85,
          85,
          82,
          79,
          79,
          79,
          79,
          77,
          71,
          70,
          67,
          67,
          65,
          64,
          63,
          63,
          62,
          62,
          61,
          60,
          59,
          58,
          58,
          57,
          57,
          53,
          53,
          52,
          51,
          50,
          50,
          50,
          49,
          49,
          48,
          48,
          48,
          46,
          44,
          44,
          43,
          43,
          42,
          40,
          40,
          40,
          39,
          39,
          38,
          37,
          36,
          36,
          36,
          36,
          35,
          35,
          35,
          35,
          34,
          34,
          32,
          31,
          31,
          31,
          30,
          30,
          29,
          28,
          28,
          27,
          26,
          26,
          26,
          25,
          25,
          25,
          25,
          25,
          24,
          24,
          24,
          24,
          23,
          23,
          23,
          22,
          21,
          21,
          21,
          20,
          20,
          19,
          19,
          19,
          19,
          18,
          18,
          18,
          18,
          18,
          17,
          17,
          17,
          16,
          16,
          16,
          15,
          15,
          14,
          14,
          14,
          13,
          13,
          13,
          13,
          13,
          13,
          13,
          12,
          12,
          12,
          12,
          12,
          12,
          12,
          11,
          11,
          11,
          11,
          11,
          11,
          11,
          11,
          10,
          10,
          10,
          10,
          9,
          9,
          9,
          9,
          9,
          9,
          8,
          8,
          8,
          8,
          8,
          8,
          8,
          8,
          8,
          7,
          7,
          7,
          7,
          7,
          7,
          7,
          7,
          7,
          7,
          7,
          7,
          6,
          6,
          6,
          6,
          6,
          6,
          6,
          6,
          6,
          6,
          5,
          5,
          5,
          5,
          5,
          5,
          5,
          5,
          5,
          5,
          5,
          5,
          5,
          5,
          5,
          5,
          5,
          5,
          5,
          5,
          5,
          5,
          5,
          4,
          4,
          4,
          4,
          4,
          4,
          4,
          4,
          4,
          4,
          4,
          4,
          4,
          4,
          4,
          4,
          3,
          3,
          3,
          3,
          3,
          3,
          3,
          3,
          3,
          3,
          3,
          3,
          3,
          3,
          3,
          3,
          3,
          3,
          3,
          3,
          3,
          3,
          3,
          2,
          2,
          2,
          2,
          2,
          2,
          2,
          2,
          2,
          2,
          2,
          2,
          2,
          2,
          2,
          2,
          2,
          2,
          2,
          2,
          2,
          2,
          2,
          2,
          2,
          2,
          2,
          2,
          2,
          2,
          2,
          2,
          2,
          2,
          2,
          1,
          1,
          1,
          1,
          1,
          1,
          1,
          1,
          1,
          1,
          1,
          1,
          1,
          1,
          1,
          1,
          1,
          1,
          1,
          1,
          1,
          1,
          1,
          1,
          1,
          1,
          1,
          1,
          1,
          1,
          1,
          1,
          1,
          1,
          1,
          1
         ]
        }
       ],
       "layout": {
        "template": {
         "data": {
          "bar": [
           {
            "error_x": {
             "color": "#2a3f5f"
            },
            "error_y": {
             "color": "#2a3f5f"
            },
            "marker": {
             "line": {
              "color": "#E5ECF6",
              "width": 0.5
             },
             "pattern": {
              "fillmode": "overlay",
              "size": 10,
              "solidity": 0.2
             }
            },
            "type": "bar"
           }
          ],
          "barpolar": [
           {
            "marker": {
             "line": {
              "color": "#E5ECF6",
              "width": 0.5
             },
             "pattern": {
              "fillmode": "overlay",
              "size": 10,
              "solidity": 0.2
             }
            },
            "type": "barpolar"
           }
          ],
          "carpet": [
           {
            "aaxis": {
             "endlinecolor": "#2a3f5f",
             "gridcolor": "white",
             "linecolor": "white",
             "minorgridcolor": "white",
             "startlinecolor": "#2a3f5f"
            },
            "baxis": {
             "endlinecolor": "#2a3f5f",
             "gridcolor": "white",
             "linecolor": "white",
             "minorgridcolor": "white",
             "startlinecolor": "#2a3f5f"
            },
            "type": "carpet"
           }
          ],
          "choropleth": [
           {
            "colorbar": {
             "outlinewidth": 0,
             "ticks": ""
            },
            "type": "choropleth"
           }
          ],
          "contour": [
           {
            "colorbar": {
             "outlinewidth": 0,
             "ticks": ""
            },
            "colorscale": [
             [
              0,
              "#0d0887"
             ],
             [
              0.1111111111111111,
              "#46039f"
             ],
             [
              0.2222222222222222,
              "#7201a8"
             ],
             [
              0.3333333333333333,
              "#9c179e"
             ],
             [
              0.4444444444444444,
              "#bd3786"
             ],
             [
              0.5555555555555556,
              "#d8576b"
             ],
             [
              0.6666666666666666,
              "#ed7953"
             ],
             [
              0.7777777777777778,
              "#fb9f3a"
             ],
             [
              0.8888888888888888,
              "#fdca26"
             ],
             [
              1,
              "#f0f921"
             ]
            ],
            "type": "contour"
           }
          ],
          "contourcarpet": [
           {
            "colorbar": {
             "outlinewidth": 0,
             "ticks": ""
            },
            "type": "contourcarpet"
           }
          ],
          "heatmap": [
           {
            "colorbar": {
             "outlinewidth": 0,
             "ticks": ""
            },
            "colorscale": [
             [
              0,
              "#0d0887"
             ],
             [
              0.1111111111111111,
              "#46039f"
             ],
             [
              0.2222222222222222,
              "#7201a8"
             ],
             [
              0.3333333333333333,
              "#9c179e"
             ],
             [
              0.4444444444444444,
              "#bd3786"
             ],
             [
              0.5555555555555556,
              "#d8576b"
             ],
             [
              0.6666666666666666,
              "#ed7953"
             ],
             [
              0.7777777777777778,
              "#fb9f3a"
             ],
             [
              0.8888888888888888,
              "#fdca26"
             ],
             [
              1,
              "#f0f921"
             ]
            ],
            "type": "heatmap"
           }
          ],
          "heatmapgl": [
           {
            "colorbar": {
             "outlinewidth": 0,
             "ticks": ""
            },
            "colorscale": [
             [
              0,
              "#0d0887"
             ],
             [
              0.1111111111111111,
              "#46039f"
             ],
             [
              0.2222222222222222,
              "#7201a8"
             ],
             [
              0.3333333333333333,
              "#9c179e"
             ],
             [
              0.4444444444444444,
              "#bd3786"
             ],
             [
              0.5555555555555556,
              "#d8576b"
             ],
             [
              0.6666666666666666,
              "#ed7953"
             ],
             [
              0.7777777777777778,
              "#fb9f3a"
             ],
             [
              0.8888888888888888,
              "#fdca26"
             ],
             [
              1,
              "#f0f921"
             ]
            ],
            "type": "heatmapgl"
           }
          ],
          "histogram": [
           {
            "marker": {
             "pattern": {
              "fillmode": "overlay",
              "size": 10,
              "solidity": 0.2
             }
            },
            "type": "histogram"
           }
          ],
          "histogram2d": [
           {
            "colorbar": {
             "outlinewidth": 0,
             "ticks": ""
            },
            "colorscale": [
             [
              0,
              "#0d0887"
             ],
             [
              0.1111111111111111,
              "#46039f"
             ],
             [
              0.2222222222222222,
              "#7201a8"
             ],
             [
              0.3333333333333333,
              "#9c179e"
             ],
             [
              0.4444444444444444,
              "#bd3786"
             ],
             [
              0.5555555555555556,
              "#d8576b"
             ],
             [
              0.6666666666666666,
              "#ed7953"
             ],
             [
              0.7777777777777778,
              "#fb9f3a"
             ],
             [
              0.8888888888888888,
              "#fdca26"
             ],
             [
              1,
              "#f0f921"
             ]
            ],
            "type": "histogram2d"
           }
          ],
          "histogram2dcontour": [
           {
            "colorbar": {
             "outlinewidth": 0,
             "ticks": ""
            },
            "colorscale": [
             [
              0,
              "#0d0887"
             ],
             [
              0.1111111111111111,
              "#46039f"
             ],
             [
              0.2222222222222222,
              "#7201a8"
             ],
             [
              0.3333333333333333,
              "#9c179e"
             ],
             [
              0.4444444444444444,
              "#bd3786"
             ],
             [
              0.5555555555555556,
              "#d8576b"
             ],
             [
              0.6666666666666666,
              "#ed7953"
             ],
             [
              0.7777777777777778,
              "#fb9f3a"
             ],
             [
              0.8888888888888888,
              "#fdca26"
             ],
             [
              1,
              "#f0f921"
             ]
            ],
            "type": "histogram2dcontour"
           }
          ],
          "mesh3d": [
           {
            "colorbar": {
             "outlinewidth": 0,
             "ticks": ""
            },
            "type": "mesh3d"
           }
          ],
          "parcoords": [
           {
            "line": {
             "colorbar": {
              "outlinewidth": 0,
              "ticks": ""
             }
            },
            "type": "parcoords"
           }
          ],
          "pie": [
           {
            "automargin": true,
            "type": "pie"
           }
          ],
          "scatter": [
           {
            "fillpattern": {
             "fillmode": "overlay",
             "size": 10,
             "solidity": 0.2
            },
            "type": "scatter"
           }
          ],
          "scatter3d": [
           {
            "line": {
             "colorbar": {
              "outlinewidth": 0,
              "ticks": ""
             }
            },
            "marker": {
             "colorbar": {
              "outlinewidth": 0,
              "ticks": ""
             }
            },
            "type": "scatter3d"
           }
          ],
          "scattercarpet": [
           {
            "marker": {
             "colorbar": {
              "outlinewidth": 0,
              "ticks": ""
             }
            },
            "type": "scattercarpet"
           }
          ],
          "scattergeo": [
           {
            "marker": {
             "colorbar": {
              "outlinewidth": 0,
              "ticks": ""
             }
            },
            "type": "scattergeo"
           }
          ],
          "scattergl": [
           {
            "marker": {
             "colorbar": {
              "outlinewidth": 0,
              "ticks": ""
             }
            },
            "type": "scattergl"
           }
          ],
          "scattermapbox": [
           {
            "marker": {
             "colorbar": {
              "outlinewidth": 0,
              "ticks": ""
             }
            },
            "type": "scattermapbox"
           }
          ],
          "scatterpolar": [
           {
            "marker": {
             "colorbar": {
              "outlinewidth": 0,
              "ticks": ""
             }
            },
            "type": "scatterpolar"
           }
          ],
          "scatterpolargl": [
           {
            "marker": {
             "colorbar": {
              "outlinewidth": 0,
              "ticks": ""
             }
            },
            "type": "scatterpolargl"
           }
          ],
          "scatterternary": [
           {
            "marker": {
             "colorbar": {
              "outlinewidth": 0,
              "ticks": ""
             }
            },
            "type": "scatterternary"
           }
          ],
          "surface": [
           {
            "colorbar": {
             "outlinewidth": 0,
             "ticks": ""
            },
            "colorscale": [
             [
              0,
              "#0d0887"
             ],
             [
              0.1111111111111111,
              "#46039f"
             ],
             [
              0.2222222222222222,
              "#7201a8"
             ],
             [
              0.3333333333333333,
              "#9c179e"
             ],
             [
              0.4444444444444444,
              "#bd3786"
             ],
             [
              0.5555555555555556,
              "#d8576b"
             ],
             [
              0.6666666666666666,
              "#ed7953"
             ],
             [
              0.7777777777777778,
              "#fb9f3a"
             ],
             [
              0.8888888888888888,
              "#fdca26"
             ],
             [
              1,
              "#f0f921"
             ]
            ],
            "type": "surface"
           }
          ],
          "table": [
           {
            "cells": {
             "fill": {
              "color": "#EBF0F8"
             },
             "line": {
              "color": "white"
             }
            },
            "header": {
             "fill": {
              "color": "#C8D4E3"
             },
             "line": {
              "color": "white"
             }
            },
            "type": "table"
           }
          ]
         },
         "layout": {
          "annotationdefaults": {
           "arrowcolor": "#2a3f5f",
           "arrowhead": 0,
           "arrowwidth": 1
          },
          "autotypenumbers": "strict",
          "coloraxis": {
           "colorbar": {
            "outlinewidth": 0,
            "ticks": ""
           }
          },
          "colorscale": {
           "diverging": [
            [
             0,
             "#8e0152"
            ],
            [
             0.1,
             "#c51b7d"
            ],
            [
             0.2,
             "#de77ae"
            ],
            [
             0.3,
             "#f1b6da"
            ],
            [
             0.4,
             "#fde0ef"
            ],
            [
             0.5,
             "#f7f7f7"
            ],
            [
             0.6,
             "#e6f5d0"
            ],
            [
             0.7,
             "#b8e186"
            ],
            [
             0.8,
             "#7fbc41"
            ],
            [
             0.9,
             "#4d9221"
            ],
            [
             1,
             "#276419"
            ]
           ],
           "sequential": [
            [
             0,
             "#0d0887"
            ],
            [
             0.1111111111111111,
             "#46039f"
            ],
            [
             0.2222222222222222,
             "#7201a8"
            ],
            [
             0.3333333333333333,
             "#9c179e"
            ],
            [
             0.4444444444444444,
             "#bd3786"
            ],
            [
             0.5555555555555556,
             "#d8576b"
            ],
            [
             0.6666666666666666,
             "#ed7953"
            ],
            [
             0.7777777777777778,
             "#fb9f3a"
            ],
            [
             0.8888888888888888,
             "#fdca26"
            ],
            [
             1,
             "#f0f921"
            ]
           ],
           "sequentialminus": [
            [
             0,
             "#0d0887"
            ],
            [
             0.1111111111111111,
             "#46039f"
            ],
            [
             0.2222222222222222,
             "#7201a8"
            ],
            [
             0.3333333333333333,
             "#9c179e"
            ],
            [
             0.4444444444444444,
             "#bd3786"
            ],
            [
             0.5555555555555556,
             "#d8576b"
            ],
            [
             0.6666666666666666,
             "#ed7953"
            ],
            [
             0.7777777777777778,
             "#fb9f3a"
            ],
            [
             0.8888888888888888,
             "#fdca26"
            ],
            [
             1,
             "#f0f921"
            ]
           ]
          },
          "colorway": [
           "#636efa",
           "#EF553B",
           "#00cc96",
           "#ab63fa",
           "#FFA15A",
           "#19d3f3",
           "#FF6692",
           "#B6E880",
           "#FF97FF",
           "#FECB52"
          ],
          "font": {
           "color": "#2a3f5f"
          },
          "geo": {
           "bgcolor": "white",
           "lakecolor": "white",
           "landcolor": "#E5ECF6",
           "showlakes": true,
           "showland": true,
           "subunitcolor": "white"
          },
          "hoverlabel": {
           "align": "left"
          },
          "hovermode": "closest",
          "mapbox": {
           "style": "light"
          },
          "paper_bgcolor": "white",
          "plot_bgcolor": "#E5ECF6",
          "polar": {
           "angularaxis": {
            "gridcolor": "white",
            "linecolor": "white",
            "ticks": ""
           },
           "bgcolor": "#E5ECF6",
           "radialaxis": {
            "gridcolor": "white",
            "linecolor": "white",
            "ticks": ""
           }
          },
          "scene": {
           "xaxis": {
            "backgroundcolor": "#E5ECF6",
            "gridcolor": "white",
            "gridwidth": 2,
            "linecolor": "white",
            "showbackground": true,
            "ticks": "",
            "zerolinecolor": "white"
           },
           "yaxis": {
            "backgroundcolor": "#E5ECF6",
            "gridcolor": "white",
            "gridwidth": 2,
            "linecolor": "white",
            "showbackground": true,
            "ticks": "",
            "zerolinecolor": "white"
           },
           "zaxis": {
            "backgroundcolor": "#E5ECF6",
            "gridcolor": "white",
            "gridwidth": 2,
            "linecolor": "white",
            "showbackground": true,
            "ticks": "",
            "zerolinecolor": "white"
           }
          },
          "shapedefaults": {
           "line": {
            "color": "#2a3f5f"
           }
          },
          "ternary": {
           "aaxis": {
            "gridcolor": "white",
            "linecolor": "white",
            "ticks": ""
           },
           "baxis": {
            "gridcolor": "white",
            "linecolor": "white",
            "ticks": ""
           },
           "bgcolor": "#E5ECF6",
           "caxis": {
            "gridcolor": "white",
            "linecolor": "white",
            "ticks": ""
           }
          },
          "title": {
           "x": 0.05
          },
          "xaxis": {
           "automargin": true,
           "gridcolor": "white",
           "linecolor": "white",
           "ticks": "",
           "title": {
            "standoff": 15
           },
           "zerolinecolor": "white",
           "zerolinewidth": 2
          },
          "yaxis": {
           "automargin": true,
           "gridcolor": "white",
           "linecolor": "white",
           "ticks": "",
           "title": {
            "standoff": 15
           },
           "zerolinecolor": "white",
           "zerolinewidth": 2
          }
         }
        }
       }
      }
     },
     "metadata": {},
     "output_type": "display_data"
    }
   ],
   "source": [
    "fig = go.Figure(go.Sunburst(\n",
    "    labels=heir['id'],\n",
    "    parents=heir['parent'],\n",
    "    values=heir['value'],\n",
    "    marker=dict(\n",
    "        colors=heir['color']\n",
    "    ),\n",
    "    branchvalues='total',\n",
    "    ))\n",
    "#fig.update_traces(marker_colors=heir['color'])\n",
    "fig.show()"
   ]
  },
  {
   "cell_type": "code",
   "execution_count": 377,
   "metadata": {},
   "outputs": [],
   "source": [
    "replacement_list = {\n",
    "    'Tucibi': '2c-b',\n",
    "    'MD-X (Unknown)': '(MDMA|MDA)',\n",
    "    'Cannabis': '(thc|CBD|cannabidiol)',\n",
    "    'Changa': 'DMT',\n",
    "    '2C-Family': '(2c-b|2c-i|2c-t-2|2C-Family)',\n",
    "    'Speed': 'methamphetamine',\n",
    "    'Down (Unknown Opioid)': '(.*an(y|i)l|heroin|(code|morph|buprenorph)ine|(oxy|hydro)(cod|morph)one|.*tazene|w-1(8|9)|opium|(furanyl\\s)?uf-17|6-mam)',\n",
    "    'Down': '(.*an(y|i)l|heroin|(code|morph|buprenorph)ine|(oxy|hydro)(cod|morph)one|.*tazene|w-1(8|9)|opium|(furanyl\\s)?uf-17|6-mam)'\n",
    "}"
   ]
  },
  {
   "cell_type": "code",
   "execution_count": 379,
   "metadata": {},
   "outputs": [],
   "source": [
    "# df['replaced'] = df['expected drug'].replace(replacement_list, regex=False)\n",
    "df['split_drug'] = df['expected drug'].str.split(' and ')\n",
    "exp_drugs = pd.DataFrame(df['split_drug'].tolist(), index=df.index)\n",
    "exp_drugs = exp_drugs.replace(replacement_list, regex=False)"
   ]
  },
  {
   "cell_type": "code",
   "execution_count": 252,
   "metadata": {},
   "outputs": [],
   "source": [
    "df['expected_matched'] = [int(d in l) for d, l in zip(df['expected drug'], df[ftirs].values.tolist())]"
   ]
  },
  {
   "cell_type": "code",
   "execution_count": 255,
   "metadata": {},
   "outputs": [
    {
     "data": {
      "application/vnd.plotly.v1+json": {
       "config": {
        "plotlyServerURL": "https://plot.ly"
       },
       "data": [
        {
         "hole": 0.65,
         "hoverinfo": "value+percent",
         "labels": [
          "No",
          "Yes"
         ],
         "marker": {
          "line": {
           "color": "#000000",
           "width": 2
          }
         },
         "textfont": {
          "size": 20
         },
         "textinfo": "label",
         "type": "pie",
         "values": [
          43142,
          16858
         ]
        }
       ],
       "layout": {
        "annotations": [
         {
          "font": {
           "size": 20
          },
          "showarrow": false,
          "text": "Expected<br>Matched Results",
          "x": 0.5,
          "y": 0.5
         }
        ],
        "template": {
         "data": {
          "bar": [
           {
            "error_x": {
             "color": "#2a3f5f"
            },
            "error_y": {
             "color": "#2a3f5f"
            },
            "marker": {
             "line": {
              "color": "#E5ECF6",
              "width": 0.5
             },
             "pattern": {
              "fillmode": "overlay",
              "size": 10,
              "solidity": 0.2
             }
            },
            "type": "bar"
           }
          ],
          "barpolar": [
           {
            "marker": {
             "line": {
              "color": "#E5ECF6",
              "width": 0.5
             },
             "pattern": {
              "fillmode": "overlay",
              "size": 10,
              "solidity": 0.2
             }
            },
            "type": "barpolar"
           }
          ],
          "carpet": [
           {
            "aaxis": {
             "endlinecolor": "#2a3f5f",
             "gridcolor": "white",
             "linecolor": "white",
             "minorgridcolor": "white",
             "startlinecolor": "#2a3f5f"
            },
            "baxis": {
             "endlinecolor": "#2a3f5f",
             "gridcolor": "white",
             "linecolor": "white",
             "minorgridcolor": "white",
             "startlinecolor": "#2a3f5f"
            },
            "type": "carpet"
           }
          ],
          "choropleth": [
           {
            "colorbar": {
             "outlinewidth": 0,
             "ticks": ""
            },
            "type": "choropleth"
           }
          ],
          "contour": [
           {
            "colorbar": {
             "outlinewidth": 0,
             "ticks": ""
            },
            "colorscale": [
             [
              0,
              "#0d0887"
             ],
             [
              0.1111111111111111,
              "#46039f"
             ],
             [
              0.2222222222222222,
              "#7201a8"
             ],
             [
              0.3333333333333333,
              "#9c179e"
             ],
             [
              0.4444444444444444,
              "#bd3786"
             ],
             [
              0.5555555555555556,
              "#d8576b"
             ],
             [
              0.6666666666666666,
              "#ed7953"
             ],
             [
              0.7777777777777778,
              "#fb9f3a"
             ],
             [
              0.8888888888888888,
              "#fdca26"
             ],
             [
              1,
              "#f0f921"
             ]
            ],
            "type": "contour"
           }
          ],
          "contourcarpet": [
           {
            "colorbar": {
             "outlinewidth": 0,
             "ticks": ""
            },
            "type": "contourcarpet"
           }
          ],
          "heatmap": [
           {
            "colorbar": {
             "outlinewidth": 0,
             "ticks": ""
            },
            "colorscale": [
             [
              0,
              "#0d0887"
             ],
             [
              0.1111111111111111,
              "#46039f"
             ],
             [
              0.2222222222222222,
              "#7201a8"
             ],
             [
              0.3333333333333333,
              "#9c179e"
             ],
             [
              0.4444444444444444,
              "#bd3786"
             ],
             [
              0.5555555555555556,
              "#d8576b"
             ],
             [
              0.6666666666666666,
              "#ed7953"
             ],
             [
              0.7777777777777778,
              "#fb9f3a"
             ],
             [
              0.8888888888888888,
              "#fdca26"
             ],
             [
              1,
              "#f0f921"
             ]
            ],
            "type": "heatmap"
           }
          ],
          "heatmapgl": [
           {
            "colorbar": {
             "outlinewidth": 0,
             "ticks": ""
            },
            "colorscale": [
             [
              0,
              "#0d0887"
             ],
             [
              0.1111111111111111,
              "#46039f"
             ],
             [
              0.2222222222222222,
              "#7201a8"
             ],
             [
              0.3333333333333333,
              "#9c179e"
             ],
             [
              0.4444444444444444,
              "#bd3786"
             ],
             [
              0.5555555555555556,
              "#d8576b"
             ],
             [
              0.6666666666666666,
              "#ed7953"
             ],
             [
              0.7777777777777778,
              "#fb9f3a"
             ],
             [
              0.8888888888888888,
              "#fdca26"
             ],
             [
              1,
              "#f0f921"
             ]
            ],
            "type": "heatmapgl"
           }
          ],
          "histogram": [
           {
            "marker": {
             "pattern": {
              "fillmode": "overlay",
              "size": 10,
              "solidity": 0.2
             }
            },
            "type": "histogram"
           }
          ],
          "histogram2d": [
           {
            "colorbar": {
             "outlinewidth": 0,
             "ticks": ""
            },
            "colorscale": [
             [
              0,
              "#0d0887"
             ],
             [
              0.1111111111111111,
              "#46039f"
             ],
             [
              0.2222222222222222,
              "#7201a8"
             ],
             [
              0.3333333333333333,
              "#9c179e"
             ],
             [
              0.4444444444444444,
              "#bd3786"
             ],
             [
              0.5555555555555556,
              "#d8576b"
             ],
             [
              0.6666666666666666,
              "#ed7953"
             ],
             [
              0.7777777777777778,
              "#fb9f3a"
             ],
             [
              0.8888888888888888,
              "#fdca26"
             ],
             [
              1,
              "#f0f921"
             ]
            ],
            "type": "histogram2d"
           }
          ],
          "histogram2dcontour": [
           {
            "colorbar": {
             "outlinewidth": 0,
             "ticks": ""
            },
            "colorscale": [
             [
              0,
              "#0d0887"
             ],
             [
              0.1111111111111111,
              "#46039f"
             ],
             [
              0.2222222222222222,
              "#7201a8"
             ],
             [
              0.3333333333333333,
              "#9c179e"
             ],
             [
              0.4444444444444444,
              "#bd3786"
             ],
             [
              0.5555555555555556,
              "#d8576b"
             ],
             [
              0.6666666666666666,
              "#ed7953"
             ],
             [
              0.7777777777777778,
              "#fb9f3a"
             ],
             [
              0.8888888888888888,
              "#fdca26"
             ],
             [
              1,
              "#f0f921"
             ]
            ],
            "type": "histogram2dcontour"
           }
          ],
          "mesh3d": [
           {
            "colorbar": {
             "outlinewidth": 0,
             "ticks": ""
            },
            "type": "mesh3d"
           }
          ],
          "parcoords": [
           {
            "line": {
             "colorbar": {
              "outlinewidth": 0,
              "ticks": ""
             }
            },
            "type": "parcoords"
           }
          ],
          "pie": [
           {
            "automargin": true,
            "type": "pie"
           }
          ],
          "scatter": [
           {
            "fillpattern": {
             "fillmode": "overlay",
             "size": 10,
             "solidity": 0.2
            },
            "type": "scatter"
           }
          ],
          "scatter3d": [
           {
            "line": {
             "colorbar": {
              "outlinewidth": 0,
              "ticks": ""
             }
            },
            "marker": {
             "colorbar": {
              "outlinewidth": 0,
              "ticks": ""
             }
            },
            "type": "scatter3d"
           }
          ],
          "scattercarpet": [
           {
            "marker": {
             "colorbar": {
              "outlinewidth": 0,
              "ticks": ""
             }
            },
            "type": "scattercarpet"
           }
          ],
          "scattergeo": [
           {
            "marker": {
             "colorbar": {
              "outlinewidth": 0,
              "ticks": ""
             }
            },
            "type": "scattergeo"
           }
          ],
          "scattergl": [
           {
            "marker": {
             "colorbar": {
              "outlinewidth": 0,
              "ticks": ""
             }
            },
            "type": "scattergl"
           }
          ],
          "scattermapbox": [
           {
            "marker": {
             "colorbar": {
              "outlinewidth": 0,
              "ticks": ""
             }
            },
            "type": "scattermapbox"
           }
          ],
          "scatterpolar": [
           {
            "marker": {
             "colorbar": {
              "outlinewidth": 0,
              "ticks": ""
             }
            },
            "type": "scatterpolar"
           }
          ],
          "scatterpolargl": [
           {
            "marker": {
             "colorbar": {
              "outlinewidth": 0,
              "ticks": ""
             }
            },
            "type": "scatterpolargl"
           }
          ],
          "scatterternary": [
           {
            "marker": {
             "colorbar": {
              "outlinewidth": 0,
              "ticks": ""
             }
            },
            "type": "scatterternary"
           }
          ],
          "surface": [
           {
            "colorbar": {
             "outlinewidth": 0,
             "ticks": ""
            },
            "colorscale": [
             [
              0,
              "#0d0887"
             ],
             [
              0.1111111111111111,
              "#46039f"
             ],
             [
              0.2222222222222222,
              "#7201a8"
             ],
             [
              0.3333333333333333,
              "#9c179e"
             ],
             [
              0.4444444444444444,
              "#bd3786"
             ],
             [
              0.5555555555555556,
              "#d8576b"
             ],
             [
              0.6666666666666666,
              "#ed7953"
             ],
             [
              0.7777777777777778,
              "#fb9f3a"
             ],
             [
              0.8888888888888888,
              "#fdca26"
             ],
             [
              1,
              "#f0f921"
             ]
            ],
            "type": "surface"
           }
          ],
          "table": [
           {
            "cells": {
             "fill": {
              "color": "#EBF0F8"
             },
             "line": {
              "color": "white"
             }
            },
            "header": {
             "fill": {
              "color": "#C8D4E3"
             },
             "line": {
              "color": "white"
             }
            },
            "type": "table"
           }
          ]
         },
         "layout": {
          "annotationdefaults": {
           "arrowcolor": "#2a3f5f",
           "arrowhead": 0,
           "arrowwidth": 1
          },
          "autotypenumbers": "strict",
          "coloraxis": {
           "colorbar": {
            "outlinewidth": 0,
            "ticks": ""
           }
          },
          "colorscale": {
           "diverging": [
            [
             0,
             "#8e0152"
            ],
            [
             0.1,
             "#c51b7d"
            ],
            [
             0.2,
             "#de77ae"
            ],
            [
             0.3,
             "#f1b6da"
            ],
            [
             0.4,
             "#fde0ef"
            ],
            [
             0.5,
             "#f7f7f7"
            ],
            [
             0.6,
             "#e6f5d0"
            ],
            [
             0.7,
             "#b8e186"
            ],
            [
             0.8,
             "#7fbc41"
            ],
            [
             0.9,
             "#4d9221"
            ],
            [
             1,
             "#276419"
            ]
           ],
           "sequential": [
            [
             0,
             "#0d0887"
            ],
            [
             0.1111111111111111,
             "#46039f"
            ],
            [
             0.2222222222222222,
             "#7201a8"
            ],
            [
             0.3333333333333333,
             "#9c179e"
            ],
            [
             0.4444444444444444,
             "#bd3786"
            ],
            [
             0.5555555555555556,
             "#d8576b"
            ],
            [
             0.6666666666666666,
             "#ed7953"
            ],
            [
             0.7777777777777778,
             "#fb9f3a"
            ],
            [
             0.8888888888888888,
             "#fdca26"
            ],
            [
             1,
             "#f0f921"
            ]
           ],
           "sequentialminus": [
            [
             0,
             "#0d0887"
            ],
            [
             0.1111111111111111,
             "#46039f"
            ],
            [
             0.2222222222222222,
             "#7201a8"
            ],
            [
             0.3333333333333333,
             "#9c179e"
            ],
            [
             0.4444444444444444,
             "#bd3786"
            ],
            [
             0.5555555555555556,
             "#d8576b"
            ],
            [
             0.6666666666666666,
             "#ed7953"
            ],
            [
             0.7777777777777778,
             "#fb9f3a"
            ],
            [
             0.8888888888888888,
             "#fdca26"
            ],
            [
             1,
             "#f0f921"
            ]
           ]
          },
          "colorway": [
           "#636efa",
           "#EF553B",
           "#00cc96",
           "#ab63fa",
           "#FFA15A",
           "#19d3f3",
           "#FF6692",
           "#B6E880",
           "#FF97FF",
           "#FECB52"
          ],
          "font": {
           "color": "#2a3f5f"
          },
          "geo": {
           "bgcolor": "white",
           "lakecolor": "white",
           "landcolor": "#E5ECF6",
           "showlakes": true,
           "showland": true,
           "subunitcolor": "white"
          },
          "hoverlabel": {
           "align": "left"
          },
          "hovermode": "closest",
          "mapbox": {
           "style": "light"
          },
          "paper_bgcolor": "white",
          "plot_bgcolor": "#E5ECF6",
          "polar": {
           "angularaxis": {
            "gridcolor": "white",
            "linecolor": "white",
            "ticks": ""
           },
           "bgcolor": "#E5ECF6",
           "radialaxis": {
            "gridcolor": "white",
            "linecolor": "white",
            "ticks": ""
           }
          },
          "scene": {
           "xaxis": {
            "backgroundcolor": "#E5ECF6",
            "gridcolor": "white",
            "gridwidth": 2,
            "linecolor": "white",
            "showbackground": true,
            "ticks": "",
            "zerolinecolor": "white"
           },
           "yaxis": {
            "backgroundcolor": "#E5ECF6",
            "gridcolor": "white",
            "gridwidth": 2,
            "linecolor": "white",
            "showbackground": true,
            "ticks": "",
            "zerolinecolor": "white"
           },
           "zaxis": {
            "backgroundcolor": "#E5ECF6",
            "gridcolor": "white",
            "gridwidth": 2,
            "linecolor": "white",
            "showbackground": true,
            "ticks": "",
            "zerolinecolor": "white"
           }
          },
          "shapedefaults": {
           "line": {
            "color": "#2a3f5f"
           }
          },
          "ternary": {
           "aaxis": {
            "gridcolor": "white",
            "linecolor": "white",
            "ticks": ""
           },
           "baxis": {
            "gridcolor": "white",
            "linecolor": "white",
            "ticks": ""
           },
           "bgcolor": "#E5ECF6",
           "caxis": {
            "gridcolor": "white",
            "linecolor": "white",
            "ticks": ""
           }
          },
          "title": {
           "x": 0.05
          },
          "xaxis": {
           "automargin": true,
           "gridcolor": "white",
           "linecolor": "white",
           "ticks": "",
           "title": {
            "standoff": 15
           },
           "zerolinecolor": "white",
           "zerolinewidth": 2
          },
          "yaxis": {
           "automargin": true,
           "gridcolor": "white",
           "linecolor": "white",
           "ticks": "",
           "title": {
            "standoff": 15
           },
           "zerolinecolor": "white",
           "zerolinewidth": 2
          }
         }
        }
       }
      }
     },
     "metadata": {},
     "output_type": "display_data"
    }
   ],
   "source": [
    "fig = go.Figure(go.Pie(\n",
    "    labels=df['expected_matched'].replace({1: \"Yes\", 0: \"No\"}).value_counts().index,\n",
    "    values=df['expected_matched'].value_counts().values,\n",
    "    hole=0.65\n",
    "))\n",
    "fig.update_traces(\n",
    "    hoverinfo='value+percent', textinfo='label', textfont_size=20,\n",
    "    marker=dict(line=dict(color='#000000', width=2))\n",
    ")\n",
    "fig.update_layout(\n",
    "    annotations=[\n",
    "        dict(text=\"Expected Drug<br>Matched Result\", x=0.5, y=0.5, font_size=20, showarrow=False)\n",
    "    ]\n",
    ")"
   ]
  },
  {
   "cell_type": "code",
   "execution_count": 406,
   "metadata": {},
   "outputs": [],
   "source": [
    "def match_drugs(expected, tested):\n",
    "    return 1 if re.search(expected, tested, re.IGNORECASE) else 0"
   ]
  },
  {
   "cell_type": "code",
   "execution_count": null,
   "metadata": {},
   "outputs": [],
   "source": [
    "def match_drugs(expected, tested):\n",
    "    score = sum(1 if re.search(drug, test, re.IGNORECASE) else 0 for test in tested)\n",
    "    return 1 if score == num_exp else 0    "
   ]
  },
  {
   "cell_type": "code",
   "execution_count": 352,
   "metadata": {},
   "outputs": [
    {
     "data": {
      "text/plain": [
       "array(['Down (Unknown Opioid)', 'Unknown', 'Alprazolam',\n",
       "       'Methamphetamine', 'Fentanyl', 'MDMA', 'Ketamine', 'Pyrazolam',\n",
       "       'Opium', 'MD-X (Unknown)', 'MDA', '4-HO-MET', 'Cocaine', 'Codeine',\n",
       "       'Oxycodone', 'Amphetamine', 'Xylazine', 'Bromazolam', 'Gaboxadol',\n",
       "       '4-AcO-DMT', 'GHB', 'Crack Cocaine', 'Diazepam', 'Tucibi',\n",
       "       'Hydromorphone', 'LSD', 'Clonazepam', 'Testosterone Cypionate',\n",
       "       'Clomifene', 'Tamoxifen', 'Copper Chromite', 'Methandrostenolone',\n",
       "       'GBL', 'Acetaminophen and Oxycodone', 'Tadalafil', 'Heroin',\n",
       "       '2C-B', 'CBD', '5-MeO-MiPT', 'Mescaline', 'GW501516',\n",
       "       'Metonitazene', 'DPT', 'Modafinil', 'Sildenafil',\n",
       "       'Testosterone Isocaproate', 'DMT', 'Desalkylgidazepam',\n",
       "       'Benzocaine', 'Ivermectin', 'Quetiapine', 'Flualprazolam',\n",
       "       'Sildenafil and Tadalafil', '2C-E', 'Fentanyl and Heroin',\n",
       "       'Tramadol', '1,4-Butanediol', 'Carisoprodol', 'Lorazepam',\n",
       "       'Deschloroetizolam', 'FXE', '4-AcO-MET', 'Oxandrolone',\n",
       "       'Nandrolone Phenylpropionate', 'Fentanyl and Methamphetamine',\n",
       "       'Down and Methamphetamine', 'Cannabis and Derivatives',\n",
       "       'Methylphenidate', '4-MMC', 'Morphine', 'THC', 'MDP2P',\n",
       "       '4-Fluorophenibut', 'Cocaine and Ketamine', 'Etizolam',\n",
       "       'Exemestane', '1P-LSD', 'Heroin and Cocaine', '3-HO-PCP',\n",
       "       '5-MeO-DMT', 'Kratom and Derivatives', 'Stanozolol', 'Zolpidem',\n",
       "       'DXM', 'Methaqualone', 'Flubromazolam', 'Trazodone', '3-MMC',\n",
       "       'Mushroom and Derivatives', 'Caffeine', 'MDA and MDMA', '4F-MPH',\n",
       "       'Zopiclone', 'Carfentanil', '5-MAPB', '2C-T-2', 'MXE',\n",
       "       '5-MeO-DiPT', 'Buprenorphine', 'Gabapentin', 'Diclazepam',\n",
       "       'Methallylescaline', 'Ibutamoren', 'Testosterone Enanthate',\n",
       "       'Ergotamine', 'Chlorodehydromethyltestosterone', 'DOM',\n",
       "       'Testosterone Family', 'Metribolone', 'Testosterone Propionate',\n",
       "       'Trenbolone Enanthate', 'Nandrolone Decanoate',\n",
       "       'Methenolone Enanthate', 'Testosterone', 'Testosterone Acetate',\n",
       "       'Trenbolone Acetate', 'Drostanolone Enanthate', 'Tapentadol',\n",
       "       '4-PrO-DMT', '5-MeO-MALT', 'Anastrozole', 'Phenacetin',\n",
       "       'Phenmetrazine', 'Doxycycline', 'Enobosarm', '4-HO-MiPT',\n",
       "       'Isotretinoin', '2C-I', 'Acetaminophen and Codeine', 'W-18',\n",
       "       'Escitalopram', 'Cocaine and Fentanyl', 'Ondansetron', 'Ligandrol',\n",
       "       'Albuterol Sulfate', 'Cyclazodone', 'Lisdexamfetamine', 'Changa',\n",
       "       '3-CPM', 'Ammonium', '2-MMC', 'Steroid', 'Methenolone Acetate',\n",
       "       'Calcium Sulfate', 'Hydrocodone', 'Testosterone Undecanoate',\n",
       "       '4-HO-PiPT', 'Telmisartan', '4-AcO-DPT', 'Terbinafine',\n",
       "       'Somatropin', 'Sertraline', 'Clenbuterol', 'Letrozole', 'O-PCE',\n",
       "       'Heroin and Methamphetamine', 'Flubromazepam', '2C-B-FLY',\n",
       "       'Nordazepam', 'Methocarbamol', 'Pregabalin', 'Etodesnitazene',\n",
       "       '3-MeO-PCE', 'DCK', '2-FDCK', 'Diphenidine', 'Harmine',\n",
       "       'Clonazolam', 'DMXE', 'Oxymetholone', 'O-DSMT',\n",
       "       'Acetaminophen and Hydrocodone', 'MiPT', 'Protonitazene', '5-MT',\n",
       "       '3-HO-PCE', '2-FMA', 'Magnesium Citrate', 'Androstanolone',\n",
       "       'Acetaminophen', 'Methadone', 'Fluoxymesterone', '2C-Family',\n",
       "       '2C-D', '3C-P', '4-FMA', '6-APB', 'Phenibut', 'Rilmazafone',\n",
       "       'Cyclobenzaprine', '3-FPM', 'Dapoxetine', 'Ranitidine', '25B-NBOH',\n",
       "       'Methasterone', 'Amfonelic Acid', 'Phenylephrine', 'Triprolidine',\n",
       "       'Metformin', 'Vape Juice', 'JWH-210', '25E-NBOH', 'Vitamin C',\n",
       "       'Calcium Carbonate', 'LSD and MDA', 'Methyltestosterone',\n",
       "       'Methylstenbolone', 'Mibolerone', 'Liothyrine', 'MPT',\n",
       "       'Fenbendazole', 'Speed', 'Antibiotic', '5-MeO-DALT', 'Pramipexole',\n",
       "       'Cefalexin', 'Fluorenol', 'Proscaline', '4-AcO-MPT', '5-MeO-PiPT',\n",
       "       'Isotonitazene', '4-FA', 'Nitrazolam', 'MXiPr', 'Promethazine',\n",
       "       'Lithium', 'PCP', 'TUDCA', 'AL-LAD', 'ETH-LAD', 'Isophenmetrazine',\n",
       "       'Orlistat', 'Tiotropium', 'Amoxicillin', 'Dexamethasone',\n",
       "       'Prednisone', 'Fasoracetam', 'Tianeptine', 'Clonidine', '3-Cl-PCP',\n",
       "       '3-FMA', '4-MeTMP', 'Mesterolone', 'Aniracetam', 'Flunitrazolam',\n",
       "       'DiPT', 'Methylhexanamine', 'Methylepitiostanol', 'Trestolone',\n",
       "       'Fluoro-GBL', '25I-NBOMe', 'Baclofen', 'DOC',\n",
       "       'Atovaquone and Proguanil', '3-Hydroxyphenazepam', 'Ephedrine',\n",
       "       'Clarithromycin', 'Raloxifene', 'Citalopram', 'Ketamine and MDMA',\n",
       "       'DNP', 'Carfentanil and Fentanyl', 'AMT', '4-HO-DiPT',\n",
       "       'Cabergoline', 'Selegiline', 'Pseudoephedrine', '5-MeO-EiPT',\n",
       "       '4C-D', '6-MAPB', '3C-E', 'Risperidone', 'Niclosamide',\n",
       "       'Nitrazepam', 'Dihydrocodeine', 'LSD and MDMA', 'NKTR-181',\n",
       "       'Hydroxychloroquine', 'Azithromycin', 'N-Methyl-Cyclazodone',\n",
       "       'Yohimbine', 'Albuterol', 'Fluclotizolam', '3-FEA', 'Supplement',\n",
       "       'MET', 'Drostanolone Propionate', 'Boldenone Undecylenate',\n",
       "       'Norflurazepam', 'Resveratrol', 'Nicotinamide', 'Tiletamine',\n",
       "       'Osimertinib', '2C-P', 'Minoxidil', 'Nebivolol', 'Amlodipine',\n",
       "       'Hydrochlorothiazide', 'HXE', 'ALD-52', 'N-Ethylpentedrone',\n",
       "       'Flubrotizolam', 'BOD', 'MEAI', 'Memantine', 'Omberacetam',\n",
       "       'Hydrocortisone', 'Acetildenafil', 'Furanylfentanyl', 'Poppers',\n",
       "       'PiPT', 'Thalidomide', 'Isopropylbenzylamine', 'Atorvastatin',\n",
       "       'Dutasteride', 'Ibogaine', 'Cocaine and Ketamine and MDMA',\n",
       "       'Safrole', 'Armodafinil', 'Matrine', '3,4,5-Trimethoxyphenibut',\n",
       "       'Ketanserin', 'DMTP', 'Tolibut', '4-AcO-DET', 'Eutylone',\n",
       "       'Methylone', 'Diphenhydramine', 'MALT', '4-HO-MALT', '2C-T-7',\n",
       "       'Pantoprazole', 'Niacin', 'Bisacodyl', 'Vitamin E', 'Progesterone',\n",
       "       'Vitamin D', 'Omeprazole', 'Estradiol', 'a-PHiP', 'Lamotrigine',\n",
       "       'Phenylpiracetam', 'Bromantane', 'NM-2-AI', 'Melatonin',\n",
       "       'Tadalafil and Vardenafil', 'Pagoclone', 'N-Isobutylhexedrone',\n",
       "       'N-Ethylhexedrone', 'Ketoglutaric Acid', 'Ceftazidime',\n",
       "       'Adrafinil', 'a-PHP', '4-HO-EPT', 'Lidocaine', '4-ANPP', 'a-PCYP',\n",
       "       '3-MeO-PCP', 'Bicalutamide', 'Metizolam', '4-HO-MPT', '4-HO-DET',\n",
       "       '3F-PCP', 'Cocaine Wash', '4-EMC', '5-APB', 'Pentobarbital',\n",
       "       'Lisinopril', 'Sibutramine', '9-Me-BC', 'Etaqualone', '4-MeO-MiPT',\n",
       "       'Nimetazepam', 'MMDA', 'Triazolam', 'Escaline', '4-HO-McPT',\n",
       "       '5-MeO-DPT', '5-MeO-MET', '4-AcO-EPT', 'Temazepam',\n",
       "       'Carfentanil and Heroin'], dtype=object)"
      ]
     },
     "execution_count": 352,
     "metadata": {},
     "output_type": "execute_result"
    }
   ],
   "source": [
    "df['expected drug'].unique()"
   ]
  },
  {
   "cell_type": "code",
   "execution_count": 347,
   "metadata": {},
   "outputs": [],
   "source": [
    "def test(x):\n",
    "    return 1 if re.search(\n",
    "    '(.*an(y|i)l|heroin|(code|morph|buprenorph)ine|(oxy|hydro)(cod|morph)one|.*tazene|w-1(8|9)|opium|(furanyl\\s)?uf-17|6-mam)',\n",
    "    x,\n",
    "    re.IGNORECASE\n",
    ") else 0\n",
    "\n",
    "test2 = df['ftir component 0'].apply(lambda x: test(x))\n",
    "t2 = test2[test2 == 1].index"
   ]
  },
  {
   "cell_type": "code",
   "execution_count": 330,
   "metadata": {},
   "outputs": [],
   "source": [
    "test1 = df['ftir component 0'].apply(lambda x: opioid_present(x))\n",
    "t1 = test1[test1 == 1].index"
   ]
  },
  {
   "cell_type": "code",
   "execution_count": 441,
   "metadata": {},
   "outputs": [],
   "source": [
    "incorrect_strip_opioid = (df['contains_opioids'] == 1) & ((df['fentanyl strip'] == -1) | (df['fentanyl strip'] == 0))\n",
    "incorrect_ftir_opioid = (df['fentanyl strip'] == 1) & (df['contains_opioids'] == 0)\n",
    "\n",
    "incorrect_strip_benzo = (df['ftir_benzo'] == 1) & ((df['benzo strip'] == -1) | (df['benzo strip'] == 0))\n",
    "incorrect_ftir_benzo = (df['benzo strip'] == 1) & (df['ftir_benzo'] == 0)\n",
    "\n",
    "# strip_diff = df[df['fentanyl strip'] == 1].index.difference(df[df['contains_opioids'] == 1].index)\n",
    "# strip_diff = df.iloc[strip_diff]"
   ]
  },
  {
   "cell_type": "code",
   "execution_count": 443,
   "metadata": {},
   "outputs": [
    {
     "data": {
      "text/plain": [
       "False    56394\n",
       "True      3606\n",
       "dtype: int64"
      ]
     },
     "execution_count": 443,
     "metadata": {},
     "output_type": "execute_result"
    }
   ],
   "source": [
    "(incorrect_strip_opioid + incorrect_strip_benzo).value_counts()"
   ]
  },
  {
   "cell_type": "code",
   "execution_count": 447,
   "metadata": {},
   "outputs": [
    {
     "data": {
      "text/plain": [
       "False    54562\n",
       "True      5438\n",
       "dtype: int64"
      ]
     },
     "execution_count": 447,
     "metadata": {},
     "output_type": "execute_result"
    }
   ],
   "source": [
    "incorrect_ftir_opioid.value_counts()"
   ]
  },
  {
   "cell_type": "code",
   "execution_count": 440,
   "metadata": {},
   "outputs": [
    {
     "data": {
      "text/html": [
       "<div>\n",
       "<style scoped>\n",
       "    .dataframe tbody tr th:only-of-type {\n",
       "        vertical-align: middle;\n",
       "    }\n",
       "\n",
       "    .dataframe tbody tr th {\n",
       "        vertical-align: top;\n",
       "    }\n",
       "\n",
       "    .dataframe thead th {\n",
       "        text-align: right;\n",
       "    }\n",
       "</style>\n",
       "<table border=\"1\" class=\"dataframe\">\n",
       "  <thead>\n",
       "    <tr style=\"text-align: right;\">\n",
       "      <th></th>\n",
       "      <th>visit date</th>\n",
       "      <th>city</th>\n",
       "      <th>site</th>\n",
       "      <th>expected drug</th>\n",
       "      <th>category</th>\n",
       "      <th>colour</th>\n",
       "      <th>texture</th>\n",
       "      <th>fentanyl strip</th>\n",
       "      <th>benzo strip</th>\n",
       "      <th>ftir component 0</th>\n",
       "      <th>ftir component 1</th>\n",
       "      <th>ftir component 2</th>\n",
       "      <th>ftir component 3</th>\n",
       "      <th>ftir component 4</th>\n",
       "      <th>ftir component 5</th>\n",
       "      <th>contains_opioids</th>\n",
       "      <th>total_opioids</th>\n",
       "      <th>ftir_benzo</th>\n",
       "      <th>total_benzos</th>\n",
       "      <th>incorrect_strip</th>\n",
       "      <th>incorrect_ftir</th>\n",
       "    </tr>\n",
       "  </thead>\n",
       "  <tbody>\n",
       "    <tr>\n",
       "      <th>0</th>\n",
       "      <td>2023-01-31</td>\n",
       "      <td>Penticton</td>\n",
       "      <td>Fairhaven</td>\n",
       "      <td>Down (Unknown Opioid)</td>\n",
       "      <td>Opioid</td>\n",
       "      <td>Purple</td>\n",
       "      <td>Chunk</td>\n",
       "      <td>1</td>\n",
       "      <td>-1</td>\n",
       "      <td>Fentanyl</td>\n",
       "      <td>Erythritol</td>\n",
       "      <td>Caffeine</td>\n",
       "      <td>None</td>\n",
       "      <td>None</td>\n",
       "      <td>None</td>\n",
       "      <td>1</td>\n",
       "      <td>1</td>\n",
       "      <td>0</td>\n",
       "      <td>0</td>\n",
       "      <td>0</td>\n",
       "      <td>0</td>\n",
       "    </tr>\n",
       "    <tr>\n",
       "      <th>1</th>\n",
       "      <td>2023-01-31</td>\n",
       "      <td>Vancouver</td>\n",
       "      <td>Get Your Drugs Tested</td>\n",
       "      <td>Unknown</td>\n",
       "      <td>Unknown</td>\n",
       "      <td>Brown (light)</td>\n",
       "      <td>Chunk</td>\n",
       "      <td>1</td>\n",
       "      <td>-1</td>\n",
       "      <td>Uncertain match</td>\n",
       "      <td>Fentanyl</td>\n",
       "      <td>None</td>\n",
       "      <td>None</td>\n",
       "      <td>None</td>\n",
       "      <td>None</td>\n",
       "      <td>1</td>\n",
       "      <td>1</td>\n",
       "      <td>0</td>\n",
       "      <td>0</td>\n",
       "      <td>0</td>\n",
       "      <td>0</td>\n",
       "    </tr>\n",
       "    <tr>\n",
       "      <th>2</th>\n",
       "      <td>2023-01-31</td>\n",
       "      <td>Vancouver</td>\n",
       "      <td>Get Your Drugs Tested</td>\n",
       "      <td>Alprazolam</td>\n",
       "      <td>Depressant</td>\n",
       "      <td>Green (light)</td>\n",
       "      <td>Chunk</td>\n",
       "      <td>-1</td>\n",
       "      <td>1</td>\n",
       "      <td>Flualprazolam</td>\n",
       "      <td>Microcrystalline cellulose</td>\n",
       "      <td>None</td>\n",
       "      <td>None</td>\n",
       "      <td>None</td>\n",
       "      <td>None</td>\n",
       "      <td>0</td>\n",
       "      <td>0</td>\n",
       "      <td>1</td>\n",
       "      <td>1</td>\n",
       "      <td>0</td>\n",
       "      <td>0</td>\n",
       "    </tr>\n",
       "    <tr>\n",
       "      <th>3</th>\n",
       "      <td>2023-01-31</td>\n",
       "      <td>Nanaimo</td>\n",
       "      <td>CMHA</td>\n",
       "      <td>Down (Unknown Opioid)</td>\n",
       "      <td>Opioid</td>\n",
       "      <td>Pink</td>\n",
       "      <td>Powder</td>\n",
       "      <td>1</td>\n",
       "      <td>1</td>\n",
       "      <td>Fentanyl</td>\n",
       "      <td>Mannitol</td>\n",
       "      <td>Caffeine</td>\n",
       "      <td>Bromazolam</td>\n",
       "      <td>None</td>\n",
       "      <td>None</td>\n",
       "      <td>1</td>\n",
       "      <td>1</td>\n",
       "      <td>1</td>\n",
       "      <td>1</td>\n",
       "      <td>0</td>\n",
       "      <td>0</td>\n",
       "    </tr>\n",
       "    <tr>\n",
       "      <th>4</th>\n",
       "      <td>2023-01-31</td>\n",
       "      <td>Cranbrook</td>\n",
       "      <td>ANKORS (Cranbrook)</td>\n",
       "      <td>Methamphetamine</td>\n",
       "      <td>Stimulant</td>\n",
       "      <td>Colourless</td>\n",
       "      <td>Crystal</td>\n",
       "      <td>-1</td>\n",
       "      <td>0</td>\n",
       "      <td>Methamphetamine</td>\n",
       "      <td>None</td>\n",
       "      <td>None</td>\n",
       "      <td>None</td>\n",
       "      <td>None</td>\n",
       "      <td>None</td>\n",
       "      <td>0</td>\n",
       "      <td>0</td>\n",
       "      <td>0</td>\n",
       "      <td>0</td>\n",
       "      <td>0</td>\n",
       "      <td>0</td>\n",
       "    </tr>\n",
       "    <tr>\n",
       "      <th>...</th>\n",
       "      <td>...</td>\n",
       "      <td>...</td>\n",
       "      <td>...</td>\n",
       "      <td>...</td>\n",
       "      <td>...</td>\n",
       "      <td>...</td>\n",
       "      <td>...</td>\n",
       "      <td>...</td>\n",
       "      <td>...</td>\n",
       "      <td>...</td>\n",
       "      <td>...</td>\n",
       "      <td>...</td>\n",
       "      <td>...</td>\n",
       "      <td>...</td>\n",
       "      <td>...</td>\n",
       "      <td>...</td>\n",
       "      <td>...</td>\n",
       "      <td>...</td>\n",
       "      <td>...</td>\n",
       "      <td>...</td>\n",
       "      <td>...</td>\n",
       "    </tr>\n",
       "    <tr>\n",
       "      <th>59995</th>\n",
       "      <td>2018-12-03</td>\n",
       "      <td>Vancouver</td>\n",
       "      <td>Insite</td>\n",
       "      <td>MDMA</td>\n",
       "      <td>Psychedelic</td>\n",
       "      <td>Black</td>\n",
       "      <td>Granules</td>\n",
       "      <td>0</td>\n",
       "      <td>0</td>\n",
       "      <td>Uncertain match</td>\n",
       "      <td>Phenacetin</td>\n",
       "      <td>None</td>\n",
       "      <td>None</td>\n",
       "      <td>None</td>\n",
       "      <td>None</td>\n",
       "      <td>0</td>\n",
       "      <td>0</td>\n",
       "      <td>0</td>\n",
       "      <td>0</td>\n",
       "      <td>0</td>\n",
       "      <td>0</td>\n",
       "    </tr>\n",
       "    <tr>\n",
       "      <th>59996</th>\n",
       "      <td>2018-12-03</td>\n",
       "      <td>Vancouver</td>\n",
       "      <td>Insite</td>\n",
       "      <td>Fentanyl</td>\n",
       "      <td>Opioid</td>\n",
       "      <td>Purple</td>\n",
       "      <td>Granules</td>\n",
       "      <td>1</td>\n",
       "      <td>0</td>\n",
       "      <td>Caffeine</td>\n",
       "      <td>Inositol</td>\n",
       "      <td>Heroin hcl</td>\n",
       "      <td>Fentanyl</td>\n",
       "      <td>None</td>\n",
       "      <td>None</td>\n",
       "      <td>1</td>\n",
       "      <td>1</td>\n",
       "      <td>0</td>\n",
       "      <td>0</td>\n",
       "      <td>0</td>\n",
       "      <td>0</td>\n",
       "    </tr>\n",
       "    <tr>\n",
       "      <th>59997</th>\n",
       "      <td>2018-12-03</td>\n",
       "      <td>Vancouver</td>\n",
       "      <td>Getaway</td>\n",
       "      <td>Unknown</td>\n",
       "      <td>Unknown</td>\n",
       "      <td>Colourless</td>\n",
       "      <td>Crystal</td>\n",
       "      <td>-1</td>\n",
       "      <td>0</td>\n",
       "      <td>Methamphetamine</td>\n",
       "      <td>None</td>\n",
       "      <td>None</td>\n",
       "      <td>None</td>\n",
       "      <td>None</td>\n",
       "      <td>None</td>\n",
       "      <td>0</td>\n",
       "      <td>0</td>\n",
       "      <td>0</td>\n",
       "      <td>0</td>\n",
       "      <td>0</td>\n",
       "      <td>0</td>\n",
       "    </tr>\n",
       "    <tr>\n",
       "      <th>59998</th>\n",
       "      <td>2018-12-03</td>\n",
       "      <td>Vancouver</td>\n",
       "      <td>Getaway</td>\n",
       "      <td>Fentanyl</td>\n",
       "      <td>Opioid</td>\n",
       "      <td>Green</td>\n",
       "      <td>Pebble</td>\n",
       "      <td>1</td>\n",
       "      <td>0</td>\n",
       "      <td>Fentanyl</td>\n",
       "      <td>Caffeine</td>\n",
       "      <td>Mannitol</td>\n",
       "      <td>Mannitol</td>\n",
       "      <td>Caffeine</td>\n",
       "      <td>Fentanyl</td>\n",
       "      <td>1</td>\n",
       "      <td>1</td>\n",
       "      <td>0</td>\n",
       "      <td>0</td>\n",
       "      <td>0</td>\n",
       "      <td>0</td>\n",
       "    </tr>\n",
       "    <tr>\n",
       "      <th>59999</th>\n",
       "      <td>2018-12-03</td>\n",
       "      <td>Nelson</td>\n",
       "      <td>ANKORS (Nelson)</td>\n",
       "      <td>Fentanyl</td>\n",
       "      <td>Opioid</td>\n",
       "      <td>Grey</td>\n",
       "      <td>Pebble</td>\n",
       "      <td>1</td>\n",
       "      <td>0</td>\n",
       "      <td>Caffeine</td>\n",
       "      <td>Fentanyl</td>\n",
       "      <td>None</td>\n",
       "      <td>None</td>\n",
       "      <td>None</td>\n",
       "      <td>None</td>\n",
       "      <td>1</td>\n",
       "      <td>1</td>\n",
       "      <td>0</td>\n",
       "      <td>0</td>\n",
       "      <td>0</td>\n",
       "      <td>0</td>\n",
       "    </tr>\n",
       "  </tbody>\n",
       "</table>\n",
       "<p>60000 rows × 21 columns</p>\n",
       "</div>"
      ],
      "text/plain": [
       "       visit date       city                   site          expected drug  \\\n",
       "0      2023-01-31  Penticton              Fairhaven  Down (Unknown Opioid)   \n",
       "1      2023-01-31  Vancouver  Get Your Drugs Tested                Unknown   \n",
       "2      2023-01-31  Vancouver  Get Your Drugs Tested             Alprazolam   \n",
       "3      2023-01-31    Nanaimo                   CMHA  Down (Unknown Opioid)   \n",
       "4      2023-01-31  Cranbrook     ANKORS (Cranbrook)        Methamphetamine   \n",
       "...           ...        ...                    ...                    ...   \n",
       "59995  2018-12-03  Vancouver                 Insite                   MDMA   \n",
       "59996  2018-12-03  Vancouver                 Insite               Fentanyl   \n",
       "59997  2018-12-03  Vancouver                Getaway                Unknown   \n",
       "59998  2018-12-03  Vancouver                Getaway               Fentanyl   \n",
       "59999  2018-12-03     Nelson        ANKORS (Nelson)               Fentanyl   \n",
       "\n",
       "          category         colour   texture  fentanyl strip  benzo strip  \\\n",
       "0           Opioid         Purple     Chunk               1           -1   \n",
       "1          Unknown  Brown (light)     Chunk               1           -1   \n",
       "2       Depressant  Green (light)     Chunk              -1            1   \n",
       "3           Opioid           Pink    Powder               1            1   \n",
       "4        Stimulant     Colourless   Crystal              -1            0   \n",
       "...            ...            ...       ...             ...          ...   \n",
       "59995  Psychedelic          Black  Granules               0            0   \n",
       "59996       Opioid         Purple  Granules               1            0   \n",
       "59997      Unknown     Colourless   Crystal              -1            0   \n",
       "59998       Opioid          Green    Pebble               1            0   \n",
       "59999       Opioid           Grey    Pebble               1            0   \n",
       "\n",
       "      ftir component 0            ftir component 1 ftir component 2  \\\n",
       "0             Fentanyl                  Erythritol         Caffeine   \n",
       "1      Uncertain match                    Fentanyl             None   \n",
       "2        Flualprazolam  Microcrystalline cellulose             None   \n",
       "3             Fentanyl                    Mannitol         Caffeine   \n",
       "4      Methamphetamine                        None             None   \n",
       "...                ...                         ...              ...   \n",
       "59995  Uncertain match                  Phenacetin             None   \n",
       "59996         Caffeine                    Inositol       Heroin hcl   \n",
       "59997  Methamphetamine                        None             None   \n",
       "59998         Fentanyl                    Caffeine         Mannitol   \n",
       "59999         Caffeine                    Fentanyl             None   \n",
       "\n",
       "      ftir component 3 ftir component 4 ftir component 5  contains_opioids  \\\n",
       "0                 None             None             None                 1   \n",
       "1                 None             None             None                 1   \n",
       "2                 None             None             None                 0   \n",
       "3           Bromazolam             None             None                 1   \n",
       "4                 None             None             None                 0   \n",
       "...                ...              ...              ...               ...   \n",
       "59995             None             None             None                 0   \n",
       "59996         Fentanyl             None             None                 1   \n",
       "59997             None             None             None                 0   \n",
       "59998         Mannitol         Caffeine         Fentanyl                 1   \n",
       "59999             None             None             None                 1   \n",
       "\n",
       "       total_opioids  ftir_benzo  total_benzos  incorrect_strip  \\\n",
       "0                  1           0             0                0   \n",
       "1                  1           0             0                0   \n",
       "2                  0           1             1                0   \n",
       "3                  1           1             1                0   \n",
       "4                  0           0             0                0   \n",
       "...              ...         ...           ...              ...   \n",
       "59995              0           0             0                0   \n",
       "59996              1           0             0                0   \n",
       "59997              0           0             0                0   \n",
       "59998              1           0             0                0   \n",
       "59999              1           0             0                0   \n",
       "\n",
       "       incorrect_ftir  \n",
       "0                   0  \n",
       "1                   0  \n",
       "2                   0  \n",
       "3                   0  \n",
       "4                   0  \n",
       "...               ...  \n",
       "59995               0  \n",
       "59996               0  \n",
       "59997               0  \n",
       "59998               0  \n",
       "59999               0  \n",
       "\n",
       "[60000 rows x 21 columns]"
      ]
     },
     "execution_count": 440,
     "metadata": {},
     "output_type": "execute_result"
    }
   ],
   "source": [
    "idx = df[incorrect_strip].index\n",
    "idx2 = df[incorrect_ftir].index\n",
    "df['incorrect_strip'] = pd.Series(df.index.isin(idx)).astype(int)\n",
    "df['incorrect_ftir'] = pd.Series(df.index.isin(idx2)).astype(int)\n",
    "df"
   ]
  }
 ],
 "metadata": {
  "kernelspec": {
   "display_name": "drugs",
   "language": "python",
   "name": "python3"
  },
  "language_info": {
   "codemirror_mode": {
    "name": "ipython",
    "version": 3
   },
   "file_extension": ".py",
   "mimetype": "text/x-python",
   "name": "python",
   "nbconvert_exporter": "python",
   "pygments_lexer": "ipython3",
   "version": "3.10.9"
  },
  "orig_nbformat": 4,
  "vscode": {
   "interpreter": {
    "hash": "d943b4ed689cbeb84325fac1ea736cb4f575bb5014cc41287581e934615cc6ff"
   }
  }
 },
 "nbformat": 4,
 "nbformat_minor": 2
}
