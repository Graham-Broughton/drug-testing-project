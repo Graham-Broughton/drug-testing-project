{
 "cells": [
  {
   "cell_type": "code",
   "execution_count": 15,
   "metadata": {},
   "outputs": [],
   "source": [
    "import pandas as pd\n",
    "import time\n",
    "import datetime\n",
    "from multiprocessing import Queue, Pool, Process\n",
    "\n",
    "import warnings; warnings.simplefilter('ignore')\n",
    "\n",
    "import os\n",
    "import sys\n",
    "sys.path.append(os.getcwd())\n",
    "from config import CFG\n",
    "\n",
    "from src.utils.PageLoader import PageLoader\n",
    "import src.utils.Worker as work"
   ]
  },
  {
   "cell_type": "code",
   "execution_count": 13,
   "metadata": {},
   "outputs": [],
   "source": [
    "date = datetime.datetime.now().strftime(\"%Y-%m-%d\")\n",
    "current_dir = os.path.abspath(os.getcwd())\n",
    "data_dir = os.path.join(os.path.dirname(current_dir), \"data_files\")\n",
    "page_path = os.path.join(data_dir, \"page_data\")"
   ]
  },
  {
   "cell_type": "code",
   "execution_count": 16,
   "metadata": {},
   "outputs": [
    {
     "data": {
      "text/plain": [
       "'2023-02-10'"
      ]
     },
     "execution_count": 16,
     "metadata": {},
     "output_type": "execute_result"
    }
   ],
   "source": [
    "# CFG = CFG()\n",
    "CFG.DATE"
   ]
  },
  {
   "cell_type": "code",
   "execution_count": 17,
   "metadata": {},
   "outputs": [],
   "source": [
    "def get_df(product_queue, data_queue):\n",
    "    \"\"\"\n",
    "    This function takes dfs from the product queue from the workers and appends them into a list,\n",
    "    every so often it compiles the list into a list of concatenated dfs until the product queue is empty.\n",
    "    Finally, it returns a concated df from the list\n",
    "    \"\"\"\n",
    "    counter = 0\n",
    "    dfs = []\n",
    "    big_dfs = []\n",
    "    time.sleep(CFG.SEC_HEADSTART)  # Need to give a head start to the workers for them to connect\n",
    "    while (not product_queue.empty()) & (not data_queue.empty()):\n",
    "        dfs.append(product_queue.get())  # First list of dfs straight from the queue\n",
    "        counter += 1\n",
    "        if counter % 250 == 0:\n",
    "            print(f\"Processing {counter}th df\")\n",
    "            big_dfs.append(pd.concat(dfs, ignore_index=True))  # Second, concated list of dfs\n",
    "            dfs = []\n",
    "    return pd.concat(big_dfs, ignore_index=True)"
   ]
  },
  {
   "cell_type": "code",
   "execution_count": 18,
   "metadata": {},
   "outputs": [],
   "source": [
    "def main(page_path, date):\n",
    "    \"\"\"\n",
    "    Main entry point for the script, organizes the loaders, workers and reciever\n",
    "    \"\"\"\n",
    "    # start the Queues in parent process for communication between processes, otherwise it wont work\n",
    "    DQ, PQ = Queue(), Queue()\n",
    "\n",
    "    # Get the number of pages needed to be scraped, uses date to check if there is a file already\n",
    "    loader = PageLoader()\n",
    "    loader.run(DQ, page_path, date)\n",
    "\n",
    "    # initiate process 'pool' of workers, daemon option runs the in the background so we don't need another process for the reciever\n",
    "    workers = []\n",
    "    for _ in range(CFG.NUM_WORKERS):\n",
    "        worker = Process(target=work.run, args=(DQ, PQ), daemon=True)\n",
    "        worker.start()\n",
    "        workers.append(worker)\n",
    "\n",
    "    df = get_df(PQ, DQ)\n",
    "\n",
    "    for worker in workers:\n",
    "        worker.join()\n",
    "        worker.terminate()\n",
    "    \n",
    "    return df"
   ]
  },
  {
   "cell_type": "code",
   "execution_count": 20,
   "metadata": {},
   "outputs": [
    {
     "name": "stdout",
     "output_type": "stream",
     "text": [
      "Using saved page count\n",
      "Loaded queue\n"
     ]
    }
   ],
   "source": [
    "df = main(page_path, date)\n",
    "print(df.head())\n",
    "df.to_csv(data_dir + '/data.csv', index=False)"
   ]
  },
  {
   "cell_type": "code",
   "execution_count": null,
   "metadata": {},
   "outputs": [],
   "source": []
  }
 ],
 "metadata": {
  "kernelspec": {
   "display_name": "drugs",
   "language": "python",
   "name": "python3"
  },
  "language_info": {
   "codemirror_mode": {
    "name": "ipython",
    "version": 3
   },
   "file_extension": ".py",
   "mimetype": "text/x-python",
   "name": "python",
   "nbconvert_exporter": "python",
   "pygments_lexer": "ipython3",
   "version": "3.10.9"
  },
  "orig_nbformat": 4,
  "vscode": {
   "interpreter": {
    "hash": "d943b4ed689cbeb84325fac1ea736cb4f575bb5014cc41287581e934615cc6ff"
   }
  }
 },
 "nbformat": 4,
 "nbformat_minor": 2
}
