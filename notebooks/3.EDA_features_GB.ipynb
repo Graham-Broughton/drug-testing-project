{
 "cells": [
  {
   "cell_type": "code",
   "execution_count": 5,
   "metadata": {},
   "outputs": [],
   "source": [
    "import pandas as pd\n",
    "import geopandas as gpd\n",
    "import numpy as np\n",
    "pd.options.display.float_format = '{:,.2f}'.format\n",
    "pd.set_option('display.max_columns', 30)\n",
    "pd.set_option('display.max_rows', 300)\n",
    "\n",
    "import matplotlib.pyplot as plt\n",
    "import seaborn as sns\n",
    "import plotly.graph_objects as go\n",
    "import plotly.express as px\n",
    "%matplotlib inline\n",
    "\n",
    "import os\n",
    "import sys\n",
    "import datetime\n",
    "\n",
    "import warnings; warnings.filterwarnings('ignore')\n",
    "\n",
    "sys.path.append('..')\n",
    "from config import CFG\n",
    "CFG = CFG()\n",
    "\n",
    "date = datetime.datetime(2023, 3, 1).strftime('%Y-%m-%d')\n",
    "CFG.DATE = date"
   ]
  },
  {
   "cell_type": "code",
   "execution_count": 12,
   "metadata": {},
   "outputs": [
    {
     "data": {
      "text/html": [
       "<div>\n",
       "<style scoped>\n",
       "    .dataframe tbody tr th:only-of-type {\n",
       "        vertical-align: middle;\n",
       "    }\n",
       "\n",
       "    .dataframe tbody tr th {\n",
       "        vertical-align: top;\n",
       "    }\n",
       "\n",
       "    .dataframe thead th {\n",
       "        text-align: right;\n",
       "    }\n",
       "</style>\n",
       "<table border=\"1\" class=\"dataframe\">\n",
       "  <thead>\n",
       "    <tr style=\"text-align: right;\">\n",
       "      <th></th>\n",
       "      <th>Unnamed: 0</th>\n",
       "      <th>visit date</th>\n",
       "      <th>city</th>\n",
       "      <th>site</th>\n",
       "      <th>expected drug</th>\n",
       "      <th>category</th>\n",
       "      <th>colour</th>\n",
       "      <th>texture</th>\n",
       "      <th>fentanyl strip</th>\n",
       "      <th>benzo strip</th>\n",
       "      <th>ftir component 0</th>\n",
       "      <th>ftir component 1</th>\n",
       "      <th>ftir component 2</th>\n",
       "      <th>ftir component 3</th>\n",
       "      <th>ftir component 4</th>\n",
       "      <th>ftir component 5</th>\n",
       "      <th>contains_opioids</th>\n",
       "      <th>total_opioids</th>\n",
       "      <th>ftir_benzo</th>\n",
       "      <th>total_benzos</th>\n",
       "    </tr>\n",
       "  </thead>\n",
       "  <tbody>\n",
       "    <tr>\n",
       "      <th>0</th>\n",
       "      <td>0</td>\n",
       "      <td>2023-01-31</td>\n",
       "      <td>Penticton, BC</td>\n",
       "      <td>Fairhaven</td>\n",
       "      <td>Down (Unknown Opioid)</td>\n",
       "      <td>Opioid</td>\n",
       "      <td>Purple</td>\n",
       "      <td>Chunk</td>\n",
       "      <td>1</td>\n",
       "      <td>-1</td>\n",
       "      <td>Fentanyl</td>\n",
       "      <td>Erythritol</td>\n",
       "      <td>Caffeine</td>\n",
       "      <td>None</td>\n",
       "      <td>None</td>\n",
       "      <td>None</td>\n",
       "      <td>1</td>\n",
       "      <td>1</td>\n",
       "      <td>0</td>\n",
       "      <td>0</td>\n",
       "    </tr>\n",
       "    <tr>\n",
       "      <th>1</th>\n",
       "      <td>1</td>\n",
       "      <td>2023-01-31</td>\n",
       "      <td>Vancouver, BC</td>\n",
       "      <td>Get Your Drugs Tested</td>\n",
       "      <td>Unknown</td>\n",
       "      <td>Unknown</td>\n",
       "      <td>Brown (light)</td>\n",
       "      <td>Chunk</td>\n",
       "      <td>1</td>\n",
       "      <td>-1</td>\n",
       "      <td>Uncertain match</td>\n",
       "      <td>Fentanyl</td>\n",
       "      <td>None</td>\n",
       "      <td>None</td>\n",
       "      <td>None</td>\n",
       "      <td>None</td>\n",
       "      <td>1</td>\n",
       "      <td>1</td>\n",
       "      <td>0</td>\n",
       "      <td>0</td>\n",
       "    </tr>\n",
       "    <tr>\n",
       "      <th>2</th>\n",
       "      <td>2</td>\n",
       "      <td>2023-01-31</td>\n",
       "      <td>Vancouver, BC</td>\n",
       "      <td>Get Your Drugs Tested</td>\n",
       "      <td>Alprazolam</td>\n",
       "      <td>Depressant</td>\n",
       "      <td>Green (light)</td>\n",
       "      <td>Chunk</td>\n",
       "      <td>-1</td>\n",
       "      <td>1</td>\n",
       "      <td>Flualprazolam</td>\n",
       "      <td>Microcrystalline cellulose</td>\n",
       "      <td>None</td>\n",
       "      <td>None</td>\n",
       "      <td>None</td>\n",
       "      <td>None</td>\n",
       "      <td>0</td>\n",
       "      <td>0</td>\n",
       "      <td>1</td>\n",
       "      <td>1</td>\n",
       "    </tr>\n",
       "  </tbody>\n",
       "</table>\n",
       "</div>"
      ],
      "text/plain": [
       "   Unnamed: 0 visit date           city                   site  \\\n",
       "0           0 2023-01-31  Penticton, BC              Fairhaven   \n",
       "1           1 2023-01-31  Vancouver, BC  Get Your Drugs Tested   \n",
       "2           2 2023-01-31  Vancouver, BC  Get Your Drugs Tested   \n",
       "\n",
       "           expected drug    category         colour texture  fentanyl strip  \\\n",
       "0  Down (Unknown Opioid)      Opioid         Purple   Chunk               1   \n",
       "1                Unknown     Unknown  Brown (light)   Chunk               1   \n",
       "2             Alprazolam  Depressant  Green (light)   Chunk              -1   \n",
       "\n",
       "   benzo strip ftir component 0            ftir component 1 ftir component 2  \\\n",
       "0           -1         Fentanyl                  Erythritol         Caffeine   \n",
       "1           -1  Uncertain match                    Fentanyl             None   \n",
       "2            1    Flualprazolam  Microcrystalline cellulose             None   \n",
       "\n",
       "  ftir component 3 ftir component 4 ftir component 5  contains_opioids  \\\n",
       "0             None             None             None                 1   \n",
       "1             None             None             None                 1   \n",
       "2             None             None             None                 0   \n",
       "\n",
       "   total_opioids  ftir_benzo  total_benzos  \n",
       "0              1           0             0  \n",
       "1              1           0             0  \n",
       "2              0           1             1  "
      ]
     },
     "execution_count": 12,
     "metadata": {},
     "output_type": "execute_result"
    }
   ],
   "source": [
    "df = pd.read_csv(os.path.join(CFG.PROCESSED_DATA_PATH, f\"df-processed-{CFG.DATE}.csv\"), parse_dates=['visit date'])\n",
    "df.head(3)"
   ]
  },
  {
   "cell_type": "code",
   "execution_count": 27,
   "metadata": {},
   "outputs": [
    {
     "data": {
      "text/plain": [
       "<function Timestamp.date>"
      ]
     },
     "execution_count": 27,
     "metadata": {},
     "output_type": "execute_result"
    }
   ],
   "source": [
    "start_date = df['visit date'].min().date\n",
    "end_date = df['visit date'].max().date()\n",
    "start_date"
   ]
  },
  {
   "cell_type": "code",
   "execution_count": 26,
   "metadata": {},
   "outputs": [],
   "source": [
    "newdf = df[(df['visit date'].dt.date >= start_date) & (df['visit date'].dt.date <= end_date)]\n",
    "no_opioid = newdf[~(df['category'] == 'Opioid') | (df['category'] == 'Polysubstance')].index\n",
    "no_opioid = newdf.iloc[no_opioid]"
   ]
  },
  {
   "cell_type": "code",
   "execution_count": 5,
   "metadata": {},
   "outputs": [
    {
     "data": {
      "application/vnd.plotly.v1+json": {
       "config": {
        "plotlyServerURL": "https://plot.ly"
       },
       "data": [
        {
         "orientation": "h",
         "type": "bar",
         "x": [
          38421,
          5331,
          3144,
          1806,
          1631,
          1110,
          924,
          762,
          673,
          516
         ],
         "y": [
          "Get Your Drugs Tested",
          "Insite",
          "Overdose Prevention Society",
          "Molson OPS",
          "ANKORS (Nelson)",
          "SafePoint",
          "ASK Wellness (433 Tranquille)",
          "CMHA",
          "ANKORS (Cranbrook)",
          "Purpose Society"
         ]
        }
       ],
       "layout": {
        "template": {
         "data": {
          "bar": [
           {
            "error_x": {
             "color": "#2a3f5f"
            },
            "error_y": {
             "color": "#2a3f5f"
            },
            "marker": {
             "line": {
              "color": "#E5ECF6",
              "width": 0.5
             },
             "pattern": {
              "fillmode": "overlay",
              "size": 10,
              "solidity": 0.2
             }
            },
            "type": "bar"
           }
          ],
          "barpolar": [
           {
            "marker": {
             "line": {
              "color": "#E5ECF6",
              "width": 0.5
             },
             "pattern": {
              "fillmode": "overlay",
              "size": 10,
              "solidity": 0.2
             }
            },
            "type": "barpolar"
           }
          ],
          "carpet": [
           {
            "aaxis": {
             "endlinecolor": "#2a3f5f",
             "gridcolor": "white",
             "linecolor": "white",
             "minorgridcolor": "white",
             "startlinecolor": "#2a3f5f"
            },
            "baxis": {
             "endlinecolor": "#2a3f5f",
             "gridcolor": "white",
             "linecolor": "white",
             "minorgridcolor": "white",
             "startlinecolor": "#2a3f5f"
            },
            "type": "carpet"
           }
          ],
          "choropleth": [
           {
            "colorbar": {
             "outlinewidth": 0,
             "ticks": ""
            },
            "type": "choropleth"
           }
          ],
          "contour": [
           {
            "colorbar": {
             "outlinewidth": 0,
             "ticks": ""
            },
            "colorscale": [
             [
              0,
              "#0d0887"
             ],
             [
              0.1111111111111111,
              "#46039f"
             ],
             [
              0.2222222222222222,
              "#7201a8"
             ],
             [
              0.3333333333333333,
              "#9c179e"
             ],
             [
              0.4444444444444444,
              "#bd3786"
             ],
             [
              0.5555555555555556,
              "#d8576b"
             ],
             [
              0.6666666666666666,
              "#ed7953"
             ],
             [
              0.7777777777777778,
              "#fb9f3a"
             ],
             [
              0.8888888888888888,
              "#fdca26"
             ],
             [
              1,
              "#f0f921"
             ]
            ],
            "type": "contour"
           }
          ],
          "contourcarpet": [
           {
            "colorbar": {
             "outlinewidth": 0,
             "ticks": ""
            },
            "type": "contourcarpet"
           }
          ],
          "heatmap": [
           {
            "colorbar": {
             "outlinewidth": 0,
             "ticks": ""
            },
            "colorscale": [
             [
              0,
              "#0d0887"
             ],
             [
              0.1111111111111111,
              "#46039f"
             ],
             [
              0.2222222222222222,
              "#7201a8"
             ],
             [
              0.3333333333333333,
              "#9c179e"
             ],
             [
              0.4444444444444444,
              "#bd3786"
             ],
             [
              0.5555555555555556,
              "#d8576b"
             ],
             [
              0.6666666666666666,
              "#ed7953"
             ],
             [
              0.7777777777777778,
              "#fb9f3a"
             ],
             [
              0.8888888888888888,
              "#fdca26"
             ],
             [
              1,
              "#f0f921"
             ]
            ],
            "type": "heatmap"
           }
          ],
          "heatmapgl": [
           {
            "colorbar": {
             "outlinewidth": 0,
             "ticks": ""
            },
            "colorscale": [
             [
              0,
              "#0d0887"
             ],
             [
              0.1111111111111111,
              "#46039f"
             ],
             [
              0.2222222222222222,
              "#7201a8"
             ],
             [
              0.3333333333333333,
              "#9c179e"
             ],
             [
              0.4444444444444444,
              "#bd3786"
             ],
             [
              0.5555555555555556,
              "#d8576b"
             ],
             [
              0.6666666666666666,
              "#ed7953"
             ],
             [
              0.7777777777777778,
              "#fb9f3a"
             ],
             [
              0.8888888888888888,
              "#fdca26"
             ],
             [
              1,
              "#f0f921"
             ]
            ],
            "type": "heatmapgl"
           }
          ],
          "histogram": [
           {
            "marker": {
             "pattern": {
              "fillmode": "overlay",
              "size": 10,
              "solidity": 0.2
             }
            },
            "type": "histogram"
           }
          ],
          "histogram2d": [
           {
            "colorbar": {
             "outlinewidth": 0,
             "ticks": ""
            },
            "colorscale": [
             [
              0,
              "#0d0887"
             ],
             [
              0.1111111111111111,
              "#46039f"
             ],
             [
              0.2222222222222222,
              "#7201a8"
             ],
             [
              0.3333333333333333,
              "#9c179e"
             ],
             [
              0.4444444444444444,
              "#bd3786"
             ],
             [
              0.5555555555555556,
              "#d8576b"
             ],
             [
              0.6666666666666666,
              "#ed7953"
             ],
             [
              0.7777777777777778,
              "#fb9f3a"
             ],
             [
              0.8888888888888888,
              "#fdca26"
             ],
             [
              1,
              "#f0f921"
             ]
            ],
            "type": "histogram2d"
           }
          ],
          "histogram2dcontour": [
           {
            "colorbar": {
             "outlinewidth": 0,
             "ticks": ""
            },
            "colorscale": [
             [
              0,
              "#0d0887"
             ],
             [
              0.1111111111111111,
              "#46039f"
             ],
             [
              0.2222222222222222,
              "#7201a8"
             ],
             [
              0.3333333333333333,
              "#9c179e"
             ],
             [
              0.4444444444444444,
              "#bd3786"
             ],
             [
              0.5555555555555556,
              "#d8576b"
             ],
             [
              0.6666666666666666,
              "#ed7953"
             ],
             [
              0.7777777777777778,
              "#fb9f3a"
             ],
             [
              0.8888888888888888,
              "#fdca26"
             ],
             [
              1,
              "#f0f921"
             ]
            ],
            "type": "histogram2dcontour"
           }
          ],
          "mesh3d": [
           {
            "colorbar": {
             "outlinewidth": 0,
             "ticks": ""
            },
            "type": "mesh3d"
           }
          ],
          "parcoords": [
           {
            "line": {
             "colorbar": {
              "outlinewidth": 0,
              "ticks": ""
             }
            },
            "type": "parcoords"
           }
          ],
          "pie": [
           {
            "automargin": true,
            "type": "pie"
           }
          ],
          "scatter": [
           {
            "fillpattern": {
             "fillmode": "overlay",
             "size": 10,
             "solidity": 0.2
            },
            "type": "scatter"
           }
          ],
          "scatter3d": [
           {
            "line": {
             "colorbar": {
              "outlinewidth": 0,
              "ticks": ""
             }
            },
            "marker": {
             "colorbar": {
              "outlinewidth": 0,
              "ticks": ""
             }
            },
            "type": "scatter3d"
           }
          ],
          "scattercarpet": [
           {
            "marker": {
             "colorbar": {
              "outlinewidth": 0,
              "ticks": ""
             }
            },
            "type": "scattercarpet"
           }
          ],
          "scattergeo": [
           {
            "marker": {
             "colorbar": {
              "outlinewidth": 0,
              "ticks": ""
             }
            },
            "type": "scattergeo"
           }
          ],
          "scattergl": [
           {
            "marker": {
             "colorbar": {
              "outlinewidth": 0,
              "ticks": ""
             }
            },
            "type": "scattergl"
           }
          ],
          "scattermapbox": [
           {
            "marker": {
             "colorbar": {
              "outlinewidth": 0,
              "ticks": ""
             }
            },
            "type": "scattermapbox"
           }
          ],
          "scatterpolar": [
           {
            "marker": {
             "colorbar": {
              "outlinewidth": 0,
              "ticks": ""
             }
            },
            "type": "scatterpolar"
           }
          ],
          "scatterpolargl": [
           {
            "marker": {
             "colorbar": {
              "outlinewidth": 0,
              "ticks": ""
             }
            },
            "type": "scatterpolargl"
           }
          ],
          "scatterternary": [
           {
            "marker": {
             "colorbar": {
              "outlinewidth": 0,
              "ticks": ""
             }
            },
            "type": "scatterternary"
           }
          ],
          "surface": [
           {
            "colorbar": {
             "outlinewidth": 0,
             "ticks": ""
            },
            "colorscale": [
             [
              0,
              "#0d0887"
             ],
             [
              0.1111111111111111,
              "#46039f"
             ],
             [
              0.2222222222222222,
              "#7201a8"
             ],
             [
              0.3333333333333333,
              "#9c179e"
             ],
             [
              0.4444444444444444,
              "#bd3786"
             ],
             [
              0.5555555555555556,
              "#d8576b"
             ],
             [
              0.6666666666666666,
              "#ed7953"
             ],
             [
              0.7777777777777778,
              "#fb9f3a"
             ],
             [
              0.8888888888888888,
              "#fdca26"
             ],
             [
              1,
              "#f0f921"
             ]
            ],
            "type": "surface"
           }
          ],
          "table": [
           {
            "cells": {
             "fill": {
              "color": "#EBF0F8"
             },
             "line": {
              "color": "white"
             }
            },
            "header": {
             "fill": {
              "color": "#C8D4E3"
             },
             "line": {
              "color": "white"
             }
            },
            "type": "table"
           }
          ]
         },
         "layout": {
          "annotationdefaults": {
           "arrowcolor": "#2a3f5f",
           "arrowhead": 0,
           "arrowwidth": 1
          },
          "autotypenumbers": "strict",
          "coloraxis": {
           "colorbar": {
            "outlinewidth": 0,
            "ticks": ""
           }
          },
          "colorscale": {
           "diverging": [
            [
             0,
             "#8e0152"
            ],
            [
             0.1,
             "#c51b7d"
            ],
            [
             0.2,
             "#de77ae"
            ],
            [
             0.3,
             "#f1b6da"
            ],
            [
             0.4,
             "#fde0ef"
            ],
            [
             0.5,
             "#f7f7f7"
            ],
            [
             0.6,
             "#e6f5d0"
            ],
            [
             0.7,
             "#b8e186"
            ],
            [
             0.8,
             "#7fbc41"
            ],
            [
             0.9,
             "#4d9221"
            ],
            [
             1,
             "#276419"
            ]
           ],
           "sequential": [
            [
             0,
             "#0d0887"
            ],
            [
             0.1111111111111111,
             "#46039f"
            ],
            [
             0.2222222222222222,
             "#7201a8"
            ],
            [
             0.3333333333333333,
             "#9c179e"
            ],
            [
             0.4444444444444444,
             "#bd3786"
            ],
            [
             0.5555555555555556,
             "#d8576b"
            ],
            [
             0.6666666666666666,
             "#ed7953"
            ],
            [
             0.7777777777777778,
             "#fb9f3a"
            ],
            [
             0.8888888888888888,
             "#fdca26"
            ],
            [
             1,
             "#f0f921"
            ]
           ],
           "sequentialminus": [
            [
             0,
             "#0d0887"
            ],
            [
             0.1111111111111111,
             "#46039f"
            ],
            [
             0.2222222222222222,
             "#7201a8"
            ],
            [
             0.3333333333333333,
             "#9c179e"
            ],
            [
             0.4444444444444444,
             "#bd3786"
            ],
            [
             0.5555555555555556,
             "#d8576b"
            ],
            [
             0.6666666666666666,
             "#ed7953"
            ],
            [
             0.7777777777777778,
             "#fb9f3a"
            ],
            [
             0.8888888888888888,
             "#fdca26"
            ],
            [
             1,
             "#f0f921"
            ]
           ]
          },
          "colorway": [
           "#636efa",
           "#EF553B",
           "#00cc96",
           "#ab63fa",
           "#FFA15A",
           "#19d3f3",
           "#FF6692",
           "#B6E880",
           "#FF97FF",
           "#FECB52"
          ],
          "font": {
           "color": "#2a3f5f"
          },
          "geo": {
           "bgcolor": "white",
           "lakecolor": "white",
           "landcolor": "#E5ECF6",
           "showlakes": true,
           "showland": true,
           "subunitcolor": "white"
          },
          "hoverlabel": {
           "align": "left"
          },
          "hovermode": "closest",
          "mapbox": {
           "style": "light"
          },
          "paper_bgcolor": "white",
          "plot_bgcolor": "#E5ECF6",
          "polar": {
           "angularaxis": {
            "gridcolor": "white",
            "linecolor": "white",
            "ticks": ""
           },
           "bgcolor": "#E5ECF6",
           "radialaxis": {
            "gridcolor": "white",
            "linecolor": "white",
            "ticks": ""
           }
          },
          "scene": {
           "xaxis": {
            "backgroundcolor": "#E5ECF6",
            "gridcolor": "white",
            "gridwidth": 2,
            "linecolor": "white",
            "showbackground": true,
            "ticks": "",
            "zerolinecolor": "white"
           },
           "yaxis": {
            "backgroundcolor": "#E5ECF6",
            "gridcolor": "white",
            "gridwidth": 2,
            "linecolor": "white",
            "showbackground": true,
            "ticks": "",
            "zerolinecolor": "white"
           },
           "zaxis": {
            "backgroundcolor": "#E5ECF6",
            "gridcolor": "white",
            "gridwidth": 2,
            "linecolor": "white",
            "showbackground": true,
            "ticks": "",
            "zerolinecolor": "white"
           }
          },
          "shapedefaults": {
           "line": {
            "color": "#2a3f5f"
           }
          },
          "ternary": {
           "aaxis": {
            "gridcolor": "white",
            "linecolor": "white",
            "ticks": ""
           },
           "baxis": {
            "gridcolor": "white",
            "linecolor": "white",
            "ticks": ""
           },
           "bgcolor": "#E5ECF6",
           "caxis": {
            "gridcolor": "white",
            "linecolor": "white",
            "ticks": ""
           }
          },
          "title": {
           "x": 0.05
          },
          "xaxis": {
           "automargin": true,
           "gridcolor": "white",
           "linecolor": "white",
           "ticks": "",
           "title": {
            "standoff": 15
           },
           "zerolinecolor": "white",
           "zerolinewidth": 2
          },
          "yaxis": {
           "automargin": true,
           "gridcolor": "white",
           "linecolor": "white",
           "ticks": "",
           "title": {
            "standoff": 15
           },
           "zerolinecolor": "white",
           "zerolinewidth": 2
          }
         }
        }
       }
      }
     },
     "metadata": {},
     "output_type": "display_data"
    }
   ],
   "source": [
    "site_count = df.value_counts('site').head(10).sort_values(ascending=False)\n",
    "city_counts = df.value_counts('city').head(10)\n",
    "\n",
    "fig = go.Figure(go.Bar(\n",
    "    x=site_count.values,\n",
    "    y=site_count.index,\n",
    "    orientation='h',\n",
    "))\n",
    "fig.show()"
   ]
  },
  {
   "attachments": {},
   "cell_type": "markdown",
   "metadata": {},
   "source": [
    "- The highest number of samples in each category is much more popular than all others"
   ]
  },
  {
   "cell_type": "code",
   "execution_count": 8,
   "metadata": {},
   "outputs": [
    {
     "data": {
      "application/vnd.plotly.v1+json": {
       "config": {
        "plotlyServerURL": "https://plot.ly"
       },
       "data": [
        {
         "hole": 0.65,
         "hoverinfo": "value+percent",
         "labels": [
          "Opioid",
          "Psychedelic",
          "Stimulant",
          "Unknown",
          "Depressant",
          "Other",
          "Polysubstance"
         ],
         "marker": {
          "line": {
           "color": "#000000",
           "width": 2
          }
         },
         "textfont": {
          "size": 20
         },
         "textinfo": "label",
         "type": "pie",
         "values": [
          23657,
          13378,
          11624,
          6310,
          3646,
          1267,
          118
         ]
        }
       ],
       "layout": {
        "annotations": [
         {
          "font": {
           "size": 20
          },
          "showarrow": false,
          "text": "Categories",
          "x": 0.5,
          "y": 0.5
         }
        ],
        "template": {
         "data": {
          "bar": [
           {
            "error_x": {
             "color": "#2a3f5f"
            },
            "error_y": {
             "color": "#2a3f5f"
            },
            "marker": {
             "line": {
              "color": "#E5ECF6",
              "width": 0.5
             },
             "pattern": {
              "fillmode": "overlay",
              "size": 10,
              "solidity": 0.2
             }
            },
            "type": "bar"
           }
          ],
          "barpolar": [
           {
            "marker": {
             "line": {
              "color": "#E5ECF6",
              "width": 0.5
             },
             "pattern": {
              "fillmode": "overlay",
              "size": 10,
              "solidity": 0.2
             }
            },
            "type": "barpolar"
           }
          ],
          "carpet": [
           {
            "aaxis": {
             "endlinecolor": "#2a3f5f",
             "gridcolor": "white",
             "linecolor": "white",
             "minorgridcolor": "white",
             "startlinecolor": "#2a3f5f"
            },
            "baxis": {
             "endlinecolor": "#2a3f5f",
             "gridcolor": "white",
             "linecolor": "white",
             "minorgridcolor": "white",
             "startlinecolor": "#2a3f5f"
            },
            "type": "carpet"
           }
          ],
          "choropleth": [
           {
            "colorbar": {
             "outlinewidth": 0,
             "ticks": ""
            },
            "type": "choropleth"
           }
          ],
          "contour": [
           {
            "colorbar": {
             "outlinewidth": 0,
             "ticks": ""
            },
            "colorscale": [
             [
              0,
              "#0d0887"
             ],
             [
              0.1111111111111111,
              "#46039f"
             ],
             [
              0.2222222222222222,
              "#7201a8"
             ],
             [
              0.3333333333333333,
              "#9c179e"
             ],
             [
              0.4444444444444444,
              "#bd3786"
             ],
             [
              0.5555555555555556,
              "#d8576b"
             ],
             [
              0.6666666666666666,
              "#ed7953"
             ],
             [
              0.7777777777777778,
              "#fb9f3a"
             ],
             [
              0.8888888888888888,
              "#fdca26"
             ],
             [
              1,
              "#f0f921"
             ]
            ],
            "type": "contour"
           }
          ],
          "contourcarpet": [
           {
            "colorbar": {
             "outlinewidth": 0,
             "ticks": ""
            },
            "type": "contourcarpet"
           }
          ],
          "heatmap": [
           {
            "colorbar": {
             "outlinewidth": 0,
             "ticks": ""
            },
            "colorscale": [
             [
              0,
              "#0d0887"
             ],
             [
              0.1111111111111111,
              "#46039f"
             ],
             [
              0.2222222222222222,
              "#7201a8"
             ],
             [
              0.3333333333333333,
              "#9c179e"
             ],
             [
              0.4444444444444444,
              "#bd3786"
             ],
             [
              0.5555555555555556,
              "#d8576b"
             ],
             [
              0.6666666666666666,
              "#ed7953"
             ],
             [
              0.7777777777777778,
              "#fb9f3a"
             ],
             [
              0.8888888888888888,
              "#fdca26"
             ],
             [
              1,
              "#f0f921"
             ]
            ],
            "type": "heatmap"
           }
          ],
          "heatmapgl": [
           {
            "colorbar": {
             "outlinewidth": 0,
             "ticks": ""
            },
            "colorscale": [
             [
              0,
              "#0d0887"
             ],
             [
              0.1111111111111111,
              "#46039f"
             ],
             [
              0.2222222222222222,
              "#7201a8"
             ],
             [
              0.3333333333333333,
              "#9c179e"
             ],
             [
              0.4444444444444444,
              "#bd3786"
             ],
             [
              0.5555555555555556,
              "#d8576b"
             ],
             [
              0.6666666666666666,
              "#ed7953"
             ],
             [
              0.7777777777777778,
              "#fb9f3a"
             ],
             [
              0.8888888888888888,
              "#fdca26"
             ],
             [
              1,
              "#f0f921"
             ]
            ],
            "type": "heatmapgl"
           }
          ],
          "histogram": [
           {
            "marker": {
             "pattern": {
              "fillmode": "overlay",
              "size": 10,
              "solidity": 0.2
             }
            },
            "type": "histogram"
           }
          ],
          "histogram2d": [
           {
            "colorbar": {
             "outlinewidth": 0,
             "ticks": ""
            },
            "colorscale": [
             [
              0,
              "#0d0887"
             ],
             [
              0.1111111111111111,
              "#46039f"
             ],
             [
              0.2222222222222222,
              "#7201a8"
             ],
             [
              0.3333333333333333,
              "#9c179e"
             ],
             [
              0.4444444444444444,
              "#bd3786"
             ],
             [
              0.5555555555555556,
              "#d8576b"
             ],
             [
              0.6666666666666666,
              "#ed7953"
             ],
             [
              0.7777777777777778,
              "#fb9f3a"
             ],
             [
              0.8888888888888888,
              "#fdca26"
             ],
             [
              1,
              "#f0f921"
             ]
            ],
            "type": "histogram2d"
           }
          ],
          "histogram2dcontour": [
           {
            "colorbar": {
             "outlinewidth": 0,
             "ticks": ""
            },
            "colorscale": [
             [
              0,
              "#0d0887"
             ],
             [
              0.1111111111111111,
              "#46039f"
             ],
             [
              0.2222222222222222,
              "#7201a8"
             ],
             [
              0.3333333333333333,
              "#9c179e"
             ],
             [
              0.4444444444444444,
              "#bd3786"
             ],
             [
              0.5555555555555556,
              "#d8576b"
             ],
             [
              0.6666666666666666,
              "#ed7953"
             ],
             [
              0.7777777777777778,
              "#fb9f3a"
             ],
             [
              0.8888888888888888,
              "#fdca26"
             ],
             [
              1,
              "#f0f921"
             ]
            ],
            "type": "histogram2dcontour"
           }
          ],
          "mesh3d": [
           {
            "colorbar": {
             "outlinewidth": 0,
             "ticks": ""
            },
            "type": "mesh3d"
           }
          ],
          "parcoords": [
           {
            "line": {
             "colorbar": {
              "outlinewidth": 0,
              "ticks": ""
             }
            },
            "type": "parcoords"
           }
          ],
          "pie": [
           {
            "automargin": true,
            "type": "pie"
           }
          ],
          "scatter": [
           {
            "fillpattern": {
             "fillmode": "overlay",
             "size": 10,
             "solidity": 0.2
            },
            "type": "scatter"
           }
          ],
          "scatter3d": [
           {
            "line": {
             "colorbar": {
              "outlinewidth": 0,
              "ticks": ""
             }
            },
            "marker": {
             "colorbar": {
              "outlinewidth": 0,
              "ticks": ""
             }
            },
            "type": "scatter3d"
           }
          ],
          "scattercarpet": [
           {
            "marker": {
             "colorbar": {
              "outlinewidth": 0,
              "ticks": ""
             }
            },
            "type": "scattercarpet"
           }
          ],
          "scattergeo": [
           {
            "marker": {
             "colorbar": {
              "outlinewidth": 0,
              "ticks": ""
             }
            },
            "type": "scattergeo"
           }
          ],
          "scattergl": [
           {
            "marker": {
             "colorbar": {
              "outlinewidth": 0,
              "ticks": ""
             }
            },
            "type": "scattergl"
           }
          ],
          "scattermapbox": [
           {
            "marker": {
             "colorbar": {
              "outlinewidth": 0,
              "ticks": ""
             }
            },
            "type": "scattermapbox"
           }
          ],
          "scatterpolar": [
           {
            "marker": {
             "colorbar": {
              "outlinewidth": 0,
              "ticks": ""
             }
            },
            "type": "scatterpolar"
           }
          ],
          "scatterpolargl": [
           {
            "marker": {
             "colorbar": {
              "outlinewidth": 0,
              "ticks": ""
             }
            },
            "type": "scatterpolargl"
           }
          ],
          "scatterternary": [
           {
            "marker": {
             "colorbar": {
              "outlinewidth": 0,
              "ticks": ""
             }
            },
            "type": "scatterternary"
           }
          ],
          "surface": [
           {
            "colorbar": {
             "outlinewidth": 0,
             "ticks": ""
            },
            "colorscale": [
             [
              0,
              "#0d0887"
             ],
             [
              0.1111111111111111,
              "#46039f"
             ],
             [
              0.2222222222222222,
              "#7201a8"
             ],
             [
              0.3333333333333333,
              "#9c179e"
             ],
             [
              0.4444444444444444,
              "#bd3786"
             ],
             [
              0.5555555555555556,
              "#d8576b"
             ],
             [
              0.6666666666666666,
              "#ed7953"
             ],
             [
              0.7777777777777778,
              "#fb9f3a"
             ],
             [
              0.8888888888888888,
              "#fdca26"
             ],
             [
              1,
              "#f0f921"
             ]
            ],
            "type": "surface"
           }
          ],
          "table": [
           {
            "cells": {
             "fill": {
              "color": "#EBF0F8"
             },
             "line": {
              "color": "white"
             }
            },
            "header": {
             "fill": {
              "color": "#C8D4E3"
             },
             "line": {
              "color": "white"
             }
            },
            "type": "table"
           }
          ]
         },
         "layout": {
          "annotationdefaults": {
           "arrowcolor": "#2a3f5f",
           "arrowhead": 0,
           "arrowwidth": 1
          },
          "autotypenumbers": "strict",
          "coloraxis": {
           "colorbar": {
            "outlinewidth": 0,
            "ticks": ""
           }
          },
          "colorscale": {
           "diverging": [
            [
             0,
             "#8e0152"
            ],
            [
             0.1,
             "#c51b7d"
            ],
            [
             0.2,
             "#de77ae"
            ],
            [
             0.3,
             "#f1b6da"
            ],
            [
             0.4,
             "#fde0ef"
            ],
            [
             0.5,
             "#f7f7f7"
            ],
            [
             0.6,
             "#e6f5d0"
            ],
            [
             0.7,
             "#b8e186"
            ],
            [
             0.8,
             "#7fbc41"
            ],
            [
             0.9,
             "#4d9221"
            ],
            [
             1,
             "#276419"
            ]
           ],
           "sequential": [
            [
             0,
             "#0d0887"
            ],
            [
             0.1111111111111111,
             "#46039f"
            ],
            [
             0.2222222222222222,
             "#7201a8"
            ],
            [
             0.3333333333333333,
             "#9c179e"
            ],
            [
             0.4444444444444444,
             "#bd3786"
            ],
            [
             0.5555555555555556,
             "#d8576b"
            ],
            [
             0.6666666666666666,
             "#ed7953"
            ],
            [
             0.7777777777777778,
             "#fb9f3a"
            ],
            [
             0.8888888888888888,
             "#fdca26"
            ],
            [
             1,
             "#f0f921"
            ]
           ],
           "sequentialminus": [
            [
             0,
             "#0d0887"
            ],
            [
             0.1111111111111111,
             "#46039f"
            ],
            [
             0.2222222222222222,
             "#7201a8"
            ],
            [
             0.3333333333333333,
             "#9c179e"
            ],
            [
             0.4444444444444444,
             "#bd3786"
            ],
            [
             0.5555555555555556,
             "#d8576b"
            ],
            [
             0.6666666666666666,
             "#ed7953"
            ],
            [
             0.7777777777777778,
             "#fb9f3a"
            ],
            [
             0.8888888888888888,
             "#fdca26"
            ],
            [
             1,
             "#f0f921"
            ]
           ]
          },
          "colorway": [
           "#636efa",
           "#EF553B",
           "#00cc96",
           "#ab63fa",
           "#FFA15A",
           "#19d3f3",
           "#FF6692",
           "#B6E880",
           "#FF97FF",
           "#FECB52"
          ],
          "font": {
           "color": "#2a3f5f"
          },
          "geo": {
           "bgcolor": "white",
           "lakecolor": "white",
           "landcolor": "#E5ECF6",
           "showlakes": true,
           "showland": true,
           "subunitcolor": "white"
          },
          "hoverlabel": {
           "align": "left"
          },
          "hovermode": "closest",
          "mapbox": {
           "style": "light"
          },
          "paper_bgcolor": "white",
          "plot_bgcolor": "#E5ECF6",
          "polar": {
           "angularaxis": {
            "gridcolor": "white",
            "linecolor": "white",
            "ticks": ""
           },
           "bgcolor": "#E5ECF6",
           "radialaxis": {
            "gridcolor": "white",
            "linecolor": "white",
            "ticks": ""
           }
          },
          "scene": {
           "xaxis": {
            "backgroundcolor": "#E5ECF6",
            "gridcolor": "white",
            "gridwidth": 2,
            "linecolor": "white",
            "showbackground": true,
            "ticks": "",
            "zerolinecolor": "white"
           },
           "yaxis": {
            "backgroundcolor": "#E5ECF6",
            "gridcolor": "white",
            "gridwidth": 2,
            "linecolor": "white",
            "showbackground": true,
            "ticks": "",
            "zerolinecolor": "white"
           },
           "zaxis": {
            "backgroundcolor": "#E5ECF6",
            "gridcolor": "white",
            "gridwidth": 2,
            "linecolor": "white",
            "showbackground": true,
            "ticks": "",
            "zerolinecolor": "white"
           }
          },
          "shapedefaults": {
           "line": {
            "color": "#2a3f5f"
           }
          },
          "ternary": {
           "aaxis": {
            "gridcolor": "white",
            "linecolor": "white",
            "ticks": ""
           },
           "baxis": {
            "gridcolor": "white",
            "linecolor": "white",
            "ticks": ""
           },
           "bgcolor": "#E5ECF6",
           "caxis": {
            "gridcolor": "white",
            "linecolor": "white",
            "ticks": ""
           }
          },
          "title": {
           "x": 0.05
          },
          "xaxis": {
           "automargin": true,
           "gridcolor": "white",
           "linecolor": "white",
           "ticks": "",
           "title": {
            "standoff": 15
           },
           "zerolinecolor": "white",
           "zerolinewidth": 2
          },
          "yaxis": {
           "automargin": true,
           "gridcolor": "white",
           "linecolor": "white",
           "ticks": "",
           "title": {
            "standoff": 15
           },
           "zerolinecolor": "white",
           "zerolinewidth": 2
          }
         }
        }
       }
      }
     },
     "metadata": {},
     "output_type": "display_data"
    }
   ],
   "source": [
    "fig = go.Figure(go.Pie(\n",
    "    labels=df.category.value_counts().index,\n",
    "    values=df.category.value_counts().values,\n",
    "    hole=0.65\n",
    "))\n",
    "fig.update_traces(hoverinfo='value+percent', textinfo='label', textfont_size=20,\n",
    "                  marker=dict(line=dict(color='#000000', width=2)))\n",
    "fig.update_layout(\n",
    "    annotations=[\n",
    "        dict(text=\"Categories\", x=0.5, y=0.5, font_size=20, showarrow=False)\n",
    "    ]\n",
    ")\n",
    "fig.show()"
   ]
  },
  {
   "cell_type": "code",
   "execution_count": 8,
   "metadata": {},
   "outputs": [
    {
     "data": {
      "application/vnd.plotly.v1+json": {
       "config": {
        "plotlyServerURL": "https://plot.ly"
       },
       "data": [
        {
         "hole": 0.65,
         "hoverinfo": "value+percent",
         "labels": [
          "samples"
         ],
         "marker": {
          "line": {
           "color": "#000000",
           "width": 2
          }
         },
         "textfont": {
          "size": 20
         },
         "textinfo": "label",
         "type": "pie",
         "values": [
          60000
         ]
        }
       ],
       "layout": {
        "annotations": [
         {
          "font": {
           "size": 20
          },
          "showarrow": false,
          "text": "Total<br>Samples",
          "x": 0.5,
          "y": 0.5
         }
        ],
        "template": {
         "data": {
          "bar": [
           {
            "error_x": {
             "color": "#2a3f5f"
            },
            "error_y": {
             "color": "#2a3f5f"
            },
            "marker": {
             "line": {
              "color": "#E5ECF6",
              "width": 0.5
             },
             "pattern": {
              "fillmode": "overlay",
              "size": 10,
              "solidity": 0.2
             }
            },
            "type": "bar"
           }
          ],
          "barpolar": [
           {
            "marker": {
             "line": {
              "color": "#E5ECF6",
              "width": 0.5
             },
             "pattern": {
              "fillmode": "overlay",
              "size": 10,
              "solidity": 0.2
             }
            },
            "type": "barpolar"
           }
          ],
          "carpet": [
           {
            "aaxis": {
             "endlinecolor": "#2a3f5f",
             "gridcolor": "white",
             "linecolor": "white",
             "minorgridcolor": "white",
             "startlinecolor": "#2a3f5f"
            },
            "baxis": {
             "endlinecolor": "#2a3f5f",
             "gridcolor": "white",
             "linecolor": "white",
             "minorgridcolor": "white",
             "startlinecolor": "#2a3f5f"
            },
            "type": "carpet"
           }
          ],
          "choropleth": [
           {
            "colorbar": {
             "outlinewidth": 0,
             "ticks": ""
            },
            "type": "choropleth"
           }
          ],
          "contour": [
           {
            "colorbar": {
             "outlinewidth": 0,
             "ticks": ""
            },
            "colorscale": [
             [
              0,
              "#0d0887"
             ],
             [
              0.1111111111111111,
              "#46039f"
             ],
             [
              0.2222222222222222,
              "#7201a8"
             ],
             [
              0.3333333333333333,
              "#9c179e"
             ],
             [
              0.4444444444444444,
              "#bd3786"
             ],
             [
              0.5555555555555556,
              "#d8576b"
             ],
             [
              0.6666666666666666,
              "#ed7953"
             ],
             [
              0.7777777777777778,
              "#fb9f3a"
             ],
             [
              0.8888888888888888,
              "#fdca26"
             ],
             [
              1,
              "#f0f921"
             ]
            ],
            "type": "contour"
           }
          ],
          "contourcarpet": [
           {
            "colorbar": {
             "outlinewidth": 0,
             "ticks": ""
            },
            "type": "contourcarpet"
           }
          ],
          "heatmap": [
           {
            "colorbar": {
             "outlinewidth": 0,
             "ticks": ""
            },
            "colorscale": [
             [
              0,
              "#0d0887"
             ],
             [
              0.1111111111111111,
              "#46039f"
             ],
             [
              0.2222222222222222,
              "#7201a8"
             ],
             [
              0.3333333333333333,
              "#9c179e"
             ],
             [
              0.4444444444444444,
              "#bd3786"
             ],
             [
              0.5555555555555556,
              "#d8576b"
             ],
             [
              0.6666666666666666,
              "#ed7953"
             ],
             [
              0.7777777777777778,
              "#fb9f3a"
             ],
             [
              0.8888888888888888,
              "#fdca26"
             ],
             [
              1,
              "#f0f921"
             ]
            ],
            "type": "heatmap"
           }
          ],
          "heatmapgl": [
           {
            "colorbar": {
             "outlinewidth": 0,
             "ticks": ""
            },
            "colorscale": [
             [
              0,
              "#0d0887"
             ],
             [
              0.1111111111111111,
              "#46039f"
             ],
             [
              0.2222222222222222,
              "#7201a8"
             ],
             [
              0.3333333333333333,
              "#9c179e"
             ],
             [
              0.4444444444444444,
              "#bd3786"
             ],
             [
              0.5555555555555556,
              "#d8576b"
             ],
             [
              0.6666666666666666,
              "#ed7953"
             ],
             [
              0.7777777777777778,
              "#fb9f3a"
             ],
             [
              0.8888888888888888,
              "#fdca26"
             ],
             [
              1,
              "#f0f921"
             ]
            ],
            "type": "heatmapgl"
           }
          ],
          "histogram": [
           {
            "marker": {
             "pattern": {
              "fillmode": "overlay",
              "size": 10,
              "solidity": 0.2
             }
            },
            "type": "histogram"
           }
          ],
          "histogram2d": [
           {
            "colorbar": {
             "outlinewidth": 0,
             "ticks": ""
            },
            "colorscale": [
             [
              0,
              "#0d0887"
             ],
             [
              0.1111111111111111,
              "#46039f"
             ],
             [
              0.2222222222222222,
              "#7201a8"
             ],
             [
              0.3333333333333333,
              "#9c179e"
             ],
             [
              0.4444444444444444,
              "#bd3786"
             ],
             [
              0.5555555555555556,
              "#d8576b"
             ],
             [
              0.6666666666666666,
              "#ed7953"
             ],
             [
              0.7777777777777778,
              "#fb9f3a"
             ],
             [
              0.8888888888888888,
              "#fdca26"
             ],
             [
              1,
              "#f0f921"
             ]
            ],
            "type": "histogram2d"
           }
          ],
          "histogram2dcontour": [
           {
            "colorbar": {
             "outlinewidth": 0,
             "ticks": ""
            },
            "colorscale": [
             [
              0,
              "#0d0887"
             ],
             [
              0.1111111111111111,
              "#46039f"
             ],
             [
              0.2222222222222222,
              "#7201a8"
             ],
             [
              0.3333333333333333,
              "#9c179e"
             ],
             [
              0.4444444444444444,
              "#bd3786"
             ],
             [
              0.5555555555555556,
              "#d8576b"
             ],
             [
              0.6666666666666666,
              "#ed7953"
             ],
             [
              0.7777777777777778,
              "#fb9f3a"
             ],
             [
              0.8888888888888888,
              "#fdca26"
             ],
             [
              1,
              "#f0f921"
             ]
            ],
            "type": "histogram2dcontour"
           }
          ],
          "mesh3d": [
           {
            "colorbar": {
             "outlinewidth": 0,
             "ticks": ""
            },
            "type": "mesh3d"
           }
          ],
          "parcoords": [
           {
            "line": {
             "colorbar": {
              "outlinewidth": 0,
              "ticks": ""
             }
            },
            "type": "parcoords"
           }
          ],
          "pie": [
           {
            "automargin": true,
            "type": "pie"
           }
          ],
          "scatter": [
           {
            "fillpattern": {
             "fillmode": "overlay",
             "size": 10,
             "solidity": 0.2
            },
            "type": "scatter"
           }
          ],
          "scatter3d": [
           {
            "line": {
             "colorbar": {
              "outlinewidth": 0,
              "ticks": ""
             }
            },
            "marker": {
             "colorbar": {
              "outlinewidth": 0,
              "ticks": ""
             }
            },
            "type": "scatter3d"
           }
          ],
          "scattercarpet": [
           {
            "marker": {
             "colorbar": {
              "outlinewidth": 0,
              "ticks": ""
             }
            },
            "type": "scattercarpet"
           }
          ],
          "scattergeo": [
           {
            "marker": {
             "colorbar": {
              "outlinewidth": 0,
              "ticks": ""
             }
            },
            "type": "scattergeo"
           }
          ],
          "scattergl": [
           {
            "marker": {
             "colorbar": {
              "outlinewidth": 0,
              "ticks": ""
             }
            },
            "type": "scattergl"
           }
          ],
          "scattermapbox": [
           {
            "marker": {
             "colorbar": {
              "outlinewidth": 0,
              "ticks": ""
             }
            },
            "type": "scattermapbox"
           }
          ],
          "scatterpolar": [
           {
            "marker": {
             "colorbar": {
              "outlinewidth": 0,
              "ticks": ""
             }
            },
            "type": "scatterpolar"
           }
          ],
          "scatterpolargl": [
           {
            "marker": {
             "colorbar": {
              "outlinewidth": 0,
              "ticks": ""
             }
            },
            "type": "scatterpolargl"
           }
          ],
          "scatterternary": [
           {
            "marker": {
             "colorbar": {
              "outlinewidth": 0,
              "ticks": ""
             }
            },
            "type": "scatterternary"
           }
          ],
          "surface": [
           {
            "colorbar": {
             "outlinewidth": 0,
             "ticks": ""
            },
            "colorscale": [
             [
              0,
              "#0d0887"
             ],
             [
              0.1111111111111111,
              "#46039f"
             ],
             [
              0.2222222222222222,
              "#7201a8"
             ],
             [
              0.3333333333333333,
              "#9c179e"
             ],
             [
              0.4444444444444444,
              "#bd3786"
             ],
             [
              0.5555555555555556,
              "#d8576b"
             ],
             [
              0.6666666666666666,
              "#ed7953"
             ],
             [
              0.7777777777777778,
              "#fb9f3a"
             ],
             [
              0.8888888888888888,
              "#fdca26"
             ],
             [
              1,
              "#f0f921"
             ]
            ],
            "type": "surface"
           }
          ],
          "table": [
           {
            "cells": {
             "fill": {
              "color": "#EBF0F8"
             },
             "line": {
              "color": "white"
             }
            },
            "header": {
             "fill": {
              "color": "#C8D4E3"
             },
             "line": {
              "color": "white"
             }
            },
            "type": "table"
           }
          ]
         },
         "layout": {
          "annotationdefaults": {
           "arrowcolor": "#2a3f5f",
           "arrowhead": 0,
           "arrowwidth": 1
          },
          "autotypenumbers": "strict",
          "coloraxis": {
           "colorbar": {
            "outlinewidth": 0,
            "ticks": ""
           }
          },
          "colorscale": {
           "diverging": [
            [
             0,
             "#8e0152"
            ],
            [
             0.1,
             "#c51b7d"
            ],
            [
             0.2,
             "#de77ae"
            ],
            [
             0.3,
             "#f1b6da"
            ],
            [
             0.4,
             "#fde0ef"
            ],
            [
             0.5,
             "#f7f7f7"
            ],
            [
             0.6,
             "#e6f5d0"
            ],
            [
             0.7,
             "#b8e186"
            ],
            [
             0.8,
             "#7fbc41"
            ],
            [
             0.9,
             "#4d9221"
            ],
            [
             1,
             "#276419"
            ]
           ],
           "sequential": [
            [
             0,
             "#0d0887"
            ],
            [
             0.1111111111111111,
             "#46039f"
            ],
            [
             0.2222222222222222,
             "#7201a8"
            ],
            [
             0.3333333333333333,
             "#9c179e"
            ],
            [
             0.4444444444444444,
             "#bd3786"
            ],
            [
             0.5555555555555556,
             "#d8576b"
            ],
            [
             0.6666666666666666,
             "#ed7953"
            ],
            [
             0.7777777777777778,
             "#fb9f3a"
            ],
            [
             0.8888888888888888,
             "#fdca26"
            ],
            [
             1,
             "#f0f921"
            ]
           ],
           "sequentialminus": [
            [
             0,
             "#0d0887"
            ],
            [
             0.1111111111111111,
             "#46039f"
            ],
            [
             0.2222222222222222,
             "#7201a8"
            ],
            [
             0.3333333333333333,
             "#9c179e"
            ],
            [
             0.4444444444444444,
             "#bd3786"
            ],
            [
             0.5555555555555556,
             "#d8576b"
            ],
            [
             0.6666666666666666,
             "#ed7953"
            ],
            [
             0.7777777777777778,
             "#fb9f3a"
            ],
            [
             0.8888888888888888,
             "#fdca26"
            ],
            [
             1,
             "#f0f921"
            ]
           ]
          },
          "colorway": [
           "#636efa",
           "#EF553B",
           "#00cc96",
           "#ab63fa",
           "#FFA15A",
           "#19d3f3",
           "#FF6692",
           "#B6E880",
           "#FF97FF",
           "#FECB52"
          ],
          "font": {
           "color": "#2a3f5f"
          },
          "geo": {
           "bgcolor": "white",
           "lakecolor": "white",
           "landcolor": "#E5ECF6",
           "showlakes": true,
           "showland": true,
           "subunitcolor": "white"
          },
          "hoverlabel": {
           "align": "left"
          },
          "hovermode": "closest",
          "mapbox": {
           "style": "light"
          },
          "paper_bgcolor": "white",
          "plot_bgcolor": "#E5ECF6",
          "polar": {
           "angularaxis": {
            "gridcolor": "white",
            "linecolor": "white",
            "ticks": ""
           },
           "bgcolor": "#E5ECF6",
           "radialaxis": {
            "gridcolor": "white",
            "linecolor": "white",
            "ticks": ""
           }
          },
          "scene": {
           "xaxis": {
            "backgroundcolor": "#E5ECF6",
            "gridcolor": "white",
            "gridwidth": 2,
            "linecolor": "white",
            "showbackground": true,
            "ticks": "",
            "zerolinecolor": "white"
           },
           "yaxis": {
            "backgroundcolor": "#E5ECF6",
            "gridcolor": "white",
            "gridwidth": 2,
            "linecolor": "white",
            "showbackground": true,
            "ticks": "",
            "zerolinecolor": "white"
           },
           "zaxis": {
            "backgroundcolor": "#E5ECF6",
            "gridcolor": "white",
            "gridwidth": 2,
            "linecolor": "white",
            "showbackground": true,
            "ticks": "",
            "zerolinecolor": "white"
           }
          },
          "shapedefaults": {
           "line": {
            "color": "#2a3f5f"
           }
          },
          "ternary": {
           "aaxis": {
            "gridcolor": "white",
            "linecolor": "white",
            "ticks": ""
           },
           "baxis": {
            "gridcolor": "white",
            "linecolor": "white",
            "ticks": ""
           },
           "bgcolor": "#E5ECF6",
           "caxis": {
            "gridcolor": "white",
            "linecolor": "white",
            "ticks": ""
           }
          },
          "title": {
           "x": 0.05
          },
          "xaxis": {
           "automargin": true,
           "gridcolor": "white",
           "linecolor": "white",
           "ticks": "",
           "title": {
            "standoff": 15
           },
           "zerolinecolor": "white",
           "zerolinewidth": 2
          },
          "yaxis": {
           "automargin": true,
           "gridcolor": "white",
           "linecolor": "white",
           "ticks": "",
           "title": {
            "standoff": 15
           },
           "zerolinecolor": "white",
           "zerolinewidth": 2
          }
         }
        }
       }
      }
     },
     "metadata": {},
     "output_type": "display_data"
    }
   ],
   "source": [
    "fig = go.Figure(go.Pie(\n",
    "    labels=['samples'],\n",
    "    values=[df.shape[0]],\n",
    "    hole=0.65\n",
    "))\n",
    "fig.update_traces(hoverinfo='value+percent', textinfo='label', textfont_size=20,\n",
    "                  marker=dict(line=dict(color='#000000', width=2)))\n",
    "fig.update_layout(\n",
    "    annotations=[\n",
    "        dict(text=\"Total<br>Samples\", x=0.5, y=0.5, font_size=20, showarrow=False)\n",
    "    ]\n",
    ")\n",
    "fig.show()"
   ]
  },
  {
   "cell_type": "code",
   "execution_count": 14,
   "metadata": {},
   "outputs": [
    {
     "data": {
      "application/vnd.plotly.v1+json": {
       "config": {
        "plotlyServerURL": "https://plot.ly"
       },
       "data": [
        {
         "hole": 0.65,
         "hoverinfo": "value+percent",
         "labels": [
          "Negative",
          "Positive"
         ],
         "marker": {
          "line": {
           "color": "#000000",
           "width": 2
          }
         },
         "textfont": {
          "size": 20
         },
         "textinfo": "label",
         "type": "pie",
         "values": [
          35195,
          24805
         ]
        }
       ],
       "layout": {
        "annotations": [
         {
          "font": {
           "size": 20
          },
          "showarrow": false,
          "text": "Opioids<br>Present",
          "x": 0.5,
          "y": 0.5
         }
        ],
        "autosize": false,
        "height": 500,
        "showlegend": false,
        "template": {
         "data": {
          "bar": [
           {
            "error_x": {
             "color": "#2a3f5f"
            },
            "error_y": {
             "color": "#2a3f5f"
            },
            "marker": {
             "line": {
              "color": "#E5ECF6",
              "width": 0.5
             },
             "pattern": {
              "fillmode": "overlay",
              "size": 10,
              "solidity": 0.2
             }
            },
            "type": "bar"
           }
          ],
          "barpolar": [
           {
            "marker": {
             "line": {
              "color": "#E5ECF6",
              "width": 0.5
             },
             "pattern": {
              "fillmode": "overlay",
              "size": 10,
              "solidity": 0.2
             }
            },
            "type": "barpolar"
           }
          ],
          "carpet": [
           {
            "aaxis": {
             "endlinecolor": "#2a3f5f",
             "gridcolor": "white",
             "linecolor": "white",
             "minorgridcolor": "white",
             "startlinecolor": "#2a3f5f"
            },
            "baxis": {
             "endlinecolor": "#2a3f5f",
             "gridcolor": "white",
             "linecolor": "white",
             "minorgridcolor": "white",
             "startlinecolor": "#2a3f5f"
            },
            "type": "carpet"
           }
          ],
          "choropleth": [
           {
            "colorbar": {
             "outlinewidth": 0,
             "ticks": ""
            },
            "type": "choropleth"
           }
          ],
          "contour": [
           {
            "colorbar": {
             "outlinewidth": 0,
             "ticks": ""
            },
            "colorscale": [
             [
              0,
              "#0d0887"
             ],
             [
              0.1111111111111111,
              "#46039f"
             ],
             [
              0.2222222222222222,
              "#7201a8"
             ],
             [
              0.3333333333333333,
              "#9c179e"
             ],
             [
              0.4444444444444444,
              "#bd3786"
             ],
             [
              0.5555555555555556,
              "#d8576b"
             ],
             [
              0.6666666666666666,
              "#ed7953"
             ],
             [
              0.7777777777777778,
              "#fb9f3a"
             ],
             [
              0.8888888888888888,
              "#fdca26"
             ],
             [
              1,
              "#f0f921"
             ]
            ],
            "type": "contour"
           }
          ],
          "contourcarpet": [
           {
            "colorbar": {
             "outlinewidth": 0,
             "ticks": ""
            },
            "type": "contourcarpet"
           }
          ],
          "heatmap": [
           {
            "colorbar": {
             "outlinewidth": 0,
             "ticks": ""
            },
            "colorscale": [
             [
              0,
              "#0d0887"
             ],
             [
              0.1111111111111111,
              "#46039f"
             ],
             [
              0.2222222222222222,
              "#7201a8"
             ],
             [
              0.3333333333333333,
              "#9c179e"
             ],
             [
              0.4444444444444444,
              "#bd3786"
             ],
             [
              0.5555555555555556,
              "#d8576b"
             ],
             [
              0.6666666666666666,
              "#ed7953"
             ],
             [
              0.7777777777777778,
              "#fb9f3a"
             ],
             [
              0.8888888888888888,
              "#fdca26"
             ],
             [
              1,
              "#f0f921"
             ]
            ],
            "type": "heatmap"
           }
          ],
          "heatmapgl": [
           {
            "colorbar": {
             "outlinewidth": 0,
             "ticks": ""
            },
            "colorscale": [
             [
              0,
              "#0d0887"
             ],
             [
              0.1111111111111111,
              "#46039f"
             ],
             [
              0.2222222222222222,
              "#7201a8"
             ],
             [
              0.3333333333333333,
              "#9c179e"
             ],
             [
              0.4444444444444444,
              "#bd3786"
             ],
             [
              0.5555555555555556,
              "#d8576b"
             ],
             [
              0.6666666666666666,
              "#ed7953"
             ],
             [
              0.7777777777777778,
              "#fb9f3a"
             ],
             [
              0.8888888888888888,
              "#fdca26"
             ],
             [
              1,
              "#f0f921"
             ]
            ],
            "type": "heatmapgl"
           }
          ],
          "histogram": [
           {
            "marker": {
             "pattern": {
              "fillmode": "overlay",
              "size": 10,
              "solidity": 0.2
             }
            },
            "type": "histogram"
           }
          ],
          "histogram2d": [
           {
            "colorbar": {
             "outlinewidth": 0,
             "ticks": ""
            },
            "colorscale": [
             [
              0,
              "#0d0887"
             ],
             [
              0.1111111111111111,
              "#46039f"
             ],
             [
              0.2222222222222222,
              "#7201a8"
             ],
             [
              0.3333333333333333,
              "#9c179e"
             ],
             [
              0.4444444444444444,
              "#bd3786"
             ],
             [
              0.5555555555555556,
              "#d8576b"
             ],
             [
              0.6666666666666666,
              "#ed7953"
             ],
             [
              0.7777777777777778,
              "#fb9f3a"
             ],
             [
              0.8888888888888888,
              "#fdca26"
             ],
             [
              1,
              "#f0f921"
             ]
            ],
            "type": "histogram2d"
           }
          ],
          "histogram2dcontour": [
           {
            "colorbar": {
             "outlinewidth": 0,
             "ticks": ""
            },
            "colorscale": [
             [
              0,
              "#0d0887"
             ],
             [
              0.1111111111111111,
              "#46039f"
             ],
             [
              0.2222222222222222,
              "#7201a8"
             ],
             [
              0.3333333333333333,
              "#9c179e"
             ],
             [
              0.4444444444444444,
              "#bd3786"
             ],
             [
              0.5555555555555556,
              "#d8576b"
             ],
             [
              0.6666666666666666,
              "#ed7953"
             ],
             [
              0.7777777777777778,
              "#fb9f3a"
             ],
             [
              0.8888888888888888,
              "#fdca26"
             ],
             [
              1,
              "#f0f921"
             ]
            ],
            "type": "histogram2dcontour"
           }
          ],
          "mesh3d": [
           {
            "colorbar": {
             "outlinewidth": 0,
             "ticks": ""
            },
            "type": "mesh3d"
           }
          ],
          "parcoords": [
           {
            "line": {
             "colorbar": {
              "outlinewidth": 0,
              "ticks": ""
             }
            },
            "type": "parcoords"
           }
          ],
          "pie": [
           {
            "automargin": true,
            "type": "pie"
           }
          ],
          "scatter": [
           {
            "fillpattern": {
             "fillmode": "overlay",
             "size": 10,
             "solidity": 0.2
            },
            "type": "scatter"
           }
          ],
          "scatter3d": [
           {
            "line": {
             "colorbar": {
              "outlinewidth": 0,
              "ticks": ""
             }
            },
            "marker": {
             "colorbar": {
              "outlinewidth": 0,
              "ticks": ""
             }
            },
            "type": "scatter3d"
           }
          ],
          "scattercarpet": [
           {
            "marker": {
             "colorbar": {
              "outlinewidth": 0,
              "ticks": ""
             }
            },
            "type": "scattercarpet"
           }
          ],
          "scattergeo": [
           {
            "marker": {
             "colorbar": {
              "outlinewidth": 0,
              "ticks": ""
             }
            },
            "type": "scattergeo"
           }
          ],
          "scattergl": [
           {
            "marker": {
             "colorbar": {
              "outlinewidth": 0,
              "ticks": ""
             }
            },
            "type": "scattergl"
           }
          ],
          "scattermapbox": [
           {
            "marker": {
             "colorbar": {
              "outlinewidth": 0,
              "ticks": ""
             }
            },
            "type": "scattermapbox"
           }
          ],
          "scatterpolar": [
           {
            "marker": {
             "colorbar": {
              "outlinewidth": 0,
              "ticks": ""
             }
            },
            "type": "scatterpolar"
           }
          ],
          "scatterpolargl": [
           {
            "marker": {
             "colorbar": {
              "outlinewidth": 0,
              "ticks": ""
             }
            },
            "type": "scatterpolargl"
           }
          ],
          "scatterternary": [
           {
            "marker": {
             "colorbar": {
              "outlinewidth": 0,
              "ticks": ""
             }
            },
            "type": "scatterternary"
           }
          ],
          "surface": [
           {
            "colorbar": {
             "outlinewidth": 0,
             "ticks": ""
            },
            "colorscale": [
             [
              0,
              "#0d0887"
             ],
             [
              0.1111111111111111,
              "#46039f"
             ],
             [
              0.2222222222222222,
              "#7201a8"
             ],
             [
              0.3333333333333333,
              "#9c179e"
             ],
             [
              0.4444444444444444,
              "#bd3786"
             ],
             [
              0.5555555555555556,
              "#d8576b"
             ],
             [
              0.6666666666666666,
              "#ed7953"
             ],
             [
              0.7777777777777778,
              "#fb9f3a"
             ],
             [
              0.8888888888888888,
              "#fdca26"
             ],
             [
              1,
              "#f0f921"
             ]
            ],
            "type": "surface"
           }
          ],
          "table": [
           {
            "cells": {
             "fill": {
              "color": "#EBF0F8"
             },
             "line": {
              "color": "white"
             }
            },
            "header": {
             "fill": {
              "color": "#C8D4E3"
             },
             "line": {
              "color": "white"
             }
            },
            "type": "table"
           }
          ]
         },
         "layout": {
          "annotationdefaults": {
           "arrowcolor": "#2a3f5f",
           "arrowhead": 0,
           "arrowwidth": 1
          },
          "autotypenumbers": "strict",
          "coloraxis": {
           "colorbar": {
            "outlinewidth": 0,
            "ticks": ""
           }
          },
          "colorscale": {
           "diverging": [
            [
             0,
             "#8e0152"
            ],
            [
             0.1,
             "#c51b7d"
            ],
            [
             0.2,
             "#de77ae"
            ],
            [
             0.3,
             "#f1b6da"
            ],
            [
             0.4,
             "#fde0ef"
            ],
            [
             0.5,
             "#f7f7f7"
            ],
            [
             0.6,
             "#e6f5d0"
            ],
            [
             0.7,
             "#b8e186"
            ],
            [
             0.8,
             "#7fbc41"
            ],
            [
             0.9,
             "#4d9221"
            ],
            [
             1,
             "#276419"
            ]
           ],
           "sequential": [
            [
             0,
             "#0d0887"
            ],
            [
             0.1111111111111111,
             "#46039f"
            ],
            [
             0.2222222222222222,
             "#7201a8"
            ],
            [
             0.3333333333333333,
             "#9c179e"
            ],
            [
             0.4444444444444444,
             "#bd3786"
            ],
            [
             0.5555555555555556,
             "#d8576b"
            ],
            [
             0.6666666666666666,
             "#ed7953"
            ],
            [
             0.7777777777777778,
             "#fb9f3a"
            ],
            [
             0.8888888888888888,
             "#fdca26"
            ],
            [
             1,
             "#f0f921"
            ]
           ],
           "sequentialminus": [
            [
             0,
             "#0d0887"
            ],
            [
             0.1111111111111111,
             "#46039f"
            ],
            [
             0.2222222222222222,
             "#7201a8"
            ],
            [
             0.3333333333333333,
             "#9c179e"
            ],
            [
             0.4444444444444444,
             "#bd3786"
            ],
            [
             0.5555555555555556,
             "#d8576b"
            ],
            [
             0.6666666666666666,
             "#ed7953"
            ],
            [
             0.7777777777777778,
             "#fb9f3a"
            ],
            [
             0.8888888888888888,
             "#fdca26"
            ],
            [
             1,
             "#f0f921"
            ]
           ]
          },
          "colorway": [
           "#636efa",
           "#EF553B",
           "#00cc96",
           "#ab63fa",
           "#FFA15A",
           "#19d3f3",
           "#FF6692",
           "#B6E880",
           "#FF97FF",
           "#FECB52"
          ],
          "font": {
           "color": "#2a3f5f"
          },
          "geo": {
           "bgcolor": "white",
           "lakecolor": "white",
           "landcolor": "#E5ECF6",
           "showlakes": true,
           "showland": true,
           "subunitcolor": "white"
          },
          "hoverlabel": {
           "align": "left"
          },
          "hovermode": "closest",
          "mapbox": {
           "style": "light"
          },
          "paper_bgcolor": "white",
          "plot_bgcolor": "#E5ECF6",
          "polar": {
           "angularaxis": {
            "gridcolor": "white",
            "linecolor": "white",
            "ticks": ""
           },
           "bgcolor": "#E5ECF6",
           "radialaxis": {
            "gridcolor": "white",
            "linecolor": "white",
            "ticks": ""
           }
          },
          "scene": {
           "xaxis": {
            "backgroundcolor": "#E5ECF6",
            "gridcolor": "white",
            "gridwidth": 2,
            "linecolor": "white",
            "showbackground": true,
            "ticks": "",
            "zerolinecolor": "white"
           },
           "yaxis": {
            "backgroundcolor": "#E5ECF6",
            "gridcolor": "white",
            "gridwidth": 2,
            "linecolor": "white",
            "showbackground": true,
            "ticks": "",
            "zerolinecolor": "white"
           },
           "zaxis": {
            "backgroundcolor": "#E5ECF6",
            "gridcolor": "white",
            "gridwidth": 2,
            "linecolor": "white",
            "showbackground": true,
            "ticks": "",
            "zerolinecolor": "white"
           }
          },
          "shapedefaults": {
           "line": {
            "color": "#2a3f5f"
           }
          },
          "ternary": {
           "aaxis": {
            "gridcolor": "white",
            "linecolor": "white",
            "ticks": ""
           },
           "baxis": {
            "gridcolor": "white",
            "linecolor": "white",
            "ticks": ""
           },
           "bgcolor": "#E5ECF6",
           "caxis": {
            "gridcolor": "white",
            "linecolor": "white",
            "ticks": ""
           }
          },
          "title": {
           "x": 0.05
          },
          "xaxis": {
           "automargin": true,
           "gridcolor": "white",
           "linecolor": "white",
           "ticks": "",
           "title": {
            "standoff": 15
           },
           "zerolinecolor": "white",
           "zerolinewidth": 2
          },
          "yaxis": {
           "automargin": true,
           "gridcolor": "white",
           "linecolor": "white",
           "ticks": "",
           "title": {
            "standoff": 15
           },
           "zerolinecolor": "white",
           "zerolinewidth": 2
          }
         }
        },
        "width": 500
       }
      }
     },
     "metadata": {},
     "output_type": "display_data"
    }
   ],
   "source": [
    "fig = go.Figure(go.Pie(\n",
    "    labels=df['total_opioids'].replace({1: \"Positive\", 0: \"Negative\"}).value_counts().index,\n",
    "    values=df['total_opioids'].value_counts().values,\n",
    "    hole=0.65\n",
    "))\n",
    "fig.update_traces(hoverinfo='value+percent', textinfo='label', textfont_size=20,\n",
    "                  marker=dict(line=dict(color='#000000', width=2)))\n",
    "fig.update_layout(\n",
    "    #     yaxis=dict(\n",
    "    #     range=[0.2, .8]\n",
    "    # ),\n",
    "    # xaxis=dict(\n",
    "    #     range=[0.2, .8]\n",
    "    # ),\n",
    "    autosize=False,\n",
    "    width=500,\n",
    "    height=500,\n",
    "    showlegend=False,\n",
    "    annotations=[\n",
    "        dict(text=\"Opioids<br>Present\", x=0.5, y=0.5, font_size=20, showarrow=False)\n",
    "    ])\n",
    "\n",
    "fig.show()"
   ]
  },
  {
   "cell_type": "code",
   "execution_count": 12,
   "metadata": {},
   "outputs": [
    {
     "data": {
      "application/vnd.plotly.v1+json": {
       "config": {
        "plotlyServerURL": "https://plot.ly"
       },
       "data": [
        {
         "hole": 0.65,
         "hoverinfo": "value+percent",
         "labels": [
          "Negative",
          "Positive"
         ],
         "marker": {
          "line": {
           "color": "#000000",
           "width": 2
          }
         },
         "textfont": {
          "size": 20
         },
         "textinfo": "label",
         "type": "pie",
         "values": [
          50611,
          9389
         ]
        }
       ],
       "layout": {
        "annotations": [
         {
          "font": {
           "size": 20
          },
          "showarrow": false,
          "text": "Benzos<br>Present",
          "x": 0.5,
          "y": 0.5
         }
        ],
        "template": {
         "data": {
          "bar": [
           {
            "error_x": {
             "color": "#2a3f5f"
            },
            "error_y": {
             "color": "#2a3f5f"
            },
            "marker": {
             "line": {
              "color": "#E5ECF6",
              "width": 0.5
             },
             "pattern": {
              "fillmode": "overlay",
              "size": 10,
              "solidity": 0.2
             }
            },
            "type": "bar"
           }
          ],
          "barpolar": [
           {
            "marker": {
             "line": {
              "color": "#E5ECF6",
              "width": 0.5
             },
             "pattern": {
              "fillmode": "overlay",
              "size": 10,
              "solidity": 0.2
             }
            },
            "type": "barpolar"
           }
          ],
          "carpet": [
           {
            "aaxis": {
             "endlinecolor": "#2a3f5f",
             "gridcolor": "white",
             "linecolor": "white",
             "minorgridcolor": "white",
             "startlinecolor": "#2a3f5f"
            },
            "baxis": {
             "endlinecolor": "#2a3f5f",
             "gridcolor": "white",
             "linecolor": "white",
             "minorgridcolor": "white",
             "startlinecolor": "#2a3f5f"
            },
            "type": "carpet"
           }
          ],
          "choropleth": [
           {
            "colorbar": {
             "outlinewidth": 0,
             "ticks": ""
            },
            "type": "choropleth"
           }
          ],
          "contour": [
           {
            "colorbar": {
             "outlinewidth": 0,
             "ticks": ""
            },
            "colorscale": [
             [
              0,
              "#0d0887"
             ],
             [
              0.1111111111111111,
              "#46039f"
             ],
             [
              0.2222222222222222,
              "#7201a8"
             ],
             [
              0.3333333333333333,
              "#9c179e"
             ],
             [
              0.4444444444444444,
              "#bd3786"
             ],
             [
              0.5555555555555556,
              "#d8576b"
             ],
             [
              0.6666666666666666,
              "#ed7953"
             ],
             [
              0.7777777777777778,
              "#fb9f3a"
             ],
             [
              0.8888888888888888,
              "#fdca26"
             ],
             [
              1,
              "#f0f921"
             ]
            ],
            "type": "contour"
           }
          ],
          "contourcarpet": [
           {
            "colorbar": {
             "outlinewidth": 0,
             "ticks": ""
            },
            "type": "contourcarpet"
           }
          ],
          "heatmap": [
           {
            "colorbar": {
             "outlinewidth": 0,
             "ticks": ""
            },
            "colorscale": [
             [
              0,
              "#0d0887"
             ],
             [
              0.1111111111111111,
              "#46039f"
             ],
             [
              0.2222222222222222,
              "#7201a8"
             ],
             [
              0.3333333333333333,
              "#9c179e"
             ],
             [
              0.4444444444444444,
              "#bd3786"
             ],
             [
              0.5555555555555556,
              "#d8576b"
             ],
             [
              0.6666666666666666,
              "#ed7953"
             ],
             [
              0.7777777777777778,
              "#fb9f3a"
             ],
             [
              0.8888888888888888,
              "#fdca26"
             ],
             [
              1,
              "#f0f921"
             ]
            ],
            "type": "heatmap"
           }
          ],
          "heatmapgl": [
           {
            "colorbar": {
             "outlinewidth": 0,
             "ticks": ""
            },
            "colorscale": [
             [
              0,
              "#0d0887"
             ],
             [
              0.1111111111111111,
              "#46039f"
             ],
             [
              0.2222222222222222,
              "#7201a8"
             ],
             [
              0.3333333333333333,
              "#9c179e"
             ],
             [
              0.4444444444444444,
              "#bd3786"
             ],
             [
              0.5555555555555556,
              "#d8576b"
             ],
             [
              0.6666666666666666,
              "#ed7953"
             ],
             [
              0.7777777777777778,
              "#fb9f3a"
             ],
             [
              0.8888888888888888,
              "#fdca26"
             ],
             [
              1,
              "#f0f921"
             ]
            ],
            "type": "heatmapgl"
           }
          ],
          "histogram": [
           {
            "marker": {
             "pattern": {
              "fillmode": "overlay",
              "size": 10,
              "solidity": 0.2
             }
            },
            "type": "histogram"
           }
          ],
          "histogram2d": [
           {
            "colorbar": {
             "outlinewidth": 0,
             "ticks": ""
            },
            "colorscale": [
             [
              0,
              "#0d0887"
             ],
             [
              0.1111111111111111,
              "#46039f"
             ],
             [
              0.2222222222222222,
              "#7201a8"
             ],
             [
              0.3333333333333333,
              "#9c179e"
             ],
             [
              0.4444444444444444,
              "#bd3786"
             ],
             [
              0.5555555555555556,
              "#d8576b"
             ],
             [
              0.6666666666666666,
              "#ed7953"
             ],
             [
              0.7777777777777778,
              "#fb9f3a"
             ],
             [
              0.8888888888888888,
              "#fdca26"
             ],
             [
              1,
              "#f0f921"
             ]
            ],
            "type": "histogram2d"
           }
          ],
          "histogram2dcontour": [
           {
            "colorbar": {
             "outlinewidth": 0,
             "ticks": ""
            },
            "colorscale": [
             [
              0,
              "#0d0887"
             ],
             [
              0.1111111111111111,
              "#46039f"
             ],
             [
              0.2222222222222222,
              "#7201a8"
             ],
             [
              0.3333333333333333,
              "#9c179e"
             ],
             [
              0.4444444444444444,
              "#bd3786"
             ],
             [
              0.5555555555555556,
              "#d8576b"
             ],
             [
              0.6666666666666666,
              "#ed7953"
             ],
             [
              0.7777777777777778,
              "#fb9f3a"
             ],
             [
              0.8888888888888888,
              "#fdca26"
             ],
             [
              1,
              "#f0f921"
             ]
            ],
            "type": "histogram2dcontour"
           }
          ],
          "mesh3d": [
           {
            "colorbar": {
             "outlinewidth": 0,
             "ticks": ""
            },
            "type": "mesh3d"
           }
          ],
          "parcoords": [
           {
            "line": {
             "colorbar": {
              "outlinewidth": 0,
              "ticks": ""
             }
            },
            "type": "parcoords"
           }
          ],
          "pie": [
           {
            "automargin": true,
            "type": "pie"
           }
          ],
          "scatter": [
           {
            "fillpattern": {
             "fillmode": "overlay",
             "size": 10,
             "solidity": 0.2
            },
            "type": "scatter"
           }
          ],
          "scatter3d": [
           {
            "line": {
             "colorbar": {
              "outlinewidth": 0,
              "ticks": ""
             }
            },
            "marker": {
             "colorbar": {
              "outlinewidth": 0,
              "ticks": ""
             }
            },
            "type": "scatter3d"
           }
          ],
          "scattercarpet": [
           {
            "marker": {
             "colorbar": {
              "outlinewidth": 0,
              "ticks": ""
             }
            },
            "type": "scattercarpet"
           }
          ],
          "scattergeo": [
           {
            "marker": {
             "colorbar": {
              "outlinewidth": 0,
              "ticks": ""
             }
            },
            "type": "scattergeo"
           }
          ],
          "scattergl": [
           {
            "marker": {
             "colorbar": {
              "outlinewidth": 0,
              "ticks": ""
             }
            },
            "type": "scattergl"
           }
          ],
          "scattermapbox": [
           {
            "marker": {
             "colorbar": {
              "outlinewidth": 0,
              "ticks": ""
             }
            },
            "type": "scattermapbox"
           }
          ],
          "scatterpolar": [
           {
            "marker": {
             "colorbar": {
              "outlinewidth": 0,
              "ticks": ""
             }
            },
            "type": "scatterpolar"
           }
          ],
          "scatterpolargl": [
           {
            "marker": {
             "colorbar": {
              "outlinewidth": 0,
              "ticks": ""
             }
            },
            "type": "scatterpolargl"
           }
          ],
          "scatterternary": [
           {
            "marker": {
             "colorbar": {
              "outlinewidth": 0,
              "ticks": ""
             }
            },
            "type": "scatterternary"
           }
          ],
          "surface": [
           {
            "colorbar": {
             "outlinewidth": 0,
             "ticks": ""
            },
            "colorscale": [
             [
              0,
              "#0d0887"
             ],
             [
              0.1111111111111111,
              "#46039f"
             ],
             [
              0.2222222222222222,
              "#7201a8"
             ],
             [
              0.3333333333333333,
              "#9c179e"
             ],
             [
              0.4444444444444444,
              "#bd3786"
             ],
             [
              0.5555555555555556,
              "#d8576b"
             ],
             [
              0.6666666666666666,
              "#ed7953"
             ],
             [
              0.7777777777777778,
              "#fb9f3a"
             ],
             [
              0.8888888888888888,
              "#fdca26"
             ],
             [
              1,
              "#f0f921"
             ]
            ],
            "type": "surface"
           }
          ],
          "table": [
           {
            "cells": {
             "fill": {
              "color": "#EBF0F8"
             },
             "line": {
              "color": "white"
             }
            },
            "header": {
             "fill": {
              "color": "#C8D4E3"
             },
             "line": {
              "color": "white"
             }
            },
            "type": "table"
           }
          ]
         },
         "layout": {
          "annotationdefaults": {
           "arrowcolor": "#2a3f5f",
           "arrowhead": 0,
           "arrowwidth": 1
          },
          "autotypenumbers": "strict",
          "coloraxis": {
           "colorbar": {
            "outlinewidth": 0,
            "ticks": ""
           }
          },
          "colorscale": {
           "diverging": [
            [
             0,
             "#8e0152"
            ],
            [
             0.1,
             "#c51b7d"
            ],
            [
             0.2,
             "#de77ae"
            ],
            [
             0.3,
             "#f1b6da"
            ],
            [
             0.4,
             "#fde0ef"
            ],
            [
             0.5,
             "#f7f7f7"
            ],
            [
             0.6,
             "#e6f5d0"
            ],
            [
             0.7,
             "#b8e186"
            ],
            [
             0.8,
             "#7fbc41"
            ],
            [
             0.9,
             "#4d9221"
            ],
            [
             1,
             "#276419"
            ]
           ],
           "sequential": [
            [
             0,
             "#0d0887"
            ],
            [
             0.1111111111111111,
             "#46039f"
            ],
            [
             0.2222222222222222,
             "#7201a8"
            ],
            [
             0.3333333333333333,
             "#9c179e"
            ],
            [
             0.4444444444444444,
             "#bd3786"
            ],
            [
             0.5555555555555556,
             "#d8576b"
            ],
            [
             0.6666666666666666,
             "#ed7953"
            ],
            [
             0.7777777777777778,
             "#fb9f3a"
            ],
            [
             0.8888888888888888,
             "#fdca26"
            ],
            [
             1,
             "#f0f921"
            ]
           ],
           "sequentialminus": [
            [
             0,
             "#0d0887"
            ],
            [
             0.1111111111111111,
             "#46039f"
            ],
            [
             0.2222222222222222,
             "#7201a8"
            ],
            [
             0.3333333333333333,
             "#9c179e"
            ],
            [
             0.4444444444444444,
             "#bd3786"
            ],
            [
             0.5555555555555556,
             "#d8576b"
            ],
            [
             0.6666666666666666,
             "#ed7953"
            ],
            [
             0.7777777777777778,
             "#fb9f3a"
            ],
            [
             0.8888888888888888,
             "#fdca26"
            ],
            [
             1,
             "#f0f921"
            ]
           ]
          },
          "colorway": [
           "#636efa",
           "#EF553B",
           "#00cc96",
           "#ab63fa",
           "#FFA15A",
           "#19d3f3",
           "#FF6692",
           "#B6E880",
           "#FF97FF",
           "#FECB52"
          ],
          "font": {
           "color": "#2a3f5f"
          },
          "geo": {
           "bgcolor": "white",
           "lakecolor": "white",
           "landcolor": "#E5ECF6",
           "showlakes": true,
           "showland": true,
           "subunitcolor": "white"
          },
          "hoverlabel": {
           "align": "left"
          },
          "hovermode": "closest",
          "mapbox": {
           "style": "light"
          },
          "paper_bgcolor": "white",
          "plot_bgcolor": "#E5ECF6",
          "polar": {
           "angularaxis": {
            "gridcolor": "white",
            "linecolor": "white",
            "ticks": ""
           },
           "bgcolor": "#E5ECF6",
           "radialaxis": {
            "gridcolor": "white",
            "linecolor": "white",
            "ticks": ""
           }
          },
          "scene": {
           "xaxis": {
            "backgroundcolor": "#E5ECF6",
            "gridcolor": "white",
            "gridwidth": 2,
            "linecolor": "white",
            "showbackground": true,
            "ticks": "",
            "zerolinecolor": "white"
           },
           "yaxis": {
            "backgroundcolor": "#E5ECF6",
            "gridcolor": "white",
            "gridwidth": 2,
            "linecolor": "white",
            "showbackground": true,
            "ticks": "",
            "zerolinecolor": "white"
           },
           "zaxis": {
            "backgroundcolor": "#E5ECF6",
            "gridcolor": "white",
            "gridwidth": 2,
            "linecolor": "white",
            "showbackground": true,
            "ticks": "",
            "zerolinecolor": "white"
           }
          },
          "shapedefaults": {
           "line": {
            "color": "#2a3f5f"
           }
          },
          "ternary": {
           "aaxis": {
            "gridcolor": "white",
            "linecolor": "white",
            "ticks": ""
           },
           "baxis": {
            "gridcolor": "white",
            "linecolor": "white",
            "ticks": ""
           },
           "bgcolor": "#E5ECF6",
           "caxis": {
            "gridcolor": "white",
            "linecolor": "white",
            "ticks": ""
           }
          },
          "title": {
           "x": 0.05
          },
          "xaxis": {
           "automargin": true,
           "gridcolor": "white",
           "linecolor": "white",
           "ticks": "",
           "title": {
            "standoff": 15
           },
           "zerolinecolor": "white",
           "zerolinewidth": 2
          },
          "yaxis": {
           "automargin": true,
           "gridcolor": "white",
           "linecolor": "white",
           "ticks": "",
           "title": {
            "standoff": 15
           },
           "zerolinecolor": "white",
           "zerolinewidth": 2
          }
         }
        }
       }
      }
     },
     "metadata": {},
     "output_type": "display_data"
    }
   ],
   "source": [
    "fig = go.Figure(go.Pie(\n",
    "    labels=df['total_benzos'].replace({1: \"Positive\", 0: \"Negative\"}).value_counts().index,\n",
    "    values=df['total_benzos'].value_counts().values,\n",
    "    hole=0.65\n",
    "))\n",
    "fig.update_traces(hoverinfo='value+percent', textinfo='label', textfont_size=20,\n",
    "                  marker=dict(line=dict(color='#000000', width=2)))\n",
    "fig.update_layout(\n",
    "    annotations=[\n",
    "        dict(text=\"Benzos<br>Present\", x=0.5, y=0.5, font_size=20, showarrow=False)\n",
    "    ])\n",
    "\n",
    "fig.show()"
   ]
  },
  {
   "cell_type": "code",
   "execution_count": 4,
   "metadata": {},
   "outputs": [],
   "source": [
    "ftirs = [x for x in df.columns.tolist() if x.startswith('ftir')]\n",
    "for col in ftirs:\n",
    "    df[col] = df[col].astype(str)"
   ]
  },
  {
   "cell_type": "code",
   "execution_count": 22,
   "metadata": {},
   "outputs": [
    {
     "data": {
      "application/vnd.plotly.v1+json": {
       "config": {
        "plotlyServerURL": "https://plot.ly"
       },
       "data": [
        {
         "hole": 0.65,
         "hoverinfo": "value+percent",
         "labels": [
          "Negative",
          "Positive"
         ],
         "marker": {
          "line": {
           "color": "#000000",
           "width": 2
          }
         },
         "textfont": {
          "size": 20
         },
         "textinfo": "label",
         "type": "pie",
         "values": [
          33546,
          2797
         ]
        }
       ],
       "layout": {
        "annotations": [
         {
          "font": {
           "size": 20
          },
          "showarrow": false,
          "text": "Unexpected<br>Opioids",
          "x": 0.5,
          "y": 0.5
         }
        ],
        "template": {
         "data": {
          "bar": [
           {
            "error_x": {
             "color": "#2a3f5f"
            },
            "error_y": {
             "color": "#2a3f5f"
            },
            "marker": {
             "line": {
              "color": "#E5ECF6",
              "width": 0.5
             },
             "pattern": {
              "fillmode": "overlay",
              "size": 10,
              "solidity": 0.2
             }
            },
            "type": "bar"
           }
          ],
          "barpolar": [
           {
            "marker": {
             "line": {
              "color": "#E5ECF6",
              "width": 0.5
             },
             "pattern": {
              "fillmode": "overlay",
              "size": 10,
              "solidity": 0.2
             }
            },
            "type": "barpolar"
           }
          ],
          "carpet": [
           {
            "aaxis": {
             "endlinecolor": "#2a3f5f",
             "gridcolor": "white",
             "linecolor": "white",
             "minorgridcolor": "white",
             "startlinecolor": "#2a3f5f"
            },
            "baxis": {
             "endlinecolor": "#2a3f5f",
             "gridcolor": "white",
             "linecolor": "white",
             "minorgridcolor": "white",
             "startlinecolor": "#2a3f5f"
            },
            "type": "carpet"
           }
          ],
          "choropleth": [
           {
            "colorbar": {
             "outlinewidth": 0,
             "ticks": ""
            },
            "type": "choropleth"
           }
          ],
          "contour": [
           {
            "colorbar": {
             "outlinewidth": 0,
             "ticks": ""
            },
            "colorscale": [
             [
              0,
              "#0d0887"
             ],
             [
              0.1111111111111111,
              "#46039f"
             ],
             [
              0.2222222222222222,
              "#7201a8"
             ],
             [
              0.3333333333333333,
              "#9c179e"
             ],
             [
              0.4444444444444444,
              "#bd3786"
             ],
             [
              0.5555555555555556,
              "#d8576b"
             ],
             [
              0.6666666666666666,
              "#ed7953"
             ],
             [
              0.7777777777777778,
              "#fb9f3a"
             ],
             [
              0.8888888888888888,
              "#fdca26"
             ],
             [
              1,
              "#f0f921"
             ]
            ],
            "type": "contour"
           }
          ],
          "contourcarpet": [
           {
            "colorbar": {
             "outlinewidth": 0,
             "ticks": ""
            },
            "type": "contourcarpet"
           }
          ],
          "heatmap": [
           {
            "colorbar": {
             "outlinewidth": 0,
             "ticks": ""
            },
            "colorscale": [
             [
              0,
              "#0d0887"
             ],
             [
              0.1111111111111111,
              "#46039f"
             ],
             [
              0.2222222222222222,
              "#7201a8"
             ],
             [
              0.3333333333333333,
              "#9c179e"
             ],
             [
              0.4444444444444444,
              "#bd3786"
             ],
             [
              0.5555555555555556,
              "#d8576b"
             ],
             [
              0.6666666666666666,
              "#ed7953"
             ],
             [
              0.7777777777777778,
              "#fb9f3a"
             ],
             [
              0.8888888888888888,
              "#fdca26"
             ],
             [
              1,
              "#f0f921"
             ]
            ],
            "type": "heatmap"
           }
          ],
          "heatmapgl": [
           {
            "colorbar": {
             "outlinewidth": 0,
             "ticks": ""
            },
            "colorscale": [
             [
              0,
              "#0d0887"
             ],
             [
              0.1111111111111111,
              "#46039f"
             ],
             [
              0.2222222222222222,
              "#7201a8"
             ],
             [
              0.3333333333333333,
              "#9c179e"
             ],
             [
              0.4444444444444444,
              "#bd3786"
             ],
             [
              0.5555555555555556,
              "#d8576b"
             ],
             [
              0.6666666666666666,
              "#ed7953"
             ],
             [
              0.7777777777777778,
              "#fb9f3a"
             ],
             [
              0.8888888888888888,
              "#fdca26"
             ],
             [
              1,
              "#f0f921"
             ]
            ],
            "type": "heatmapgl"
           }
          ],
          "histogram": [
           {
            "marker": {
             "pattern": {
              "fillmode": "overlay",
              "size": 10,
              "solidity": 0.2
             }
            },
            "type": "histogram"
           }
          ],
          "histogram2d": [
           {
            "colorbar": {
             "outlinewidth": 0,
             "ticks": ""
            },
            "colorscale": [
             [
              0,
              "#0d0887"
             ],
             [
              0.1111111111111111,
              "#46039f"
             ],
             [
              0.2222222222222222,
              "#7201a8"
             ],
             [
              0.3333333333333333,
              "#9c179e"
             ],
             [
              0.4444444444444444,
              "#bd3786"
             ],
             [
              0.5555555555555556,
              "#d8576b"
             ],
             [
              0.6666666666666666,
              "#ed7953"
             ],
             [
              0.7777777777777778,
              "#fb9f3a"
             ],
             [
              0.8888888888888888,
              "#fdca26"
             ],
             [
              1,
              "#f0f921"
             ]
            ],
            "type": "histogram2d"
           }
          ],
          "histogram2dcontour": [
           {
            "colorbar": {
             "outlinewidth": 0,
             "ticks": ""
            },
            "colorscale": [
             [
              0,
              "#0d0887"
             ],
             [
              0.1111111111111111,
              "#46039f"
             ],
             [
              0.2222222222222222,
              "#7201a8"
             ],
             [
              0.3333333333333333,
              "#9c179e"
             ],
             [
              0.4444444444444444,
              "#bd3786"
             ],
             [
              0.5555555555555556,
              "#d8576b"
             ],
             [
              0.6666666666666666,
              "#ed7953"
             ],
             [
              0.7777777777777778,
              "#fb9f3a"
             ],
             [
              0.8888888888888888,
              "#fdca26"
             ],
             [
              1,
              "#f0f921"
             ]
            ],
            "type": "histogram2dcontour"
           }
          ],
          "mesh3d": [
           {
            "colorbar": {
             "outlinewidth": 0,
             "ticks": ""
            },
            "type": "mesh3d"
           }
          ],
          "parcoords": [
           {
            "line": {
             "colorbar": {
              "outlinewidth": 0,
              "ticks": ""
             }
            },
            "type": "parcoords"
           }
          ],
          "pie": [
           {
            "automargin": true,
            "type": "pie"
           }
          ],
          "scatter": [
           {
            "fillpattern": {
             "fillmode": "overlay",
             "size": 10,
             "solidity": 0.2
            },
            "type": "scatter"
           }
          ],
          "scatter3d": [
           {
            "line": {
             "colorbar": {
              "outlinewidth": 0,
              "ticks": ""
             }
            },
            "marker": {
             "colorbar": {
              "outlinewidth": 0,
              "ticks": ""
             }
            },
            "type": "scatter3d"
           }
          ],
          "scattercarpet": [
           {
            "marker": {
             "colorbar": {
              "outlinewidth": 0,
              "ticks": ""
             }
            },
            "type": "scattercarpet"
           }
          ],
          "scattergeo": [
           {
            "marker": {
             "colorbar": {
              "outlinewidth": 0,
              "ticks": ""
             }
            },
            "type": "scattergeo"
           }
          ],
          "scattergl": [
           {
            "marker": {
             "colorbar": {
              "outlinewidth": 0,
              "ticks": ""
             }
            },
            "type": "scattergl"
           }
          ],
          "scattermapbox": [
           {
            "marker": {
             "colorbar": {
              "outlinewidth": 0,
              "ticks": ""
             }
            },
            "type": "scattermapbox"
           }
          ],
          "scatterpolar": [
           {
            "marker": {
             "colorbar": {
              "outlinewidth": 0,
              "ticks": ""
             }
            },
            "type": "scatterpolar"
           }
          ],
          "scatterpolargl": [
           {
            "marker": {
             "colorbar": {
              "outlinewidth": 0,
              "ticks": ""
             }
            },
            "type": "scatterpolargl"
           }
          ],
          "scatterternary": [
           {
            "marker": {
             "colorbar": {
              "outlinewidth": 0,
              "ticks": ""
             }
            },
            "type": "scatterternary"
           }
          ],
          "surface": [
           {
            "colorbar": {
             "outlinewidth": 0,
             "ticks": ""
            },
            "colorscale": [
             [
              0,
              "#0d0887"
             ],
             [
              0.1111111111111111,
              "#46039f"
             ],
             [
              0.2222222222222222,
              "#7201a8"
             ],
             [
              0.3333333333333333,
              "#9c179e"
             ],
             [
              0.4444444444444444,
              "#bd3786"
             ],
             [
              0.5555555555555556,
              "#d8576b"
             ],
             [
              0.6666666666666666,
              "#ed7953"
             ],
             [
              0.7777777777777778,
              "#fb9f3a"
             ],
             [
              0.8888888888888888,
              "#fdca26"
             ],
             [
              1,
              "#f0f921"
             ]
            ],
            "type": "surface"
           }
          ],
          "table": [
           {
            "cells": {
             "fill": {
              "color": "#EBF0F8"
             },
             "line": {
              "color": "white"
             }
            },
            "header": {
             "fill": {
              "color": "#C8D4E3"
             },
             "line": {
              "color": "white"
             }
            },
            "type": "table"
           }
          ]
         },
         "layout": {
          "annotationdefaults": {
           "arrowcolor": "#2a3f5f",
           "arrowhead": 0,
           "arrowwidth": 1
          },
          "autotypenumbers": "strict",
          "coloraxis": {
           "colorbar": {
            "outlinewidth": 0,
            "ticks": ""
           }
          },
          "colorscale": {
           "diverging": [
            [
             0,
             "#8e0152"
            ],
            [
             0.1,
             "#c51b7d"
            ],
            [
             0.2,
             "#de77ae"
            ],
            [
             0.3,
             "#f1b6da"
            ],
            [
             0.4,
             "#fde0ef"
            ],
            [
             0.5,
             "#f7f7f7"
            ],
            [
             0.6,
             "#e6f5d0"
            ],
            [
             0.7,
             "#b8e186"
            ],
            [
             0.8,
             "#7fbc41"
            ],
            [
             0.9,
             "#4d9221"
            ],
            [
             1,
             "#276419"
            ]
           ],
           "sequential": [
            [
             0,
             "#0d0887"
            ],
            [
             0.1111111111111111,
             "#46039f"
            ],
            [
             0.2222222222222222,
             "#7201a8"
            ],
            [
             0.3333333333333333,
             "#9c179e"
            ],
            [
             0.4444444444444444,
             "#bd3786"
            ],
            [
             0.5555555555555556,
             "#d8576b"
            ],
            [
             0.6666666666666666,
             "#ed7953"
            ],
            [
             0.7777777777777778,
             "#fb9f3a"
            ],
            [
             0.8888888888888888,
             "#fdca26"
            ],
            [
             1,
             "#f0f921"
            ]
           ],
           "sequentialminus": [
            [
             0,
             "#0d0887"
            ],
            [
             0.1111111111111111,
             "#46039f"
            ],
            [
             0.2222222222222222,
             "#7201a8"
            ],
            [
             0.3333333333333333,
             "#9c179e"
            ],
            [
             0.4444444444444444,
             "#bd3786"
            ],
            [
             0.5555555555555556,
             "#d8576b"
            ],
            [
             0.6666666666666666,
             "#ed7953"
            ],
            [
             0.7777777777777778,
             "#fb9f3a"
            ],
            [
             0.8888888888888888,
             "#fdca26"
            ],
            [
             1,
             "#f0f921"
            ]
           ]
          },
          "colorway": [
           "#636efa",
           "#EF553B",
           "#00cc96",
           "#ab63fa",
           "#FFA15A",
           "#19d3f3",
           "#FF6692",
           "#B6E880",
           "#FF97FF",
           "#FECB52"
          ],
          "font": {
           "color": "#2a3f5f"
          },
          "geo": {
           "bgcolor": "white",
           "lakecolor": "white",
           "landcolor": "#E5ECF6",
           "showlakes": true,
           "showland": true,
           "subunitcolor": "white"
          },
          "hoverlabel": {
           "align": "left"
          },
          "hovermode": "closest",
          "mapbox": {
           "style": "light"
          },
          "paper_bgcolor": "white",
          "plot_bgcolor": "#E5ECF6",
          "polar": {
           "angularaxis": {
            "gridcolor": "white",
            "linecolor": "white",
            "ticks": ""
           },
           "bgcolor": "#E5ECF6",
           "radialaxis": {
            "gridcolor": "white",
            "linecolor": "white",
            "ticks": ""
           }
          },
          "scene": {
           "xaxis": {
            "backgroundcolor": "#E5ECF6",
            "gridcolor": "white",
            "gridwidth": 2,
            "linecolor": "white",
            "showbackground": true,
            "ticks": "",
            "zerolinecolor": "white"
           },
           "yaxis": {
            "backgroundcolor": "#E5ECF6",
            "gridcolor": "white",
            "gridwidth": 2,
            "linecolor": "white",
            "showbackground": true,
            "ticks": "",
            "zerolinecolor": "white"
           },
           "zaxis": {
            "backgroundcolor": "#E5ECF6",
            "gridcolor": "white",
            "gridwidth": 2,
            "linecolor": "white",
            "showbackground": true,
            "ticks": "",
            "zerolinecolor": "white"
           }
          },
          "shapedefaults": {
           "line": {
            "color": "#2a3f5f"
           }
          },
          "ternary": {
           "aaxis": {
            "gridcolor": "white",
            "linecolor": "white",
            "ticks": ""
           },
           "baxis": {
            "gridcolor": "white",
            "linecolor": "white",
            "ticks": ""
           },
           "bgcolor": "#E5ECF6",
           "caxis": {
            "gridcolor": "white",
            "linecolor": "white",
            "ticks": ""
           }
          },
          "title": {
           "x": 0.05
          },
          "xaxis": {
           "automargin": true,
           "gridcolor": "white",
           "linecolor": "white",
           "ticks": "",
           "title": {
            "standoff": 15
           },
           "zerolinecolor": "white",
           "zerolinewidth": 2
          },
          "yaxis": {
           "automargin": true,
           "gridcolor": "white",
           "linecolor": "white",
           "ticks": "",
           "title": {
            "standoff": 15
           },
           "zerolinecolor": "white",
           "zerolinewidth": 2
          }
         }
        }
       }
      }
     },
     "metadata": {},
     "output_type": "display_data"
    }
   ],
   "source": [
    "no_opioid = df[~(df['category'] == 'Opioid') | (df['category'] == 'Polysubstance')].index\n",
    "no_opioid = df.iloc[no_opioid]\n",
    "\n",
    "fig = go.Figure(go.Pie(\n",
    "    labels=no_opioid['total_opioids'].replace({1: \"Positive\", 0: \"Negative\"}).value_counts().index,\n",
    "    values=no_opioid['total_opioids'].value_counts().values,\n",
    "    hole=0.65\n",
    "))\n",
    "fig.update_traces(hoverinfo='value+percent', textinfo='label', textfont_size=20,\n",
    "                  marker=dict(line=dict(color='#000000', width=2)))\n",
    "fig.update_layout(\n",
    "    annotations=[\n",
    "        dict(text=\"Unexpected<br>Opioids\", x=0.5, y=0.5, font_size=20, showarrow=False)\n",
    "    ])\n",
    "fig.show()"
   ]
  },
  {
   "cell_type": "code",
   "execution_count": 5,
   "metadata": {},
   "outputs": [
    {
     "data": {
      "application/vnd.plotly.v1+json": {
       "config": {
        "plotlyServerURL": "https://plot.ly"
       },
       "data": [
        {
         "hole": 0.65,
         "hoverinfo": "value+percent",
         "labels": [
          "Negative",
          "Positive"
         ],
         "marker": {
          "line": {
           "color": "#000000",
           "width": 2
          }
         },
         "textfont": {
          "size": 20
         },
         "textinfo": "label",
         "type": "pie",
         "values": [
          49259,
          7095
         ]
        }
       ],
       "layout": {
        "annotations": [
         {
          "font": {
           "size": 20
          },
          "showarrow": false,
          "text": "Unexpected<br>Benzos",
          "x": 0.5,
          "y": 0.5
         }
        ],
        "template": {
         "data": {
          "bar": [
           {
            "error_x": {
             "color": "#2a3f5f"
            },
            "error_y": {
             "color": "#2a3f5f"
            },
            "marker": {
             "line": {
              "color": "#E5ECF6",
              "width": 0.5
             },
             "pattern": {
              "fillmode": "overlay",
              "size": 10,
              "solidity": 0.2
             }
            },
            "type": "bar"
           }
          ],
          "barpolar": [
           {
            "marker": {
             "line": {
              "color": "#E5ECF6",
              "width": 0.5
             },
             "pattern": {
              "fillmode": "overlay",
              "size": 10,
              "solidity": 0.2
             }
            },
            "type": "barpolar"
           }
          ],
          "carpet": [
           {
            "aaxis": {
             "endlinecolor": "#2a3f5f",
             "gridcolor": "white",
             "linecolor": "white",
             "minorgridcolor": "white",
             "startlinecolor": "#2a3f5f"
            },
            "baxis": {
             "endlinecolor": "#2a3f5f",
             "gridcolor": "white",
             "linecolor": "white",
             "minorgridcolor": "white",
             "startlinecolor": "#2a3f5f"
            },
            "type": "carpet"
           }
          ],
          "choropleth": [
           {
            "colorbar": {
             "outlinewidth": 0,
             "ticks": ""
            },
            "type": "choropleth"
           }
          ],
          "contour": [
           {
            "colorbar": {
             "outlinewidth": 0,
             "ticks": ""
            },
            "colorscale": [
             [
              0,
              "#0d0887"
             ],
             [
              0.1111111111111111,
              "#46039f"
             ],
             [
              0.2222222222222222,
              "#7201a8"
             ],
             [
              0.3333333333333333,
              "#9c179e"
             ],
             [
              0.4444444444444444,
              "#bd3786"
             ],
             [
              0.5555555555555556,
              "#d8576b"
             ],
             [
              0.6666666666666666,
              "#ed7953"
             ],
             [
              0.7777777777777778,
              "#fb9f3a"
             ],
             [
              0.8888888888888888,
              "#fdca26"
             ],
             [
              1,
              "#f0f921"
             ]
            ],
            "type": "contour"
           }
          ],
          "contourcarpet": [
           {
            "colorbar": {
             "outlinewidth": 0,
             "ticks": ""
            },
            "type": "contourcarpet"
           }
          ],
          "heatmap": [
           {
            "colorbar": {
             "outlinewidth": 0,
             "ticks": ""
            },
            "colorscale": [
             [
              0,
              "#0d0887"
             ],
             [
              0.1111111111111111,
              "#46039f"
             ],
             [
              0.2222222222222222,
              "#7201a8"
             ],
             [
              0.3333333333333333,
              "#9c179e"
             ],
             [
              0.4444444444444444,
              "#bd3786"
             ],
             [
              0.5555555555555556,
              "#d8576b"
             ],
             [
              0.6666666666666666,
              "#ed7953"
             ],
             [
              0.7777777777777778,
              "#fb9f3a"
             ],
             [
              0.8888888888888888,
              "#fdca26"
             ],
             [
              1,
              "#f0f921"
             ]
            ],
            "type": "heatmap"
           }
          ],
          "heatmapgl": [
           {
            "colorbar": {
             "outlinewidth": 0,
             "ticks": ""
            },
            "colorscale": [
             [
              0,
              "#0d0887"
             ],
             [
              0.1111111111111111,
              "#46039f"
             ],
             [
              0.2222222222222222,
              "#7201a8"
             ],
             [
              0.3333333333333333,
              "#9c179e"
             ],
             [
              0.4444444444444444,
              "#bd3786"
             ],
             [
              0.5555555555555556,
              "#d8576b"
             ],
             [
              0.6666666666666666,
              "#ed7953"
             ],
             [
              0.7777777777777778,
              "#fb9f3a"
             ],
             [
              0.8888888888888888,
              "#fdca26"
             ],
             [
              1,
              "#f0f921"
             ]
            ],
            "type": "heatmapgl"
           }
          ],
          "histogram": [
           {
            "marker": {
             "pattern": {
              "fillmode": "overlay",
              "size": 10,
              "solidity": 0.2
             }
            },
            "type": "histogram"
           }
          ],
          "histogram2d": [
           {
            "colorbar": {
             "outlinewidth": 0,
             "ticks": ""
            },
            "colorscale": [
             [
              0,
              "#0d0887"
             ],
             [
              0.1111111111111111,
              "#46039f"
             ],
             [
              0.2222222222222222,
              "#7201a8"
             ],
             [
              0.3333333333333333,
              "#9c179e"
             ],
             [
              0.4444444444444444,
              "#bd3786"
             ],
             [
              0.5555555555555556,
              "#d8576b"
             ],
             [
              0.6666666666666666,
              "#ed7953"
             ],
             [
              0.7777777777777778,
              "#fb9f3a"
             ],
             [
              0.8888888888888888,
              "#fdca26"
             ],
             [
              1,
              "#f0f921"
             ]
            ],
            "type": "histogram2d"
           }
          ],
          "histogram2dcontour": [
           {
            "colorbar": {
             "outlinewidth": 0,
             "ticks": ""
            },
            "colorscale": [
             [
              0,
              "#0d0887"
             ],
             [
              0.1111111111111111,
              "#46039f"
             ],
             [
              0.2222222222222222,
              "#7201a8"
             ],
             [
              0.3333333333333333,
              "#9c179e"
             ],
             [
              0.4444444444444444,
              "#bd3786"
             ],
             [
              0.5555555555555556,
              "#d8576b"
             ],
             [
              0.6666666666666666,
              "#ed7953"
             ],
             [
              0.7777777777777778,
              "#fb9f3a"
             ],
             [
              0.8888888888888888,
              "#fdca26"
             ],
             [
              1,
              "#f0f921"
             ]
            ],
            "type": "histogram2dcontour"
           }
          ],
          "mesh3d": [
           {
            "colorbar": {
             "outlinewidth": 0,
             "ticks": ""
            },
            "type": "mesh3d"
           }
          ],
          "parcoords": [
           {
            "line": {
             "colorbar": {
              "outlinewidth": 0,
              "ticks": ""
             }
            },
            "type": "parcoords"
           }
          ],
          "pie": [
           {
            "automargin": true,
            "type": "pie"
           }
          ],
          "scatter": [
           {
            "fillpattern": {
             "fillmode": "overlay",
             "size": 10,
             "solidity": 0.2
            },
            "type": "scatter"
           }
          ],
          "scatter3d": [
           {
            "line": {
             "colorbar": {
              "outlinewidth": 0,
              "ticks": ""
             }
            },
            "marker": {
             "colorbar": {
              "outlinewidth": 0,
              "ticks": ""
             }
            },
            "type": "scatter3d"
           }
          ],
          "scattercarpet": [
           {
            "marker": {
             "colorbar": {
              "outlinewidth": 0,
              "ticks": ""
             }
            },
            "type": "scattercarpet"
           }
          ],
          "scattergeo": [
           {
            "marker": {
             "colorbar": {
              "outlinewidth": 0,
              "ticks": ""
             }
            },
            "type": "scattergeo"
           }
          ],
          "scattergl": [
           {
            "marker": {
             "colorbar": {
              "outlinewidth": 0,
              "ticks": ""
             }
            },
            "type": "scattergl"
           }
          ],
          "scattermapbox": [
           {
            "marker": {
             "colorbar": {
              "outlinewidth": 0,
              "ticks": ""
             }
            },
            "type": "scattermapbox"
           }
          ],
          "scatterpolar": [
           {
            "marker": {
             "colorbar": {
              "outlinewidth": 0,
              "ticks": ""
             }
            },
            "type": "scatterpolar"
           }
          ],
          "scatterpolargl": [
           {
            "marker": {
             "colorbar": {
              "outlinewidth": 0,
              "ticks": ""
             }
            },
            "type": "scatterpolargl"
           }
          ],
          "scatterternary": [
           {
            "marker": {
             "colorbar": {
              "outlinewidth": 0,
              "ticks": ""
             }
            },
            "type": "scatterternary"
           }
          ],
          "surface": [
           {
            "colorbar": {
             "outlinewidth": 0,
             "ticks": ""
            },
            "colorscale": [
             [
              0,
              "#0d0887"
             ],
             [
              0.1111111111111111,
              "#46039f"
             ],
             [
              0.2222222222222222,
              "#7201a8"
             ],
             [
              0.3333333333333333,
              "#9c179e"
             ],
             [
              0.4444444444444444,
              "#bd3786"
             ],
             [
              0.5555555555555556,
              "#d8576b"
             ],
             [
              0.6666666666666666,
              "#ed7953"
             ],
             [
              0.7777777777777778,
              "#fb9f3a"
             ],
             [
              0.8888888888888888,
              "#fdca26"
             ],
             [
              1,
              "#f0f921"
             ]
            ],
            "type": "surface"
           }
          ],
          "table": [
           {
            "cells": {
             "fill": {
              "color": "#EBF0F8"
             },
             "line": {
              "color": "white"
             }
            },
            "header": {
             "fill": {
              "color": "#C8D4E3"
             },
             "line": {
              "color": "white"
             }
            },
            "type": "table"
           }
          ]
         },
         "layout": {
          "annotationdefaults": {
           "arrowcolor": "#2a3f5f",
           "arrowhead": 0,
           "arrowwidth": 1
          },
          "autotypenumbers": "strict",
          "coloraxis": {
           "colorbar": {
            "outlinewidth": 0,
            "ticks": ""
           }
          },
          "colorscale": {
           "diverging": [
            [
             0,
             "#8e0152"
            ],
            [
             0.1,
             "#c51b7d"
            ],
            [
             0.2,
             "#de77ae"
            ],
            [
             0.3,
             "#f1b6da"
            ],
            [
             0.4,
             "#fde0ef"
            ],
            [
             0.5,
             "#f7f7f7"
            ],
            [
             0.6,
             "#e6f5d0"
            ],
            [
             0.7,
             "#b8e186"
            ],
            [
             0.8,
             "#7fbc41"
            ],
            [
             0.9,
             "#4d9221"
            ],
            [
             1,
             "#276419"
            ]
           ],
           "sequential": [
            [
             0,
             "#0d0887"
            ],
            [
             0.1111111111111111,
             "#46039f"
            ],
            [
             0.2222222222222222,
             "#7201a8"
            ],
            [
             0.3333333333333333,
             "#9c179e"
            ],
            [
             0.4444444444444444,
             "#bd3786"
            ],
            [
             0.5555555555555556,
             "#d8576b"
            ],
            [
             0.6666666666666666,
             "#ed7953"
            ],
            [
             0.7777777777777778,
             "#fb9f3a"
            ],
            [
             0.8888888888888888,
             "#fdca26"
            ],
            [
             1,
             "#f0f921"
            ]
           ],
           "sequentialminus": [
            [
             0,
             "#0d0887"
            ],
            [
             0.1111111111111111,
             "#46039f"
            ],
            [
             0.2222222222222222,
             "#7201a8"
            ],
            [
             0.3333333333333333,
             "#9c179e"
            ],
            [
             0.4444444444444444,
             "#bd3786"
            ],
            [
             0.5555555555555556,
             "#d8576b"
            ],
            [
             0.6666666666666666,
             "#ed7953"
            ],
            [
             0.7777777777777778,
             "#fb9f3a"
            ],
            [
             0.8888888888888888,
             "#fdca26"
            ],
            [
             1,
             "#f0f921"
            ]
           ]
          },
          "colorway": [
           "#636efa",
           "#EF553B",
           "#00cc96",
           "#ab63fa",
           "#FFA15A",
           "#19d3f3",
           "#FF6692",
           "#B6E880",
           "#FF97FF",
           "#FECB52"
          ],
          "font": {
           "color": "#2a3f5f"
          },
          "geo": {
           "bgcolor": "white",
           "lakecolor": "white",
           "landcolor": "#E5ECF6",
           "showlakes": true,
           "showland": true,
           "subunitcolor": "white"
          },
          "hoverlabel": {
           "align": "left"
          },
          "hovermode": "closest",
          "mapbox": {
           "style": "light"
          },
          "paper_bgcolor": "white",
          "plot_bgcolor": "#E5ECF6",
          "polar": {
           "angularaxis": {
            "gridcolor": "white",
            "linecolor": "white",
            "ticks": ""
           },
           "bgcolor": "#E5ECF6",
           "radialaxis": {
            "gridcolor": "white",
            "linecolor": "white",
            "ticks": ""
           }
          },
          "scene": {
           "xaxis": {
            "backgroundcolor": "#E5ECF6",
            "gridcolor": "white",
            "gridwidth": 2,
            "linecolor": "white",
            "showbackground": true,
            "ticks": "",
            "zerolinecolor": "white"
           },
           "yaxis": {
            "backgroundcolor": "#E5ECF6",
            "gridcolor": "white",
            "gridwidth": 2,
            "linecolor": "white",
            "showbackground": true,
            "ticks": "",
            "zerolinecolor": "white"
           },
           "zaxis": {
            "backgroundcolor": "#E5ECF6",
            "gridcolor": "white",
            "gridwidth": 2,
            "linecolor": "white",
            "showbackground": true,
            "ticks": "",
            "zerolinecolor": "white"
           }
          },
          "shapedefaults": {
           "line": {
            "color": "#2a3f5f"
           }
          },
          "ternary": {
           "aaxis": {
            "gridcolor": "white",
            "linecolor": "white",
            "ticks": ""
           },
           "baxis": {
            "gridcolor": "white",
            "linecolor": "white",
            "ticks": ""
           },
           "bgcolor": "#E5ECF6",
           "caxis": {
            "gridcolor": "white",
            "linecolor": "white",
            "ticks": ""
           }
          },
          "title": {
           "x": 0.05
          },
          "xaxis": {
           "automargin": true,
           "gridcolor": "white",
           "linecolor": "white",
           "ticks": "",
           "title": {
            "standoff": 15
           },
           "zerolinecolor": "white",
           "zerolinewidth": 2
          },
          "yaxis": {
           "automargin": true,
           "gridcolor": "white",
           "linecolor": "white",
           "ticks": "",
           "title": {
            "standoff": 15
           },
           "zerolinecolor": "white",
           "zerolinewidth": 2
          }
         }
        }
       }
      }
     },
     "metadata": {},
     "output_type": "display_data"
    }
   ],
   "source": [
    "no_benzo = df[~(df['category'] == 'Depressant')].index\n",
    "no_benzo = df.iloc[no_benzo]\n",
    "\n",
    "fig = go.Figure(go.Pie(\n",
    "    labels=no_benzo['total_benzos'].replace({1: \"Positive\", 0: \"Negative\"}).value_counts().index,\n",
    "    values=no_benzo['total_benzos'].value_counts().values,\n",
    "    hole=0.65\n",
    "))\n",
    "fig.update_traces(hoverinfo='value+percent', textinfo='label', textfont_size=20,\n",
    "                  marker=dict(line=dict(color='#000000', width=2)))\n",
    "fig.update_layout(\n",
    "    annotations=[\n",
    "        dict(text=\"Unexpected<br>Benzos\", x=0.5, y=0.5, font_size=20, showarrow=False)\n",
    "    ])\n",
    "fig.show()"
   ]
  },
  {
   "cell_type": "code",
   "execution_count": 25,
   "metadata": {},
   "outputs": [
    {
     "data": {
      "application/vnd.plotly.v1+json": {
       "config": {
        "plotlyServerURL": "https://plot.ly"
       },
       "data": [
        {
         "hole": 0.65,
         "hoverinfo": "value+percent",
         "labels": [
          "Negative",
          "Positive"
         ],
         "marker": {
          "line": {
           "color": "#000000",
           "width": 2
          }
         },
         "textfont": {
          "size": 20
         },
         "textinfo": "label",
         "type": "pie",
         "values": [
          18408,
          6412
         ]
        }
       ],
       "layout": {
        "annotations": [
         {
          "font": {
           "size": 20
          },
          "showarrow": false,
          "text": "Benzos in<br>Opioids",
          "x": 0.5,
          "y": 0.5
         }
        ],
        "template": {
         "data": {
          "bar": [
           {
            "error_x": {
             "color": "#2a3f5f"
            },
            "error_y": {
             "color": "#2a3f5f"
            },
            "marker": {
             "line": {
              "color": "#E5ECF6",
              "width": 0.5
             },
             "pattern": {
              "fillmode": "overlay",
              "size": 10,
              "solidity": 0.2
             }
            },
            "type": "bar"
           }
          ],
          "barpolar": [
           {
            "marker": {
             "line": {
              "color": "#E5ECF6",
              "width": 0.5
             },
             "pattern": {
              "fillmode": "overlay",
              "size": 10,
              "solidity": 0.2
             }
            },
            "type": "barpolar"
           }
          ],
          "carpet": [
           {
            "aaxis": {
             "endlinecolor": "#2a3f5f",
             "gridcolor": "white",
             "linecolor": "white",
             "minorgridcolor": "white",
             "startlinecolor": "#2a3f5f"
            },
            "baxis": {
             "endlinecolor": "#2a3f5f",
             "gridcolor": "white",
             "linecolor": "white",
             "minorgridcolor": "white",
             "startlinecolor": "#2a3f5f"
            },
            "type": "carpet"
           }
          ],
          "choropleth": [
           {
            "colorbar": {
             "outlinewidth": 0,
             "ticks": ""
            },
            "type": "choropleth"
           }
          ],
          "contour": [
           {
            "colorbar": {
             "outlinewidth": 0,
             "ticks": ""
            },
            "colorscale": [
             [
              0,
              "#0d0887"
             ],
             [
              0.1111111111111111,
              "#46039f"
             ],
             [
              0.2222222222222222,
              "#7201a8"
             ],
             [
              0.3333333333333333,
              "#9c179e"
             ],
             [
              0.4444444444444444,
              "#bd3786"
             ],
             [
              0.5555555555555556,
              "#d8576b"
             ],
             [
              0.6666666666666666,
              "#ed7953"
             ],
             [
              0.7777777777777778,
              "#fb9f3a"
             ],
             [
              0.8888888888888888,
              "#fdca26"
             ],
             [
              1,
              "#f0f921"
             ]
            ],
            "type": "contour"
           }
          ],
          "contourcarpet": [
           {
            "colorbar": {
             "outlinewidth": 0,
             "ticks": ""
            },
            "type": "contourcarpet"
           }
          ],
          "heatmap": [
           {
            "colorbar": {
             "outlinewidth": 0,
             "ticks": ""
            },
            "colorscale": [
             [
              0,
              "#0d0887"
             ],
             [
              0.1111111111111111,
              "#46039f"
             ],
             [
              0.2222222222222222,
              "#7201a8"
             ],
             [
              0.3333333333333333,
              "#9c179e"
             ],
             [
              0.4444444444444444,
              "#bd3786"
             ],
             [
              0.5555555555555556,
              "#d8576b"
             ],
             [
              0.6666666666666666,
              "#ed7953"
             ],
             [
              0.7777777777777778,
              "#fb9f3a"
             ],
             [
              0.8888888888888888,
              "#fdca26"
             ],
             [
              1,
              "#f0f921"
             ]
            ],
            "type": "heatmap"
           }
          ],
          "heatmapgl": [
           {
            "colorbar": {
             "outlinewidth": 0,
             "ticks": ""
            },
            "colorscale": [
             [
              0,
              "#0d0887"
             ],
             [
              0.1111111111111111,
              "#46039f"
             ],
             [
              0.2222222222222222,
              "#7201a8"
             ],
             [
              0.3333333333333333,
              "#9c179e"
             ],
             [
              0.4444444444444444,
              "#bd3786"
             ],
             [
              0.5555555555555556,
              "#d8576b"
             ],
             [
              0.6666666666666666,
              "#ed7953"
             ],
             [
              0.7777777777777778,
              "#fb9f3a"
             ],
             [
              0.8888888888888888,
              "#fdca26"
             ],
             [
              1,
              "#f0f921"
             ]
            ],
            "type": "heatmapgl"
           }
          ],
          "histogram": [
           {
            "marker": {
             "pattern": {
              "fillmode": "overlay",
              "size": 10,
              "solidity": 0.2
             }
            },
            "type": "histogram"
           }
          ],
          "histogram2d": [
           {
            "colorbar": {
             "outlinewidth": 0,
             "ticks": ""
            },
            "colorscale": [
             [
              0,
              "#0d0887"
             ],
             [
              0.1111111111111111,
              "#46039f"
             ],
             [
              0.2222222222222222,
              "#7201a8"
             ],
             [
              0.3333333333333333,
              "#9c179e"
             ],
             [
              0.4444444444444444,
              "#bd3786"
             ],
             [
              0.5555555555555556,
              "#d8576b"
             ],
             [
              0.6666666666666666,
              "#ed7953"
             ],
             [
              0.7777777777777778,
              "#fb9f3a"
             ],
             [
              0.8888888888888888,
              "#fdca26"
             ],
             [
              1,
              "#f0f921"
             ]
            ],
            "type": "histogram2d"
           }
          ],
          "histogram2dcontour": [
           {
            "colorbar": {
             "outlinewidth": 0,
             "ticks": ""
            },
            "colorscale": [
             [
              0,
              "#0d0887"
             ],
             [
              0.1111111111111111,
              "#46039f"
             ],
             [
              0.2222222222222222,
              "#7201a8"
             ],
             [
              0.3333333333333333,
              "#9c179e"
             ],
             [
              0.4444444444444444,
              "#bd3786"
             ],
             [
              0.5555555555555556,
              "#d8576b"
             ],
             [
              0.6666666666666666,
              "#ed7953"
             ],
             [
              0.7777777777777778,
              "#fb9f3a"
             ],
             [
              0.8888888888888888,
              "#fdca26"
             ],
             [
              1,
              "#f0f921"
             ]
            ],
            "type": "histogram2dcontour"
           }
          ],
          "mesh3d": [
           {
            "colorbar": {
             "outlinewidth": 0,
             "ticks": ""
            },
            "type": "mesh3d"
           }
          ],
          "parcoords": [
           {
            "line": {
             "colorbar": {
              "outlinewidth": 0,
              "ticks": ""
             }
            },
            "type": "parcoords"
           }
          ],
          "pie": [
           {
            "automargin": true,
            "type": "pie"
           }
          ],
          "scatter": [
           {
            "fillpattern": {
             "fillmode": "overlay",
             "size": 10,
             "solidity": 0.2
            },
            "type": "scatter"
           }
          ],
          "scatter3d": [
           {
            "line": {
             "colorbar": {
              "outlinewidth": 0,
              "ticks": ""
             }
            },
            "marker": {
             "colorbar": {
              "outlinewidth": 0,
              "ticks": ""
             }
            },
            "type": "scatter3d"
           }
          ],
          "scattercarpet": [
           {
            "marker": {
             "colorbar": {
              "outlinewidth": 0,
              "ticks": ""
             }
            },
            "type": "scattercarpet"
           }
          ],
          "scattergeo": [
           {
            "marker": {
             "colorbar": {
              "outlinewidth": 0,
              "ticks": ""
             }
            },
            "type": "scattergeo"
           }
          ],
          "scattergl": [
           {
            "marker": {
             "colorbar": {
              "outlinewidth": 0,
              "ticks": ""
             }
            },
            "type": "scattergl"
           }
          ],
          "scattermapbox": [
           {
            "marker": {
             "colorbar": {
              "outlinewidth": 0,
              "ticks": ""
             }
            },
            "type": "scattermapbox"
           }
          ],
          "scatterpolar": [
           {
            "marker": {
             "colorbar": {
              "outlinewidth": 0,
              "ticks": ""
             }
            },
            "type": "scatterpolar"
           }
          ],
          "scatterpolargl": [
           {
            "marker": {
             "colorbar": {
              "outlinewidth": 0,
              "ticks": ""
             }
            },
            "type": "scatterpolargl"
           }
          ],
          "scatterternary": [
           {
            "marker": {
             "colorbar": {
              "outlinewidth": 0,
              "ticks": ""
             }
            },
            "type": "scatterternary"
           }
          ],
          "surface": [
           {
            "colorbar": {
             "outlinewidth": 0,
             "ticks": ""
            },
            "colorscale": [
             [
              0,
              "#0d0887"
             ],
             [
              0.1111111111111111,
              "#46039f"
             ],
             [
              0.2222222222222222,
              "#7201a8"
             ],
             [
              0.3333333333333333,
              "#9c179e"
             ],
             [
              0.4444444444444444,
              "#bd3786"
             ],
             [
              0.5555555555555556,
              "#d8576b"
             ],
             [
              0.6666666666666666,
              "#ed7953"
             ],
             [
              0.7777777777777778,
              "#fb9f3a"
             ],
             [
              0.8888888888888888,
              "#fdca26"
             ],
             [
              1,
              "#f0f921"
             ]
            ],
            "type": "surface"
           }
          ],
          "table": [
           {
            "cells": {
             "fill": {
              "color": "#EBF0F8"
             },
             "line": {
              "color": "white"
             }
            },
            "header": {
             "fill": {
              "color": "#C8D4E3"
             },
             "line": {
              "color": "white"
             }
            },
            "type": "table"
           }
          ]
         },
         "layout": {
          "annotationdefaults": {
           "arrowcolor": "#2a3f5f",
           "arrowhead": 0,
           "arrowwidth": 1
          },
          "autotypenumbers": "strict",
          "coloraxis": {
           "colorbar": {
            "outlinewidth": 0,
            "ticks": ""
           }
          },
          "colorscale": {
           "diverging": [
            [
             0,
             "#8e0152"
            ],
            [
             0.1,
             "#c51b7d"
            ],
            [
             0.2,
             "#de77ae"
            ],
            [
             0.3,
             "#f1b6da"
            ],
            [
             0.4,
             "#fde0ef"
            ],
            [
             0.5,
             "#f7f7f7"
            ],
            [
             0.6,
             "#e6f5d0"
            ],
            [
             0.7,
             "#b8e186"
            ],
            [
             0.8,
             "#7fbc41"
            ],
            [
             0.9,
             "#4d9221"
            ],
            [
             1,
             "#276419"
            ]
           ],
           "sequential": [
            [
             0,
             "#0d0887"
            ],
            [
             0.1111111111111111,
             "#46039f"
            ],
            [
             0.2222222222222222,
             "#7201a8"
            ],
            [
             0.3333333333333333,
             "#9c179e"
            ],
            [
             0.4444444444444444,
             "#bd3786"
            ],
            [
             0.5555555555555556,
             "#d8576b"
            ],
            [
             0.6666666666666666,
             "#ed7953"
            ],
            [
             0.7777777777777778,
             "#fb9f3a"
            ],
            [
             0.8888888888888888,
             "#fdca26"
            ],
            [
             1,
             "#f0f921"
            ]
           ],
           "sequentialminus": [
            [
             0,
             "#0d0887"
            ],
            [
             0.1111111111111111,
             "#46039f"
            ],
            [
             0.2222222222222222,
             "#7201a8"
            ],
            [
             0.3333333333333333,
             "#9c179e"
            ],
            [
             0.4444444444444444,
             "#bd3786"
            ],
            [
             0.5555555555555556,
             "#d8576b"
            ],
            [
             0.6666666666666666,
             "#ed7953"
            ],
            [
             0.7777777777777778,
             "#fb9f3a"
            ],
            [
             0.8888888888888888,
             "#fdca26"
            ],
            [
             1,
             "#f0f921"
            ]
           ]
          },
          "colorway": [
           "#636efa",
           "#EF553B",
           "#00cc96",
           "#ab63fa",
           "#FFA15A",
           "#19d3f3",
           "#FF6692",
           "#B6E880",
           "#FF97FF",
           "#FECB52"
          ],
          "font": {
           "color": "#2a3f5f"
          },
          "geo": {
           "bgcolor": "white",
           "lakecolor": "white",
           "landcolor": "#E5ECF6",
           "showlakes": true,
           "showland": true,
           "subunitcolor": "white"
          },
          "hoverlabel": {
           "align": "left"
          },
          "hovermode": "closest",
          "mapbox": {
           "style": "light"
          },
          "paper_bgcolor": "white",
          "plot_bgcolor": "#E5ECF6",
          "polar": {
           "angularaxis": {
            "gridcolor": "white",
            "linecolor": "white",
            "ticks": ""
           },
           "bgcolor": "#E5ECF6",
           "radialaxis": {
            "gridcolor": "white",
            "linecolor": "white",
            "ticks": ""
           }
          },
          "scene": {
           "xaxis": {
            "backgroundcolor": "#E5ECF6",
            "gridcolor": "white",
            "gridwidth": 2,
            "linecolor": "white",
            "showbackground": true,
            "ticks": "",
            "zerolinecolor": "white"
           },
           "yaxis": {
            "backgroundcolor": "#E5ECF6",
            "gridcolor": "white",
            "gridwidth": 2,
            "linecolor": "white",
            "showbackground": true,
            "ticks": "",
            "zerolinecolor": "white"
           },
           "zaxis": {
            "backgroundcolor": "#E5ECF6",
            "gridcolor": "white",
            "gridwidth": 2,
            "linecolor": "white",
            "showbackground": true,
            "ticks": "",
            "zerolinecolor": "white"
           }
          },
          "shapedefaults": {
           "line": {
            "color": "#2a3f5f"
           }
          },
          "ternary": {
           "aaxis": {
            "gridcolor": "white",
            "linecolor": "white",
            "ticks": ""
           },
           "baxis": {
            "gridcolor": "white",
            "linecolor": "white",
            "ticks": ""
           },
           "bgcolor": "#E5ECF6",
           "caxis": {
            "gridcolor": "white",
            "linecolor": "white",
            "ticks": ""
           }
          },
          "title": {
           "x": 0.05
          },
          "xaxis": {
           "automargin": true,
           "gridcolor": "white",
           "linecolor": "white",
           "ticks": "",
           "title": {
            "standoff": 15
           },
           "zerolinecolor": "white",
           "zerolinewidth": 2
          },
          "yaxis": {
           "automargin": true,
           "gridcolor": "white",
           "linecolor": "white",
           "ticks": "",
           "title": {
            "standoff": 15
           },
           "zerolinecolor": "white",
           "zerolinewidth": 2
          }
         }
        }
       }
      }
     },
     "metadata": {},
     "output_type": "display_data"
    }
   ],
   "source": [
    "total_opioids = df[df['total_opioids'] == 1]\n",
    "\n",
    "fig = go.Figure(go.Pie(\n",
    "    labels=total_opioids['total_benzos'].replace({1: \"Positive\", 0: \"Negative\"}).value_counts().index,\n",
    "    values=total_opioids['total_benzos'].value_counts().values,\n",
    "    hole=0.65\n",
    "))\n",
    "fig.update_traces(hoverinfo='value+percent', textinfo='label', textfont_size=20,\n",
    "                  marker=dict(line=dict(color='#000000', width=2)))\n",
    "fig.update_layout(\n",
    "    annotations=[\n",
    "        dict(text=\"Benzos in<br>Opioids\", x=0.5, y=0.5, font_size=20, showarrow=False)\n",
    "    ])\n",
    "fig.show()"
   ]
  },
  {
   "cell_type": "code",
   "execution_count": 340,
   "metadata": {},
   "outputs": [],
   "source": [
    "df['colour2'] = df['colour']\n",
    "# colour_df = df.groupby(['colour', 'texture']).agg(lambda x: x.value_counts().index[0])"
   ]
  },
  {
   "cell_type": "code",
   "execution_count": 402,
   "metadata": {},
   "outputs": [],
   "source": [
    "colours = df.groupby(['colour', 'texture'])['colour2'].head(1)"
   ]
  },
  {
   "cell_type": "code",
   "execution_count": 375,
   "metadata": {},
   "outputs": [],
   "source": [
    "df['colour2'] = df['colour2'].replace({\n",
    "    \"Purple\": '#A020F0',\n",
    "    \"light Brown\": \"#C4A484\",\n",
    "    \"light Green\": \"#90EE90\",\n",
    "    \"Pink\": \"#FFC0CB\",\n",
    "    \"Colourless\": \"#F8F8FF\",\n",
    "    \"White\": \"#FFFFFF\",\n",
    "    \"Black\": \"#000000\",\n",
    "    \"dark Purple\": \"#301934\",\n",
    "    \"Brown\": \"#964B00\",\n",
    "    \"dark Blue\": \"#00008B\",\n",
    "    \"Blue\": \"#0000FF\",\n",
    "    \"light Yellow\": \"#FFFFE0\",\n",
    "    \"light Pink\": \"#FFB6C1\",\n",
    "    \"dark Brown\": \"#654321\",\n",
    "    \"light Grey\": \"#D3D3D3\",\n",
    "    \"dark Pink\": \"#FF1493\",\n",
    "    \"light Blue\": \"#ADD8E6\",\n",
    "    \"light Purple\": \"#E6E6FA\",\n",
    "    \"light Orange\": \"#FFA07A\",\n",
    "    \"light Red\": \"#FFA07A\",\n",
    "    \"dark Orange\": \"#FF8C00\",\n",
    "    \"dark Green\": \"#006400\",\n",
    "    \"dark Grey\": \"#A9A9A9\",\n",
    "    \"dark Red\": \"#8B0000\",\n",
    "    \"dark Yellow\": \"#FFD700\",\n",
    "    \"Other\": \"#F8F8FF\"    \n",
    "})"
   ]
  },
  {
   "cell_type": "code",
   "execution_count": 409,
   "metadata": {},
   "outputs": [
    {
     "data": {
      "application/vnd.plotly.v1+json": {
       "config": {
        "plotlyServerURL": "https://plot.ly"
       },
       "data": [
        {
         "branchvalues": "total",
         "customdata": [
          [
           "Brown (light)"
          ],
          [
           "Blue"
          ],
          [
           "White"
          ],
          [
           "Red (dark)"
          ],
          [
           "Brown (dark)"
          ],
          [
           "Blue (light)"
          ],
          [
           "Blue (dark)"
          ],
          [
           "Beige"
          ],
          [
           "Brown (light)"
          ],
          [
           "Green (dark)"
          ],
          [
           "Red"
          ],
          [
           "Pink (dark)"
          ],
          [
           "Yellow (dark)"
          ],
          [
           "Red (light)"
          ],
          [
           "Yellow"
          ],
          [
           "Other"
          ],
          [
           "Pink (dark)"
          ],
          [
           "Grey (dark)"
          ],
          [
           "Pink (dark)"
          ],
          [
           "Green"
          ],
          [
           "Red (light)"
          ],
          [
           "Purple"
          ],
          [
           "Grey (dark)"
          ],
          [
           "Blue (light)"
          ],
          [
           "Orange (light)"
          ],
          [
           "Yellow"
          ],
          [
           "Green (light)"
          ],
          [
           "Red (dark)"
          ],
          [
           "Purple (light)"
          ],
          [
           "Purple (dark)"
          ],
          [
           "Red (light)"
          ],
          [
           "Orange (light)"
          ],
          [
           "Red"
          ],
          [
           "Orange (dark)"
          ],
          [
           "Pink (dark)"
          ],
          [
           "Blue"
          ],
          [
           "Blue"
          ],
          [
           "Grey (dark)"
          ],
          [
           "Brown (light)"
          ],
          [
           "Blue (light)"
          ],
          [
           "Purple"
          ],
          [
           "Purple (dark)"
          ],
          [
           "Grey"
          ],
          [
           "Orange (light)"
          ],
          [
           "Green"
          ],
          [
           "Green"
          ],
          [
           "Brown (dark)"
          ],
          [
           "Grey (light)"
          ],
          [
           "Brown (light)"
          ],
          [
           "Blue (dark)"
          ],
          [
           "Blue"
          ],
          [
           "Other"
          ],
          [
           "Purple"
          ],
          [
           "Purple (dark)"
          ],
          [
           "White"
          ],
          [
           "Purple (dark)"
          ],
          [
           "Purple (light)"
          ],
          [
           "Pink (dark)"
          ],
          [
           "Brown (light)"
          ],
          [
           "Blue"
          ],
          [
           "Red (dark)"
          ],
          [
           "Brown (dark)"
          ],
          [
           "Grey (dark)"
          ],
          [
           "Brown"
          ],
          [
           "Yellow (light)"
          ],
          [
           "Yellow (light)"
          ],
          [
           "Grey"
          ],
          [
           "Purple (light)"
          ],
          [
           "Blue (light)"
          ],
          [
           "Green (dark)"
          ],
          [
           "White"
          ],
          [
           "Pink (light)"
          ],
          [
           "Brown"
          ],
          [
           "Red (dark)"
          ],
          [
           "Grey (light)"
          ],
          [
           "Brown (light)"
          ],
          [
           "Green"
          ],
          [
           "Orange (dark)"
          ],
          [
           "Pink (light)"
          ],
          [
           "Yellow"
          ],
          [
           "Red (dark)"
          ],
          [
           "Pink"
          ],
          [
           "Brown"
          ],
          [
           "Blue"
          ],
          [
           "Pink"
          ],
          [
           "Blue (light)"
          ],
          [
           "Orange (light)"
          ],
          [
           "Purple"
          ],
          [
           "Orange"
          ],
          [
           "Blue (light)"
          ],
          [
           "Grey (light)"
          ],
          [
           "Brown (light)"
          ],
          [
           "Yellow"
          ],
          [
           "Green (dark)"
          ],
          [
           "Red (light)"
          ],
          [
           "Pink"
          ],
          [
           "Grey (light)"
          ],
          [
           "Blue"
          ],
          [
           "Green (dark)"
          ],
          [
           "Orange (light)"
          ],
          [
           "Brown (light)"
          ],
          [
           "Blue (dark)"
          ],
          [
           "Grey"
          ],
          [
           "Other"
          ],
          [
           "Green (light)"
          ],
          [
           "Red"
          ],
          [
           "Blue (dark)"
          ],
          [
           "Red"
          ],
          [
           "Pink (light)"
          ],
          [
           "Yellow (dark)"
          ],
          [
           "Pink (light)"
          ],
          [
           "Other"
          ],
          [
           "Orange"
          ],
          [
           "Green (light)"
          ],
          [
           "Brown"
          ],
          [
           "Yellow (dark)"
          ],
          [
           "Yellow (light)"
          ],
          [
           "Pink (dark)"
          ],
          [
           "Pink (light)"
          ],
          [
           "Green (light)"
          ],
          [
           "Yellow (dark)"
          ],
          [
           "Brown (dark)"
          ],
          [
           "Brown"
          ],
          [
           "Pink (dark)"
          ],
          [
           "Purple (dark)"
          ],
          [
           "Pink (dark)"
          ],
          [
           "Pink"
          ],
          [
           "Black"
          ],
          [
           "Brown"
          ],
          [
           "Red (dark)"
          ],
          [
           "Green (dark)"
          ],
          [
           "Other"
          ],
          [
           "Pink (light)"
          ],
          [
           "Orange (light)"
          ],
          [
           "Purple (light)"
          ],
          [
           "Green (dark)"
          ],
          [
           "Green"
          ],
          [
           "Green"
          ],
          [
           "Red"
          ],
          [
           "Red (dark)"
          ],
          [
           "Other"
          ],
          [
           "Blue (light)"
          ],
          [
           "Purple"
          ],
          [
           "Pink"
          ],
          [
           "Brown (dark)"
          ],
          [
           "Red"
          ],
          [
           "Blue (light)"
          ],
          [
           "Green (light)"
          ],
          [
           "Blue"
          ],
          [
           "Red (dark)"
          ],
          [
           "Orange (light)"
          ],
          [
           "Orange"
          ],
          [
           "Orange (light)"
          ],
          [
           "Grey (light)"
          ],
          [
           "Other"
          ],
          [
           "Yellow (light)"
          ],
          [
           "Grey (light)"
          ],
          [
           "Orange"
          ],
          [
           "Orange"
          ],
          [
           "Blue (light)"
          ],
          [
           "Green"
          ],
          [
           "Blue"
          ],
          [
           "Blue (dark)"
          ],
          [
           "Grey (light)"
          ],
          [
           "Orange"
          ],
          [
           "Yellow"
          ],
          [
           "Beige"
          ],
          [
           "Blue (dark)"
          ],
          [
           "Grey (dark)"
          ],
          [
           "Orange"
          ],
          [
           "Grey"
          ],
          [
           "White"
          ],
          [
           "Blue (dark)"
          ],
          [
           "Blue"
          ],
          [
           "Orange"
          ],
          [
           "Purple (light)"
          ],
          [
           "Grey (light)"
          ],
          [
           "Green (dark)"
          ],
          [
           "Orange"
          ],
          [
           "Yellow (dark)"
          ],
          [
           "Yellow (dark)"
          ],
          [
           "Beige"
          ],
          [
           "Grey"
          ],
          [
           "Pink (light)"
          ],
          [
           "Orange (dark)"
          ],
          [
           "Red"
          ],
          [
           "Pink (light)"
          ],
          [
           "Colourless"
          ],
          [
           "Colourless"
          ],
          [
           "Brown (dark)"
          ],
          [
           "Blue (dark)"
          ],
          [
           "Red (light)"
          ],
          [
           "Yellow"
          ],
          [
           "Pink"
          ],
          [
           "Purple"
          ],
          [
           "Other"
          ],
          [
           "Beige"
          ],
          [
           "Grey"
          ],
          [
           "Grey (dark)"
          ],
          [
           "Colourless"
          ],
          [
           "Brown (dark)"
          ],
          [
           "Blue (light)"
          ],
          [
           "Beige"
          ],
          [
           "Brown (light)"
          ],
          [
           "Yellow (light)"
          ],
          [
           "Green (light)"
          ],
          [
           "Green (light)"
          ],
          [
           "Green"
          ],
          [
           "Beige"
          ],
          [
           "Green (dark)"
          ],
          [
           "Yellow"
          ],
          [
           "Red (light)"
          ],
          [
           "Grey (light)"
          ],
          [
           "Pink"
          ],
          [
           "Purple"
          ],
          [
           "Brown (light)"
          ],
          [
           "Colourless"
          ],
          [
           "Grey (light)"
          ],
          [
           "Colourless"
          ],
          [
           "Blue (dark)"
          ],
          [
           "Black"
          ],
          [
           "Pink (light)"
          ],
          [
           "Purple (dark)"
          ],
          [
           "Blue (light)"
          ],
          [
           "Red"
          ],
          [
           "Orange (light)"
          ],
          [
           "Brown (light)"
          ],
          [
           "Brown (dark)"
          ],
          [
           "Orange (dark)"
          ],
          [
           "Purple"
          ],
          [
           "Black"
          ],
          [
           "Yellow (light)"
          ],
          [
           "White"
          ],
          [
           "Green (light)"
          ],
          [
           "Pink (dark)"
          ],
          [
           "Black"
          ],
          [
           "White"
          ],
          [
           "Yellow (dark)"
          ],
          [
           "Red"
          ],
          [
           "Brown"
          ],
          [
           "Orange (dark)"
          ],
          [
           "Black"
          ],
          [
           "Colourless"
          ],
          [
           "Blue (light)"
          ],
          [
           "White"
          ],
          [
           "Orange"
          ],
          [
           "Yellow (light)"
          ],
          [
           "Green (light)"
          ],
          [
           "Grey (light)"
          ],
          [
           "Yellow (light)"
          ],
          [
           "Brown"
          ],
          [
           "Black"
          ],
          [
           "Colourless"
          ],
          [
           "Green (dark)"
          ],
          [
           "Colourless"
          ],
          [
           "Brown"
          ],
          [
           "Brown (dark)"
          ],
          [
           "Red (light)"
          ],
          [
           "Other"
          ],
          [
           "White"
          ],
          [
           "Yellow (dark)"
          ],
          [
           "White"
          ],
          [
           "Grey"
          ],
          [
           "Pink"
          ],
          [
           "Green (dark)"
          ],
          [
           "Red"
          ],
          [
           "Green (light)"
          ],
          [
           "Green (light)"
          ],
          [
           "Blue (light)"
          ],
          [
           "Orange"
          ],
          [
           "Purple (dark)"
          ],
          [
           "Green (dark)"
          ],
          [
           "Brown"
          ],
          [
           "Yellow"
          ],
          [
           "Purple"
          ],
          [
           "Pink"
          ],
          [
           "Blue (light)"
          ],
          [
           "Green (dark)"
          ],
          [
           "Beige"
          ],
          [
           "Purple"
          ],
          [
           "Purple (dark)"
          ],
          [
           "Grey"
          ],
          [
           "Purple (light)"
          ],
          [
           "White"
          ],
          [
           "Red"
          ],
          [
           "Purple (light)"
          ],
          [
           "Red"
          ],
          [
           "Purple (dark)"
          ],
          [
           "Red (dark)"
          ],
          [
           "Purple"
          ],
          [
           "Other"
          ],
          [
           "Pink (dark)"
          ],
          [
           "Green"
          ],
          [
           "Red"
          ],
          [
           "Black"
          ],
          [
           "Pink (light)"
          ],
          [
           "Yellow"
          ],
          [
           "Purple"
          ],
          [
           "Yellow (dark)"
          ],
          [
           "Yellow (light)"
          ],
          [
           "Beige"
          ],
          [
           "Colourless"
          ],
          [
           "Purple (dark)"
          ],
          [
           "Yellow (light)"
          ],
          [
           "Grey"
          ],
          [
           "Green (dark)"
          ],
          [
           "Red (light)"
          ],
          [
           "Blue (light)"
          ],
          [
           "Pink (light)"
          ],
          [
           "Green"
          ],
          [
           "Grey"
          ],
          [
           "Green (light)"
          ],
          [
           "Green (light)"
          ],
          [
           "Green"
          ],
          [
           "Grey (light)"
          ],
          [
           "Colourless"
          ],
          [
           "Brown (light)"
          ],
          [
           "Orange (dark)"
          ],
          [
           "Other"
          ],
          [
           "Pink"
          ],
          [
           "Black"
          ],
          [
           "Purple"
          ],
          [
           "Yellow (dark)"
          ],
          [
           "Purple (dark)"
          ],
          [
           "Brown (dark)"
          ],
          [
           "Yellow"
          ],
          [
           "Orange (light)"
          ],
          [
           "Red (light)"
          ],
          [
           "Blue (dark)"
          ],
          [
           "Black"
          ],
          [
           "Black"
          ],
          [
           "Green"
          ],
          [
           "Beige"
          ],
          [
           "Yellow (light)"
          ],
          [
           "Yellow"
          ],
          [
           "Grey (dark)"
          ],
          [
           "Blue"
          ],
          [
           "Red"
          ],
          [
           "Pink (dark)"
          ],
          [
           "Orange (light)"
          ],
          [
           "Orange (dark)"
          ],
          [
           "Pink (dark)"
          ],
          [
           "Purple (dark)"
          ],
          [
           "Purple (light)"
          ],
          [
           "Red (dark)"
          ],
          [
           "Yellow (dark)"
          ],
          [
           "Yellow (light)"
          ],
          [
           "Beige"
          ],
          [
           "Brown"
          ],
          [
           "Blue (dark)"
          ],
          [
           "Brown"
          ],
          [
           "Green"
          ],
          [
           "Brown (dark)"
          ],
          [
           "Orange"
          ],
          [
           "Grey (light)"
          ],
          [
           "Grey"
          ],
          [
           "Brown"
          ],
          [
           "Brown (dark)"
          ],
          [
           "Green"
          ],
          [
           "Brown (dark)"
          ],
          [
           "Grey"
          ],
          [
           "Grey (dark)"
          ],
          [
           "Black"
          ],
          [
           "Beige"
          ],
          [
           "Other"
          ],
          [
           "Yellow"
          ],
          [
           "White"
          ],
          [
           "Red (light)"
          ],
          [
           "Purple (light)"
          ],
          [
           "Red (light)"
          ],
          [
           "Pink"
          ],
          [
           "Yellow"
          ],
          [
           "White"
          ],
          [
           "Yellow (dark)"
          ],
          [
           "Yellow"
          ],
          [
           "Yellow (dark)"
          ],
          [
           "Black"
          ],
          [
           "Red"
          ],
          [
           "Green (light)"
          ],
          [
           "Grey"
          ],
          [
           "Grey (dark)"
          ],
          [
           "Pink (light)"
          ],
          [
           "Orange"
          ],
          [
           "Pink"
          ],
          [
           "Orange"
          ],
          [
           "Yellow (light)"
          ],
          [
           "Brown (light)"
          ],
          [
           "Pink (light)"
          ],
          [
           "Brown"
          ],
          [
           "Purple (dark)"
          ],
          [
           "Black"
          ],
          [
           "Yellow"
          ],
          [
           "Brown (dark)"
          ],
          [
           "Yellow (light)"
          ],
          [
           "Yellow"
          ],
          [
           "Yellow (dark)"
          ],
          [
           "Beige"
          ],
          [
           "White"
          ],
          [
           "(?)"
          ],
          [
           "Blue"
          ],
          [
           "Pink (light)"
          ],
          [
           "Black"
          ],
          [
           "Purple (dark)"
          ],
          [
           "Black"
          ],
          [
           "Purple (light)"
          ],
          [
           "Yellow (light)"
          ],
          [
           "White"
          ],
          [
           "Red (light)"
          ],
          [
           "Purple (light)"
          ],
          [
           "Yellow (dark)"
          ],
          [
           "Purple"
          ],
          [
           "Beige"
          ],
          [
           "Black"
          ],
          [
           "Brown (light)"
          ],
          [
           "Pink (light)"
          ],
          [
           "Pink"
          ],
          [
           "Pink"
          ],
          [
           "Brown"
          ],
          [
           "Blue (dark)"
          ],
          [
           "Orange (dark)"
          ],
          [
           "Blue"
          ],
          [
           "Orange (dark)"
          ],
          [
           "Green (light)"
          ],
          [
           "Colourless"
          ],
          [
           "Brown (light)"
          ],
          [
           "Colourless"
          ],
          [
           "Green"
          ],
          [
           "Orange (light)"
          ],
          [
           "Green (dark)"
          ],
          [
           "Grey (dark)"
          ],
          [
           "Green (dark)"
          ],
          [
           "Grey"
          ],
          [
           "Grey (dark)"
          ],
          [
           "Grey (dark)"
          ],
          [
           "Colourless"
          ],
          [
           "Green"
          ],
          [
           "Orange (dark)"
          ],
          [
           "Brown (dark)"
          ],
          [
           "Blue"
          ],
          [
           "Brown (light)"
          ],
          [
           "Pink"
          ],
          [
           "Brown"
          ],
          [
           "Orange (light)"
          ],
          [
           "Blue (dark)"
          ],
          [
           "Purple (light)"
          ],
          [
           "Purple"
          ],
          [
           "Orange"
          ],
          [
           "Red (light)"
          ],
          [
           "Red (dark)"
          ],
          [
           "Grey (light)"
          ],
          [
           "Blue"
          ],
          [
           "White"
          ]
         ],
         "domain": {
          "x": [
           0,
           1
          ],
          "y": [
           0,
           1
          ]
         },
         "hovertemplate": "labels=%{label}<br>count=%{value}<br>parent=%{parent}<br>id=%{id}<br>colour=%{customdata[0]}<extra></extra>",
         "ids": [
          "all drugs/Brown (light)/Crystal",
          "all drugs/Blue/Other",
          "all drugs/White/Tablet (pharmaceutical)",
          "all drugs/Red (dark)/Granules",
          "all drugs/Brown (dark)/Granules",
          "all drugs/Blue (light)/Liquid",
          "all drugs/Blue (dark)/Powder",
          "all drugs/Beige/Capsule",
          "all drugs/Brown (light)/Blotter paper (tab)",
          "all drugs/Green (dark)/Paste",
          "all drugs/Red/Flake",
          "all drugs/Pink (dark)/Granules",
          "all drugs/Yellow (dark)/Granules",
          "all drugs/Red (light)/Liquid",
          "all drugs/Yellow/Powder",
          "all drugs/Other/Blotter paper (tab)",
          "all drugs/Pink (dark)/Pressed tablet",
          "all drugs/Grey (dark)/Granules",
          "all drugs/Pink (dark)/Powder",
          "all drugs/Green/Chunk",
          "all drugs/Red (light)/Crystal",
          "all drugs/Purple/Paste",
          "all drugs/Grey (dark)/Blotter paper (tab)",
          "all drugs/Blue (light)/Granules",
          "all drugs/Orange (light)/Crystal",
          "all drugs/Yellow/Crystal",
          "all drugs/Green (light)/Tablet (pharmaceutical)",
          "all drugs/Red (dark)/Powder",
          "all drugs/Purple (light)/Paste",
          "all drugs/Purple (dark)/Liquid",
          "all drugs/Red (light)/Paste",
          "all drugs/Orange (light)/Chunk",
          "all drugs/Red/Capsule",
          "all drugs/Orange (dark)/Crystal",
          "all drugs/Pink (dark)/Paste",
          "all drugs/Blue/Tablet (pharmaceutical)",
          "all drugs/Blue/Crystal",
          "all drugs/Grey (dark)/Chunk",
          "all drugs/Brown (light)/Organic",
          "all drugs/Blue (light)/Powder",
          "all drugs/Purple/Chunk",
          "all drugs/Purple (dark)/Chunk",
          "all drugs/Grey/Granules",
          "all drugs/Orange (light)/Granules",
          "all drugs/Green/Paste",
          "all drugs/Green/Blotter paper (tab)",
          "all drugs/Brown (dark)/Capsule",
          "all drugs/Grey (light)/Powder",
          "all drugs/Brown (light)/Granules",
          "all drugs/Blue (dark)/Pressed tablet",
          "all drugs/Blue/Capsule",
          "all drugs/Other/Other",
          "all drugs/Purple/Blotter paper (tab)",
          "all drugs/Purple (dark)",
          "all drugs/White/Chunk",
          "all drugs/Purple (dark)/Granules",
          "all drugs/Purple (light)/Granules",
          "all drugs/Pink (dark)/Crystal",
          "all drugs/Brown (light)/Flake",
          "all drugs/Blue/Residue",
          "all drugs/Red (dark)/Crystal",
          "all drugs/Brown (dark)/Powder",
          "all drugs/Grey (dark)/Liquid",
          "all drugs/Brown/Organic",
          "all drugs/Yellow (light)/Pebble",
          "all drugs/Yellow (light)/Powder",
          "all drugs/Grey/Tablet (pharmaceutical)",
          "all drugs/Purple (light)/Residue",
          "all drugs/Blue (light)/Organic",
          "all drugs/Green (dark)/Flake",
          "all drugs/White/Paste",
          "all drugs/Pink (light)/Liquid",
          "all drugs/Brown/Crystal",
          "all drugs/Red (dark)/Liquid",
          "all drugs/Grey (light)/Pebble",
          "all drugs/Brown (light)/Pebble",
          "all drugs/Green/Other",
          "all drugs/Orange (dark)/Tablet (pharmaceutical)",
          "all drugs/Pink (light)",
          "all drugs/Yellow/Blotter paper (tab)",
          "all drugs/Red (dark)/Blotter paper (tab)",
          "all drugs/Pink/Capsule",
          "all drugs/Brown/Capsule",
          "all drugs/Blue/Chunk",
          "all drugs/Pink/Blotter paper (tab)",
          "all drugs/Blue (light)/Chunk",
          "all drugs/Orange (light)/Blotter paper (tab)",
          "all drugs/Purple/Capsule",
          "all drugs/Orange/Organic",
          "all drugs/Blue (light)/Capsule",
          "all drugs/Grey (light)/Blotter paper (tab)",
          "all drugs/Brown (light)/Chunk",
          "all drugs/Yellow/Tablet (pharmaceutical)",
          "all drugs/Green (dark)/Blotter paper (tab)",
          "all drugs/Red (light)",
          "all drugs/Pink/Paste",
          "all drugs/Grey (light)/Capsule",
          "all drugs/Blue/Blotter paper (tab)",
          "all drugs/Green (dark)/Capsule",
          "all drugs/Orange (light)/Paste",
          "all drugs/Brown (light)/Capsule",
          "all drugs/Blue (dark)/Flake",
          "all drugs/Grey/Flake",
          "all drugs/Other/Pressed tablet",
          "all drugs/Green (light)/Other",
          "all drugs/Red/Blotter paper (tab)",
          "all drugs/Blue (dark)/Capsule",
          "all drugs/Red/Granules",
          "all drugs/Pink (light)/Pressed tablet",
          "all drugs/Yellow (dark)/Flake",
          "all drugs/Pink (light)/Blotter paper (tab)",
          "all drugs/Other/Powder",
          "all drugs/Orange/Blotter paper (tab)",
          "all drugs/Green (light)/Blotter paper (tab)",
          "all drugs/Brown/Blotter paper (tab)",
          "all drugs/Yellow (dark)/Other",
          "all drugs/Yellow (light)/Other",
          "all drugs/Pink (dark)/Pebble",
          "all drugs/Pink (light)/Chunk",
          "all drugs/Green (light)/Pebble",
          "all drugs/Yellow (dark)/Capsule",
          "all drugs/Brown (dark)/Crystal",
          "all drugs/Brown",
          "all drugs/Pink (dark)/Liquid",
          "all drugs/Purple (dark)/Capsule",
          "all drugs/Pink (dark)/Capsule",
          "all drugs/Pink/Liquid",
          "all drugs/Black/Pebble",
          "all drugs/Brown/Tablet (pharmaceutical)",
          "all drugs/Red (dark)/Paste",
          "all drugs/Green (dark)/Organic",
          "all drugs/Other/Capsule",
          "all drugs/Pink (light)/Tablet (pharmaceutical)",
          "all drugs/Orange (light)/Capsule",
          "all drugs/Purple (light)/Chunk",
          "all drugs/Green (dark)",
          "all drugs/Green/Organic",
          "all drugs/Green/Crystal",
          "all drugs/Red/Tablet (pharmaceutical)",
          "all drugs/Red (dark)/Chunk",
          "all drugs/Other/Chunk",
          "all drugs/Blue (light)/Crystal",
          "all drugs/Purple/Powder",
          "all drugs/Pink/Chunk",
          "all drugs/Brown (dark)/Paste",
          "all drugs/Red/Paste",
          "all drugs/Blue (light)/Flake",
          "all drugs/Green (light)/Liquid",
          "all drugs/Blue/Pebble",
          "all drugs/Red (dark)",
          "all drugs/Orange (light)/Liquid",
          "all drugs/Orange/Tablet (pharmaceutical)",
          "all drugs/Orange (light)/Pebble",
          "all drugs/Grey (light)/Paste",
          "all drugs/Other/Paste",
          "all drugs/Yellow (light)/Capsule",
          "all drugs/Grey (light)/Residue",
          "all drugs/Orange/Powder",
          "all drugs/Orange/Pebble",
          "all drugs/Blue (light)/Pebble",
          "all drugs/Green/Liquid",
          "all drugs/Blue/Liquid",
          "all drugs/Blue (dark)/Paste",
          "all drugs/Grey (light)/Pressed tablet",
          "all drugs/Orange/Capsule",
          "all drugs/Yellow/Capsule",
          "all drugs/Beige/Granules",
          "all drugs/Blue (dark)/Blotter paper (tab)",
          "all drugs/Grey (dark)/Crystal",
          "all drugs/Orange/Chunk",
          "all drugs/Grey/Pressed tablet",
          "all drugs/White/Powder",
          "all drugs/Blue (dark)/Chunk",
          "all drugs/Blue",
          "all drugs/Orange",
          "all drugs/Purple (light)/Liquid",
          "all drugs/Grey (light)/Tablet (pharmaceutical)",
          "all drugs/Green (dark)/Tablet (pharmaceutical)",
          "all drugs/Orange/Residue",
          "all drugs/Yellow (dark)/Chunk",
          "all drugs/Yellow (dark)/Crystal",
          "all drugs/Beige/Pebble",
          "all drugs/Grey",
          "all drugs/Pink (light)/Pebble",
          "all drugs/Orange (dark)/Paste",
          "all drugs/Red/Liquid",
          "all drugs/Pink (light)/Residue",
          "all drugs/Colourless/Paste",
          "all drugs/Colourless",
          "all drugs/Brown (dark)/Residue",
          "all drugs/Blue (dark)/Pebble",
          "all drugs/Red (light)/Tablet (pharmaceutical)",
          "all drugs/Yellow/Other",
          "all drugs/Pink/Tablet (pharmaceutical)",
          "all drugs/Purple/Granules",
          "all drugs/Other/Residue",
          "all drugs/Beige/Chunk",
          "all drugs/Grey/Blotter paper (tab)",
          "all drugs/Grey (dark)",
          "all drugs/Colourless/Other",
          "all drugs/Brown (dark)",
          "all drugs/Blue (light)/Blotter paper (tab)",
          "all drugs/Beige/Paste",
          "all drugs/Brown (light)/Paste",
          "all drugs/Yellow (light)/Paste",
          "all drugs/Green (light)/Powder",
          "all drugs/Green (light)/Flake",
          "all drugs/Green/Granules",
          "all drugs/Beige/Flake",
          "all drugs/Green (dark)/Pebble",
          "all drugs/Yellow/Flake",
          "all drugs/Red (light)/Flake",
          "all drugs/Grey (light)/Crystal",
          "all drugs/Pink/Crystal",
          "all drugs/Purple/Pebble",
          "all drugs/Brown (light)/Liquid",
          "all drugs/Colourless/Residue",
          "all drugs/Grey (light)/Flake",
          "all drugs/Colourless/Pebble",
          "all drugs/Blue (dark)/Crystal",
          "all drugs/Black/Tablet (pharmaceutical)",
          "all drugs/Pink (light)/Granules",
          "all drugs/Purple (dark)/Pebble",
          "all drugs/Blue (light)/Pressed tablet",
          "all drugs/Red",
          "all drugs/Orange (light)/Pressed tablet",
          "all drugs/Brown (light)/Residue",
          "all drugs/Brown (dark)/Chunk",
          "all drugs/Orange (dark)/Liquid",
          "all drugs/Purple/Liquid",
          "all drugs/Black/Organic",
          "all drugs/Yellow (light)/Residue",
          "all drugs/White/Pressed tablet",
          "all drugs/Green (light)/Pressed tablet",
          "all drugs/Pink (dark)",
          "all drugs/Black",
          "all drugs/White",
          "all drugs/Yellow (dark)/Residue",
          "all drugs/Red/Powder",
          "all drugs/Brown/Powder",
          "all drugs/Orange (dark)/Pebble",
          "all drugs/Black/Blotter paper (tab)",
          "all drugs/Colourless/Chunk",
          "all drugs/Blue (light)/Paste",
          "all drugs/White/Blotter paper (tab)",
          "all drugs/Orange/Crystal",
          "all drugs/Yellow (light)/Blotter paper (tab)",
          "all drugs/Green (light)/Chunk",
          "all drugs/Grey (light)/Chunk",
          "all drugs/Yellow (light)/Granules",
          "all drugs/Brown/Paste",
          "all drugs/Black/Residue",
          "all drugs/Colourless/Blotter paper (tab)",
          "all drugs/Green (dark)/Liquid",
          "all drugs/Colourless/Liquid",
          "all drugs/Brown/Liquid",
          "all drugs/Brown (dark)/Other",
          "all drugs/Red (light)/Pressed tablet",
          "all drugs/Other/Granules",
          "all drugs/White/Other",
          "all drugs/Yellow (dark)",
          "all drugs/White/Crystal",
          "all drugs/Grey/Chunk",
          "all drugs/Pink/Granules",
          "all drugs/Green (dark)/Chunk",
          "all drugs/Red/Pebble",
          "all drugs/Green (light)/Crystal",
          "all drugs/Green (light)/Residue",
          "all drugs/Blue (light)",
          "all drugs/Orange/Granules",
          "all drugs/Purple (dark)/Flake",
          "all drugs/Green (dark)/Pressed tablet",
          "all drugs/Brown/Residue",
          "all drugs/Yellow/Residue",
          "all drugs/Purple/Organic",
          "all drugs/Pink/Residue",
          "all drugs/Blue (light)/Residue",
          "all drugs/Green (dark)/Crystal",
          "all drugs/Beige/Tablet (pharmaceutical)",
          "all drugs/Purple/Pressed tablet",
          "all drugs/Purple (dark)/Pressed tablet",
          "all drugs/Grey/Crystal",
          "all drugs/Purple (light)/Crystal",
          "all drugs/White/Residue",
          "all drugs/Red/Residue",
          "all drugs/Purple (light)/Pressed tablet",
          "all drugs/Red/Pressed tablet",
          "all drugs/Purple (dark)/Residue",
          "all drugs/Red (dark)/Pressed tablet",
          "all drugs/Purple/Residue",
          "all drugs/Other/Crystal",
          "all drugs/Pink (dark)/Residue",
          "all drugs/Green/Residue",
          "all drugs/Red/Crystal",
          "all drugs/Black/Flake",
          "all drugs/Pink (light)/Crystal",
          "all drugs/Yellow/Pressed tablet",
          "all drugs/Purple/Crystal",
          "all drugs/Yellow (dark)/Pressed tablet",
          "all drugs/Yellow (light)/Pressed tablet",
          "all drugs/Beige/Residue",
          "all drugs/Colourless/Crystal",
          "all drugs/Purple (dark)/Crystal",
          "all drugs/Yellow (light)/Crystal",
          "all drugs/Grey/Residue",
          "all drugs/Green (dark)/Residue",
          "all drugs/Red (light)/Chunk",
          "all drugs/Blue (light)/Tablet (pharmaceutical)",
          "all drugs/Pink (light)/Capsule",
          "all drugs/Green",
          "all drugs/Grey/Capsule",
          "all drugs/Green (light)",
          "all drugs/Green (light)/Capsule",
          "all drugs/Green/Capsule",
          "all drugs/Grey (light)",
          "all drugs/Colourless/Capsule",
          "all drugs/Brown (light)",
          "all drugs/Orange (dark)",
          "all drugs/Other",
          "all drugs/Pink",
          "all drugs/Black/Capsule",
          "all drugs/Purple",
          "all drugs/Yellow (dark)/Blotter paper (tab)",
          "all drugs/Purple (dark)/Blotter paper (tab)",
          "all drugs/Brown (dark)/Blotter paper (tab)",
          "all drugs/Yellow",
          "all drugs/Orange (light)",
          "all drugs/Red (light)/Capsule",
          "all drugs/Blue (dark)",
          "all drugs/Black/Chunk",
          "all drugs/Black/Crystal",
          "all drugs/Green/Tablet (pharmaceutical)",
          "all drugs/Beige/Crystal",
          "all drugs/Yellow (light)/Chunk",
          "all drugs/Yellow/Chunk",
          "all drugs/Grey (dark)/Tablet (pharmaceutical)",
          "all drugs/Blue/Flake",
          "all drugs/Red/Chunk",
          "all drugs/Pink (dark)/Chunk",
          "all drugs/Orange (light)/Tablet (pharmaceutical)",
          "all drugs/Orange (dark)/Chunk",
          "all drugs/Pink (dark)/Tablet (pharmaceutical)",
          "all drugs/Purple (dark)/Tablet (pharmaceutical)",
          "all drugs/Purple (light)/Tablet (pharmaceutical)",
          "all drugs/Red (dark)/Tablet (pharmaceutical)",
          "all drugs/Yellow (dark)/Tablet (pharmaceutical)",
          "all drugs/Yellow (light)/Tablet (pharmaceutical)",
          "all drugs/Beige",
          "all drugs/Brown/Chunk",
          "all drugs/Blue (dark)/Tablet (pharmaceutical)",
          "all drugs/Brown/Flake",
          "all drugs/Green/Flake",
          "all drugs/Brown (dark)/Flake",
          "all drugs/Orange/Liquid",
          "all drugs/Grey (light)/Liquid",
          "all drugs/Grey/Liquid",
          "all drugs/Brown/Pebble",
          "all drugs/Brown (dark)/Pebble",
          "all drugs/Green/Pebble",
          "all drugs/Brown (dark)/Liquid",
          "all drugs/Grey/Pebble",
          "all drugs/Grey (dark)/Pebble",
          "all drugs/Black/Liquid",
          "all drugs/Beige/Liquid",
          "all drugs/Other/Pebble",
          "all drugs/Yellow/Granules",
          "all drugs/White/Granules",
          "all drugs/Red (light)/Granules",
          "all drugs/Purple (light)/Pebble",
          "all drugs/Red (light)/Pebble",
          "all drugs/Pink/Pressed tablet",
          "all drugs/Yellow/Pebble",
          "all drugs/White/Liquid",
          "all drugs/Yellow (dark)/Pebble",
          "all drugs/Yellow/Liquid",
          "all drugs/Yellow (dark)/Paste",
          "all drugs/Black/Paste",
          "all drugs/Red/Other",
          "all drugs/Green (light)/Paste",
          "all drugs/Grey/Paste",
          "all drugs/Grey (dark)/Paste",
          "all drugs/Pink (light)/Other",
          "all drugs/Orange/Paste",
          "all drugs/Pink/Other",
          "all drugs/Orange/Other",
          "all drugs/Yellow (light)",
          "all drugs/Brown (light)/Other",
          "all drugs/Pink (light)/Paste",
          "all drugs/Brown/Other",
          "all drugs/Purple (dark)/Paste",
          "all drugs/Black/Other",
          "all drugs/Yellow/Organic",
          "all drugs/Brown (dark)/Organic",
          "all drugs/Yellow (light)/Liquid",
          "all drugs/Yellow/Paste",
          "all drugs/Yellow (dark)/Liquid",
          "all drugs/Beige/Powder",
          "all drugs/White/Pebble",
          "all drugs",
          "all drugs/Blue/Granules",
          "all drugs/Pink (light)/Powder",
          "all drugs/Black/Granules",
          "all drugs/Purple (dark)/Powder",
          "all drugs/Black/Powder",
          "all drugs/Purple (light)/Powder",
          "all drugs/Yellow (light)/Flake",
          "all drugs/White/Flake",
          "all drugs/Red (light)/Powder",
          "all drugs/Purple (light)/Flake",
          "all drugs/Yellow (dark)/Powder",
          "all drugs/Purple/Flake",
          "all drugs/Beige/Pressed tablet",
          "all drugs/Black/Pressed tablet",
          "all drugs/Brown (light)/Pressed tablet",
          "all drugs/Pink (light)/Flake",
          "all drugs/Pink/Flake",
          "all drugs/Pink/Powder",
          "all drugs/Brown/Pressed tablet",
          "all drugs/Blue (dark)/Granules",
          "all drugs/Orange (dark)/Powder",
          "all drugs/Blue/Powder",
          "all drugs/Orange (dark)/Granules",
          "all drugs/Green (light)/Granules",
          "all drugs/Colourless/Flake",
          "all drugs/Brown (light)/Powder",
          "all drugs/Colourless/Powder",
          "all drugs/Green/Powder",
          "all drugs/Orange (light)/Powder",
          "all drugs/Green (dark)/Powder",
          "all drugs/Grey (dark)/Pressed tablet",
          "all drugs/Green (dark)/Granules",
          "all drugs/Grey/Powder",
          "all drugs/Grey (dark)/Powder",
          "all drugs/Grey (dark)/Flake",
          "all drugs/Colourless/Granules",
          "all drugs/Green/Pressed tablet",
          "all drugs/Orange (dark)/Pressed tablet",
          "all drugs/Brown (dark)/Pressed tablet",
          "all drugs/Blue/Paste",
          "all drugs/Brown (light)/Tablet (pharmaceutical)",
          "all drugs/Pink/Pebble",
          "all drugs/Brown/Granules",
          "all drugs/Orange (light)/Flake",
          "all drugs/Blue (dark)/Liquid",
          "all drugs/Purple (light)",
          "all drugs/Purple/Tablet (pharmaceutical)",
          "all drugs/Orange/Pressed tablet",
          "all drugs/Red (light)/Other",
          "all drugs/Red (dark)/Pebble",
          "all drugs/Grey (light)/Granules",
          "all drugs/Blue/Pressed tablet",
          "all drugs/White/Capsule"
         ],
         "labels": [
          "Crystal",
          "Other",
          "Tablet (pharmaceutical)",
          "Granules",
          "Granules",
          "Liquid",
          "Powder",
          "Capsule",
          "Blotter paper (tab)",
          "Paste",
          "Flake",
          "Granules",
          "Granules",
          "Liquid",
          "Powder",
          "Blotter paper (tab)",
          "Pressed tablet",
          "Granules",
          "Powder",
          "Chunk",
          "Crystal",
          "Paste",
          "Blotter paper (tab)",
          "Granules",
          "Crystal",
          "Crystal",
          "Tablet (pharmaceutical)",
          "Powder",
          "Paste",
          "Liquid",
          "Paste",
          "Chunk",
          "Capsule",
          "Crystal",
          "Paste",
          "Tablet (pharmaceutical)",
          "Crystal",
          "Chunk",
          "Organic",
          "Powder",
          "Chunk",
          "Chunk",
          "Granules",
          "Granules",
          "Paste",
          "Blotter paper (tab)",
          "Capsule",
          "Powder",
          "Granules",
          "Pressed tablet",
          "Capsule",
          "Other",
          "Blotter paper (tab)",
          "Purple (dark)",
          "Chunk",
          "Granules",
          "Granules",
          "Crystal",
          "Flake",
          "Residue",
          "Crystal",
          "Powder",
          "Liquid",
          "Organic",
          "Pebble",
          "Powder",
          "Tablet (pharmaceutical)",
          "Residue",
          "Organic",
          "Flake",
          "Paste",
          "Liquid",
          "Crystal",
          "Liquid",
          "Pebble",
          "Pebble",
          "Other",
          "Tablet (pharmaceutical)",
          "Pink (light)",
          "Blotter paper (tab)",
          "Blotter paper (tab)",
          "Capsule",
          "Capsule",
          "Chunk",
          "Blotter paper (tab)",
          "Chunk",
          "Blotter paper (tab)",
          "Capsule",
          "Organic",
          "Capsule",
          "Blotter paper (tab)",
          "Chunk",
          "Tablet (pharmaceutical)",
          "Blotter paper (tab)",
          "Red (light)",
          "Paste",
          "Capsule",
          "Blotter paper (tab)",
          "Capsule",
          "Paste",
          "Capsule",
          "Flake",
          "Flake",
          "Pressed tablet",
          "Other",
          "Blotter paper (tab)",
          "Capsule",
          "Granules",
          "Pressed tablet",
          "Flake",
          "Blotter paper (tab)",
          "Powder",
          "Blotter paper (tab)",
          "Blotter paper (tab)",
          "Blotter paper (tab)",
          "Other",
          "Other",
          "Pebble",
          "Chunk",
          "Pebble",
          "Capsule",
          "Crystal",
          "Brown",
          "Liquid",
          "Capsule",
          "Capsule",
          "Liquid",
          "Pebble",
          "Tablet (pharmaceutical)",
          "Paste",
          "Organic",
          "Capsule",
          "Tablet (pharmaceutical)",
          "Capsule",
          "Chunk",
          "Green (dark)",
          "Organic",
          "Crystal",
          "Tablet (pharmaceutical)",
          "Chunk",
          "Chunk",
          "Crystal",
          "Powder",
          "Chunk",
          "Paste",
          "Paste",
          "Flake",
          "Liquid",
          "Pebble",
          "Red (dark)",
          "Liquid",
          "Tablet (pharmaceutical)",
          "Pebble",
          "Paste",
          "Paste",
          "Capsule",
          "Residue",
          "Powder",
          "Pebble",
          "Pebble",
          "Liquid",
          "Liquid",
          "Paste",
          "Pressed tablet",
          "Capsule",
          "Capsule",
          "Granules",
          "Blotter paper (tab)",
          "Crystal",
          "Chunk",
          "Pressed tablet",
          "Powder",
          "Chunk",
          "Blue",
          "Orange",
          "Liquid",
          "Tablet (pharmaceutical)",
          "Tablet (pharmaceutical)",
          "Residue",
          "Chunk",
          "Crystal",
          "Pebble",
          "Grey",
          "Pebble",
          "Paste",
          "Liquid",
          "Residue",
          "Paste",
          "Colourless",
          "Residue",
          "Pebble",
          "Tablet (pharmaceutical)",
          "Other",
          "Tablet (pharmaceutical)",
          "Granules",
          "Residue",
          "Chunk",
          "Blotter paper (tab)",
          "Grey (dark)",
          "Other",
          "Brown (dark)",
          "Blotter paper (tab)",
          "Paste",
          "Paste",
          "Paste",
          "Powder",
          "Flake",
          "Granules",
          "Flake",
          "Pebble",
          "Flake",
          "Flake",
          "Crystal",
          "Crystal",
          "Pebble",
          "Liquid",
          "Residue",
          "Flake",
          "Pebble",
          "Crystal",
          "Tablet (pharmaceutical)",
          "Granules",
          "Pebble",
          "Pressed tablet",
          "Red",
          "Pressed tablet",
          "Residue",
          "Chunk",
          "Liquid",
          "Liquid",
          "Organic",
          "Residue",
          "Pressed tablet",
          "Pressed tablet",
          "Pink (dark)",
          "Black",
          "White",
          "Residue",
          "Powder",
          "Powder",
          "Pebble",
          "Blotter paper (tab)",
          "Chunk",
          "Paste",
          "Blotter paper (tab)",
          "Crystal",
          "Blotter paper (tab)",
          "Chunk",
          "Chunk",
          "Granules",
          "Paste",
          "Residue",
          "Blotter paper (tab)",
          "Liquid",
          "Liquid",
          "Liquid",
          "Other",
          "Pressed tablet",
          "Granules",
          "Other",
          "Yellow (dark)",
          "Crystal",
          "Chunk",
          "Granules",
          "Chunk",
          "Pebble",
          "Crystal",
          "Residue",
          "Blue (light)",
          "Granules",
          "Flake",
          "Pressed tablet",
          "Residue",
          "Residue",
          "Organic",
          "Residue",
          "Residue",
          "Crystal",
          "Tablet (pharmaceutical)",
          "Pressed tablet",
          "Pressed tablet",
          "Crystal",
          "Crystal",
          "Residue",
          "Residue",
          "Pressed tablet",
          "Pressed tablet",
          "Residue",
          "Pressed tablet",
          "Residue",
          "Crystal",
          "Residue",
          "Residue",
          "Crystal",
          "Flake",
          "Crystal",
          "Pressed tablet",
          "Crystal",
          "Pressed tablet",
          "Pressed tablet",
          "Residue",
          "Crystal",
          "Crystal",
          "Crystal",
          "Residue",
          "Residue",
          "Chunk",
          "Tablet (pharmaceutical)",
          "Capsule",
          "Green",
          "Capsule",
          "Green (light)",
          "Capsule",
          "Capsule",
          "Grey (light)",
          "Capsule",
          "Brown (light)",
          "Orange (dark)",
          "Other",
          "Pink",
          "Capsule",
          "Purple",
          "Blotter paper (tab)",
          "Blotter paper (tab)",
          "Blotter paper (tab)",
          "Yellow",
          "Orange (light)",
          "Capsule",
          "Blue (dark)",
          "Chunk",
          "Crystal",
          "Tablet (pharmaceutical)",
          "Crystal",
          "Chunk",
          "Chunk",
          "Tablet (pharmaceutical)",
          "Flake",
          "Chunk",
          "Chunk",
          "Tablet (pharmaceutical)",
          "Chunk",
          "Tablet (pharmaceutical)",
          "Tablet (pharmaceutical)",
          "Tablet (pharmaceutical)",
          "Tablet (pharmaceutical)",
          "Tablet (pharmaceutical)",
          "Tablet (pharmaceutical)",
          "Beige",
          "Chunk",
          "Tablet (pharmaceutical)",
          "Flake",
          "Flake",
          "Flake",
          "Liquid",
          "Liquid",
          "Liquid",
          "Pebble",
          "Pebble",
          "Pebble",
          "Liquid",
          "Pebble",
          "Pebble",
          "Liquid",
          "Liquid",
          "Pebble",
          "Granules",
          "Granules",
          "Granules",
          "Pebble",
          "Pebble",
          "Pressed tablet",
          "Pebble",
          "Liquid",
          "Pebble",
          "Liquid",
          "Paste",
          "Paste",
          "Other",
          "Paste",
          "Paste",
          "Paste",
          "Other",
          "Paste",
          "Other",
          "Other",
          "Yellow (light)",
          "Other",
          "Paste",
          "Other",
          "Paste",
          "Other",
          "Organic",
          "Organic",
          "Liquid",
          "Paste",
          "Liquid",
          "Powder",
          "Pebble",
          "all drugs",
          "Granules",
          "Powder",
          "Granules",
          "Powder",
          "Powder",
          "Powder",
          "Flake",
          "Flake",
          "Powder",
          "Flake",
          "Powder",
          "Flake",
          "Pressed tablet",
          "Pressed tablet",
          "Pressed tablet",
          "Flake",
          "Flake",
          "Powder",
          "Pressed tablet",
          "Granules",
          "Powder",
          "Powder",
          "Granules",
          "Granules",
          "Flake",
          "Powder",
          "Powder",
          "Powder",
          "Powder",
          "Powder",
          "Pressed tablet",
          "Granules",
          "Powder",
          "Powder",
          "Flake",
          "Granules",
          "Pressed tablet",
          "Pressed tablet",
          "Pressed tablet",
          "Paste",
          "Tablet (pharmaceutical)",
          "Pebble",
          "Granules",
          "Flake",
          "Liquid",
          "Purple (light)",
          "Tablet (pharmaceutical)",
          "Pressed tablet",
          "Other",
          "Pebble",
          "Granules",
          "Pressed tablet",
          "Capsule"
         ],
         "marker": {
          "colors": [
           "white",
           "#A020F0",
           "#C4A484",
           "#90EE90",
           "#FFC0CB",
           "#F8F8FF",
           "#FFFFFF",
           "#000000",
           "white",
           "#301934",
           "#964B00",
           "#FFC0CB",
           "#00008B",
           "#0000FF",
           "#FFFFFF",
           "#A020F0",
           "#FFC0CB",
           "#FFFFFF",
           "#FFC0CB",
           "#A020F0",
           "#0000FF",
           "#000000",
           "#FFFFFF",
           "#F8F8FF",
           "#964B00",
           "#FFFFFF",
           "#C4A484",
           "#90EE90",
           "#C4A484",
           "#964B00",
           "#0000FF",
           "#964B00",
           "#964B00",
           "#F8F8FF",
           "#FFC0CB",
           "#A020F0",
           "#A020F0",
           "#FFFFFF",
           "white",
           "#F8F8FF",
           "#000000",
           "#964B00",
           "#FFFFE0",
           "#964B00",
           "#A020F0",
           "#A020F0",
           "#FFC0CB",
           "Green",
           "white",
           "#FFFFFF",
           "#A020F0",
           "#A020F0",
           "#000000",
           "#964B00",
           "#C4A484",
           "#964B00",
           "#C4A484",
           "#FFC0CB",
           "white",
           "#A020F0",
           "#90EE90",
           "#FFC0CB",
           "#FFFFFF",
           "#FFC0CB",
           "#FFFFFF",
           "#FFFFFF",
           "#FFFFE0",
           "#C4A484",
           "#F8F8FF",
           "#301934",
           "#C4A484",
           "#FFB6C1",
           "#FFC0CB",
           "#90EE90",
           "Green",
           "white",
           "#A020F0",
           "#F8F8FF",
           "#FFB6C1",
           "#FFFFFF",
           "#90EE90",
           "#0000FF",
           "#FFC0CB",
           "#A020F0",
           "#0000FF",
           "#F8F8FF",
           "#964B00",
           "#000000",
           "Red",
           "#F8F8FF",
           "Green",
           "white",
           "#FFFFFF",
           "#301934",
           "#0000FF",
           "#0000FF",
           "Green",
           "#A020F0",
           "#301934",
           "#964B00",
           "white",
           "#FFFFFF",
           "#FFFFE0",
           "#A020F0",
           "#C4A484",
           "#964B00",
           "#FFFFFF",
           "#964B00",
           "#FFB6C1",
           "#00008B",
           "#FFB6C1",
           "#A020F0",
           "Red",
           "#C4A484",
           "#FFC0CB",
           "#00008B",
           "#FFFFFF",
           "#FFC0CB",
           "#FFB6C1",
           "#C4A484",
           "#00008B",
           "#FFC0CB",
           "#FFC0CB",
           "#FFC0CB",
           "#964B00",
           "#FFC0CB",
           "#0000FF",
           "Red",
           "#FFC0CB",
           "#90EE90",
           "#301934",
           "#A020F0",
           "#FFB6C1",
           "#964B00",
           "#C4A484",
           "#301934",
           "#A020F0",
           "#A020F0",
           "#964B00",
           "#90EE90",
           "#A020F0",
           "#F8F8FF",
           "#000000",
           "#0000FF",
           "#FFC0CB",
           "#964B00",
           "#F8F8FF",
           "#C4A484",
           "#A020F0",
           "#90EE90",
           "#964B00",
           "Red",
           "#964B00",
           "Green",
           "#A020F0",
           "#FFFFFF",
           "Green",
           "Red",
           "Red",
           "#F8F8FF",
           "#A020F0",
           "#A020F0",
           "#FFFFFF",
           "Green",
           "Red",
           "#FFFFFF",
           "#000000",
           "#FFFFFF",
           "#FFFFFF",
           "Red",
           "#FFFFE0",
           "#C4A484",
           "#FFFFFF",
           "#A020F0",
           "Red",
           "#C4A484",
           "Green",
           "#301934",
           "Red",
           "#00008B",
           "#00008B",
           "#000000",
           "#FFFFE0",
           "#FFB6C1",
           "#F8F8FF",
           "#964B00",
           "#FFB6C1",
           "Green",
           "Green",
           "#FFC0CB",
           "#FFFFFF",
           "#0000FF",
           "#FFFFFF",
           "#0000FF",
           "#000000",
           "#A020F0",
           "#000000",
           "#FFFFE0",
           "#FFFFFF",
           "Green",
           "#FFC0CB",
           "#F8F8FF",
           "#000000",
           "white",
           "#FFFFFF",
           "#C4A484",
           "#C4A484",
           "#A020F0",
           "#000000",
           "#301934",
           "#FFFFFF",
           "#0000FF",
           "Green",
           "#0000FF",
           "#000000",
           "white",
           "Green",
           "Green",
           "Green",
           "#FFFFFF",
           "Red",
           "#FFB6C1",
           "#964B00",
           "#F8F8FF",
           "#964B00",
           "#964B00",
           "white",
           "#FFC0CB",
           "#F8F8FF",
           "#000000",
           "Red",
           "#FFFFFF",
           "#C4A484",
           "#C4A484",
           "#FFC0CB",
           "Red",
           "#C4A484",
           "#00008B",
           "#964B00",
           "#FFC0CB",
           "#F8F8FF",
           "Red",
           "Green",
           "#F8F8FF",
           "#C4A484",
           "Red",
           "#FFFFFF",
           "#C4A484",
           "Green",
           "#FFFFFF",
           "#FFC0CB",
           "Red",
           "Green",
           "#301934",
           "Green",
           "#FFC0CB",
           "#FFC0CB",
           "#0000FF",
           "#A020F0",
           "#C4A484",
           "#00008B",
           "#C4A484",
           "#FFFFE0",
           "#0000FF",
           "#301934",
           "#964B00",
           "#C4A484",
           "#C4A484",
           "#F8F8FF",
           "Red",
           "#964B00",
           "#301934",
           "#FFC0CB",
           "#FFFFFF",
           "#000000",
           "#0000FF",
           "#F8F8FF",
           "#301934",
           "#000000",
           "#000000",
           "#964B00",
           "#FFFFE0",
           "#C4A484",
           "#C4A484",
           "#964B00",
           "#C4A484",
           "#964B00",
           "#964B00",
           "#90EE90",
           "#000000",
           "#A020F0",
           "#FFC0CB",
           "#A020F0",
           "#964B00",
           "Red",
           "#FFB6C1",
           "#FFFFFF",
           "#000000",
           "#00008B",
           "#FFFFFF",
           "#000000",
           "Green",
           "#964B00",
           "#FFFFFF",
           "#FFFFE0",
           "#301934",
           "#0000FF",
           "#F8F8FF",
           "#FFB6C1",
           "#A020F0",
           "#FFFFE0",
           "#C4A484",
           "#C4A484",
           "#A020F0",
           "Green",
           "Green",
           "white",
           "#F8F8FF",
           "#A020F0",
           "#0000FF",
           "Red",
           "#000000",
           "#00008B",
           "#964B00",
           "#FFC0CB",
           "#FFFFFF",
           "#964B00",
           "#0000FF",
           "#FFFFFF",
           "Red",
           "Red",
           "#A020F0",
           "#000000",
           "#FFFFFF",
           "#FFFFFF",
           "#FFFFFF",
           "#A020F0",
           "#964B00",
           "#FFC0CB",
           "#964B00",
           "#F8F8FF",
           "#FFC0CB",
           "#964B00",
           "#C4A484",
           "#90EE90",
           "#00008B",
           "#FFFFFF",
           "#000000",
           "#FFC0CB",
           "#FFFFFF",
           "#FFC0CB",
           "#A020F0",
           "#FFC0CB",
           "Red",
           "Green",
           "#FFFFE0",
           "#FFC0CB",
           "#FFC0CB",
           "#A020F0",
           "#FFC0CB",
           "#FFFFE0",
           "#FFFFFF",
           "Red",
           "#000000",
           "#A020F0",
           "#FFFFFF",
           "#C4A484",
           "#0000FF",
           "#C4A484",
           "#0000FF",
           "#0000FF",
           "#FFFFFF",
           "#C4A484",
           "#00008B",
           "#FFFFFF",
           "#00008B",
           "Red",
           "#964B00",
           "#C4A484",
           "#FFFFE0",
           "#FFFFFF",
           "#FFB6C1",
           "Red",
           "#0000FF",
           "Red",
           "#FFFFFF",
           "white",
           "#FFB6C1",
           "#FFC0CB",
           "#964B00",
           "Red",
           "#FFFFFF",
           "#FFC0CB",
           "#FFFFFF",
           "#FFFFFF",
           "#00008B",
           "#000000",
           "#C4A484",
           "#FFFFFF",
           "#A020F0",
           "#FFB6C1",
           "Red",
           "#964B00",
           "Red",
           "#C4A484",
           "#FFFFFF",
           "#C4A484",
           "#0000FF",
           "#C4A484",
           "#00008B",
           "#000000",
           "#000000",
           "Red",
           "white",
           "#FFB6C1",
           "#0000FF",
           "#0000FF",
           "#FFC0CB",
           "#FFFFFF",
           "#F8F8FF",
           "#A020F0",
           "#F8F8FF",
           "#C4A484",
           "Green",
           "white",
           "Green",
           "#A020F0",
           "#964B00",
           "#301934",
           "#FFFFFF",
           "#301934",
           "#FFFFE0",
           "#FFFFFF",
           "#FFFFFF",
           "Green",
           "#A020F0",
           "#F8F8FF",
           "#FFC0CB",
           "#A020F0",
           "white",
           "#0000FF",
           "#FFC0CB",
           "#964B00",
           "#FFFFFF",
           "#C4A484",
           "#000000",
           "Red",
           "#0000FF",
           "#90EE90",
           "Green",
           "#A020F0",
           "#C4A484"
          ]
         },
         "name": "",
         "parents": [
          "all drugs/Brown (light)",
          "all drugs/Blue",
          "all drugs/White",
          "all drugs/Red (dark)",
          "all drugs/Brown (dark)",
          "all drugs/Blue (light)",
          "all drugs/Blue (dark)",
          "all drugs/Beige",
          "all drugs/Brown (light)",
          "all drugs/Green (dark)",
          "all drugs/Red",
          "all drugs/Pink (dark)",
          "all drugs/Yellow (dark)",
          "all drugs/Red (light)",
          "all drugs/Yellow",
          "all drugs/Other",
          "all drugs/Pink (dark)",
          "all drugs/Grey (dark)",
          "all drugs/Pink (dark)",
          "all drugs/Green",
          "all drugs/Red (light)",
          "all drugs/Purple",
          "all drugs/Grey (dark)",
          "all drugs/Blue (light)",
          "all drugs/Orange (light)",
          "all drugs/Yellow",
          "all drugs/Green (light)",
          "all drugs/Red (dark)",
          "all drugs/Purple (light)",
          "all drugs/Purple (dark)",
          "all drugs/Red (light)",
          "all drugs/Orange (light)",
          "all drugs/Red",
          "all drugs/Orange (dark)",
          "all drugs/Pink (dark)",
          "all drugs/Blue",
          "all drugs/Blue",
          "all drugs/Grey (dark)",
          "all drugs/Brown (light)",
          "all drugs/Blue (light)",
          "all drugs/Purple",
          "all drugs/Purple (dark)",
          "all drugs/Grey",
          "all drugs/Orange (light)",
          "all drugs/Green",
          "all drugs/Green",
          "all drugs/Brown (dark)",
          "all drugs/Grey (light)",
          "all drugs/Brown (light)",
          "all drugs/Blue (dark)",
          "all drugs/Blue",
          "all drugs/Other",
          "all drugs/Purple",
          "all drugs",
          "all drugs/White",
          "all drugs/Purple (dark)",
          "all drugs/Purple (light)",
          "all drugs/Pink (dark)",
          "all drugs/Brown (light)",
          "all drugs/Blue",
          "all drugs/Red (dark)",
          "all drugs/Brown (dark)",
          "all drugs/Grey (dark)",
          "all drugs/Brown",
          "all drugs/Yellow (light)",
          "all drugs/Yellow (light)",
          "all drugs/Grey",
          "all drugs/Purple (light)",
          "all drugs/Blue (light)",
          "all drugs/Green (dark)",
          "all drugs/White",
          "all drugs/Pink (light)",
          "all drugs/Brown",
          "all drugs/Red (dark)",
          "all drugs/Grey (light)",
          "all drugs/Brown (light)",
          "all drugs/Green",
          "all drugs/Orange (dark)",
          "all drugs",
          "all drugs/Yellow",
          "all drugs/Red (dark)",
          "all drugs/Pink",
          "all drugs/Brown",
          "all drugs/Blue",
          "all drugs/Pink",
          "all drugs/Blue (light)",
          "all drugs/Orange (light)",
          "all drugs/Purple",
          "all drugs/Orange",
          "all drugs/Blue (light)",
          "all drugs/Grey (light)",
          "all drugs/Brown (light)",
          "all drugs/Yellow",
          "all drugs/Green (dark)",
          "all drugs",
          "all drugs/Pink",
          "all drugs/Grey (light)",
          "all drugs/Blue",
          "all drugs/Green (dark)",
          "all drugs/Orange (light)",
          "all drugs/Brown (light)",
          "all drugs/Blue (dark)",
          "all drugs/Grey",
          "all drugs/Other",
          "all drugs/Green (light)",
          "all drugs/Red",
          "all drugs/Blue (dark)",
          "all drugs/Red",
          "all drugs/Pink (light)",
          "all drugs/Yellow (dark)",
          "all drugs/Pink (light)",
          "all drugs/Other",
          "all drugs/Orange",
          "all drugs/Green (light)",
          "all drugs/Brown",
          "all drugs/Yellow (dark)",
          "all drugs/Yellow (light)",
          "all drugs/Pink (dark)",
          "all drugs/Pink (light)",
          "all drugs/Green (light)",
          "all drugs/Yellow (dark)",
          "all drugs/Brown (dark)",
          "all drugs",
          "all drugs/Pink (dark)",
          "all drugs/Purple (dark)",
          "all drugs/Pink (dark)",
          "all drugs/Pink",
          "all drugs/Black",
          "all drugs/Brown",
          "all drugs/Red (dark)",
          "all drugs/Green (dark)",
          "all drugs/Other",
          "all drugs/Pink (light)",
          "all drugs/Orange (light)",
          "all drugs/Purple (light)",
          "all drugs",
          "all drugs/Green",
          "all drugs/Green",
          "all drugs/Red",
          "all drugs/Red (dark)",
          "all drugs/Other",
          "all drugs/Blue (light)",
          "all drugs/Purple",
          "all drugs/Pink",
          "all drugs/Brown (dark)",
          "all drugs/Red",
          "all drugs/Blue (light)",
          "all drugs/Green (light)",
          "all drugs/Blue",
          "all drugs",
          "all drugs/Orange (light)",
          "all drugs/Orange",
          "all drugs/Orange (light)",
          "all drugs/Grey (light)",
          "all drugs/Other",
          "all drugs/Yellow (light)",
          "all drugs/Grey (light)",
          "all drugs/Orange",
          "all drugs/Orange",
          "all drugs/Blue (light)",
          "all drugs/Green",
          "all drugs/Blue",
          "all drugs/Blue (dark)",
          "all drugs/Grey (light)",
          "all drugs/Orange",
          "all drugs/Yellow",
          "all drugs/Beige",
          "all drugs/Blue (dark)",
          "all drugs/Grey (dark)",
          "all drugs/Orange",
          "all drugs/Grey",
          "all drugs/White",
          "all drugs/Blue (dark)",
          "all drugs",
          "all drugs",
          "all drugs/Purple (light)",
          "all drugs/Grey (light)",
          "all drugs/Green (dark)",
          "all drugs/Orange",
          "all drugs/Yellow (dark)",
          "all drugs/Yellow (dark)",
          "all drugs/Beige",
          "all drugs",
          "all drugs/Pink (light)",
          "all drugs/Orange (dark)",
          "all drugs/Red",
          "all drugs/Pink (light)",
          "all drugs/Colourless",
          "all drugs",
          "all drugs/Brown (dark)",
          "all drugs/Blue (dark)",
          "all drugs/Red (light)",
          "all drugs/Yellow",
          "all drugs/Pink",
          "all drugs/Purple",
          "all drugs/Other",
          "all drugs/Beige",
          "all drugs/Grey",
          "all drugs",
          "all drugs/Colourless",
          "all drugs",
          "all drugs/Blue (light)",
          "all drugs/Beige",
          "all drugs/Brown (light)",
          "all drugs/Yellow (light)",
          "all drugs/Green (light)",
          "all drugs/Green (light)",
          "all drugs/Green",
          "all drugs/Beige",
          "all drugs/Green (dark)",
          "all drugs/Yellow",
          "all drugs/Red (light)",
          "all drugs/Grey (light)",
          "all drugs/Pink",
          "all drugs/Purple",
          "all drugs/Brown (light)",
          "all drugs/Colourless",
          "all drugs/Grey (light)",
          "all drugs/Colourless",
          "all drugs/Blue (dark)",
          "all drugs/Black",
          "all drugs/Pink (light)",
          "all drugs/Purple (dark)",
          "all drugs/Blue (light)",
          "all drugs",
          "all drugs/Orange (light)",
          "all drugs/Brown (light)",
          "all drugs/Brown (dark)",
          "all drugs/Orange (dark)",
          "all drugs/Purple",
          "all drugs/Black",
          "all drugs/Yellow (light)",
          "all drugs/White",
          "all drugs/Green (light)",
          "all drugs",
          "all drugs",
          "all drugs",
          "all drugs/Yellow (dark)",
          "all drugs/Red",
          "all drugs/Brown",
          "all drugs/Orange (dark)",
          "all drugs/Black",
          "all drugs/Colourless",
          "all drugs/Blue (light)",
          "all drugs/White",
          "all drugs/Orange",
          "all drugs/Yellow (light)",
          "all drugs/Green (light)",
          "all drugs/Grey (light)",
          "all drugs/Yellow (light)",
          "all drugs/Brown",
          "all drugs/Black",
          "all drugs/Colourless",
          "all drugs/Green (dark)",
          "all drugs/Colourless",
          "all drugs/Brown",
          "all drugs/Brown (dark)",
          "all drugs/Red (light)",
          "all drugs/Other",
          "all drugs/White",
          "all drugs",
          "all drugs/White",
          "all drugs/Grey",
          "all drugs/Pink",
          "all drugs/Green (dark)",
          "all drugs/Red",
          "all drugs/Green (light)",
          "all drugs/Green (light)",
          "all drugs",
          "all drugs/Orange",
          "all drugs/Purple (dark)",
          "all drugs/Green (dark)",
          "all drugs/Brown",
          "all drugs/Yellow",
          "all drugs/Purple",
          "all drugs/Pink",
          "all drugs/Blue (light)",
          "all drugs/Green (dark)",
          "all drugs/Beige",
          "all drugs/Purple",
          "all drugs/Purple (dark)",
          "all drugs/Grey",
          "all drugs/Purple (light)",
          "all drugs/White",
          "all drugs/Red",
          "all drugs/Purple (light)",
          "all drugs/Red",
          "all drugs/Purple (dark)",
          "all drugs/Red (dark)",
          "all drugs/Purple",
          "all drugs/Other",
          "all drugs/Pink (dark)",
          "all drugs/Green",
          "all drugs/Red",
          "all drugs/Black",
          "all drugs/Pink (light)",
          "all drugs/Yellow",
          "all drugs/Purple",
          "all drugs/Yellow (dark)",
          "all drugs/Yellow (light)",
          "all drugs/Beige",
          "all drugs/Colourless",
          "all drugs/Purple (dark)",
          "all drugs/Yellow (light)",
          "all drugs/Grey",
          "all drugs/Green (dark)",
          "all drugs/Red (light)",
          "all drugs/Blue (light)",
          "all drugs/Pink (light)",
          "all drugs",
          "all drugs/Grey",
          "all drugs",
          "all drugs/Green (light)",
          "all drugs/Green",
          "all drugs",
          "all drugs/Colourless",
          "all drugs",
          "all drugs",
          "all drugs",
          "all drugs",
          "all drugs/Black",
          "all drugs",
          "all drugs/Yellow (dark)",
          "all drugs/Purple (dark)",
          "all drugs/Brown (dark)",
          "all drugs",
          "all drugs",
          "all drugs/Red (light)",
          "all drugs",
          "all drugs/Black",
          "all drugs/Black",
          "all drugs/Green",
          "all drugs/Beige",
          "all drugs/Yellow (light)",
          "all drugs/Yellow",
          "all drugs/Grey (dark)",
          "all drugs/Blue",
          "all drugs/Red",
          "all drugs/Pink (dark)",
          "all drugs/Orange (light)",
          "all drugs/Orange (dark)",
          "all drugs/Pink (dark)",
          "all drugs/Purple (dark)",
          "all drugs/Purple (light)",
          "all drugs/Red (dark)",
          "all drugs/Yellow (dark)",
          "all drugs/Yellow (light)",
          "all drugs",
          "all drugs/Brown",
          "all drugs/Blue (dark)",
          "all drugs/Brown",
          "all drugs/Green",
          "all drugs/Brown (dark)",
          "all drugs/Orange",
          "all drugs/Grey (light)",
          "all drugs/Grey",
          "all drugs/Brown",
          "all drugs/Brown (dark)",
          "all drugs/Green",
          "all drugs/Brown (dark)",
          "all drugs/Grey",
          "all drugs/Grey (dark)",
          "all drugs/Black",
          "all drugs/Beige",
          "all drugs/Other",
          "all drugs/Yellow",
          "all drugs/White",
          "all drugs/Red (light)",
          "all drugs/Purple (light)",
          "all drugs/Red (light)",
          "all drugs/Pink",
          "all drugs/Yellow",
          "all drugs/White",
          "all drugs/Yellow (dark)",
          "all drugs/Yellow",
          "all drugs/Yellow (dark)",
          "all drugs/Black",
          "all drugs/Red",
          "all drugs/Green (light)",
          "all drugs/Grey",
          "all drugs/Grey (dark)",
          "all drugs/Pink (light)",
          "all drugs/Orange",
          "all drugs/Pink",
          "all drugs/Orange",
          "all drugs",
          "all drugs/Brown (light)",
          "all drugs/Pink (light)",
          "all drugs/Brown",
          "all drugs/Purple (dark)",
          "all drugs/Black",
          "all drugs/Yellow",
          "all drugs/Brown (dark)",
          "all drugs/Yellow (light)",
          "all drugs/Yellow",
          "all drugs/Yellow (dark)",
          "all drugs/Beige",
          "all drugs/White",
          "",
          "all drugs/Blue",
          "all drugs/Pink (light)",
          "all drugs/Black",
          "all drugs/Purple (dark)",
          "all drugs/Black",
          "all drugs/Purple (light)",
          "all drugs/Yellow (light)",
          "all drugs/White",
          "all drugs/Red (light)",
          "all drugs/Purple (light)",
          "all drugs/Yellow (dark)",
          "all drugs/Purple",
          "all drugs/Beige",
          "all drugs/Black",
          "all drugs/Brown (light)",
          "all drugs/Pink (light)",
          "all drugs/Pink",
          "all drugs/Pink",
          "all drugs/Brown",
          "all drugs/Blue (dark)",
          "all drugs/Orange (dark)",
          "all drugs/Blue",
          "all drugs/Orange (dark)",
          "all drugs/Green (light)",
          "all drugs/Colourless",
          "all drugs/Brown (light)",
          "all drugs/Colourless",
          "all drugs/Green",
          "all drugs/Orange (light)",
          "all drugs/Green (dark)",
          "all drugs/Grey (dark)",
          "all drugs/Green (dark)",
          "all drugs/Grey",
          "all drugs/Grey (dark)",
          "all drugs/Grey (dark)",
          "all drugs/Colourless",
          "all drugs/Green",
          "all drugs/Orange (dark)",
          "all drugs/Brown (dark)",
          "all drugs/Blue",
          "all drugs/Brown (light)",
          "all drugs/Pink",
          "all drugs/Brown",
          "all drugs/Orange (light)",
          "all drugs/Blue (dark)",
          "all drugs",
          "all drugs/Purple",
          "all drugs/Orange",
          "all drugs/Red (light)",
          "all drugs/Red (dark)",
          "all drugs/Grey (light)",
          "all drugs/Blue",
          "all drugs/White"
         ],
         "type": "sunburst",
         "values": [
          820,
          4,
          1588,
          20,
          90,
          10,
          24,
          11,
          25,
          16,
          3,
          50,
          61,
          1,
          458,
          30,
          11,
          33,
          38,
          487,
          4,
          32,
          1,
          152,
          50,
          151,
          88,
          10,
          8,
          3,
          2,
          109,
          6,
          5,
          7,
          146,
          40,
          47,
          3,
          105,
          778,
          294,
          116,
          67,
          18,
          44,
          3,
          169,
          662,
          17,
          17,
          3,
          30,
          848,
          2634,
          113,
          161,
          16,
          25,
          9,
          4,
          55,
          2,
          13,
          154,
          612,
          4,
          5,
          2,
          1,
          56,
          5,
          484,
          1,
          63,
          575,
          2,
          2,
          1019,
          43,
          2,
          4,
          7,
          254,
          5,
          226,
          1,
          1,
          2,
          2,
          1,
          824,
          124,
          5,
          156,
          15,
          1,
          57,
          2,
          7,
          5,
          2,
          1,
          1,
          1,
          53,
          2,
          87,
          21,
          2,
          2,
          6,
          36,
          8,
          13,
          1,
          1,
          60,
          162,
          267,
          2,
          60,
          3324,
          5,
          1,
          1,
          24,
          78,
          2,
          5,
          3,
          6,
          14,
          2,
          322,
          562,
          17,
          39,
          22,
          50,
          18,
          61,
          281,
          306,
          56,
          8,
          6,
          6,
          323,
          148,
          6,
          89,
          80,
          1,
          1,
          5,
          4,
          151,
          161,
          176,
          12,
          2,
          8,
          8,
          12,
          4,
          156,
          11,
          37,
          238,
          19,
          9150,
          101,
          1322,
          1064,
          4,
          4,
          11,
          5,
          61,
          11,
          138,
          1129,
          167,
          1,
          24,
          7,
          5,
          4936,
          28,
          77,
          3,
          2,
          11,
          505,
          2,
          394,
          4,
          196,
          3,
          715,
          5,
          7,
          31,
          21,
          109,
          7,
          272,
          12,
          221,
          17,
          1,
          235,
          152,
          1030,
          11,
          17,
          4,
          2,
          4,
          1,
          133,
          293,
          103,
          521,
          51,
          26,
          291,
          2,
          18,
          1,
          3,
          936,
          82,
          277,
          511,
          21643,
          1,
          23,
          558,
          11,
          39,
          25,
          6,
          98,
          34,
          4,
          381,
          93,
          238,
          109,
          66,
          2,
          1,
          633,
          33,
          2,
          8,
          36,
          5,
          279,
          3715,
          153,
          331,
          156,
          76,
          48,
          3,
          956,
          157,
          3,
          16,
          91,
          9,
          1,
          19,
          3,
          26,
          3,
          23,
          7,
          360,
          311,
          63,
          12,
          18,
          53,
          2,
          8,
          22,
          3,
          4,
          11,
          8,
          5,
          204,
          110,
          518,
          5,
          49,
          24,
          4204,
          77,
          413,
          6,
          1,
          67,
          99,
          1,
          1995,
          5,
          1156,
          3,
          3,
          653,
          3,
          4441,
          79,
          115,
          1728,
          2,
          3258,
          1,
          7,
          3,
          1865,
          603,
          2,
          288,
          125,
          40,
          111,
          43,
          231,
          343,
          1,
          2,
          145,
          79,
          24,
          23,
          6,
          1,
          2,
          2,
          12,
          37,
          1011,
          777,
          2,
          31,
          4,
          10,
          13,
          1,
          1,
          579,
          99,
          756,
          12,
          229,
          55,
          8,
          4,
          9,
          291,
          2084,
          25,
          309,
          31,
          79,
          226,
          5,
          35,
          40,
          13,
          39,
          1,
          5,
          5,
          1,
          1,
          46,
          2,
          2,
          1845,
          1,
          3,
          5,
          15,
          4,
          1,
          5,
          58,
          46,
          10,
          216,
          948,
          60000,
          181,
          292,
          77,
          32,
          24,
          208,
          19,
          326,
          11,
          9,
          64,
          13,
          3,
          2,
          29,
          7,
          6,
          319,
          8,
          39,
          10,
          103,
          21,
          148,
          9,
          1394,
          5,
          122,
          204,
          18,
          3,
          85,
          226,
          15,
          1,
          28,
          97,
          4,
          1,
          13,
          10,
          455,
          614,
          2,
          1,
          1357,
          6,
          118,
          1,
          46,
          69,
          171,
          35
         ]
        }
       ],
       "layout": {
        "legend": {
         "tracegroupgap": 0
        },
        "margin": {
         "t": 60
        },
        "sunburstcolorway": [
         "white",
         "#A020F0",
         "#C4A484",
         "#90EE90",
         "#FFC0CB",
         "#F8F8FF",
         "#FFFFFF",
         "#000000",
         "#301934",
         "#964B00",
         "#FFC0CB",
         "#00008B",
         "#0000FF",
         "#FFFFFF",
         "#A020F0",
         "#FFFFFF",
         "#A020F0",
         "#000000",
         "#964B00",
         "#C4A484",
         "#C4A484",
         "#964B00",
         "#F8F8FF",
         "#FFFFE0",
         "Green",
         "#FFC0CB",
         "#FFFFFF",
         "#FFB6C1",
         "#0000FF",
         "Red",
         "Red",
         "Green",
         "#FFFFFF",
         "Green",
         "#654321",
         "#D3D3D3",
         "#FF1493",
         "Beige",
         "Red",
         "#90EE90",
         "#964B00",
         "#ADD8E6",
         "#FFFFFF",
         "#FFFFFF",
         "#00008B",
         "#E6E6FA",
         "#ADD8E6",
         "#D3D3D3",
         "Green",
         "#FFFFE0",
         "Red",
         "#000000",
         "#FFFFE0",
         "Beige",
         "#964B00",
         "#964B00",
         "#0000FF",
         "#FFFFE0",
         "#E6E6FA",
         "#000000",
         "#FFB6C1",
         "#FFA07A",
         "#654321",
         "#FFFFE0",
         "#E6E6FA",
         "#90EE90",
         "Green",
         "Grey",
         "Orange",
         "#0000FF",
         "#C4A484",
         "#C4A484",
         "#FFA07A",
         "Beige",
         "#F8F8FF",
         "#E6E6FA",
         "#FFA07A",
         "#FFC0CB",
         "Yellow",
         "#A020F0",
         "Orange",
         "Green",
         "#00008B",
         "Green",
         "#FF8C00",
         "#FFC0CB",
         "Green",
         "Yellow",
         "#D3D3D3",
         "#FFC0CB",
         "#FFB6C1",
         "Red",
         "#006400",
         "#0000FF",
         "#ADD8E6",
         "#FFFFE0",
         "#301934",
         "Orange",
         "#006400",
         "Grey",
         "#F8F8FF",
         "#FFA07A",
         "Orange",
         "#FFA07A",
         "Yellow",
         "Beige",
         "Orange",
         "#D3D3D3",
         "#FFFFE0",
         "#90EE90",
         "#301934",
         "#E6E6FA",
         "Orange",
         "#F8F8FF",
         "#A9A9A9",
         "Yellow",
         "#FFA07A",
         "#FFA07A",
         "#FFB6C1",
         "#0000FF",
         "#A020F0",
         "#FFA07A",
         "#654321",
         "#654321",
         "#ADD8E6",
         "#8B0000",
         "#FFFFFF",
         "Green",
         "Grey",
         "Yellow",
         "#A9A9A9",
         "Red",
         "#FF1493",
         "#654321",
         "#FFA07A",
         "#FFFFE0",
         "#A9A9A9",
         "#FFD700",
         "Yellow",
         "#E6E6FA",
         "#000000",
         "#FF1493",
         "#FFA07A",
         "#000000",
         "Beige",
         "#FFD700",
         "#006400",
         "#FFD700",
         "#FFA07A",
         "#F8F8FF",
         "#FFA07A",
         "#FF1493",
         "#FFFFFF",
         "#F8F8FF",
         "#FF1493",
         "#90EE90",
         "#D3D3D3",
         "#006400",
         "#FFD700",
         "Beige",
         "Yellow",
         "Yellow",
         "#0000FF",
         "#654321",
         "#ADD8E6",
         "Red",
         "#964B00",
         "#000000",
         "#8B0000",
         "#D3D3D3",
         "#964B00",
         "#964B00",
         "#654321",
         "#00008B",
         "#006400",
         "#90EE90",
         "#FFA07A",
         "#654321",
         "#ADD8E6",
         "#FF8C00",
         "#A020F0",
         "#D3D3D3",
         "Green",
         "Red",
         "#A020F0",
         "#000000",
         "#FFD700",
         "#FFB6C1",
         "Grey",
         "#FFD700",
         "#C4A484",
         "#0000FF",
         "Yellow",
         "#964B00",
         "#E6E6FA",
         "Red",
         "#FFC0CB",
         "#90EE90",
         "Beige",
         "#F8F8FF",
         "#FFD700",
         "#FFFFE0",
         "#C4A484",
         "#FFFFFF",
         "#301934",
         "#90EE90",
         "Orange",
         "#964B00",
         "#00008B",
         "#FFFFFF",
         "#964B00",
         "#006400",
         "Orange",
         "#FFA07A",
         "#ADD8E6",
         "#FFFFE0",
         "#301934",
         "#0000FF",
         "#00008B",
         "#A9A9A9",
         "Grey",
         "#FF8C00",
         "Green",
         "#ADD8E6",
         "#006400",
         "#90EE90",
         "#F8F8FF",
         "Yellow",
         "#FFD700",
         "#C4A484",
         "#FFFFE0",
         "#90EE90",
         "Grey",
         "#8B0000",
         "#A9A9A9",
         "#C4A484",
         "#FF8C00",
         "#FFFFE0",
         "#FFD700",
         "#00008B",
         "Green",
         "#301934",
         "#90EE90",
         "#0000FF",
         "#A9A9A9",
         "#301934",
         "Grey",
         "#301934",
         "#D3D3D3",
         "Yellow",
         "#FFFFFF",
         "Yellow",
         "#FFC0CB",
         "#FF8C00",
         "#FFB6C1",
         "Green",
         "#000000",
         "Red",
         "#FFB6C1",
         "Red",
         "#964B00",
         "#FF8C00",
         "#ADD8E6",
         "#F8F8FF",
         "#FFA07A",
         "Orange",
         "#D3D3D3",
         "#964B00",
         "Grey",
         "#F8F8FF",
         "#8B0000",
         "#FF8C00",
         "#00008B",
         "#F8F8FF",
         "#FFC0CB",
         "Grey",
         "#000000",
         "Orange",
         "#FFB6C1",
         "#90EE90",
         "Grey",
         "#A020F0",
         "Beige",
         "#654321",
         "Red",
         "Orange",
         "Beige",
         "#006400",
         "#A020F0",
         "Beige",
         "#301934",
         "#C4A484",
         "#8B0000",
         "#A020F0",
         "#F8F8FF",
         "#A9A9A9",
         "Yellow",
         "#F8F8FF",
         "#C4A484",
         "#654321",
         "#A020F0",
         "#0000FF",
         "#A020F0",
         "#00008B",
         "#006400",
         "#D3D3D3",
         "#FFC0CB",
         "Beige",
         "#301934",
         "Grey",
         "#FFA07A",
         "#D3D3D3",
         "#FF8C00",
         "#00008B",
         "#E6E6FA",
         "#FFA07A",
         "#000000",
         "#FFA07A",
         "Green",
         "#006400",
         "#FF1493",
         "#FFFFFF",
         "#654321",
         "#FFFFFF",
         "#0000FF",
         "#FFC0CB",
         "#FF1493",
         "#F8F8FF",
         "#FF1493",
         "#E6E6FA",
         "#F8F8FF",
         "#D3D3D3",
         "#A9A9A9",
         "#FFB6C1",
         "Yellow",
         "#301934",
         "#8B0000",
         "#A9A9A9",
         "#FF1493",
         "#F8F8FF",
         "#ADD8E6",
         "#F8F8FF",
         "#654321",
         "#FFC0CB",
         "#654321",
         "#006400",
         "#8B0000",
         "Orange",
         "#00008B",
         "Orange",
         "#FF1493",
         "#654321",
         "Grey",
         "#006400",
         "#006400",
         "#FFB6C1",
         "#90EE90",
         "#0000FF",
         "#301934",
         "#C4A484",
         "#ADD8E6",
         "Orange",
         "Yellow",
         "#FFA07A",
         "Red",
         "#F8F8FF",
         "#FFC0CB",
         "#FFD700",
         "Red",
         "#0000FF",
         "Beige",
         "#F8F8FF",
         "#ADD8E6",
         "#FF8C00",
         "#FFC0CB",
         "#C4A484",
         "#FFA07A",
         "#FFB6C1",
         "#F8F8FF",
         "#F8F8FF",
         "#ADD8E6",
         "#E6E6FA",
         "#FFFFE0",
         "#FFD700",
         "#8B0000",
         "#C4A484",
         "#FFA07A",
         "#FFB6C1",
         "#ADD8E6",
         "#964B00",
         "#FFB6C1",
         "#C4A484",
         "#8B0000",
         "#D3D3D3",
         "#A020F0",
         "#000000",
         "#A020F0",
         "Green",
         "#F8F8FF",
         "#FFA07A",
         "#301934",
         "#FFA07A",
         "#FFB6C1",
         "#90EE90",
         "#A9A9A9",
         "#E6E6FA",
         "#8B0000",
         "#00008B",
         "#000000",
         "#A9A9A9",
         "#FFD700",
         "#FFA07A",
         "#FFD700",
         "#FFD700",
         "#FF1493",
         "#006400",
         "Grey",
         "#000000",
         "#FFFFE0",
         "#000000"
        ],
        "template": {
         "data": {
          "bar": [
           {
            "error_x": {
             "color": "#2a3f5f"
            },
            "error_y": {
             "color": "#2a3f5f"
            },
            "marker": {
             "line": {
              "color": "#E5ECF6",
              "width": 0.5
             },
             "pattern": {
              "fillmode": "overlay",
              "size": 10,
              "solidity": 0.2
             }
            },
            "type": "bar"
           }
          ],
          "barpolar": [
           {
            "marker": {
             "line": {
              "color": "#E5ECF6",
              "width": 0.5
             },
             "pattern": {
              "fillmode": "overlay",
              "size": 10,
              "solidity": 0.2
             }
            },
            "type": "barpolar"
           }
          ],
          "carpet": [
           {
            "aaxis": {
             "endlinecolor": "#2a3f5f",
             "gridcolor": "white",
             "linecolor": "white",
             "minorgridcolor": "white",
             "startlinecolor": "#2a3f5f"
            },
            "baxis": {
             "endlinecolor": "#2a3f5f",
             "gridcolor": "white",
             "linecolor": "white",
             "minorgridcolor": "white",
             "startlinecolor": "#2a3f5f"
            },
            "type": "carpet"
           }
          ],
          "choropleth": [
           {
            "colorbar": {
             "outlinewidth": 0,
             "ticks": ""
            },
            "type": "choropleth"
           }
          ],
          "contour": [
           {
            "colorbar": {
             "outlinewidth": 0,
             "ticks": ""
            },
            "colorscale": [
             [
              0,
              "#0d0887"
             ],
             [
              0.1111111111111111,
              "#46039f"
             ],
             [
              0.2222222222222222,
              "#7201a8"
             ],
             [
              0.3333333333333333,
              "#9c179e"
             ],
             [
              0.4444444444444444,
              "#bd3786"
             ],
             [
              0.5555555555555556,
              "#d8576b"
             ],
             [
              0.6666666666666666,
              "#ed7953"
             ],
             [
              0.7777777777777778,
              "#fb9f3a"
             ],
             [
              0.8888888888888888,
              "#fdca26"
             ],
             [
              1,
              "#f0f921"
             ]
            ],
            "type": "contour"
           }
          ],
          "contourcarpet": [
           {
            "colorbar": {
             "outlinewidth": 0,
             "ticks": ""
            },
            "type": "contourcarpet"
           }
          ],
          "heatmap": [
           {
            "colorbar": {
             "outlinewidth": 0,
             "ticks": ""
            },
            "colorscale": [
             [
              0,
              "#0d0887"
             ],
             [
              0.1111111111111111,
              "#46039f"
             ],
             [
              0.2222222222222222,
              "#7201a8"
             ],
             [
              0.3333333333333333,
              "#9c179e"
             ],
             [
              0.4444444444444444,
              "#bd3786"
             ],
             [
              0.5555555555555556,
              "#d8576b"
             ],
             [
              0.6666666666666666,
              "#ed7953"
             ],
             [
              0.7777777777777778,
              "#fb9f3a"
             ],
             [
              0.8888888888888888,
              "#fdca26"
             ],
             [
              1,
              "#f0f921"
             ]
            ],
            "type": "heatmap"
           }
          ],
          "heatmapgl": [
           {
            "colorbar": {
             "outlinewidth": 0,
             "ticks": ""
            },
            "colorscale": [
             [
              0,
              "#0d0887"
             ],
             [
              0.1111111111111111,
              "#46039f"
             ],
             [
              0.2222222222222222,
              "#7201a8"
             ],
             [
              0.3333333333333333,
              "#9c179e"
             ],
             [
              0.4444444444444444,
              "#bd3786"
             ],
             [
              0.5555555555555556,
              "#d8576b"
             ],
             [
              0.6666666666666666,
              "#ed7953"
             ],
             [
              0.7777777777777778,
              "#fb9f3a"
             ],
             [
              0.8888888888888888,
              "#fdca26"
             ],
             [
              1,
              "#f0f921"
             ]
            ],
            "type": "heatmapgl"
           }
          ],
          "histogram": [
           {
            "marker": {
             "pattern": {
              "fillmode": "overlay",
              "size": 10,
              "solidity": 0.2
             }
            },
            "type": "histogram"
           }
          ],
          "histogram2d": [
           {
            "colorbar": {
             "outlinewidth": 0,
             "ticks": ""
            },
            "colorscale": [
             [
              0,
              "#0d0887"
             ],
             [
              0.1111111111111111,
              "#46039f"
             ],
             [
              0.2222222222222222,
              "#7201a8"
             ],
             [
              0.3333333333333333,
              "#9c179e"
             ],
             [
              0.4444444444444444,
              "#bd3786"
             ],
             [
              0.5555555555555556,
              "#d8576b"
             ],
             [
              0.6666666666666666,
              "#ed7953"
             ],
             [
              0.7777777777777778,
              "#fb9f3a"
             ],
             [
              0.8888888888888888,
              "#fdca26"
             ],
             [
              1,
              "#f0f921"
             ]
            ],
            "type": "histogram2d"
           }
          ],
          "histogram2dcontour": [
           {
            "colorbar": {
             "outlinewidth": 0,
             "ticks": ""
            },
            "colorscale": [
             [
              0,
              "#0d0887"
             ],
             [
              0.1111111111111111,
              "#46039f"
             ],
             [
              0.2222222222222222,
              "#7201a8"
             ],
             [
              0.3333333333333333,
              "#9c179e"
             ],
             [
              0.4444444444444444,
              "#bd3786"
             ],
             [
              0.5555555555555556,
              "#d8576b"
             ],
             [
              0.6666666666666666,
              "#ed7953"
             ],
             [
              0.7777777777777778,
              "#fb9f3a"
             ],
             [
              0.8888888888888888,
              "#fdca26"
             ],
             [
              1,
              "#f0f921"
             ]
            ],
            "type": "histogram2dcontour"
           }
          ],
          "mesh3d": [
           {
            "colorbar": {
             "outlinewidth": 0,
             "ticks": ""
            },
            "type": "mesh3d"
           }
          ],
          "parcoords": [
           {
            "line": {
             "colorbar": {
              "outlinewidth": 0,
              "ticks": ""
             }
            },
            "type": "parcoords"
           }
          ],
          "pie": [
           {
            "automargin": true,
            "type": "pie"
           }
          ],
          "scatter": [
           {
            "fillpattern": {
             "fillmode": "overlay",
             "size": 10,
             "solidity": 0.2
            },
            "type": "scatter"
           }
          ],
          "scatter3d": [
           {
            "line": {
             "colorbar": {
              "outlinewidth": 0,
              "ticks": ""
             }
            },
            "marker": {
             "colorbar": {
              "outlinewidth": 0,
              "ticks": ""
             }
            },
            "type": "scatter3d"
           }
          ],
          "scattercarpet": [
           {
            "marker": {
             "colorbar": {
              "outlinewidth": 0,
              "ticks": ""
             }
            },
            "type": "scattercarpet"
           }
          ],
          "scattergeo": [
           {
            "marker": {
             "colorbar": {
              "outlinewidth": 0,
              "ticks": ""
             }
            },
            "type": "scattergeo"
           }
          ],
          "scattergl": [
           {
            "marker": {
             "colorbar": {
              "outlinewidth": 0,
              "ticks": ""
             }
            },
            "type": "scattergl"
           }
          ],
          "scattermapbox": [
           {
            "marker": {
             "colorbar": {
              "outlinewidth": 0,
              "ticks": ""
             }
            },
            "type": "scattermapbox"
           }
          ],
          "scatterpolar": [
           {
            "marker": {
             "colorbar": {
              "outlinewidth": 0,
              "ticks": ""
             }
            },
            "type": "scatterpolar"
           }
          ],
          "scatterpolargl": [
           {
            "marker": {
             "colorbar": {
              "outlinewidth": 0,
              "ticks": ""
             }
            },
            "type": "scatterpolargl"
           }
          ],
          "scatterternary": [
           {
            "marker": {
             "colorbar": {
              "outlinewidth": 0,
              "ticks": ""
             }
            },
            "type": "scatterternary"
           }
          ],
          "surface": [
           {
            "colorbar": {
             "outlinewidth": 0,
             "ticks": ""
            },
            "colorscale": [
             [
              0,
              "#0d0887"
             ],
             [
              0.1111111111111111,
              "#46039f"
             ],
             [
              0.2222222222222222,
              "#7201a8"
             ],
             [
              0.3333333333333333,
              "#9c179e"
             ],
             [
              0.4444444444444444,
              "#bd3786"
             ],
             [
              0.5555555555555556,
              "#d8576b"
             ],
             [
              0.6666666666666666,
              "#ed7953"
             ],
             [
              0.7777777777777778,
              "#fb9f3a"
             ],
             [
              0.8888888888888888,
              "#fdca26"
             ],
             [
              1,
              "#f0f921"
             ]
            ],
            "type": "surface"
           }
          ],
          "table": [
           {
            "cells": {
             "fill": {
              "color": "#EBF0F8"
             },
             "line": {
              "color": "white"
             }
            },
            "header": {
             "fill": {
              "color": "#C8D4E3"
             },
             "line": {
              "color": "white"
             }
            },
            "type": "table"
           }
          ]
         },
         "layout": {
          "annotationdefaults": {
           "arrowcolor": "#2a3f5f",
           "arrowhead": 0,
           "arrowwidth": 1
          },
          "autotypenumbers": "strict",
          "coloraxis": {
           "colorbar": {
            "outlinewidth": 0,
            "ticks": ""
           }
          },
          "colorscale": {
           "diverging": [
            [
             0,
             "#8e0152"
            ],
            [
             0.1,
             "#c51b7d"
            ],
            [
             0.2,
             "#de77ae"
            ],
            [
             0.3,
             "#f1b6da"
            ],
            [
             0.4,
             "#fde0ef"
            ],
            [
             0.5,
             "#f7f7f7"
            ],
            [
             0.6,
             "#e6f5d0"
            ],
            [
             0.7,
             "#b8e186"
            ],
            [
             0.8,
             "#7fbc41"
            ],
            [
             0.9,
             "#4d9221"
            ],
            [
             1,
             "#276419"
            ]
           ],
           "sequential": [
            [
             0,
             "#0d0887"
            ],
            [
             0.1111111111111111,
             "#46039f"
            ],
            [
             0.2222222222222222,
             "#7201a8"
            ],
            [
             0.3333333333333333,
             "#9c179e"
            ],
            [
             0.4444444444444444,
             "#bd3786"
            ],
            [
             0.5555555555555556,
             "#d8576b"
            ],
            [
             0.6666666666666666,
             "#ed7953"
            ],
            [
             0.7777777777777778,
             "#fb9f3a"
            ],
            [
             0.8888888888888888,
             "#fdca26"
            ],
            [
             1,
             "#f0f921"
            ]
           ],
           "sequentialminus": [
            [
             0,
             "#0d0887"
            ],
            [
             0.1111111111111111,
             "#46039f"
            ],
            [
             0.2222222222222222,
             "#7201a8"
            ],
            [
             0.3333333333333333,
             "#9c179e"
            ],
            [
             0.4444444444444444,
             "#bd3786"
            ],
            [
             0.5555555555555556,
             "#d8576b"
            ],
            [
             0.6666666666666666,
             "#ed7953"
            ],
            [
             0.7777777777777778,
             "#fb9f3a"
            ],
            [
             0.8888888888888888,
             "#fdca26"
            ],
            [
             1,
             "#f0f921"
            ]
           ]
          },
          "colorway": [
           "#636efa",
           "#EF553B",
           "#00cc96",
           "#ab63fa",
           "#FFA15A",
           "#19d3f3",
           "#FF6692",
           "#B6E880",
           "#FF97FF",
           "#FECB52"
          ],
          "font": {
           "color": "#2a3f5f"
          },
          "geo": {
           "bgcolor": "white",
           "lakecolor": "white",
           "landcolor": "#E5ECF6",
           "showlakes": true,
           "showland": true,
           "subunitcolor": "white"
          },
          "hoverlabel": {
           "align": "left"
          },
          "hovermode": "closest",
          "mapbox": {
           "style": "light"
          },
          "paper_bgcolor": "white",
          "plot_bgcolor": "#E5ECF6",
          "polar": {
           "angularaxis": {
            "gridcolor": "white",
            "linecolor": "white",
            "ticks": ""
           },
           "bgcolor": "#E5ECF6",
           "radialaxis": {
            "gridcolor": "white",
            "linecolor": "white",
            "ticks": ""
           }
          },
          "scene": {
           "xaxis": {
            "backgroundcolor": "#E5ECF6",
            "gridcolor": "white",
            "gridwidth": 2,
            "linecolor": "white",
            "showbackground": true,
            "ticks": "",
            "zerolinecolor": "white"
           },
           "yaxis": {
            "backgroundcolor": "#E5ECF6",
            "gridcolor": "white",
            "gridwidth": 2,
            "linecolor": "white",
            "showbackground": true,
            "ticks": "",
            "zerolinecolor": "white"
           },
           "zaxis": {
            "backgroundcolor": "#E5ECF6",
            "gridcolor": "white",
            "gridwidth": 2,
            "linecolor": "white",
            "showbackground": true,
            "ticks": "",
            "zerolinecolor": "white"
           }
          },
          "shapedefaults": {
           "line": {
            "color": "#2a3f5f"
           }
          },
          "ternary": {
           "aaxis": {
            "gridcolor": "white",
            "linecolor": "white",
            "ticks": ""
           },
           "baxis": {
            "gridcolor": "white",
            "linecolor": "white",
            "ticks": ""
           },
           "bgcolor": "#E5ECF6",
           "caxis": {
            "gridcolor": "white",
            "linecolor": "white",
            "ticks": ""
           }
          },
          "title": {
           "x": 0.05
          },
          "xaxis": {
           "automargin": true,
           "gridcolor": "white",
           "linecolor": "white",
           "ticks": "",
           "title": {
            "standoff": 15
           },
           "zerolinecolor": "white",
           "zerolinewidth": 2
          },
          "yaxis": {
           "automargin": true,
           "gridcolor": "white",
           "linecolor": "white",
           "ticks": "",
           "title": {
            "standoff": 15
           },
           "zerolinecolor": "white",
           "zerolinewidth": 2
          }
         }
        }
       }
      }
     },
     "metadata": {},
     "output_type": "display_data"
    }
   ],
   "source": [
    "df['all drugs'] = 'all drugs'\n",
    "fig = px.sunburst(df, path=['all drugs', 'colour', 'texture'], color_discrete_sequence=['white']+colours.values.tolist(), color='colour')\n",
    "fig.show()"
   ]
  },
  {
   "cell_type": "code",
   "execution_count": 411,
   "metadata": {},
   "outputs": [
    {
     "data": {
      "text/plain": [
       "Sunburst({\n",
       "    'branchvalues': 'total',\n",
       "    'customdata': array([['Brown (light)'],\n",
       "                         ['Blue'],\n",
       "                         ['White'],\n",
       "                         ...,\n",
       "                         ['Grey (light)'],\n",
       "                         ['Blue'],\n",
       "                         ['White']], dtype=object),\n",
       "    'domain': {'x': [0.0, 1.0], 'y': [0.0, 1.0]},\n",
       "    'hovertemplate': ('labels=%{label}<br>count=%{val' ... '{customdata[0]}<extra></extra>'),\n",
       "    'ids': array(['all drugs/Brown (light)/Crystal', 'all drugs/Blue/Other',\n",
       "                  'all drugs/White/Tablet (pharmaceutical)', ...,\n",
       "                  'all drugs/Grey (light)/Granules', 'all drugs/Blue/Pressed tablet',\n",
       "                  'all drugs/White/Capsule'], dtype=object),\n",
       "    'labels': array(['Crystal', 'Other', 'Tablet (pharmaceutical)', ..., 'Granules',\n",
       "                     'Pressed tablet', 'Capsule'], dtype=object),\n",
       "    'marker': {'colors': [white, #A020F0, #C4A484, ..., Green, #A020F0, #C4A484]},\n",
       "    'name': '',\n",
       "    'parents': array(['all drugs/Brown (light)', 'all drugs/Blue', 'all drugs/White', ...,\n",
       "                      'all drugs/Grey (light)', 'all drugs/Blue', 'all drugs/White'],\n",
       "                     dtype=object),\n",
       "    'values': array([ 820,    4, 1588, ...,   69,  171,   35], dtype=int64)\n",
       "})"
      ]
     },
     "execution_count": 411,
     "metadata": {},
     "output_type": "execute_result"
    }
   ],
   "source": [
    "fig.data[0]"
   ]
  },
  {
   "cell_type": "code",
   "execution_count": 377,
   "metadata": {},
   "outputs": [],
   "source": [
    "replacement_list = {\n",
    "    'Tucibi': '2c-b',\n",
    "    'MD-X (Unknown)': '(MDMA|MDA)',\n",
    "    'Cannabis': '(thc|CBD|cannabidiol)',\n",
    "    'Changa': 'DMT',\n",
    "    '2C-Family': '(2c-b|2c-i|2c-t-2|2C-Family)',\n",
    "    'Speed': 'methamphetamine',\n",
    "    'Down (Unknown Opioid)': '(.*an(y|i)l|heroin|(code|morph|buprenorph)ine|(oxy|hydro)(cod|morph)one|.*tazene|w-1(8|9)|opium|(furanyl\\s)?uf-17|6-mam)',\n",
    "    'Down': '(.*an(y|i)l|heroin|(code|morph|buprenorph)ine|(oxy|hydro)(cod|morph)one|.*tazene|w-1(8|9)|opium|(furanyl\\s)?uf-17|6-mam)'\n",
    "}"
   ]
  },
  {
   "cell_type": "code",
   "execution_count": 379,
   "metadata": {},
   "outputs": [],
   "source": [
    "# df['replaced'] = df['expected drug'].replace(replacement_list, regex=False)\n",
    "df['split_drug'] = df['expected drug'].str.split(' and ')\n",
    "exp_drugs = pd.DataFrame(df['split_drug'].tolist(), index=df.index)\n",
    "exp_drugs = exp_drugs.replace(replacement_list, regex=False)"
   ]
  },
  {
   "cell_type": "code",
   "execution_count": 252,
   "metadata": {},
   "outputs": [],
   "source": [
    "df['expected_matched'] = [int(d in l) for d, l in zip(df['expected drug'], df[ftirs].values.tolist())]"
   ]
  },
  {
   "cell_type": "code",
   "execution_count": 255,
   "metadata": {},
   "outputs": [
    {
     "data": {
      "application/vnd.plotly.v1+json": {
       "config": {
        "plotlyServerURL": "https://plot.ly"
       },
       "data": [
        {
         "hole": 0.65,
         "hoverinfo": "value+percent",
         "labels": [
          "No",
          "Yes"
         ],
         "marker": {
          "line": {
           "color": "#000000",
           "width": 2
          }
         },
         "textfont": {
          "size": 20
         },
         "textinfo": "label",
         "type": "pie",
         "values": [
          43142,
          16858
         ]
        }
       ],
       "layout": {
        "annotations": [
         {
          "font": {
           "size": 20
          },
          "showarrow": false,
          "text": "Expected<br>Matched Results",
          "x": 0.5,
          "y": 0.5
         }
        ],
        "template": {
         "data": {
          "bar": [
           {
            "error_x": {
             "color": "#2a3f5f"
            },
            "error_y": {
             "color": "#2a3f5f"
            },
            "marker": {
             "line": {
              "color": "#E5ECF6",
              "width": 0.5
             },
             "pattern": {
              "fillmode": "overlay",
              "size": 10,
              "solidity": 0.2
             }
            },
            "type": "bar"
           }
          ],
          "barpolar": [
           {
            "marker": {
             "line": {
              "color": "#E5ECF6",
              "width": 0.5
             },
             "pattern": {
              "fillmode": "overlay",
              "size": 10,
              "solidity": 0.2
             }
            },
            "type": "barpolar"
           }
          ],
          "carpet": [
           {
            "aaxis": {
             "endlinecolor": "#2a3f5f",
             "gridcolor": "white",
             "linecolor": "white",
             "minorgridcolor": "white",
             "startlinecolor": "#2a3f5f"
            },
            "baxis": {
             "endlinecolor": "#2a3f5f",
             "gridcolor": "white",
             "linecolor": "white",
             "minorgridcolor": "white",
             "startlinecolor": "#2a3f5f"
            },
            "type": "carpet"
           }
          ],
          "choropleth": [
           {
            "colorbar": {
             "outlinewidth": 0,
             "ticks": ""
            },
            "type": "choropleth"
           }
          ],
          "contour": [
           {
            "colorbar": {
             "outlinewidth": 0,
             "ticks": ""
            },
            "colorscale": [
             [
              0,
              "#0d0887"
             ],
             [
              0.1111111111111111,
              "#46039f"
             ],
             [
              0.2222222222222222,
              "#7201a8"
             ],
             [
              0.3333333333333333,
              "#9c179e"
             ],
             [
              0.4444444444444444,
              "#bd3786"
             ],
             [
              0.5555555555555556,
              "#d8576b"
             ],
             [
              0.6666666666666666,
              "#ed7953"
             ],
             [
              0.7777777777777778,
              "#fb9f3a"
             ],
             [
              0.8888888888888888,
              "#fdca26"
             ],
             [
              1,
              "#f0f921"
             ]
            ],
            "type": "contour"
           }
          ],
          "contourcarpet": [
           {
            "colorbar": {
             "outlinewidth": 0,
             "ticks": ""
            },
            "type": "contourcarpet"
           }
          ],
          "heatmap": [
           {
            "colorbar": {
             "outlinewidth": 0,
             "ticks": ""
            },
            "colorscale": [
             [
              0,
              "#0d0887"
             ],
             [
              0.1111111111111111,
              "#46039f"
             ],
             [
              0.2222222222222222,
              "#7201a8"
             ],
             [
              0.3333333333333333,
              "#9c179e"
             ],
             [
              0.4444444444444444,
              "#bd3786"
             ],
             [
              0.5555555555555556,
              "#d8576b"
             ],
             [
              0.6666666666666666,
              "#ed7953"
             ],
             [
              0.7777777777777778,
              "#fb9f3a"
             ],
             [
              0.8888888888888888,
              "#fdca26"
             ],
             [
              1,
              "#f0f921"
             ]
            ],
            "type": "heatmap"
           }
          ],
          "heatmapgl": [
           {
            "colorbar": {
             "outlinewidth": 0,
             "ticks": ""
            },
            "colorscale": [
             [
              0,
              "#0d0887"
             ],
             [
              0.1111111111111111,
              "#46039f"
             ],
             [
              0.2222222222222222,
              "#7201a8"
             ],
             [
              0.3333333333333333,
              "#9c179e"
             ],
             [
              0.4444444444444444,
              "#bd3786"
             ],
             [
              0.5555555555555556,
              "#d8576b"
             ],
             [
              0.6666666666666666,
              "#ed7953"
             ],
             [
              0.7777777777777778,
              "#fb9f3a"
             ],
             [
              0.8888888888888888,
              "#fdca26"
             ],
             [
              1,
              "#f0f921"
             ]
            ],
            "type": "heatmapgl"
           }
          ],
          "histogram": [
           {
            "marker": {
             "pattern": {
              "fillmode": "overlay",
              "size": 10,
              "solidity": 0.2
             }
            },
            "type": "histogram"
           }
          ],
          "histogram2d": [
           {
            "colorbar": {
             "outlinewidth": 0,
             "ticks": ""
            },
            "colorscale": [
             [
              0,
              "#0d0887"
             ],
             [
              0.1111111111111111,
              "#46039f"
             ],
             [
              0.2222222222222222,
              "#7201a8"
             ],
             [
              0.3333333333333333,
              "#9c179e"
             ],
             [
              0.4444444444444444,
              "#bd3786"
             ],
             [
              0.5555555555555556,
              "#d8576b"
             ],
             [
              0.6666666666666666,
              "#ed7953"
             ],
             [
              0.7777777777777778,
              "#fb9f3a"
             ],
             [
              0.8888888888888888,
              "#fdca26"
             ],
             [
              1,
              "#f0f921"
             ]
            ],
            "type": "histogram2d"
           }
          ],
          "histogram2dcontour": [
           {
            "colorbar": {
             "outlinewidth": 0,
             "ticks": ""
            },
            "colorscale": [
             [
              0,
              "#0d0887"
             ],
             [
              0.1111111111111111,
              "#46039f"
             ],
             [
              0.2222222222222222,
              "#7201a8"
             ],
             [
              0.3333333333333333,
              "#9c179e"
             ],
             [
              0.4444444444444444,
              "#bd3786"
             ],
             [
              0.5555555555555556,
              "#d8576b"
             ],
             [
              0.6666666666666666,
              "#ed7953"
             ],
             [
              0.7777777777777778,
              "#fb9f3a"
             ],
             [
              0.8888888888888888,
              "#fdca26"
             ],
             [
              1,
              "#f0f921"
             ]
            ],
            "type": "histogram2dcontour"
           }
          ],
          "mesh3d": [
           {
            "colorbar": {
             "outlinewidth": 0,
             "ticks": ""
            },
            "type": "mesh3d"
           }
          ],
          "parcoords": [
           {
            "line": {
             "colorbar": {
              "outlinewidth": 0,
              "ticks": ""
             }
            },
            "type": "parcoords"
           }
          ],
          "pie": [
           {
            "automargin": true,
            "type": "pie"
           }
          ],
          "scatter": [
           {
            "fillpattern": {
             "fillmode": "overlay",
             "size": 10,
             "solidity": 0.2
            },
            "type": "scatter"
           }
          ],
          "scatter3d": [
           {
            "line": {
             "colorbar": {
              "outlinewidth": 0,
              "ticks": ""
             }
            },
            "marker": {
             "colorbar": {
              "outlinewidth": 0,
              "ticks": ""
             }
            },
            "type": "scatter3d"
           }
          ],
          "scattercarpet": [
           {
            "marker": {
             "colorbar": {
              "outlinewidth": 0,
              "ticks": ""
             }
            },
            "type": "scattercarpet"
           }
          ],
          "scattergeo": [
           {
            "marker": {
             "colorbar": {
              "outlinewidth": 0,
              "ticks": ""
             }
            },
            "type": "scattergeo"
           }
          ],
          "scattergl": [
           {
            "marker": {
             "colorbar": {
              "outlinewidth": 0,
              "ticks": ""
             }
            },
            "type": "scattergl"
           }
          ],
          "scattermapbox": [
           {
            "marker": {
             "colorbar": {
              "outlinewidth": 0,
              "ticks": ""
             }
            },
            "type": "scattermapbox"
           }
          ],
          "scatterpolar": [
           {
            "marker": {
             "colorbar": {
              "outlinewidth": 0,
              "ticks": ""
             }
            },
            "type": "scatterpolar"
           }
          ],
          "scatterpolargl": [
           {
            "marker": {
             "colorbar": {
              "outlinewidth": 0,
              "ticks": ""
             }
            },
            "type": "scatterpolargl"
           }
          ],
          "scatterternary": [
           {
            "marker": {
             "colorbar": {
              "outlinewidth": 0,
              "ticks": ""
             }
            },
            "type": "scatterternary"
           }
          ],
          "surface": [
           {
            "colorbar": {
             "outlinewidth": 0,
             "ticks": ""
            },
            "colorscale": [
             [
              0,
              "#0d0887"
             ],
             [
              0.1111111111111111,
              "#46039f"
             ],
             [
              0.2222222222222222,
              "#7201a8"
             ],
             [
              0.3333333333333333,
              "#9c179e"
             ],
             [
              0.4444444444444444,
              "#bd3786"
             ],
             [
              0.5555555555555556,
              "#d8576b"
             ],
             [
              0.6666666666666666,
              "#ed7953"
             ],
             [
              0.7777777777777778,
              "#fb9f3a"
             ],
             [
              0.8888888888888888,
              "#fdca26"
             ],
             [
              1,
              "#f0f921"
             ]
            ],
            "type": "surface"
           }
          ],
          "table": [
           {
            "cells": {
             "fill": {
              "color": "#EBF0F8"
             },
             "line": {
              "color": "white"
             }
            },
            "header": {
             "fill": {
              "color": "#C8D4E3"
             },
             "line": {
              "color": "white"
             }
            },
            "type": "table"
           }
          ]
         },
         "layout": {
          "annotationdefaults": {
           "arrowcolor": "#2a3f5f",
           "arrowhead": 0,
           "arrowwidth": 1
          },
          "autotypenumbers": "strict",
          "coloraxis": {
           "colorbar": {
            "outlinewidth": 0,
            "ticks": ""
           }
          },
          "colorscale": {
           "diverging": [
            [
             0,
             "#8e0152"
            ],
            [
             0.1,
             "#c51b7d"
            ],
            [
             0.2,
             "#de77ae"
            ],
            [
             0.3,
             "#f1b6da"
            ],
            [
             0.4,
             "#fde0ef"
            ],
            [
             0.5,
             "#f7f7f7"
            ],
            [
             0.6,
             "#e6f5d0"
            ],
            [
             0.7,
             "#b8e186"
            ],
            [
             0.8,
             "#7fbc41"
            ],
            [
             0.9,
             "#4d9221"
            ],
            [
             1,
             "#276419"
            ]
           ],
           "sequential": [
            [
             0,
             "#0d0887"
            ],
            [
             0.1111111111111111,
             "#46039f"
            ],
            [
             0.2222222222222222,
             "#7201a8"
            ],
            [
             0.3333333333333333,
             "#9c179e"
            ],
            [
             0.4444444444444444,
             "#bd3786"
            ],
            [
             0.5555555555555556,
             "#d8576b"
            ],
            [
             0.6666666666666666,
             "#ed7953"
            ],
            [
             0.7777777777777778,
             "#fb9f3a"
            ],
            [
             0.8888888888888888,
             "#fdca26"
            ],
            [
             1,
             "#f0f921"
            ]
           ],
           "sequentialminus": [
            [
             0,
             "#0d0887"
            ],
            [
             0.1111111111111111,
             "#46039f"
            ],
            [
             0.2222222222222222,
             "#7201a8"
            ],
            [
             0.3333333333333333,
             "#9c179e"
            ],
            [
             0.4444444444444444,
             "#bd3786"
            ],
            [
             0.5555555555555556,
             "#d8576b"
            ],
            [
             0.6666666666666666,
             "#ed7953"
            ],
            [
             0.7777777777777778,
             "#fb9f3a"
            ],
            [
             0.8888888888888888,
             "#fdca26"
            ],
            [
             1,
             "#f0f921"
            ]
           ]
          },
          "colorway": [
           "#636efa",
           "#EF553B",
           "#00cc96",
           "#ab63fa",
           "#FFA15A",
           "#19d3f3",
           "#FF6692",
           "#B6E880",
           "#FF97FF",
           "#FECB52"
          ],
          "font": {
           "color": "#2a3f5f"
          },
          "geo": {
           "bgcolor": "white",
           "lakecolor": "white",
           "landcolor": "#E5ECF6",
           "showlakes": true,
           "showland": true,
           "subunitcolor": "white"
          },
          "hoverlabel": {
           "align": "left"
          },
          "hovermode": "closest",
          "mapbox": {
           "style": "light"
          },
          "paper_bgcolor": "white",
          "plot_bgcolor": "#E5ECF6",
          "polar": {
           "angularaxis": {
            "gridcolor": "white",
            "linecolor": "white",
            "ticks": ""
           },
           "bgcolor": "#E5ECF6",
           "radialaxis": {
            "gridcolor": "white",
            "linecolor": "white",
            "ticks": ""
           }
          },
          "scene": {
           "xaxis": {
            "backgroundcolor": "#E5ECF6",
            "gridcolor": "white",
            "gridwidth": 2,
            "linecolor": "white",
            "showbackground": true,
            "ticks": "",
            "zerolinecolor": "white"
           },
           "yaxis": {
            "backgroundcolor": "#E5ECF6",
            "gridcolor": "white",
            "gridwidth": 2,
            "linecolor": "white",
            "showbackground": true,
            "ticks": "",
            "zerolinecolor": "white"
           },
           "zaxis": {
            "backgroundcolor": "#E5ECF6",
            "gridcolor": "white",
            "gridwidth": 2,
            "linecolor": "white",
            "showbackground": true,
            "ticks": "",
            "zerolinecolor": "white"
           }
          },
          "shapedefaults": {
           "line": {
            "color": "#2a3f5f"
           }
          },
          "ternary": {
           "aaxis": {
            "gridcolor": "white",
            "linecolor": "white",
            "ticks": ""
           },
           "baxis": {
            "gridcolor": "white",
            "linecolor": "white",
            "ticks": ""
           },
           "bgcolor": "#E5ECF6",
           "caxis": {
            "gridcolor": "white",
            "linecolor": "white",
            "ticks": ""
           }
          },
          "title": {
           "x": 0.05
          },
          "xaxis": {
           "automargin": true,
           "gridcolor": "white",
           "linecolor": "white",
           "ticks": "",
           "title": {
            "standoff": 15
           },
           "zerolinecolor": "white",
           "zerolinewidth": 2
          },
          "yaxis": {
           "automargin": true,
           "gridcolor": "white",
           "linecolor": "white",
           "ticks": "",
           "title": {
            "standoff": 15
           },
           "zerolinecolor": "white",
           "zerolinewidth": 2
          }
         }
        }
       }
      }
     },
     "metadata": {},
     "output_type": "display_data"
    }
   ],
   "source": [
    "fig = go.Figure(go.Pie(\n",
    "    labels=df['expected_matched'].replace({1: \"Yes\", 0: \"No\"}).value_counts().index,\n",
    "    values=df['expected_matched'].value_counts().values,\n",
    "    hole=0.65\n",
    "))\n",
    "fig.update_traces(\n",
    "    hoverinfo='value+percent', textinfo='label', textfont_size=20,\n",
    "    marker=dict(line=dict(color='#000000', width=2))\n",
    ")\n",
    "fig.update_layout(\n",
    "    annotations=[\n",
    "        dict(text=\"Expected Drug<br>Matched Result\", x=0.5, y=0.5, font_size=20, showarrow=False)\n",
    "    ]\n",
    ")"
   ]
  },
  {
   "cell_type": "code",
   "execution_count": 406,
   "metadata": {},
   "outputs": [],
   "source": [
    "def match_drugs(expected, tested):\n",
    "    return 1 if re.search(expected, tested, re.IGNORECASE) else 0"
   ]
  },
  {
   "cell_type": "code",
   "execution_count": null,
   "metadata": {},
   "outputs": [],
   "source": [
    "def match_drugs(expected, tested):\n",
    "    score = sum(1 if re.search(drug, test, re.IGNORECASE) else 0 for test in tested)\n",
    "    return 1 if score == num_exp else 0    "
   ]
  },
  {
   "cell_type": "code",
   "execution_count": 352,
   "metadata": {},
   "outputs": [
    {
     "data": {
      "text/plain": [
       "array(['Down (Unknown Opioid)', 'Unknown', 'Alprazolam',\n",
       "       'Methamphetamine', 'Fentanyl', 'MDMA', 'Ketamine', 'Pyrazolam',\n",
       "       'Opium', 'MD-X (Unknown)', 'MDA', '4-HO-MET', 'Cocaine', 'Codeine',\n",
       "       'Oxycodone', 'Amphetamine', 'Xylazine', 'Bromazolam', 'Gaboxadol',\n",
       "       '4-AcO-DMT', 'GHB', 'Crack Cocaine', 'Diazepam', 'Tucibi',\n",
       "       'Hydromorphone', 'LSD', 'Clonazepam', 'Testosterone Cypionate',\n",
       "       'Clomifene', 'Tamoxifen', 'Copper Chromite', 'Methandrostenolone',\n",
       "       'GBL', 'Acetaminophen and Oxycodone', 'Tadalafil', 'Heroin',\n",
       "       '2C-B', 'CBD', '5-MeO-MiPT', 'Mescaline', 'GW501516',\n",
       "       'Metonitazene', 'DPT', 'Modafinil', 'Sildenafil',\n",
       "       'Testosterone Isocaproate', 'DMT', 'Desalkylgidazepam',\n",
       "       'Benzocaine', 'Ivermectin', 'Quetiapine', 'Flualprazolam',\n",
       "       'Sildenafil and Tadalafil', '2C-E', 'Fentanyl and Heroin',\n",
       "       'Tramadol', '1,4-Butanediol', 'Carisoprodol', 'Lorazepam',\n",
       "       'Deschloroetizolam', 'FXE', '4-AcO-MET', 'Oxandrolone',\n",
       "       'Nandrolone Phenylpropionate', 'Fentanyl and Methamphetamine',\n",
       "       'Down and Methamphetamine', 'Cannabis and Derivatives',\n",
       "       'Methylphenidate', '4-MMC', 'Morphine', 'THC', 'MDP2P',\n",
       "       '4-Fluorophenibut', 'Cocaine and Ketamine', 'Etizolam',\n",
       "       'Exemestane', '1P-LSD', 'Heroin and Cocaine', '3-HO-PCP',\n",
       "       '5-MeO-DMT', 'Kratom and Derivatives', 'Stanozolol', 'Zolpidem',\n",
       "       'DXM', 'Methaqualone', 'Flubromazolam', 'Trazodone', '3-MMC',\n",
       "       'Mushroom and Derivatives', 'Caffeine', 'MDA and MDMA', '4F-MPH',\n",
       "       'Zopiclone', 'Carfentanil', '5-MAPB', '2C-T-2', 'MXE',\n",
       "       '5-MeO-DiPT', 'Buprenorphine', 'Gabapentin', 'Diclazepam',\n",
       "       'Methallylescaline', 'Ibutamoren', 'Testosterone Enanthate',\n",
       "       'Ergotamine', 'Chlorodehydromethyltestosterone', 'DOM',\n",
       "       'Testosterone Family', 'Metribolone', 'Testosterone Propionate',\n",
       "       'Trenbolone Enanthate', 'Nandrolone Decanoate',\n",
       "       'Methenolone Enanthate', 'Testosterone', 'Testosterone Acetate',\n",
       "       'Trenbolone Acetate', 'Drostanolone Enanthate', 'Tapentadol',\n",
       "       '4-PrO-DMT', '5-MeO-MALT', 'Anastrozole', 'Phenacetin',\n",
       "       'Phenmetrazine', 'Doxycycline', 'Enobosarm', '4-HO-MiPT',\n",
       "       'Isotretinoin', '2C-I', 'Acetaminophen and Codeine', 'W-18',\n",
       "       'Escitalopram', 'Cocaine and Fentanyl', 'Ondansetron', 'Ligandrol',\n",
       "       'Albuterol Sulfate', 'Cyclazodone', 'Lisdexamfetamine', 'Changa',\n",
       "       '3-CPM', 'Ammonium', '2-MMC', 'Steroid', 'Methenolone Acetate',\n",
       "       'Calcium Sulfate', 'Hydrocodone', 'Testosterone Undecanoate',\n",
       "       '4-HO-PiPT', 'Telmisartan', '4-AcO-DPT', 'Terbinafine',\n",
       "       'Somatropin', 'Sertraline', 'Clenbuterol', 'Letrozole', 'O-PCE',\n",
       "       'Heroin and Methamphetamine', 'Flubromazepam', '2C-B-FLY',\n",
       "       'Nordazepam', 'Methocarbamol', 'Pregabalin', 'Etodesnitazene',\n",
       "       '3-MeO-PCE', 'DCK', '2-FDCK', 'Diphenidine', 'Harmine',\n",
       "       'Clonazolam', 'DMXE', 'Oxymetholone', 'O-DSMT',\n",
       "       'Acetaminophen and Hydrocodone', 'MiPT', 'Protonitazene', '5-MT',\n",
       "       '3-HO-PCE', '2-FMA', 'Magnesium Citrate', 'Androstanolone',\n",
       "       'Acetaminophen', 'Methadone', 'Fluoxymesterone', '2C-Family',\n",
       "       '2C-D', '3C-P', '4-FMA', '6-APB', 'Phenibut', 'Rilmazafone',\n",
       "       'Cyclobenzaprine', '3-FPM', 'Dapoxetine', 'Ranitidine', '25B-NBOH',\n",
       "       'Methasterone', 'Amfonelic Acid', 'Phenylephrine', 'Triprolidine',\n",
       "       'Metformin', 'Vape Juice', 'JWH-210', '25E-NBOH', 'Vitamin C',\n",
       "       'Calcium Carbonate', 'LSD and MDA', 'Methyltestosterone',\n",
       "       'Methylstenbolone', 'Mibolerone', 'Liothyrine', 'MPT',\n",
       "       'Fenbendazole', 'Speed', 'Antibiotic', '5-MeO-DALT', 'Pramipexole',\n",
       "       'Cefalexin', 'Fluorenol', 'Proscaline', '4-AcO-MPT', '5-MeO-PiPT',\n",
       "       'Isotonitazene', '4-FA', 'Nitrazolam', 'MXiPr', 'Promethazine',\n",
       "       'Lithium', 'PCP', 'TUDCA', 'AL-LAD', 'ETH-LAD', 'Isophenmetrazine',\n",
       "       'Orlistat', 'Tiotropium', 'Amoxicillin', 'Dexamethasone',\n",
       "       'Prednisone', 'Fasoracetam', 'Tianeptine', 'Clonidine', '3-Cl-PCP',\n",
       "       '3-FMA', '4-MeTMP', 'Mesterolone', 'Aniracetam', 'Flunitrazolam',\n",
       "       'DiPT', 'Methylhexanamine', 'Methylepitiostanol', 'Trestolone',\n",
       "       'Fluoro-GBL', '25I-NBOMe', 'Baclofen', 'DOC',\n",
       "       'Atovaquone and Proguanil', '3-Hydroxyphenazepam', 'Ephedrine',\n",
       "       'Clarithromycin', 'Raloxifene', 'Citalopram', 'Ketamine and MDMA',\n",
       "       'DNP', 'Carfentanil and Fentanyl', 'AMT', '4-HO-DiPT',\n",
       "       'Cabergoline', 'Selegiline', 'Pseudoephedrine', '5-MeO-EiPT',\n",
       "       '4C-D', '6-MAPB', '3C-E', 'Risperidone', 'Niclosamide',\n",
       "       'Nitrazepam', 'Dihydrocodeine', 'LSD and MDMA', 'NKTR-181',\n",
       "       'Hydroxychloroquine', 'Azithromycin', 'N-Methyl-Cyclazodone',\n",
       "       'Yohimbine', 'Albuterol', 'Fluclotizolam', '3-FEA', 'Supplement',\n",
       "       'MET', 'Drostanolone Propionate', 'Boldenone Undecylenate',\n",
       "       'Norflurazepam', 'Resveratrol', 'Nicotinamide', 'Tiletamine',\n",
       "       'Osimertinib', '2C-P', 'Minoxidil', 'Nebivolol', 'Amlodipine',\n",
       "       'Hydrochlorothiazide', 'HXE', 'ALD-52', 'N-Ethylpentedrone',\n",
       "       'Flubrotizolam', 'BOD', 'MEAI', 'Memantine', 'Omberacetam',\n",
       "       'Hydrocortisone', 'Acetildenafil', 'Furanylfentanyl', 'Poppers',\n",
       "       'PiPT', 'Thalidomide', 'Isopropylbenzylamine', 'Atorvastatin',\n",
       "       'Dutasteride', 'Ibogaine', 'Cocaine and Ketamine and MDMA',\n",
       "       'Safrole', 'Armodafinil', 'Matrine', '3,4,5-Trimethoxyphenibut',\n",
       "       'Ketanserin', 'DMTP', 'Tolibut', '4-AcO-DET', 'Eutylone',\n",
       "       'Methylone', 'Diphenhydramine', 'MALT', '4-HO-MALT', '2C-T-7',\n",
       "       'Pantoprazole', 'Niacin', 'Bisacodyl', 'Vitamin E', 'Progesterone',\n",
       "       'Vitamin D', 'Omeprazole', 'Estradiol', 'a-PHiP', 'Lamotrigine',\n",
       "       'Phenylpiracetam', 'Bromantane', 'NM-2-AI', 'Melatonin',\n",
       "       'Tadalafil and Vardenafil', 'Pagoclone', 'N-Isobutylhexedrone',\n",
       "       'N-Ethylhexedrone', 'Ketoglutaric Acid', 'Ceftazidime',\n",
       "       'Adrafinil', 'a-PHP', '4-HO-EPT', 'Lidocaine', '4-ANPP', 'a-PCYP',\n",
       "       '3-MeO-PCP', 'Bicalutamide', 'Metizolam', '4-HO-MPT', '4-HO-DET',\n",
       "       '3F-PCP', 'Cocaine Wash', '4-EMC', '5-APB', 'Pentobarbital',\n",
       "       'Lisinopril', 'Sibutramine', '9-Me-BC', 'Etaqualone', '4-MeO-MiPT',\n",
       "       'Nimetazepam', 'MMDA', 'Triazolam', 'Escaline', '4-HO-McPT',\n",
       "       '5-MeO-DPT', '5-MeO-MET', '4-AcO-EPT', 'Temazepam',\n",
       "       'Carfentanil and Heroin'], dtype=object)"
      ]
     },
     "execution_count": 352,
     "metadata": {},
     "output_type": "execute_result"
    }
   ],
   "source": [
    "df['expected drug'].unique()"
   ]
  },
  {
   "cell_type": "code",
   "execution_count": 347,
   "metadata": {},
   "outputs": [],
   "source": [
    "def test(x):\n",
    "    return 1 if re.search(\n",
    "    '(.*an(y|i)l|heroin|(code|morph|buprenorph)ine|(oxy|hydro)(cod|morph)one|.*tazene|w-1(8|9)|opium|(furanyl\\s)?uf-17|6-mam)',\n",
    "    x,\n",
    "    re.IGNORECASE\n",
    ") else 0\n",
    "\n",
    "test2 = df['ftir component 0'].apply(lambda x: test(x))\n",
    "t2 = test2[test2 == 1].index"
   ]
  },
  {
   "cell_type": "code",
   "execution_count": 330,
   "metadata": {},
   "outputs": [],
   "source": [
    "test1 = df['ftir component 0'].apply(lambda x: opioid_present(x))\n",
    "t1 = test1[test1 == 1].index"
   ]
  },
  {
   "cell_type": "code",
   "execution_count": 441,
   "metadata": {},
   "outputs": [],
   "source": [
    "incorrect_strip_opioid = (df['contains_opioids'] == 1) & ((df['fentanyl strip'] == -1) | (df['fentanyl strip'] == 0))\n",
    "incorrect_ftir_opioid = (df['fentanyl strip'] == 1) & (df['contains_opioids'] == 0)\n",
    "\n",
    "incorrect_strip_benzo = (df['ftir_benzo'] == 1) & ((df['benzo strip'] == -1) | (df['benzo strip'] == 0))\n",
    "incorrect_ftir_benzo = (df['benzo strip'] == 1) & (df['ftir_benzo'] == 0)\n",
    "\n",
    "# strip_diff = df[df['fentanyl strip'] == 1].index.difference(df[df['contains_opioids'] == 1].index)\n",
    "# strip_diff = df.iloc[strip_diff]"
   ]
  },
  {
   "cell_type": "code",
   "execution_count": 443,
   "metadata": {},
   "outputs": [
    {
     "data": {
      "text/plain": [
       "False    56394\n",
       "True      3606\n",
       "dtype: int64"
      ]
     },
     "execution_count": 443,
     "metadata": {},
     "output_type": "execute_result"
    }
   ],
   "source": [
    "(incorrect_strip_opioid + incorrect_strip_benzo).value_counts()"
   ]
  },
  {
   "cell_type": "code",
   "execution_count": 447,
   "metadata": {},
   "outputs": [
    {
     "data": {
      "text/plain": [
       "False    54562\n",
       "True      5438\n",
       "dtype: int64"
      ]
     },
     "execution_count": 447,
     "metadata": {},
     "output_type": "execute_result"
    }
   ],
   "source": [
    "incorrect_ftir_opioid.value_counts()"
   ]
  },
  {
   "cell_type": "code",
   "execution_count": 440,
   "metadata": {},
   "outputs": [
    {
     "data": {
      "text/html": [
       "<div>\n",
       "<style scoped>\n",
       "    .dataframe tbody tr th:only-of-type {\n",
       "        vertical-align: middle;\n",
       "    }\n",
       "\n",
       "    .dataframe tbody tr th {\n",
       "        vertical-align: top;\n",
       "    }\n",
       "\n",
       "    .dataframe thead th {\n",
       "        text-align: right;\n",
       "    }\n",
       "</style>\n",
       "<table border=\"1\" class=\"dataframe\">\n",
       "  <thead>\n",
       "    <tr style=\"text-align: right;\">\n",
       "      <th></th>\n",
       "      <th>visit date</th>\n",
       "      <th>city</th>\n",
       "      <th>site</th>\n",
       "      <th>expected drug</th>\n",
       "      <th>category</th>\n",
       "      <th>colour</th>\n",
       "      <th>texture</th>\n",
       "      <th>fentanyl strip</th>\n",
       "      <th>benzo strip</th>\n",
       "      <th>ftir component 0</th>\n",
       "      <th>ftir component 1</th>\n",
       "      <th>ftir component 2</th>\n",
       "      <th>ftir component 3</th>\n",
       "      <th>ftir component 4</th>\n",
       "      <th>ftir component 5</th>\n",
       "      <th>contains_opioids</th>\n",
       "      <th>total_opioids</th>\n",
       "      <th>ftir_benzo</th>\n",
       "      <th>total_benzos</th>\n",
       "      <th>incorrect_strip</th>\n",
       "      <th>incorrect_ftir</th>\n",
       "    </tr>\n",
       "  </thead>\n",
       "  <tbody>\n",
       "    <tr>\n",
       "      <th>0</th>\n",
       "      <td>2023-01-31</td>\n",
       "      <td>Penticton</td>\n",
       "      <td>Fairhaven</td>\n",
       "      <td>Down (Unknown Opioid)</td>\n",
       "      <td>Opioid</td>\n",
       "      <td>Purple</td>\n",
       "      <td>Chunk</td>\n",
       "      <td>1</td>\n",
       "      <td>-1</td>\n",
       "      <td>Fentanyl</td>\n",
       "      <td>Erythritol</td>\n",
       "      <td>Caffeine</td>\n",
       "      <td>None</td>\n",
       "      <td>None</td>\n",
       "      <td>None</td>\n",
       "      <td>1</td>\n",
       "      <td>1</td>\n",
       "      <td>0</td>\n",
       "      <td>0</td>\n",
       "      <td>0</td>\n",
       "      <td>0</td>\n",
       "    </tr>\n",
       "    <tr>\n",
       "      <th>1</th>\n",
       "      <td>2023-01-31</td>\n",
       "      <td>Vancouver</td>\n",
       "      <td>Get Your Drugs Tested</td>\n",
       "      <td>Unknown</td>\n",
       "      <td>Unknown</td>\n",
       "      <td>Brown (light)</td>\n",
       "      <td>Chunk</td>\n",
       "      <td>1</td>\n",
       "      <td>-1</td>\n",
       "      <td>Uncertain match</td>\n",
       "      <td>Fentanyl</td>\n",
       "      <td>None</td>\n",
       "      <td>None</td>\n",
       "      <td>None</td>\n",
       "      <td>None</td>\n",
       "      <td>1</td>\n",
       "      <td>1</td>\n",
       "      <td>0</td>\n",
       "      <td>0</td>\n",
       "      <td>0</td>\n",
       "      <td>0</td>\n",
       "    </tr>\n",
       "    <tr>\n",
       "      <th>2</th>\n",
       "      <td>2023-01-31</td>\n",
       "      <td>Vancouver</td>\n",
       "      <td>Get Your Drugs Tested</td>\n",
       "      <td>Alprazolam</td>\n",
       "      <td>Depressant</td>\n",
       "      <td>Green (light)</td>\n",
       "      <td>Chunk</td>\n",
       "      <td>-1</td>\n",
       "      <td>1</td>\n",
       "      <td>Flualprazolam</td>\n",
       "      <td>Microcrystalline cellulose</td>\n",
       "      <td>None</td>\n",
       "      <td>None</td>\n",
       "      <td>None</td>\n",
       "      <td>None</td>\n",
       "      <td>0</td>\n",
       "      <td>0</td>\n",
       "      <td>1</td>\n",
       "      <td>1</td>\n",
       "      <td>0</td>\n",
       "      <td>0</td>\n",
       "    </tr>\n",
       "    <tr>\n",
       "      <th>3</th>\n",
       "      <td>2023-01-31</td>\n",
       "      <td>Nanaimo</td>\n",
       "      <td>CMHA</td>\n",
       "      <td>Down (Unknown Opioid)</td>\n",
       "      <td>Opioid</td>\n",
       "      <td>Pink</td>\n",
       "      <td>Powder</td>\n",
       "      <td>1</td>\n",
       "      <td>1</td>\n",
       "      <td>Fentanyl</td>\n",
       "      <td>Mannitol</td>\n",
       "      <td>Caffeine</td>\n",
       "      <td>Bromazolam</td>\n",
       "      <td>None</td>\n",
       "      <td>None</td>\n",
       "      <td>1</td>\n",
       "      <td>1</td>\n",
       "      <td>1</td>\n",
       "      <td>1</td>\n",
       "      <td>0</td>\n",
       "      <td>0</td>\n",
       "    </tr>\n",
       "    <tr>\n",
       "      <th>4</th>\n",
       "      <td>2023-01-31</td>\n",
       "      <td>Cranbrook</td>\n",
       "      <td>ANKORS (Cranbrook)</td>\n",
       "      <td>Methamphetamine</td>\n",
       "      <td>Stimulant</td>\n",
       "      <td>Colourless</td>\n",
       "      <td>Crystal</td>\n",
       "      <td>-1</td>\n",
       "      <td>0</td>\n",
       "      <td>Methamphetamine</td>\n",
       "      <td>None</td>\n",
       "      <td>None</td>\n",
       "      <td>None</td>\n",
       "      <td>None</td>\n",
       "      <td>None</td>\n",
       "      <td>0</td>\n",
       "      <td>0</td>\n",
       "      <td>0</td>\n",
       "      <td>0</td>\n",
       "      <td>0</td>\n",
       "      <td>0</td>\n",
       "    </tr>\n",
       "    <tr>\n",
       "      <th>...</th>\n",
       "      <td>...</td>\n",
       "      <td>...</td>\n",
       "      <td>...</td>\n",
       "      <td>...</td>\n",
       "      <td>...</td>\n",
       "      <td>...</td>\n",
       "      <td>...</td>\n",
       "      <td>...</td>\n",
       "      <td>...</td>\n",
       "      <td>...</td>\n",
       "      <td>...</td>\n",
       "      <td>...</td>\n",
       "      <td>...</td>\n",
       "      <td>...</td>\n",
       "      <td>...</td>\n",
       "      <td>...</td>\n",
       "      <td>...</td>\n",
       "      <td>...</td>\n",
       "      <td>...</td>\n",
       "      <td>...</td>\n",
       "      <td>...</td>\n",
       "    </tr>\n",
       "    <tr>\n",
       "      <th>59995</th>\n",
       "      <td>2018-12-03</td>\n",
       "      <td>Vancouver</td>\n",
       "      <td>Insite</td>\n",
       "      <td>MDMA</td>\n",
       "      <td>Psychedelic</td>\n",
       "      <td>Black</td>\n",
       "      <td>Granules</td>\n",
       "      <td>0</td>\n",
       "      <td>0</td>\n",
       "      <td>Uncertain match</td>\n",
       "      <td>Phenacetin</td>\n",
       "      <td>None</td>\n",
       "      <td>None</td>\n",
       "      <td>None</td>\n",
       "      <td>None</td>\n",
       "      <td>0</td>\n",
       "      <td>0</td>\n",
       "      <td>0</td>\n",
       "      <td>0</td>\n",
       "      <td>0</td>\n",
       "      <td>0</td>\n",
       "    </tr>\n",
       "    <tr>\n",
       "      <th>59996</th>\n",
       "      <td>2018-12-03</td>\n",
       "      <td>Vancouver</td>\n",
       "      <td>Insite</td>\n",
       "      <td>Fentanyl</td>\n",
       "      <td>Opioid</td>\n",
       "      <td>Purple</td>\n",
       "      <td>Granules</td>\n",
       "      <td>1</td>\n",
       "      <td>0</td>\n",
       "      <td>Caffeine</td>\n",
       "      <td>Inositol</td>\n",
       "      <td>Heroin hcl</td>\n",
       "      <td>Fentanyl</td>\n",
       "      <td>None</td>\n",
       "      <td>None</td>\n",
       "      <td>1</td>\n",
       "      <td>1</td>\n",
       "      <td>0</td>\n",
       "      <td>0</td>\n",
       "      <td>0</td>\n",
       "      <td>0</td>\n",
       "    </tr>\n",
       "    <tr>\n",
       "      <th>59997</th>\n",
       "      <td>2018-12-03</td>\n",
       "      <td>Vancouver</td>\n",
       "      <td>Getaway</td>\n",
       "      <td>Unknown</td>\n",
       "      <td>Unknown</td>\n",
       "      <td>Colourless</td>\n",
       "      <td>Crystal</td>\n",
       "      <td>-1</td>\n",
       "      <td>0</td>\n",
       "      <td>Methamphetamine</td>\n",
       "      <td>None</td>\n",
       "      <td>None</td>\n",
       "      <td>None</td>\n",
       "      <td>None</td>\n",
       "      <td>None</td>\n",
       "      <td>0</td>\n",
       "      <td>0</td>\n",
       "      <td>0</td>\n",
       "      <td>0</td>\n",
       "      <td>0</td>\n",
       "      <td>0</td>\n",
       "    </tr>\n",
       "    <tr>\n",
       "      <th>59998</th>\n",
       "      <td>2018-12-03</td>\n",
       "      <td>Vancouver</td>\n",
       "      <td>Getaway</td>\n",
       "      <td>Fentanyl</td>\n",
       "      <td>Opioid</td>\n",
       "      <td>Green</td>\n",
       "      <td>Pebble</td>\n",
       "      <td>1</td>\n",
       "      <td>0</td>\n",
       "      <td>Fentanyl</td>\n",
       "      <td>Caffeine</td>\n",
       "      <td>Mannitol</td>\n",
       "      <td>Mannitol</td>\n",
       "      <td>Caffeine</td>\n",
       "      <td>Fentanyl</td>\n",
       "      <td>1</td>\n",
       "      <td>1</td>\n",
       "      <td>0</td>\n",
       "      <td>0</td>\n",
       "      <td>0</td>\n",
       "      <td>0</td>\n",
       "    </tr>\n",
       "    <tr>\n",
       "      <th>59999</th>\n",
       "      <td>2018-12-03</td>\n",
       "      <td>Nelson</td>\n",
       "      <td>ANKORS (Nelson)</td>\n",
       "      <td>Fentanyl</td>\n",
       "      <td>Opioid</td>\n",
       "      <td>Grey</td>\n",
       "      <td>Pebble</td>\n",
       "      <td>1</td>\n",
       "      <td>0</td>\n",
       "      <td>Caffeine</td>\n",
       "      <td>Fentanyl</td>\n",
       "      <td>None</td>\n",
       "      <td>None</td>\n",
       "      <td>None</td>\n",
       "      <td>None</td>\n",
       "      <td>1</td>\n",
       "      <td>1</td>\n",
       "      <td>0</td>\n",
       "      <td>0</td>\n",
       "      <td>0</td>\n",
       "      <td>0</td>\n",
       "    </tr>\n",
       "  </tbody>\n",
       "</table>\n",
       "<p>60000 rows × 21 columns</p>\n",
       "</div>"
      ],
      "text/plain": [
       "       visit date       city                   site          expected drug  \\\n",
       "0      2023-01-31  Penticton              Fairhaven  Down (Unknown Opioid)   \n",
       "1      2023-01-31  Vancouver  Get Your Drugs Tested                Unknown   \n",
       "2      2023-01-31  Vancouver  Get Your Drugs Tested             Alprazolam   \n",
       "3      2023-01-31    Nanaimo                   CMHA  Down (Unknown Opioid)   \n",
       "4      2023-01-31  Cranbrook     ANKORS (Cranbrook)        Methamphetamine   \n",
       "...           ...        ...                    ...                    ...   \n",
       "59995  2018-12-03  Vancouver                 Insite                   MDMA   \n",
       "59996  2018-12-03  Vancouver                 Insite               Fentanyl   \n",
       "59997  2018-12-03  Vancouver                Getaway                Unknown   \n",
       "59998  2018-12-03  Vancouver                Getaway               Fentanyl   \n",
       "59999  2018-12-03     Nelson        ANKORS (Nelson)               Fentanyl   \n",
       "\n",
       "          category         colour   texture  fentanyl strip  benzo strip  \\\n",
       "0           Opioid         Purple     Chunk               1           -1   \n",
       "1          Unknown  Brown (light)     Chunk               1           -1   \n",
       "2       Depressant  Green (light)     Chunk              -1            1   \n",
       "3           Opioid           Pink    Powder               1            1   \n",
       "4        Stimulant     Colourless   Crystal              -1            0   \n",
       "...            ...            ...       ...             ...          ...   \n",
       "59995  Psychedelic          Black  Granules               0            0   \n",
       "59996       Opioid         Purple  Granules               1            0   \n",
       "59997      Unknown     Colourless   Crystal              -1            0   \n",
       "59998       Opioid          Green    Pebble               1            0   \n",
       "59999       Opioid           Grey    Pebble               1            0   \n",
       "\n",
       "      ftir component 0            ftir component 1 ftir component 2  \\\n",
       "0             Fentanyl                  Erythritol         Caffeine   \n",
       "1      Uncertain match                    Fentanyl             None   \n",
       "2        Flualprazolam  Microcrystalline cellulose             None   \n",
       "3             Fentanyl                    Mannitol         Caffeine   \n",
       "4      Methamphetamine                        None             None   \n",
       "...                ...                         ...              ...   \n",
       "59995  Uncertain match                  Phenacetin             None   \n",
       "59996         Caffeine                    Inositol       Heroin hcl   \n",
       "59997  Methamphetamine                        None             None   \n",
       "59998         Fentanyl                    Caffeine         Mannitol   \n",
       "59999         Caffeine                    Fentanyl             None   \n",
       "\n",
       "      ftir component 3 ftir component 4 ftir component 5  contains_opioids  \\\n",
       "0                 None             None             None                 1   \n",
       "1                 None             None             None                 1   \n",
       "2                 None             None             None                 0   \n",
       "3           Bromazolam             None             None                 1   \n",
       "4                 None             None             None                 0   \n",
       "...                ...              ...              ...               ...   \n",
       "59995             None             None             None                 0   \n",
       "59996         Fentanyl             None             None                 1   \n",
       "59997             None             None             None                 0   \n",
       "59998         Mannitol         Caffeine         Fentanyl                 1   \n",
       "59999             None             None             None                 1   \n",
       "\n",
       "       total_opioids  ftir_benzo  total_benzos  incorrect_strip  \\\n",
       "0                  1           0             0                0   \n",
       "1                  1           0             0                0   \n",
       "2                  0           1             1                0   \n",
       "3                  1           1             1                0   \n",
       "4                  0           0             0                0   \n",
       "...              ...         ...           ...              ...   \n",
       "59995              0           0             0                0   \n",
       "59996              1           0             0                0   \n",
       "59997              0           0             0                0   \n",
       "59998              1           0             0                0   \n",
       "59999              1           0             0                0   \n",
       "\n",
       "       incorrect_ftir  \n",
       "0                   0  \n",
       "1                   0  \n",
       "2                   0  \n",
       "3                   0  \n",
       "4                   0  \n",
       "...               ...  \n",
       "59995               0  \n",
       "59996               0  \n",
       "59997               0  \n",
       "59998               0  \n",
       "59999               0  \n",
       "\n",
       "[60000 rows x 21 columns]"
      ]
     },
     "execution_count": 440,
     "metadata": {},
     "output_type": "execute_result"
    }
   ],
   "source": [
    "idx = df[incorrect_strip].index\n",
    "idx2 = df[incorrect_ftir].index\n",
    "df['incorrect_strip'] = pd.Series(df.index.isin(idx)).astype(int)\n",
    "df['incorrect_ftir'] = pd.Series(df.index.isin(idx2)).astype(int)\n",
    "df"
   ]
  }
 ],
 "metadata": {
  "kernelspec": {
   "display_name": "drugs",
   "language": "python",
   "name": "python3"
  },
  "language_info": {
   "codemirror_mode": {
    "name": "ipython",
    "version": 3
   },
   "file_extension": ".py",
   "mimetype": "text/x-python",
   "name": "python",
   "nbconvert_exporter": "python",
   "pygments_lexer": "ipython3",
   "version": "3.10.9"
  },
  "orig_nbformat": 4,
  "vscode": {
   "interpreter": {
    "hash": "d943b4ed689cbeb84325fac1ea736cb4f575bb5014cc41287581e934615cc6ff"
   }
  }
 },
 "nbformat": 4,
 "nbformat_minor": 2
}
