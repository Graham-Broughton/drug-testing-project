{
 "cells": [
  {
   "cell_type": "code",
   "execution_count": 2,
   "metadata": {},
   "outputs": [
    {
     "name": "stdout",
     "output_type": "stream",
     "text": [
      "Connecting to Selenium\n",
      "Successfully connected to Selenium\n",
      "Starting data collection\n",
      "Collected 0 pages\n",
      "Saving data\n",
      "Collected 100 pages\n",
      "Collected 200 pages\n",
      "Collected 300 pages\n",
      "Collected 400 pages\n",
      "Collected 500 pages\n",
      "Saving data\n",
      "Collected 600 pages\n",
      "Collected 700 pages\n",
      "Collected 800 pages\n",
      "Collected 900 pages\n",
      "Collected 1000 pages\n",
      "Saving data\n",
      "Collected 1100 pages\n",
      "Collected 1200 pages\n",
      "Collected 1300 pages\n",
      "Collected 1400 pages\n",
      "Collected 1500 pages\n",
      "Saving data\n",
      "Collected 1600 pages\n",
      "Collected 1700 pages\n",
      "Collected 1800 pages\n",
      "Collected 1900 pages\n",
      "Collected 2000 pages\n",
      "Saving data\n",
      "Collected 2100 pages\n",
      "Collected 2200 pages\n",
      "Collected 2300 pages\n",
      "Collected 2400 pages\n",
      "Collected 2500 pages\n",
      "Saving data\n",
      "Collected 2600 pages\n",
      "Collected 2700 pages\n",
      "Collected 2800 pages\n",
      "Finished data collection\n"
     ]
    }
   ],
   "source": [
    "import src.data.get_data as gd\n",
    "import pandas as pd\n",
    "import numpy as np\n",
    "import config\n",
    "\n",
    "df = gd.main(\n",
    "    url=config.URL,\n",
    "    sec_wait=config.SEC_WAITING,\n",
    "    data_file_path=config.DATA_FILES\n",
    ")"
   ]
  },
  {
   "cell_type": "code",
   "execution_count": 6,
   "metadata": {},
   "outputs": [],
   "source": [
    "df = df.replace({\n",
    "    'Neg': -1,\n",
    "    np.nan: 0,\n",
    "    'Pos': 1 \n",
    "})"
   ]
  },
  {
   "cell_type": "code",
   "execution_count": 11,
   "metadata": {},
   "outputs": [
    {
     "data": {
      "text/plain": [
       "CITY                  SITE                               \n",
       "Vancouver             Get Your Drugs Tested                  35380\n",
       "                      Insite                                  6283\n",
       "                      Overdose Prevention Society             3254\n",
       "                      Molson OPS                              1986\n",
       "Nelson                ANKORS (Nelson)                         1571\n",
       "Surrey                SafePoint                               1366\n",
       "Kamloops              ASK Wellness (433 Tranquille)            886\n",
       "Nanaimo               CMHA                                     662\n",
       "Cranbrook             ANKORS (Cranbrook)                       539\n",
       "New Westminster       Purpose Society                          454\n",
       "Prince George         POUNDS                                   295\n",
       "Vernon                Vernon MHSU                              270\n",
       "Kelowna               Living Positive Resource Centre          259\n",
       "Vernon                Cammy LaFleur Outreach (Vernon)          252\n",
       "Vancouver             St. Paul's OPS                           222\n",
       "Fairmont Hot Springs  Wicked Woods August 2022                 209\n",
       "Kelowna               Outreach Urban Health                    208\n",
       "Merritt               ASK Wellness (Merritt)                   199\n",
       "Penticton             Burdock House (Penticton)                166\n",
       "Agassiz               ELMF 2018                                157\n",
       "Penticton             The Centre (Penticton)                   141\n",
       "                      Martin St Outreach Centre OPS            140\n",
       "Grand Forks           ANKORS (Grand Forks)                     137\n",
       "Kelowna               UBCO                                     131\n",
       "Merritt               Bass Coast 2018                          129\n",
       "Salmo                 Shambhala 2021 Night 2                   119\n",
       "                      Shambhala 2021 Night 3                   113\n",
       "Kamloops              The Bus (IH Mobile OPS)                  107\n",
       "Abbotsford            Abbotsford Hub                           105\n",
       "Chilliwack            Ruth and Naomi's Mission                 105\n",
       "Abbotsford            The Hub                                  102\n",
       "Trail                 ANKORS Mobile (Trail)                    100\n",
       "Penticton             P+OPS Mobile (Penticton)                  91\n",
       "Salmo                 Shambhala 2021 Night 1                    86\n",
       "Chase                 Electric Love Festival 2022               85\n",
       "Vancouver             RLLFCHC                                   85\n",
       "Chilliwack            Mountainside Harm Reduction Society       71\n",
       "Vancouver             SisterSpace                               70\n",
       "                      Three Bridges CHC                         68\n",
       "Terrace               Northwest ICMT                            62\n",
       "Kelowna               Cornerstone Shelter                       56\n",
       "Vancouver             Getaway                                   51\n",
       "Boston Bar            Altitude Music Festival 2022              51\n",
       "Vancouver             SafePoint                                 51\n",
       "                      HIM                                       49\n",
       "Mission               The Haven                                 44\n",
       "Grand Forks           ANKORS Outreach (Grand Forks)             41\n",
       "Kamloops              Kipp-Mallery (Landmark)                   41\n",
       "Sun Peaks             Snowbombing 2019                          39\n",
       "Surrey                Foxglove Housing                          31\n",
       "dtype: int64"
      ]
     },
     "execution_count": 11,
     "metadata": {},
     "output_type": "execute_result"
    }
   ],
   "source": [
    "df.groupby(['CITY', 'SITE']).size().sort_values(ascending=False).head(50)"
   ]
  },
  {
   "cell_type": "code",
   "execution_count": 2,
   "metadata": {},
   "outputs": [],
   "source": [
    "import pandas as pd\n",
    "from bs4 import BeautifulSoup\n",
    "from os.path import join\n",
    "import time\n",
    "import os\n",
    "import datetime\n",
    "import pickle\n",
    "from selenium import webdriver\n",
    "from selenium.webdriver.common.by import By\n",
    "from selenium.webdriver.common.keys import Keys\n",
    "from selenium.webdriver.support import expected_conditions as EC\n",
    "from selenium.webdriver.support.wait import WebDriverWait\n",
    "import threading\n",
    "import queue"
   ]
  },
  {
   "cell_type": "code",
   "execution_count": 3,
   "metadata": {},
   "outputs": [],
   "source": [
    "class Pages(queue.Queue):\n",
    "    def __contains__(self, item):\n",
    "        with self.mutex:\n",
    "            return item in self.queue\n",
    "\n",
    "    def __len__(self):\n",
    "        return len(self.queue)"
   ]
  },
  {
   "cell_type": "code",
   "execution_count": 9,
   "metadata": {},
   "outputs": [],
   "source": [
    "class Crawler():\n",
    "    def __init__(self, Queue, **kwargs):\n",
    "        # sourcery skip: remove-pass-body\n",
    "        self.queue = Queue\n",
    "        self.url = kwargs['url']\n",
    "        self.seconds_to_wait = kwargs['sec_wait']\n",
    "        self.data_file_path = kwargs['data_file_path']\n",
    "\n",
    "    def teardown_method(self):\n",
    "        self.driver.quit()\n",
    "\n",
    "    def connect_multi(self):\n",
    "        print(\"Connecting thread to Selenium\")\n",
    "        self.driver = webdriver.Chrome()\n",
    "        self.driver.get(self.url)\n",
    "        self.driver.set_window_size(1280, 680)\n",
    "        time.sleep(self.seconds_to_wait)\n",
    "        self.driver.switch_to.frame(0)\n",
    "        self.driver.find_element(By.CSS_SELECTOR, '#tab_container > li:nth-child(3) > a').click()\n",
    "        print(\"Successfully connected thread to Selenium\")\n",
    "\n",
    "    def make_df(self):\n",
    "        page_source = self.driver.page_source\n",
    "        soup = BeautifulSoup(page_source, 'html.parser')\n",
    "        table = soup.find('table')\n",
    "        return pd.read_html(str(table))[0]\n",
    "\n",
    "    def collect_data(self, page=0):\n",
    "        print(\"Starting data collection\")\n",
    "        self.driver.find_element(By.CLASS_NAME, \"current-page\").click()\n",
    "        self.driver.find_element(By.CLASS_NAME, \"current-page\").send_keys(str(page))\n",
    "        self.driver.find_element(By.CLASS_NAME, \"current-page\").send_keys(Keys.ENTER)\n",
    "        df = self.make_df()\n",
    "        print(\"Finished data collection\")\n",
    "        return df\n",
    "\n",
    "    def run(self):\n",
    "        self.connect_multi()\n",
    "        while True:\n",
    "            page = self.queue.get()\n",
    "            try:\n",
    "                if page is None:\n",
    "                    break\n",
    "                df = self.collect_data(page=page)\n",
    "            except Exception as e:\n",
    "                print(\"Encountered exception: \", e)\n",
    "            self.queue.task_done()\n",
    "        self.teardown_method()\n",
    "        return df"
   ]
  },
  {
   "cell_type": "code",
   "execution_count": 5,
   "metadata": {},
   "outputs": [],
   "source": [
    "def get_page_num(driver, url, sec_wait):\n",
    "    print(\"Connecting to Selenium\")\n",
    "    driver.get(url)\n",
    "    driver.set_window_size(1280, 680)\n",
    "    time.sleep(sec_wait)\n",
    "    driver.switch_to.frame(0)\n",
    "    driver.find_element(By.XPATH, '//*[@id=\"tab_container\"]/li[3]/a').click()\n",
    "    pages = driver.find_element(By.XPATH,\n",
    "        '/html/body/div/div/div[3]/div/div/div[3]/div/div/div[2]/div/div/div/div[3]/div/div[2]'\n",
    "    ).text\n",
    "    print(f\"Found {pages} pages\")\n",
    "    driver.quit()\n",
    "    return int(pages)"
   ]
  },
  {
   "cell_type": "code",
   "execution_count": 7,
   "metadata": {},
   "outputs": [
    {
     "name": "stdout",
     "output_type": "stream",
     "text": [
      "Connecting to Selenium\n",
      "Found 3004 pages\n",
      "Connecting thread to Selenium\n",
      "Connecting thread to Selenium\n"
     ]
    },
    {
     "name": "stderr",
     "output_type": "stream",
     "text": [
      "Exception in thread Thread-3 (run):\n",
      "Traceback (most recent call last):\n",
      "  File \"c:\\Users\\broug\\mambaforge\\envs\\drug-testing\\Lib\\threading.py\", line 1038, in _bootstrap_inner\n",
      "    self.run()\n",
      "  File \"c:\\Users\\broug\\mambaforge\\envs\\drug-testing\\Lib\\threading.py\", line 975, in run\n",
      "    self._target(*self._args, **self._kwargs)\n",
      "  File \"C:\\Users\\broug\\AppData\\Local\\Temp\\ipykernel_2836\\1043009932.py\", line 38, in run\n",
      "  File \"C:\\Users\\broug\\AppData\\Local\\Temp\\ipykernel_2836\\1043009932.py\", line 18, in connect_multi\n",
      "  File \"c:\\Users\\broug\\mambaforge\\envs\\drug-testing\\Lib\\site-packages\\selenium\\webdriver\\remote\\switch_to.py\", line 92, in frame\n",
      "    self._driver.execute(Command.SWITCH_TO_FRAME, {\"id\": frame_reference})\n",
      "  File \"c:\\Users\\broug\\mambaforge\\envs\\drug-testing\\Lib\\site-packages\\selenium\\webdriver\\remote\\webdriver.py\", line 440, in execute\n",
      "    self.error_handler.check_response(response)\n",
      "  File \"c:\\Users\\broug\\mambaforge\\envs\\drug-testing\\Lib\\site-packages\\selenium\\webdriver\\remote\\errorhandler.py\", line 245, in check_response\n",
      "    raise exception_class(message, screen, stacktrace)\n",
      "selenium.common.exceptions.NoSuchWindowException: Message: no such window: target window already closed\n",
      "from unknown error: web view not found\n",
      "  (Session info: chrome=108.0.5359.125)\n",
      "Stacktrace:\n",
      "Backtrace:\n",
      "\t(No symbol) [0x0033F243]\n",
      "\t(No symbol) [0x002C7FD1]\n",
      "\t(No symbol) [0x001BD04D]\n",
      "\t(No symbol) [0x001A2D7A]\n",
      "\t(No symbol) [0x0020BE7B]\n",
      "\t(No symbol) [0x0021C196]\n",
      "\t(No symbol) [0x00208386]\n",
      "\t(No symbol) [0x001E163C]\n",
      "\t(No symbol) [0x001E269D]\n",
      "\tGetHandleVerifier [0x005D9A22+2655074]\n",
      "\tGetHandleVerifier [0x005CCA24+2601828]\n",
      "\tGetHandleVerifier [0x003E8C0A+619850]\n",
      "\tGetHandleVerifier [0x003E7830+614768]\n",
      "\t(No symbol) [0x002D05FC]\n",
      "\t(No symbol) [0x002D5968]\n",
      "\t(No symbol) [0x002D5A55]\n",
      "\t(No symbol) [0x002E051B]\n",
      "\tBaseThreadInitThunk [0x76A1FA29+25]\n",
      "\tRtlGetAppContainerNamedObjectPath [0x770A7A7E+286]\n",
      "\tRtlGetAppContainerNamedObjectPath [0x770A7A4E+238]\n",
      "\n"
     ]
    },
    {
     "name": "stdout",
     "output_type": "stream",
     "text": [
      "Successfully connected thread to Selenium\n",
      "Starting data collection\n",
      "Encountered exception:  Message: element not interactable\n",
      "  (Session info: chrome=108.0.5359.125)\n",
      "Stacktrace:\n",
      "Backtrace:\n",
      "\t(No symbol) [0x0033F243]\n",
      "\t(No symbol) [0x002C7FD1]\n",
      "\t(No symbol) [0x001BCF10]\n",
      "\t(No symbol) [0x001ED003]\n",
      "\t(No symbol) [0x001E32A6]\n",
      "\t(No symbol) [0x0020858C]\n",
      "\t(No symbol) [0x001E2BFF]\n",
      "\t(No symbol) [0x00208804]\n",
      "\t(No symbol) [0x0021C9EB]\n",
      "\t(No symbol) [0x00208386]\n",
      "\t(No symbol) [0x001E163C]\n",
      "\t(No symbol) [0x001E269D]\n",
      "\tGetHandleVerifier [0x005D9A22+2655074]\n",
      "\tGetHandleVerifier [0x005CCA24+2601828]\n",
      "\tGetHandleVerifier [0x003E8C0A+619850]\n",
      "\tGetHandleVerifier [0x003E7830+614768]\n",
      "\t(No symbol) [0x002D05FC]\n",
      "\t(No symbol) [0x002D5968]\n",
      "\t(No symbol) [0x002D5A55]\n",
      "\t(No symbol) [0x002E051B]\n",
      "\tBaseThreadInitThunk [0x76A1FA29+25]\n",
      "\tRtlGetAppContainerNamedObjectPath [0x770A7A7E+286]\n",
      "\tRtlGetAppContainerNamedObjectPath [0x770A7A4E+238]\n",
      "\n"
     ]
    }
   ],
   "source": [
    "Q = Pages()\n",
    "driver = webdriver.Chrome()\n",
    "pages = get_page_num(driver, \"https://drugcheckingbc.ca/dashboard/\", 40)\n",
    "Q.put(pages)"
   ]
  },
  {
   "cell_type": "code",
   "execution_count": 10,
   "metadata": {},
   "outputs": [
    {
     "name": "stdout",
     "output_type": "stream",
     "text": [
      "Connecting thread to Selenium\n",
      "Connecting thread to Selenium\n"
     ]
    },
    {
     "name": "stderr",
     "output_type": "stream",
     "text": [
      "Exception in thread Thread-8 (run):\n",
      "Traceback (most recent call last):\n",
      "  File \"c:\\Users\\broug\\mambaforge\\envs\\drug-testing\\Lib\\threading.py\", line 1038, in _bootstrap_inner\n",
      "    self.run()\n",
      "  File \"c:\\Users\\broug\\mambaforge\\envs\\drug-testing\\Lib\\threading.py\", line 975, in run\n",
      "    self._target(*self._args, **self._kwargs)\n",
      "  File \"C:\\Users\\broug\\AppData\\Local\\Temp\\ipykernel_2836\\2483615087.py\", line 38, in run\n",
      "  File \"C:\\Users\\broug\\AppData\\Local\\Temp\\ipykernel_2836\\2483615087.py\", line 19, in connect_multi\n",
      "  File \"c:\\Users\\broug\\mambaforge\\envs\\drug-testing\\Lib\\site-packages\\selenium\\webdriver\\remote\\webdriver.py\", line 830, in find_element\n",
      "    return self.execute(Command.FIND_ELEMENT, {\"using\": by, \"value\": value})[\"value\"]\n",
      "           ^^^^^^^^^^^^^^^^^^^^^^^^^^^^^^^^^^^^^^^^^^^^^^^^^^^^^^^^^^^^^^^^^\n",
      "  File \"c:\\Users\\broug\\mambaforge\\envs\\drug-testing\\Lib\\site-packages\\selenium\\webdriver\\remote\\webdriver.py\", line 440, in execute\n",
      "    self.error_handler.check_response(response)\n",
      "  File \"c:\\Users\\broug\\mambaforge\\envs\\drug-testing\\Lib\\site-packages\\selenium\\webdriver\\remote\\errorhandler.py\", line 245, in check_response\n",
      "    raise exception_class(message, screen, stacktrace)\n",
      "selenium.common.exceptions.NoSuchElementException: Message: no such element: Unable to locate element: {\"method\":\"css selector\",\"selector\":\"#tab_container > li:nth-child(3) > a\"}\n",
      "  (Session info: chrome=108.0.5359.125)\n",
      "Stacktrace:\n",
      "Backtrace:\n",
      "\t(No symbol) [0x0033F243]\n",
      "\t(No symbol) [0x002C7FD1]\n",
      "\t(No symbol) [0x001BD04D]\n",
      "\t(No symbol) [0x001EC0B0]\n",
      "\t(No symbol) [0x001EC22B]\n",
      "\t(No symbol) [0x0021E612]\n",
      "\t(No symbol) [0x002085D4]\n",
      "\t(No symbol) [0x0021C9EB]\n",
      "\t(No symbol) [0x00208386]\n",
      "\t(No symbol) [0x001E163C]\n",
      "\t(No symbol) [0x001E269D]\n",
      "\tGetHandleVerifier [0x005D9A22+2655074]\n",
      "\tGetHandleVerifier [0x005CCA24+2601828]\n",
      "\tGetHandleVerifier [0x003E8C0A+619850]\n",
      "\tGetHandleVerifier [0x003E7830+614768]\n",
      "\t(No symbol) [0x002D05FC]\n",
      "\t(No symbol) [0x002D5968]\n",
      "\t(No symbol) [0x002D5A55]\n",
      "\t(No symbol) [0x002E051B]\n",
      "\tBaseThreadInitThunk [0x76A1FA29+25]\n",
      "\tRtlGetAppContainerNamedObjectPath [0x770A7A7E+286]\n",
      "\tRtlGetAppContainerNamedObjectPath [0x770A7A4E+238]\n",
      "\n"
     ]
    },
    {
     "name": "stdout",
     "output_type": "stream",
     "text": [
      "Successfully connected thread to Selenium\n"
     ]
    }
   ],
   "source": [
    "crawlers =[Crawler(Q, url=\"https://drugcheckingbc.ca/dashboard/\", sec_wait=40, data_file_path=\"../../data/\") for _ in range(2)]\n",
    "for crawler in crawlers:\n",
    "    t = threading.Thread(target=crawler.run)\n",
    "    t.daemon = True\n",
    "    t.start()\n",
    "Q.join()"
   ]
  },
  {
   "cell_type": "code",
   "execution_count": 4,
   "metadata": {},
   "outputs": [
    {
     "ename": "ImportError",
     "evalue": "attempted relative import with no known parent package",
     "output_type": "error",
     "traceback": [
      "\u001b[1;31m---------------------------------------------------------------------------\u001b[0m",
      "\u001b[1;31mImportError\u001b[0m                               Traceback (most recent call last)",
      "Cell \u001b[1;32mIn[4], line 1\u001b[0m\n\u001b[1;32m----> 1\u001b[0m \u001b[39mfrom\u001b[39;00m \u001b[39m.\u001b[39;00m\u001b[39m.\u001b[39;00m \u001b[39mimport\u001b[39;00m config\n",
      "\u001b[1;31mImportError\u001b[0m: attempted relative import with no known parent package"
     ]
    }
   ],
   "source": [
    "from .. import config"
   ]
  },
  {
   "cell_type": "code",
   "execution_count": null,
   "metadata": {},
   "outputs": [],
   "source": []
  }
 ],
 "metadata": {
  "kernelspec": {
   "display_name": "drug-testing",
   "language": "python",
   "name": "python3"
  },
  "language_info": {
   "codemirror_mode": {
    "name": "ipython",
    "version": 3
   },
   "file_extension": ".py",
   "mimetype": "text/x-python",
   "name": "python",
   "nbconvert_exporter": "python",
   "pygments_lexer": "ipython3",
   "version": "3.11.0"
  },
  "orig_nbformat": 4,
  "vscode": {
   "interpreter": {
    "hash": "3e25a17590ab52d26eba572b1df4bdf771dbae3e93404117a60d8c973ab7cb66"
   }
  }
 },
 "nbformat": 4,
 "nbformat_minor": 2
}
