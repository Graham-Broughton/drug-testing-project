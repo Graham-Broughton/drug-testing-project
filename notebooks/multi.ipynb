{
 "cells": [
  {
   "cell_type": "code",
   "execution_count": 1,
   "metadata": {},
   "outputs": [],
   "source": [
    "%load_ext autoreload\n",
    "%autoreload 2"
   ]
  },
  {
   "cell_type": "code",
   "execution_count": 2,
   "metadata": {},
   "outputs": [],
   "source": [
    "import pandas as pd\n",
    "import os\n",
    "import time\n",
    "import yaml\n",
    "import datetime\n",
    "import pickle\n",
    "from multiprocessing import Queue, Pool\n",
    "\n",
    "from selenium import webdriver\n",
    "from selenium.webdriver.common.by import By\n",
    "from selenium.webdriver.common.keys import Keys\n",
    "from selenium.webdriver.support import expected_conditions as EC\n",
    "from selenium.webdriver.support.wait import WebDriverWait\n",
    "from selenium.common.exceptions import TimeoutException\n",
    "from bs4 import BeautifulSoup\n",
    "\n",
    "import sys\n",
    "sys.path.append('..')\n",
    "from config import CFG\n",
    "CFG=CFG()\n",
    "\n",
    "import warnings; warnings.simplefilter('ignore')"
   ]
  },
  {
   "cell_type": "code",
   "execution_count": 7,
   "metadata": {},
   "outputs": [],
   "source": [
    "class Crawler():\n",
    "    def __init__(self, *chrome_options, url=CFG.URL2, window_size=CFG.WINDOW_SIZE):\n",
    "        \"\"\"\n",
    "        Constructor function that loads any options and connects to the webpage\n",
    "\n",
    "        Args:\n",
    "            chrome_options: A list of chrome options to be passed to the webdriver\n",
    "            url: The url to connect to\n",
    "            window_size: The size of the window to be opened\n",
    "        \"\"\"\n",
    "        # sourcery skip: remove-pass-body\n",
    "        print(\"starting selenium\")\n",
    "        self.url = url\n",
    "        self.window_size = window_size\n",
    "\n",
    "        # Unpacking any chrome options passed in\n",
    "        if chrome_options:\n",
    "            self.options = webdriver.ChromeOptions()\n",
    "            for option in chrome_options:\n",
    "                self.options.add_argument(option)\n",
    "                \n",
    "        self.opt = bool(chrome_options)  # this is used to prevent an error from inputing an empty options atrribute\n",
    "        if self.opt:\n",
    "            self.driver = webdriver.Chrome(options=self.options)\n",
    "        else:\n",
    "            self.driver = webdriver.Chrome()\n",
    "            \n",
    "        print(\"Connected to website\") \n",
    "        self.driver.get(self.url)\n",
    "        self.driver.set_window_size(self.window_size[0], self.window_size[1])\n",
    "\n",
    "    def load_webpage(self):\n",
    "        \"\"\"\n",
    "        Loads the results tab by switching frames and clicking on the results tab,\n",
    "        also contains an intermediate try/except block to look for an error msg, all using explicit waits.        \n",
    "        \"\"\"\n",
    "        print(\"waiting to switch frames\")\n",
    "        # Need to switch frames to enable interaction with the loaded javascript\n",
    "        WebDriverWait(self.driver, 10).until(EC.frame_to_be_available_and_switch_to_it((By.CLASS_NAME, \"iframe-class\")))\n",
    "        print(\"switched frames, waiting to click results\")\n",
    "\n",
    "        # checking to see if the react error message is present, if it is, refresh and if not, pass\n",
    "        try:\n",
    "            WebDriverWait(self.driver, 20).until(EC.visibility_of((By.XPATH, '//*[@id=\"react-entry-point\"]/div')))\n",
    "            WebDriverWait(self.driver, 5).until(EC.visibility_of((By.XPATH, '/html/body/div[2]/div')))\n",
    "        except TimeoutException as e:\n",
    "            pass\n",
    "        else:\n",
    "            self.refresh_page()\n",
    "\n",
    "        # waiting to click results tab\n",
    "        WebDriverWait(self.driver, 20).until(\n",
    "                EC.element_to_be_clickable((By.CSS_SELECTOR, \"#tab_container > li:nth-child(3) > a\"))\n",
    "            ).click()\n",
    "        print(\"selected results tab\")\n",
    "\n",
    "    def connect(self, max_tries=2):\n",
    "        \"\"\"\n",
    "        Implements a counted try/except loop to load the webpage and refresh it in case of a timeout error.\n",
    "        It also refreshes the page if there is any other exception thrown.\n",
    "        \n",
    "        Args:\n",
    "            max_tries: The max number of loops to try and load the webpage\n",
    "        \"\"\"\n",
    "        loaded = False\n",
    "        counter = 0\n",
    "        while not loaded:\n",
    "            try:\n",
    "                self.load_webpage()\n",
    "                loaded = True\n",
    "            except TimeoutException as e:\n",
    "                self.refresh_page(e)\n",
    "            except Exception as e:\n",
    "                print(\"Exception, trying again\")\n",
    "                self.refresh_page(e)\n",
    "            counter += 1\n",
    "            if counter == max_tries:\n",
    "                print(\"Too many attempts, exiting\")\n",
    "                self.driver.quit()\n",
    "                break\n",
    "\n",
    "    def refresh_page(self, error):\n",
    "        print(f\"{error}, trying again\")\n",
    "        self.driver.refresh()\n",
    "            \n",
    "    def __del__(self):\n",
    "        self.driver.quit()\n",
    "\n",
    "    def get_page_count(self):\n",
    "        \"\"\"\n",
    "        Finds the container holding the last page number and returns it as a string\n",
    "        \"\"\"\n",
    "        pages = self.driver.find_element(By.CLASS_NAME,\n",
    "            'last-page'\n",
    "        ).text\n",
    "        print(f\"Page count: {pages}\")\n",
    "        return str(pages)\n",
    "\n",
    "    def load_queue(self, data_queue):\n",
    "        \"\"\"\n",
    "        Loads an instance of multiprocessing.Queue with the listified output obtained from get_page_count\n",
    "        Args:\n",
    "            queue: An instance of multiprocessing.Queue\n",
    "        \"\"\"\n",
    "        pages = self.get_page_count()\n",
    "        [data_queue.put(x) for x in range(1, int(pages)+1)]\n",
    "        print(\"Loaded queue\")\n",
    "\n",
    "    def get_from_queue(self, data_queue):\n",
    "        \"\"\"\n",
    "        Gets the next item from the queue and returns it as a string, if the queue is empty, it returns None\n",
    "        Args:\n",
    "            queue: An instance of multiprocessing.Queue\n",
    "        \"\"\"\n",
    "        try:\n",
    "            page = data_queue.get()\n",
    "        except Exception:\n",
    "            data_queue.empty()\n",
    "            print(\"Queue is empty\")\n",
    "            empty = True\n",
    "        return str(page), empty\n",
    "\n",
    "    def change_page(self, data_queue):\n",
    "        \"\"\"\n",
    "        Gets page number from get_from_queue and enters it into the page box\n",
    "        Args:\n",
    "            queue: An instance of multiprocessing.Queue\n",
    "        \"\"\"\n",
    "        page, empty = self.get_from_queue(data_queue)\n",
    "        # page = \"10\"\n",
    "        page_box = self.driver.find_element(By.CLASS_NAME, \"current-page\")\n",
    "        page_box.send_keys(page)\n",
    "        return empty\n",
    "\n",
    "    def make_df(self):\n",
    "        page_source = self.driver.page_source\n",
    "        soup = BeautifulSoup(page_source, 'html.parser')\n",
    "        table = soup.find('table')\n",
    "        return pd.read_html(str(table))[0]\n",
    "\n",
    "    def collect_data(self, data_queue, product_queue):\n",
    "        \"\"\"\n",
    "        Collects the data from the webpage after changing pages, compiles it into a pd.DataFrame,\n",
    "        then puts it into the product queue\n",
    "        \"\"\"\n",
    "        print(\"Starting data collection\")\n",
    "        empty = False\n",
    "        while not empty:\n",
    "            empty = self.change_page(data_queue)\n",
    "            df = self.make_df())\n",
    "            product_queue.put(df)\n",
    "        "
   ]
  },
  {
   "cell_type": "code",
   "execution_count": 4,
   "metadata": {},
   "outputs": [],
   "source": [
    "DQ = Queue()\n",
    "PQ = Queue()"
   ]
  },
  {
   "cell_type": "code",
   "execution_count": 8,
   "metadata": {},
   "outputs": [
    {
     "name": "stdout",
     "output_type": "stream",
     "text": [
      "starting selenium\n",
      "Connected to website\n"
     ]
    }
   ],
   "source": [
    "crawler = Crawler()"
   ]
  },
  {
   "cell_type": "code",
   "execution_count": 6,
   "metadata": {},
   "outputs": [
    {
     "name": "stdout",
     "output_type": "stream",
     "text": [
      "waiting to switch frames\n",
      "switched frames, waiting to click results\n"
     ]
    },
    {
     "ename": "KeyboardInterrupt",
     "evalue": "",
     "output_type": "error",
     "traceback": [
      "\u001b[1;31m---------------------------------------------------------------------------\u001b[0m",
      "\u001b[1;31mKeyboardInterrupt\u001b[0m                         Traceback (most recent call last)",
      "Cell \u001b[1;32mIn [6], line 1\u001b[0m\n\u001b[1;32m----> 1\u001b[0m crawler\u001b[39m.\u001b[39mconnect()\n",
      "Cell \u001b[1;32mIn [3], line 68\u001b[0m, in \u001b[0;36mCrawler.connect\u001b[1;34m(self, max_tries)\u001b[0m\n\u001b[0;32m     66\u001b[0m \u001b[39mwhile\u001b[39;00m \u001b[39mnot\u001b[39;00m loaded:\n\u001b[0;32m     67\u001b[0m     \u001b[39mtry\u001b[39;00m:\n\u001b[1;32m---> 68\u001b[0m         \u001b[39mself\u001b[39;49m\u001b[39m.\u001b[39;49mload_webpage()\n\u001b[0;32m     69\u001b[0m         loaded \u001b[39m=\u001b[39m \u001b[39mTrue\u001b[39;00m\n\u001b[0;32m     70\u001b[0m     \u001b[39mexcept\u001b[39;00m TimeoutException \u001b[39mas\u001b[39;00m e:\n",
      "Cell \u001b[1;32mIn [3], line 44\u001b[0m, in \u001b[0;36mCrawler.load_webpage\u001b[1;34m(self)\u001b[0m\n\u001b[0;32m     42\u001b[0m \u001b[39m# checking to see if the error message is present, if it is, refresh and if not, pass\u001b[39;00m\n\u001b[0;32m     43\u001b[0m \u001b[39mtry\u001b[39;00m:\n\u001b[1;32m---> 44\u001b[0m     WebDriverWait(\u001b[39mself\u001b[39;49m\u001b[39m.\u001b[39;49mdriver, \u001b[39m20\u001b[39;49m)\u001b[39m.\u001b[39;49muntil(EC\u001b[39m.\u001b[39;49melement_to_be_clickable((By\u001b[39m.\u001b[39;49mXPATH, \u001b[39m'\u001b[39;49m\u001b[39m//*[@id=\u001b[39;49m\u001b[39m\"\u001b[39;49m\u001b[39mreact-entry-point\u001b[39;49m\u001b[39m\"\u001b[39;49m\u001b[39m]/div\u001b[39;49m\u001b[39m'\u001b[39;49m)))\u001b[39m.\u001b[39mclick()\n\u001b[0;32m     45\u001b[0m \u001b[39mexcept\u001b[39;00m TimeoutException \u001b[39mas\u001b[39;00m e:\n\u001b[0;32m     46\u001b[0m     \u001b[39mpass\u001b[39;00m\n",
      "File \u001b[1;32mc:\\Users\\broug\\mambaforge\\envs\\drugs\\lib\\site-packages\\selenium\\webdriver\\support\\wait.py:92\u001b[0m, in \u001b[0;36mWebDriverWait.until\u001b[1;34m(self, method, message)\u001b[0m\n\u001b[0;32m     90\u001b[0m     screen \u001b[39m=\u001b[39m \u001b[39mgetattr\u001b[39m(exc, \u001b[39m\"\u001b[39m\u001b[39mscreen\u001b[39m\u001b[39m\"\u001b[39m, \u001b[39mNone\u001b[39;00m)\n\u001b[0;32m     91\u001b[0m     stacktrace \u001b[39m=\u001b[39m \u001b[39mgetattr\u001b[39m(exc, \u001b[39m\"\u001b[39m\u001b[39mstacktrace\u001b[39m\u001b[39m\"\u001b[39m, \u001b[39mNone\u001b[39;00m)\n\u001b[1;32m---> 92\u001b[0m time\u001b[39m.\u001b[39;49msleep(\u001b[39mself\u001b[39;49m\u001b[39m.\u001b[39;49m_poll)\n\u001b[0;32m     93\u001b[0m \u001b[39mif\u001b[39;00m time\u001b[39m.\u001b[39mmonotonic() \u001b[39m>\u001b[39m end_time:\n\u001b[0;32m     94\u001b[0m     \u001b[39mbreak\u001b[39;00m\n",
      "\u001b[1;31mKeyboardInterrupt\u001b[0m: "
     ]
    }
   ],
   "source": [
    "crawler.connect()"
   ]
  },
  {
   "cell_type": "code",
   "execution_count": null,
   "metadata": {},
   "outputs": [],
   "source": [
    "crawler.load_queue()"
   ]
  },
  {
   "cell_type": "code",
   "execution_count": null,
   "metadata": {},
   "outputs": [],
   "source": [
    "crawler.change_page()"
   ]
  },
  {
   "cell_type": "code",
   "execution_count": null,
   "metadata": {},
   "outputs": [],
   "source": []
  }
 ],
 "metadata": {
  "kernelspec": {
   "display_name": "drugs",
   "language": "python",
   "name": "python3"
  },
  "language_info": {
   "codemirror_mode": {
    "name": "ipython",
    "version": 3
   },
   "file_extension": ".py",
   "mimetype": "text/x-python",
   "name": "python",
   "nbconvert_exporter": "python",
   "pygments_lexer": "ipython3",
   "version": "3.10.9"
  },
  "orig_nbformat": 4,
  "vscode": {
   "interpreter": {
    "hash": "d943b4ed689cbeb84325fac1ea736cb4f575bb5014cc41287581e934615cc6ff"
   }
  }
 },
 "nbformat": 4,
 "nbformat_minor": 2
}
