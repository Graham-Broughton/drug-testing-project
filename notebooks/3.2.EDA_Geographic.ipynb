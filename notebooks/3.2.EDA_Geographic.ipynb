{
 "cells": [
  {
   "cell_type": "code",
   "execution_count": 1,
   "metadata": {},
   "outputs": [],
   "source": [
    "%load_ext autoreload\n",
    "%autoreload 2"
   ]
  },
  {
   "cell_type": "code",
   "execution_count": 2,
   "metadata": {},
   "outputs": [],
   "source": [
    "import pandas as pd\n",
    "import geopandas as gpd\n",
    "import numpy as np\n",
    "pd.options.display.float_format = '{:,.2f}'.format\n",
    "pd.set_option('display.max_columns', 30)\n",
    "pd.set_option('display.max_rows', 300)\n",
    "\n",
    "import plotly.graph_objects as go\n",
    "import plotly.express as px\n",
    "%matplotlib inline\n",
    "\n",
    "import os\n",
    "import sys\n",
    "import datetime\n",
    "import time\n",
    "\n",
    "import folium\n",
    "import geocoder\n",
    "\n",
    "import warnings; warnings.filterwarnings('ignore')\n",
    "\n",
    "sys.path.append('..')\n",
    "from config import CFG\n",
    "CFG = CFG()\n",
    "\n",
    "date = datetime.datetime(2023, 2, 10).strftime('%Y-%m-%d')\n",
    "CFG.DATE = date"
   ]
  },
  {
   "cell_type": "code",
   "execution_count": 4,
   "metadata": {},
   "outputs": [],
   "source": [
    "df = pd.read_csv(os.path.join(CFG.PROCESSED_DATA_PATH, f\"df-processed-{CFG.DATE}.csv\"))\n",
    "latlng_df = pd.read_csv(os.path.join(CFG.PROCESSED_DATA_PATH, f\"geodata\\latlng.csv\"))\n",
    "df['city'] = df['city'] + ', BC'"
   ]
  },
  {
   "cell_type": "code",
   "execution_count": 23,
   "metadata": {},
   "outputs": [
    {
     "data": {
      "text/plain": [
       "49.5003268"
      ]
     },
     "execution_count": 23,
     "metadata": {},
     "output_type": "execute_result"
    }
   ],
   "source": [
    "# g = geocoder.osm(cities[0])\n",
    "g.json['lat']"
   ]
  },
  {
   "cell_type": "code",
   "execution_count": 32,
   "metadata": {},
   "outputs": [],
   "source": [
    "def get_latlng(city):\n",
    "    g = geocoder.osm(city)\n",
    "    lat = g.json['lat']\n",
    "    lng = g.json['lng']\n",
    "    return lat, lng\n",
    "\n",
    "def latlng(cities):\n",
    "    latlng_dict = {}\n",
    "    for city in cities:\n",
    "        sleepytime = np.random.rand() * 5\n",
    "        time.sleep(sleepytime)\n",
    "        lat, lng = get_latlng(city)\n",
    "        latlng_dict[city] = [lat, lng]\n",
    "    return latlng_dict"
   ]
  },
  {
   "cell_type": "code",
   "execution_count": 31,
   "metadata": {},
   "outputs": [
    {
     "data": {
      "text/plain": [
       "['Penticton, BC',\n",
       " 'Vancouver, BC',\n",
       " 'Nanaimo, BC',\n",
       " 'Cranbrook, BC',\n",
       " 'Kelowna, BC',\n",
       " 'Terrace, BC',\n",
       " 'Vernon, BC',\n",
       " 'Kamloops, BC',\n",
       " 'Merritt, BC',\n",
       " 'Nelson, BC',\n",
       " 'Burnaby, BC',\n",
       " 'New Westminster, BC',\n",
       " 'Surrey, BC',\n",
       " 'Coquitlam, BC',\n",
       " 'Prince George, BC',\n",
       " 'Chilliwack, BC',\n",
       " 'Trail, BC',\n",
       " 'Kimberley, BC',\n",
       " 'Abbotsford, BC',\n",
       " 'Princeton, BC',\n",
       " 'Hope, BC',\n",
       " 'Grand Forks, BC',\n",
       " 'Mission, BC',\n",
       " 'Castlegar, BC',\n",
       " 'Williams Lake, BC',\n",
       " 'Powell River, BC',\n",
       " 'Fairmont Hot Springs, BC',\n",
       " 'Victoria, BC',\n",
       " 'Boston Bar, BC',\n",
       " 'Chase, BC',\n",
       " 'White Rock, BC',\n",
       " 'Maple Ridge, BC',\n",
       " 'Langley, BC',\n",
       " 'Salmo, BC',\n",
       " 'Sun Peaks, BC']"
      ]
     },
     "execution_count": 31,
     "metadata": {},
     "output_type": "execute_result"
    }
   ],
   "source": [
    "cities"
   ]
  },
  {
   "cell_type": "code",
   "execution_count": 33,
   "metadata": {},
   "outputs": [],
   "source": [
    "cities = df['city'].unique().tolist()\n",
    "latlng_dict = latlng(cities)\n",
    "\n",
    "counts = df.value_counts('city')\n",
    "\n",
    "latlng = pd.DataFrame(latlng_dict).T.reset_index()\n",
    "latlng.columns = ['city', 'lat', 'lng']\n",
    "latlng_df = latlng.merge(counts.to_frame(), on='city').rename({0: 'count'}, axis=1)\n",
    "\n",
    "latlng_df['text'] = latlng_df['city'] + '<br>' + 'Count: ' + latlng_df['count'].astype(str)\n",
    "latlng_df = latlng_df.sort_values('count', ascending=False).reset_index(drop=True)\n",
    "\n",
    "latlng_df['count_log'] = latlng_df['count'].apply(np.log)\n",
    "latlng_df.to_csv(os.path.join(CFG.PROCESSED_DATA_PATH, 'geodata', f\"latlng.csv\"), index=False)"
   ]
  },
  {
   "cell_type": "code",
   "execution_count": 61,
   "metadata": {},
   "outputs": [
    {
     "data": {
      "application/vnd.plotly.v1+json": {
       "config": {
        "plotlyServerURL": "https://plot.ly"
       },
       "data": [
        {
         "hoverinfo": "text",
         "lat": [
          49.2608724
         ],
         "lon": [
          -123.113952
         ],
         "marker": {
          "color": "royalblue",
          "line": {
           "color": "rgb(40,40,40)",
           "width": 0.5
          },
          "size": [
           2577.235116898854
          ],
          "sizemode": "area"
         },
         "text": [
          "Vancouver, BC<br>Count: 49338"
         ],
         "type": "scattergeo"
        },
        {
         "hoverinfo": "text",
         "lat": [
          49.494891,
          50.6758269,
          49.1913033
         ],
         "lon": [
          -117.290039,
          -120.339415,
          -122.849143
         ],
         "marker": {
          "color": "crimson",
          "line": {
           "color": "rgb(40,40,40)",
           "width": 0.5
          },
          "size": [
           746.2883622368702,
           635.6687227083733,
           620.0164967043279
          ],
          "sizemode": "area"
         },
         "text": [
          "Nelson, BC<br>Count: 1674",
          "Kamloops, BC<br>Count: 1177",
          "Surrey, BC<br>Count: 1116"
         ],
         "type": "scattergeo"
        },
        {
         "hoverinfo": "text",
         "lat": [
          49.8879177,
          49.163877,
          49.5003268,
          49.5107477,
          50.2668671,
          49.2067726
         ],
         "lon": [
          -119.495902,
          -123.938122,
          -119.5932499,
          -115.7672772,
          -119.2718157,
          -122.9108818
         ],
         "marker": {
          "color": "lightseagreen",
          "line": {
           "color": "rgb(40,40,40)",
           "width": 0.5
          },
          "size": [
           521.5704836199494,
           515.5603417386812,
           511.84167514770644,
           492.3382217954653,
           450.840296438306,
           423.9179082650459
          ],
          "sizemode": "area"
         },
         "text": [
          "Kelowna, BC<br>Count: 780",
          "Nanaimo, BC<br>Count: 762",
          "Penticton, BC<br>Count: 751",
          "Cranbrook, BC<br>Count: 695",
          "Vernon, BC<br>Count: 585",
          "New Westminster, BC<br>Count: 520"
         ],
         "type": "scattergeo"
        },
        {
         "hoverinfo": "text",
         "lat": [
          53.9128645,
          49.1934431,
          49.0521162,
          49.157677,
          50.1124876,
          50.3377592,
          49.0312269,
          49.0945296
         ],
         "lon": [
          -122.7453699,
          -117.2787054,
          -122.329479,
          -121.95143,
          -120.7884149,
          -115.8616945,
          -118.4392039,
          -117.7097659
         ],
         "marker": {
          "color": "orange",
          "line": {
           "color": "rgb(40,40,40)",
           "width": 0.5
          },
          "size": [
           331.5741469375331,
           323.5225211544474,
           320.0065658824799,
           299.90668111418245,
           263.0189058409178,
           252.06496574919328,
           242.974827078024,
           217.94472666574782
          ],
          "sizemode": "area"
         },
         "text": [
          "Prince George, BC<br>Count: 332",
          "Salmo, BC<br>Count: 318",
          "Abbotsford, BC<br>Count: 312",
          "Chilliwack, BC<br>Count: 279",
          "Merritt, BC<br>Count: 224",
          "Fairmont Hot Springs, BC<br>Count: 209",
          "Grand Forks, BC<br>Count: 197",
          "Trail, BC<br>Count: 166"
         ],
         "type": "scattergeo"
        },
        {
         "hoverinfo": "text",
         "lat": [
          49.1589351,
          54.5172715,
          50.8193356,
          49.8681162,
          49.3799622,
          49.2433804,
          50.8844684,
          49.2197345,
          49.316171,
          49.0235357,
          49.2842958,
          49.6850876,
          49.460459,
          52.1292657,
          49.1039289,
          49.835676,
          48.4283182
         ],
         "lon": [
          -122.283583,
          -128.599548,
          -119.6861773,
          -121.443249,
          -121.44162,
          -122.972545,
          -119.8823295,
          -122.599707,
          -117.663574,
          -122.797924,
          -122.793281,
          -115.9819477,
          -120.507973,
          -122.1397259,
          -122.657047,
          -124.524412,
          -123.3649533
         ],
         "marker": {
          "color": "lightgrey",
          "line": {
           "color": "rgb(40,40,40)",
           "width": 0.5
          },
          "size": [
           156.6247200832101,
           143.06739762908944,
           137.1574289663269,
           91.65602611353692,
           85.52150824389564,
           74.25945021290819,
           72.59079660333022,
           49.29252094995389,
           39.410622165104556,
           39.410622165104556,
           39.410622165104556,
           11.200158328622363,
           6.852089666687114,
           2.938481813261805,
           0.2983486118088897,
           0,
           0
          ],
          "sizemode": "area"
         },
         "text": [
          "Mission, BC<br>Count: 102",
          "Terrace, BC<br>Count: 90",
          "Chase, BC<br>Count: 85",
          "Boston Bar, BC<br>Count: 51",
          "Hope, BC<br>Count: 47",
          "Burnaby, BC<br>Count: 40",
          "Sun Peaks, BC<br>Count: 39",
          "Maple Ridge, BC<br>Count: 26",
          "Castlegar, BC<br>Count: 21",
          "White Rock, BC<br>Count: 21",
          "Coquitlam, BC<br>Count: 21",
          "Kimberley, BC<br>Count: 8",
          "Princeton, BC<br>Count: 6",
          "Williams Lake, BC<br>Count: 4",
          "Langley, BC<br>Count: 2",
          "Powell River, BC<br>Count: 1",
          "Victoria, BC<br>Count: 1"
         ],
         "type": "scattergeo"
        }
       ],
       "layout": {
        "geo": {
         "coastlinecolor": "RebeccaPurple",
         "countrycolor": "rgb(150, 217, 217)",
         "fitbounds": "locations",
         "lakecolor": "Blue",
         "landcolor": "LightGreen",
         "oceancolor": "LightBlue",
         "resolution": 50,
         "rivercolor": "Blue",
         "showcoastlines": true,
         "showcountries": true,
         "showlakes": true,
         "showland": true,
         "showocean": true,
         "showrivers": true
        },
        "showlegend": false,
        "template": {
         "data": {
          "bar": [
           {
            "error_x": {
             "color": "#2a3f5f"
            },
            "error_y": {
             "color": "#2a3f5f"
            },
            "marker": {
             "line": {
              "color": "#E5ECF6",
              "width": 0.5
             },
             "pattern": {
              "fillmode": "overlay",
              "size": 10,
              "solidity": 0.2
             }
            },
            "type": "bar"
           }
          ],
          "barpolar": [
           {
            "marker": {
             "line": {
              "color": "#E5ECF6",
              "width": 0.5
             },
             "pattern": {
              "fillmode": "overlay",
              "size": 10,
              "solidity": 0.2
             }
            },
            "type": "barpolar"
           }
          ],
          "carpet": [
           {
            "aaxis": {
             "endlinecolor": "#2a3f5f",
             "gridcolor": "white",
             "linecolor": "white",
             "minorgridcolor": "white",
             "startlinecolor": "#2a3f5f"
            },
            "baxis": {
             "endlinecolor": "#2a3f5f",
             "gridcolor": "white",
             "linecolor": "white",
             "minorgridcolor": "white",
             "startlinecolor": "#2a3f5f"
            },
            "type": "carpet"
           }
          ],
          "choropleth": [
           {
            "colorbar": {
             "outlinewidth": 0,
             "ticks": ""
            },
            "type": "choropleth"
           }
          ],
          "contour": [
           {
            "colorbar": {
             "outlinewidth": 0,
             "ticks": ""
            },
            "colorscale": [
             [
              0,
              "#0d0887"
             ],
             [
              0.1111111111111111,
              "#46039f"
             ],
             [
              0.2222222222222222,
              "#7201a8"
             ],
             [
              0.3333333333333333,
              "#9c179e"
             ],
             [
              0.4444444444444444,
              "#bd3786"
             ],
             [
              0.5555555555555556,
              "#d8576b"
             ],
             [
              0.6666666666666666,
              "#ed7953"
             ],
             [
              0.7777777777777778,
              "#fb9f3a"
             ],
             [
              0.8888888888888888,
              "#fdca26"
             ],
             [
              1,
              "#f0f921"
             ]
            ],
            "type": "contour"
           }
          ],
          "contourcarpet": [
           {
            "colorbar": {
             "outlinewidth": 0,
             "ticks": ""
            },
            "type": "contourcarpet"
           }
          ],
          "heatmap": [
           {
            "colorbar": {
             "outlinewidth": 0,
             "ticks": ""
            },
            "colorscale": [
             [
              0,
              "#0d0887"
             ],
             [
              0.1111111111111111,
              "#46039f"
             ],
             [
              0.2222222222222222,
              "#7201a8"
             ],
             [
              0.3333333333333333,
              "#9c179e"
             ],
             [
              0.4444444444444444,
              "#bd3786"
             ],
             [
              0.5555555555555556,
              "#d8576b"
             ],
             [
              0.6666666666666666,
              "#ed7953"
             ],
             [
              0.7777777777777778,
              "#fb9f3a"
             ],
             [
              0.8888888888888888,
              "#fdca26"
             ],
             [
              1,
              "#f0f921"
             ]
            ],
            "type": "heatmap"
           }
          ],
          "heatmapgl": [
           {
            "colorbar": {
             "outlinewidth": 0,
             "ticks": ""
            },
            "colorscale": [
             [
              0,
              "#0d0887"
             ],
             [
              0.1111111111111111,
              "#46039f"
             ],
             [
              0.2222222222222222,
              "#7201a8"
             ],
             [
              0.3333333333333333,
              "#9c179e"
             ],
             [
              0.4444444444444444,
              "#bd3786"
             ],
             [
              0.5555555555555556,
              "#d8576b"
             ],
             [
              0.6666666666666666,
              "#ed7953"
             ],
             [
              0.7777777777777778,
              "#fb9f3a"
             ],
             [
              0.8888888888888888,
              "#fdca26"
             ],
             [
              1,
              "#f0f921"
             ]
            ],
            "type": "heatmapgl"
           }
          ],
          "histogram": [
           {
            "marker": {
             "pattern": {
              "fillmode": "overlay",
              "size": 10,
              "solidity": 0.2
             }
            },
            "type": "histogram"
           }
          ],
          "histogram2d": [
           {
            "colorbar": {
             "outlinewidth": 0,
             "ticks": ""
            },
            "colorscale": [
             [
              0,
              "#0d0887"
             ],
             [
              0.1111111111111111,
              "#46039f"
             ],
             [
              0.2222222222222222,
              "#7201a8"
             ],
             [
              0.3333333333333333,
              "#9c179e"
             ],
             [
              0.4444444444444444,
              "#bd3786"
             ],
             [
              0.5555555555555556,
              "#d8576b"
             ],
             [
              0.6666666666666666,
              "#ed7953"
             ],
             [
              0.7777777777777778,
              "#fb9f3a"
             ],
             [
              0.8888888888888888,
              "#fdca26"
             ],
             [
              1,
              "#f0f921"
             ]
            ],
            "type": "histogram2d"
           }
          ],
          "histogram2dcontour": [
           {
            "colorbar": {
             "outlinewidth": 0,
             "ticks": ""
            },
            "colorscale": [
             [
              0,
              "#0d0887"
             ],
             [
              0.1111111111111111,
              "#46039f"
             ],
             [
              0.2222222222222222,
              "#7201a8"
             ],
             [
              0.3333333333333333,
              "#9c179e"
             ],
             [
              0.4444444444444444,
              "#bd3786"
             ],
             [
              0.5555555555555556,
              "#d8576b"
             ],
             [
              0.6666666666666666,
              "#ed7953"
             ],
             [
              0.7777777777777778,
              "#fb9f3a"
             ],
             [
              0.8888888888888888,
              "#fdca26"
             ],
             [
              1,
              "#f0f921"
             ]
            ],
            "type": "histogram2dcontour"
           }
          ],
          "mesh3d": [
           {
            "colorbar": {
             "outlinewidth": 0,
             "ticks": ""
            },
            "type": "mesh3d"
           }
          ],
          "parcoords": [
           {
            "line": {
             "colorbar": {
              "outlinewidth": 0,
              "ticks": ""
             }
            },
            "type": "parcoords"
           }
          ],
          "pie": [
           {
            "automargin": true,
            "type": "pie"
           }
          ],
          "scatter": [
           {
            "fillpattern": {
             "fillmode": "overlay",
             "size": 10,
             "solidity": 0.2
            },
            "type": "scatter"
           }
          ],
          "scatter3d": [
           {
            "line": {
             "colorbar": {
              "outlinewidth": 0,
              "ticks": ""
             }
            },
            "marker": {
             "colorbar": {
              "outlinewidth": 0,
              "ticks": ""
             }
            },
            "type": "scatter3d"
           }
          ],
          "scattercarpet": [
           {
            "marker": {
             "colorbar": {
              "outlinewidth": 0,
              "ticks": ""
             }
            },
            "type": "scattercarpet"
           }
          ],
          "scattergeo": [
           {
            "marker": {
             "colorbar": {
              "outlinewidth": 0,
              "ticks": ""
             }
            },
            "type": "scattergeo"
           }
          ],
          "scattergl": [
           {
            "marker": {
             "colorbar": {
              "outlinewidth": 0,
              "ticks": ""
             }
            },
            "type": "scattergl"
           }
          ],
          "scattermapbox": [
           {
            "marker": {
             "colorbar": {
              "outlinewidth": 0,
              "ticks": ""
             }
            },
            "type": "scattermapbox"
           }
          ],
          "scatterpolar": [
           {
            "marker": {
             "colorbar": {
              "outlinewidth": 0,
              "ticks": ""
             }
            },
            "type": "scatterpolar"
           }
          ],
          "scatterpolargl": [
           {
            "marker": {
             "colorbar": {
              "outlinewidth": 0,
              "ticks": ""
             }
            },
            "type": "scatterpolargl"
           }
          ],
          "scatterternary": [
           {
            "marker": {
             "colorbar": {
              "outlinewidth": 0,
              "ticks": ""
             }
            },
            "type": "scatterternary"
           }
          ],
          "surface": [
           {
            "colorbar": {
             "outlinewidth": 0,
             "ticks": ""
            },
            "colorscale": [
             [
              0,
              "#0d0887"
             ],
             [
              0.1111111111111111,
              "#46039f"
             ],
             [
              0.2222222222222222,
              "#7201a8"
             ],
             [
              0.3333333333333333,
              "#9c179e"
             ],
             [
              0.4444444444444444,
              "#bd3786"
             ],
             [
              0.5555555555555556,
              "#d8576b"
             ],
             [
              0.6666666666666666,
              "#ed7953"
             ],
             [
              0.7777777777777778,
              "#fb9f3a"
             ],
             [
              0.8888888888888888,
              "#fdca26"
             ],
             [
              1,
              "#f0f921"
             ]
            ],
            "type": "surface"
           }
          ],
          "table": [
           {
            "cells": {
             "fill": {
              "color": "#EBF0F8"
             },
             "line": {
              "color": "white"
             }
            },
            "header": {
             "fill": {
              "color": "#C8D4E3"
             },
             "line": {
              "color": "white"
             }
            },
            "type": "table"
           }
          ]
         },
         "layout": {
          "annotationdefaults": {
           "arrowcolor": "#2a3f5f",
           "arrowhead": 0,
           "arrowwidth": 1
          },
          "autotypenumbers": "strict",
          "coloraxis": {
           "colorbar": {
            "outlinewidth": 0,
            "ticks": ""
           }
          },
          "colorscale": {
           "diverging": [
            [
             0,
             "#8e0152"
            ],
            [
             0.1,
             "#c51b7d"
            ],
            [
             0.2,
             "#de77ae"
            ],
            [
             0.3,
             "#f1b6da"
            ],
            [
             0.4,
             "#fde0ef"
            ],
            [
             0.5,
             "#f7f7f7"
            ],
            [
             0.6,
             "#e6f5d0"
            ],
            [
             0.7,
             "#b8e186"
            ],
            [
             0.8,
             "#7fbc41"
            ],
            [
             0.9,
             "#4d9221"
            ],
            [
             1,
             "#276419"
            ]
           ],
           "sequential": [
            [
             0,
             "#0d0887"
            ],
            [
             0.1111111111111111,
             "#46039f"
            ],
            [
             0.2222222222222222,
             "#7201a8"
            ],
            [
             0.3333333333333333,
             "#9c179e"
            ],
            [
             0.4444444444444444,
             "#bd3786"
            ],
            [
             0.5555555555555556,
             "#d8576b"
            ],
            [
             0.6666666666666666,
             "#ed7953"
            ],
            [
             0.7777777777777778,
             "#fb9f3a"
            ],
            [
             0.8888888888888888,
             "#fdca26"
            ],
            [
             1,
             "#f0f921"
            ]
           ],
           "sequentialminus": [
            [
             0,
             "#0d0887"
            ],
            [
             0.1111111111111111,
             "#46039f"
            ],
            [
             0.2222222222222222,
             "#7201a8"
            ],
            [
             0.3333333333333333,
             "#9c179e"
            ],
            [
             0.4444444444444444,
             "#bd3786"
            ],
            [
             0.5555555555555556,
             "#d8576b"
            ],
            [
             0.6666666666666666,
             "#ed7953"
            ],
            [
             0.7777777777777778,
             "#fb9f3a"
            ],
            [
             0.8888888888888888,
             "#fdca26"
            ],
            [
             1,
             "#f0f921"
            ]
           ]
          },
          "colorway": [
           "#636efa",
           "#EF553B",
           "#00cc96",
           "#ab63fa",
           "#FFA15A",
           "#19d3f3",
           "#FF6692",
           "#B6E880",
           "#FF97FF",
           "#FECB52"
          ],
          "font": {
           "color": "#2a3f5f"
          },
          "geo": {
           "bgcolor": "white",
           "lakecolor": "white",
           "landcolor": "#E5ECF6",
           "showlakes": true,
           "showland": true,
           "subunitcolor": "white"
          },
          "hoverlabel": {
           "align": "left"
          },
          "hovermode": "closest",
          "mapbox": {
           "style": "light"
          },
          "paper_bgcolor": "white",
          "plot_bgcolor": "#E5ECF6",
          "polar": {
           "angularaxis": {
            "gridcolor": "white",
            "linecolor": "white",
            "ticks": ""
           },
           "bgcolor": "#E5ECF6",
           "radialaxis": {
            "gridcolor": "white",
            "linecolor": "white",
            "ticks": ""
           }
          },
          "scene": {
           "xaxis": {
            "backgroundcolor": "#E5ECF6",
            "gridcolor": "white",
            "gridwidth": 2,
            "linecolor": "white",
            "showbackground": true,
            "ticks": "",
            "zerolinecolor": "white"
           },
           "yaxis": {
            "backgroundcolor": "#E5ECF6",
            "gridcolor": "white",
            "gridwidth": 2,
            "linecolor": "white",
            "showbackground": true,
            "ticks": "",
            "zerolinecolor": "white"
           },
           "zaxis": {
            "backgroundcolor": "#E5ECF6",
            "gridcolor": "white",
            "gridwidth": 2,
            "linecolor": "white",
            "showbackground": true,
            "ticks": "",
            "zerolinecolor": "white"
           }
          },
          "shapedefaults": {
           "line": {
            "color": "#2a3f5f"
           }
          },
          "ternary": {
           "aaxis": {
            "gridcolor": "white",
            "linecolor": "white",
            "ticks": ""
           },
           "baxis": {
            "gridcolor": "white",
            "linecolor": "white",
            "ticks": ""
           },
           "bgcolor": "#E5ECF6",
           "caxis": {
            "gridcolor": "white",
            "linecolor": "white",
            "ticks": ""
           }
          },
          "title": {
           "x": 0.05
          },
          "xaxis": {
           "automargin": true,
           "gridcolor": "white",
           "linecolor": "white",
           "ticks": "",
           "title": {
            "standoff": 15
           },
           "zerolinecolor": "white",
           "zerolinewidth": 2
          },
          "yaxis": {
           "automargin": true,
           "gridcolor": "white",
           "linecolor": "white",
           "ticks": "",
           "title": {
            "standoff": 15
           },
           "zerolinecolor": "white",
           "zerolinewidth": 2
          }
         }
        }
       }
      }
     },
     "metadata": {},
     "output_type": "display_data"
    }
   ],
   "source": [
    "colors = [\"royalblue\",\"crimson\",\"lightseagreen\",\"orange\",\"lightgrey\"]\n",
    "scale = 50\n",
    "limits = [(0, 1), (1, 4), (4, 10), (10, 18), (18, 35)]\n",
    "\n",
    "fig = go.Figure()\n",
    "\n",
    "for i in range(len(limits)):\n",
    "    lim = limits[i]\n",
    "    df_sub = latlng_df[lim[0]:lim[1]]\n",
    "    fig.add_trace(go.Scattergeo(\n",
    "        lon = df_sub['lng'],\n",
    "        lat = df_sub['lat'],\n",
    "        text = df_sub['text'],\n",
    "        marker = dict(\n",
    "            # sizeref = 2 * max(latlng_df['count_log']) / (max(latlng_df['count_log']))**3,\n",
    "            #sizemin = 5,\n",
    "            size = np.log(df_sub['count']) ** 3.3,\n",
    "            color = colors[i],\n",
    "            line_color='rgb(40,40,40)',\n",
    "            line_width=0.5,\n",
    "            sizemode = 'area'\n",
    "        ),\n",
    "        hoverinfo='text',\n",
    "    ))\n",
    "    \n",
    "\n",
    "fig.update_layout(\n",
    "        #title_text = '2014 US city populations<br>(Click legend to toggle traces)', title_x = 0.5,\n",
    "        showlegend = False,\n",
    "        geo = dict(\n",
    "            resolution = 50,\n",
    "            showcountries=True,\n",
    "            # visible=False,\n",
    "            # lataxis = dict(range=[47,53]),\n",
    "            # lonaxis = dict(range=[-125,-115]),\n",
    "            landcolor = 'rgb(217, 217, 217)',\n",
    "            # subunitcolor = \"rgb(217, 217, 217)\",\n",
    "            countrycolor = \"rgb(150, 217, 217)\",\n",
    "            # countrywidth = 0.5,\n",
    "            # subunitwidth = 0.5\n",
    "        )\n",
    "    )\n",
    "\n",
    "fig.update_geos(\n",
    "    fitbounds=\"locations\",\n",
    "    showocean=True, oceancolor=\"LightBlue\",\n",
    "    showlakes=True, lakecolor=\"Blue\",\n",
    "    showrivers=True, rivercolor=\"Blue\",\n",
    "    showcoastlines=True, coastlinecolor=\"RebeccaPurple\",\n",
    "    showland=True, landcolor=\"LightGreen\",)\n",
    "\n",
    "fig.show()"
   ]
  },
  {
   "cell_type": "code",
   "execution_count": 114,
   "metadata": {},
   "outputs": [
    {
     "data": {
      "application/vnd.plotly.v1+json": {
       "config": {
        "plotlyServerURL": "https://plot.ly"
       },
       "data": [
        {
         "hoverinfo": "text",
         "lat": [
          49.2608724
         ],
         "lon": [
          -123.113952
         ],
         "marker": {
          "color": "royalblue",
          "size": [
           4148.4957435380675
          ],
          "sizemode": "area"
         },
         "text": [
          "Vancouver, BC<br>Count: 49338"
         ],
         "type": "scattermapbox"
        },
        {
         "hoverinfo": "text",
         "lat": [
          49.494891,
          50.6758269,
          49.1913033
         ],
         "lon": [
          -117.290039,
          -120.339415,
          -122.849143
         ],
         "marker": {
          "color": "crimson",
          "size": [
           1114.35155879467,
           939.9908397450839,
           915.4609108922784
          ],
          "sizemode": "area"
         },
         "text": [
          "Nelson, BC<br>Count: 1674",
          "Kamloops, BC<br>Count: 1177",
          "Surrey, BC<br>Count: 1116"
         ],
         "type": "scattermapbox"
        },
        {
         "hoverinfo": "text",
         "lat": [
          49.8879177,
          49.163877,
          49.5003268,
          49.5107477,
          50.2668671,
          49.2067726
         ],
         "lon": [
          -119.495902,
          -123.938122,
          -119.5932499,
          -115.7672772,
          -119.2718157,
          -122.9108818
         ],
         "marker": {
          "color": "lightseagreen",
          "size": [
           762.0766285503564,
           752.7661449627007,
           747.0087400715174,
           716.8545412080571,
           652.9389686303779,
           611.6612407730772
          ],
          "sizemode": "area"
         },
         "text": [
          "Kelowna, BC<br>Count: 780",
          "Nanaimo, BC<br>Count: 762",
          "Penticton, BC<br>Count: 751",
          "Cranbrook, BC<br>Count: 695",
          "Vernon, BC<br>Count: 585",
          "New Westminster, BC<br>Count: 520"
         ],
         "type": "scattermapbox"
        },
        {
         "hoverinfo": "text",
         "lat": [
          53.9128645,
          49.1934431,
          49.0521162,
          49.157677,
          50.1124876,
          50.3377592,
          49.0312269,
          49.0945296
         ],
         "lon": [
          -122.7453699,
          -117.2787054,
          -122.329479,
          -121.95143,
          -120.7884149,
          -115.8616945,
          -118.4392039,
          -117.7097659
         ],
         "marker": {
          "color": "orange",
          "size": [
           471.34958089651855,
           459.21910059707574,
           453.92771593271726,
           423.74687940148533,
           368.6827714906868,
           352.41850059611403,
           338.953992152622,
           302.0399063528472
          ],
          "sizemode": "area"
         },
         "text": [
          "Prince George, BC<br>Count: 332",
          "Salmo, BC<br>Count: 318",
          "Abbotsford, BC<br>Count: 312",
          "Chilliwack, BC<br>Count: 279",
          "Merritt, BC<br>Count: 224",
          "Fairmont Hot Springs, BC<br>Count: 209",
          "Grand Forks, BC<br>Count: 197",
          "Trail, BC<br>Count: 166"
         ],
         "type": "scattermapbox"
        },
        {
         "hoverinfo": "text",
         "lat": [
          49.1589351,
          54.5172715,
          50.8193356,
          49.8681162,
          49.3799622,
          49.2433804,
          50.8844684,
          49.2197345,
          49.316171,
          49.0235357,
          49.2842958,
          49.6850876,
          49.460459,
          52.1292657,
          49.1039289,
          49.835676,
          48.4283182
         ],
         "lon": [
          -122.283583,
          -128.599548,
          -119.6861773,
          -121.443249,
          -121.44162,
          -122.972545,
          -119.8823295,
          -122.599707,
          -117.663574,
          -122.797924,
          -122.793281,
          -115.9819477,
          -120.507973,
          -122.1397259,
          -122.657047,
          -124.524412,
          -123.3649533
         ],
         "marker": {
          "color": "lightgrey",
          "size": [
           212.75616071873,
           193.27670202428624,
           184.8194954044496,
           120.52575862637512,
           111.98782945941203,
           96.41189569906597,
           94.11574038562273,
           62.427194693532655,
           49.23989598276145,
           49.23989598276145,
           49.23989598276145,
           12.966223555861337,
           7.699791747689675,
           3.1368525039719484,
           0.2772612096425708,
           0,
           0
          ],
          "sizemode": "area"
         },
         "text": [
          "Mission, BC<br>Count: 102",
          "Terrace, BC<br>Count: 90",
          "Chase, BC<br>Count: 85",
          "Boston Bar, BC<br>Count: 51",
          "Hope, BC<br>Count: 47",
          "Burnaby, BC<br>Count: 40",
          "Sun Peaks, BC<br>Count: 39",
          "Maple Ridge, BC<br>Count: 26",
          "Castlegar, BC<br>Count: 21",
          "White Rock, BC<br>Count: 21",
          "Coquitlam, BC<br>Count: 21",
          "Kimberley, BC<br>Count: 8",
          "Princeton, BC<br>Count: 6",
          "Williams Lake, BC<br>Count: 4",
          "Langley, BC<br>Count: 2",
          "Powell River, BC<br>Count: 1",
          "Victoria, BC<br>Count: 1"
         ],
         "type": "scattermapbox"
        }
       ],
       "layout": {
        "hovermode": "closest",
        "mapbox": {
         "accesstoken": "pk.eyJ1IjoiZ2Jyb3VnaHRvbiIsImEiOiJjbGVvc2dnYjIwNWsyNDFwazgyY2N3azZkIn0.9WneKbc8f8xacgUe8wZHWw",
         "bearing": 12,
         "center": {
          "lat": 51.2,
          "lon": -122.3
         },
         "pitch": 0,
         "zoom": 4.9
        },
        "margin": {
         "b": 20,
         "l": 250,
         "r": 250,
         "t": 20
        },
        "showlegend": false,
        "template": {
         "data": {
          "bar": [
           {
            "error_x": {
             "color": "#2a3f5f"
            },
            "error_y": {
             "color": "#2a3f5f"
            },
            "marker": {
             "line": {
              "color": "#E5ECF6",
              "width": 0.5
             },
             "pattern": {
              "fillmode": "overlay",
              "size": 10,
              "solidity": 0.2
             }
            },
            "type": "bar"
           }
          ],
          "barpolar": [
           {
            "marker": {
             "line": {
              "color": "#E5ECF6",
              "width": 0.5
             },
             "pattern": {
              "fillmode": "overlay",
              "size": 10,
              "solidity": 0.2
             }
            },
            "type": "barpolar"
           }
          ],
          "carpet": [
           {
            "aaxis": {
             "endlinecolor": "#2a3f5f",
             "gridcolor": "white",
             "linecolor": "white",
             "minorgridcolor": "white",
             "startlinecolor": "#2a3f5f"
            },
            "baxis": {
             "endlinecolor": "#2a3f5f",
             "gridcolor": "white",
             "linecolor": "white",
             "minorgridcolor": "white",
             "startlinecolor": "#2a3f5f"
            },
            "type": "carpet"
           }
          ],
          "choropleth": [
           {
            "colorbar": {
             "outlinewidth": 0,
             "ticks": ""
            },
            "type": "choropleth"
           }
          ],
          "contour": [
           {
            "colorbar": {
             "outlinewidth": 0,
             "ticks": ""
            },
            "colorscale": [
             [
              0,
              "#0d0887"
             ],
             [
              0.1111111111111111,
              "#46039f"
             ],
             [
              0.2222222222222222,
              "#7201a8"
             ],
             [
              0.3333333333333333,
              "#9c179e"
             ],
             [
              0.4444444444444444,
              "#bd3786"
             ],
             [
              0.5555555555555556,
              "#d8576b"
             ],
             [
              0.6666666666666666,
              "#ed7953"
             ],
             [
              0.7777777777777778,
              "#fb9f3a"
             ],
             [
              0.8888888888888888,
              "#fdca26"
             ],
             [
              1,
              "#f0f921"
             ]
            ],
            "type": "contour"
           }
          ],
          "contourcarpet": [
           {
            "colorbar": {
             "outlinewidth": 0,
             "ticks": ""
            },
            "type": "contourcarpet"
           }
          ],
          "heatmap": [
           {
            "colorbar": {
             "outlinewidth": 0,
             "ticks": ""
            },
            "colorscale": [
             [
              0,
              "#0d0887"
             ],
             [
              0.1111111111111111,
              "#46039f"
             ],
             [
              0.2222222222222222,
              "#7201a8"
             ],
             [
              0.3333333333333333,
              "#9c179e"
             ],
             [
              0.4444444444444444,
              "#bd3786"
             ],
             [
              0.5555555555555556,
              "#d8576b"
             ],
             [
              0.6666666666666666,
              "#ed7953"
             ],
             [
              0.7777777777777778,
              "#fb9f3a"
             ],
             [
              0.8888888888888888,
              "#fdca26"
             ],
             [
              1,
              "#f0f921"
             ]
            ],
            "type": "heatmap"
           }
          ],
          "heatmapgl": [
           {
            "colorbar": {
             "outlinewidth": 0,
             "ticks": ""
            },
            "colorscale": [
             [
              0,
              "#0d0887"
             ],
             [
              0.1111111111111111,
              "#46039f"
             ],
             [
              0.2222222222222222,
              "#7201a8"
             ],
             [
              0.3333333333333333,
              "#9c179e"
             ],
             [
              0.4444444444444444,
              "#bd3786"
             ],
             [
              0.5555555555555556,
              "#d8576b"
             ],
             [
              0.6666666666666666,
              "#ed7953"
             ],
             [
              0.7777777777777778,
              "#fb9f3a"
             ],
             [
              0.8888888888888888,
              "#fdca26"
             ],
             [
              1,
              "#f0f921"
             ]
            ],
            "type": "heatmapgl"
           }
          ],
          "histogram": [
           {
            "marker": {
             "pattern": {
              "fillmode": "overlay",
              "size": 10,
              "solidity": 0.2
             }
            },
            "type": "histogram"
           }
          ],
          "histogram2d": [
           {
            "colorbar": {
             "outlinewidth": 0,
             "ticks": ""
            },
            "colorscale": [
             [
              0,
              "#0d0887"
             ],
             [
              0.1111111111111111,
              "#46039f"
             ],
             [
              0.2222222222222222,
              "#7201a8"
             ],
             [
              0.3333333333333333,
              "#9c179e"
             ],
             [
              0.4444444444444444,
              "#bd3786"
             ],
             [
              0.5555555555555556,
              "#d8576b"
             ],
             [
              0.6666666666666666,
              "#ed7953"
             ],
             [
              0.7777777777777778,
              "#fb9f3a"
             ],
             [
              0.8888888888888888,
              "#fdca26"
             ],
             [
              1,
              "#f0f921"
             ]
            ],
            "type": "histogram2d"
           }
          ],
          "histogram2dcontour": [
           {
            "colorbar": {
             "outlinewidth": 0,
             "ticks": ""
            },
            "colorscale": [
             [
              0,
              "#0d0887"
             ],
             [
              0.1111111111111111,
              "#46039f"
             ],
             [
              0.2222222222222222,
              "#7201a8"
             ],
             [
              0.3333333333333333,
              "#9c179e"
             ],
             [
              0.4444444444444444,
              "#bd3786"
             ],
             [
              0.5555555555555556,
              "#d8576b"
             ],
             [
              0.6666666666666666,
              "#ed7953"
             ],
             [
              0.7777777777777778,
              "#fb9f3a"
             ],
             [
              0.8888888888888888,
              "#fdca26"
             ],
             [
              1,
              "#f0f921"
             ]
            ],
            "type": "histogram2dcontour"
           }
          ],
          "mesh3d": [
           {
            "colorbar": {
             "outlinewidth": 0,
             "ticks": ""
            },
            "type": "mesh3d"
           }
          ],
          "parcoords": [
           {
            "line": {
             "colorbar": {
              "outlinewidth": 0,
              "ticks": ""
             }
            },
            "type": "parcoords"
           }
          ],
          "pie": [
           {
            "automargin": true,
            "type": "pie"
           }
          ],
          "scatter": [
           {
            "fillpattern": {
             "fillmode": "overlay",
             "size": 10,
             "solidity": 0.2
            },
            "type": "scatter"
           }
          ],
          "scatter3d": [
           {
            "line": {
             "colorbar": {
              "outlinewidth": 0,
              "ticks": ""
             }
            },
            "marker": {
             "colorbar": {
              "outlinewidth": 0,
              "ticks": ""
             }
            },
            "type": "scatter3d"
           }
          ],
          "scattercarpet": [
           {
            "marker": {
             "colorbar": {
              "outlinewidth": 0,
              "ticks": ""
             }
            },
            "type": "scattercarpet"
           }
          ],
          "scattergeo": [
           {
            "marker": {
             "colorbar": {
              "outlinewidth": 0,
              "ticks": ""
             }
            },
            "type": "scattergeo"
           }
          ],
          "scattergl": [
           {
            "marker": {
             "colorbar": {
              "outlinewidth": 0,
              "ticks": ""
             }
            },
            "type": "scattergl"
           }
          ],
          "scattermapbox": [
           {
            "marker": {
             "colorbar": {
              "outlinewidth": 0,
              "ticks": ""
             }
            },
            "type": "scattermapbox"
           }
          ],
          "scatterpolar": [
           {
            "marker": {
             "colorbar": {
              "outlinewidth": 0,
              "ticks": ""
             }
            },
            "type": "scatterpolar"
           }
          ],
          "scatterpolargl": [
           {
            "marker": {
             "colorbar": {
              "outlinewidth": 0,
              "ticks": ""
             }
            },
            "type": "scatterpolargl"
           }
          ],
          "scatterternary": [
           {
            "marker": {
             "colorbar": {
              "outlinewidth": 0,
              "ticks": ""
             }
            },
            "type": "scatterternary"
           }
          ],
          "surface": [
           {
            "colorbar": {
             "outlinewidth": 0,
             "ticks": ""
            },
            "colorscale": [
             [
              0,
              "#0d0887"
             ],
             [
              0.1111111111111111,
              "#46039f"
             ],
             [
              0.2222222222222222,
              "#7201a8"
             ],
             [
              0.3333333333333333,
              "#9c179e"
             ],
             [
              0.4444444444444444,
              "#bd3786"
             ],
             [
              0.5555555555555556,
              "#d8576b"
             ],
             [
              0.6666666666666666,
              "#ed7953"
             ],
             [
              0.7777777777777778,
              "#fb9f3a"
             ],
             [
              0.8888888888888888,
              "#fdca26"
             ],
             [
              1,
              "#f0f921"
             ]
            ],
            "type": "surface"
           }
          ],
          "table": [
           {
            "cells": {
             "fill": {
              "color": "#EBF0F8"
             },
             "line": {
              "color": "white"
             }
            },
            "header": {
             "fill": {
              "color": "#C8D4E3"
             },
             "line": {
              "color": "white"
             }
            },
            "type": "table"
           }
          ]
         },
         "layout": {
          "annotationdefaults": {
           "arrowcolor": "#2a3f5f",
           "arrowhead": 0,
           "arrowwidth": 1
          },
          "autotypenumbers": "strict",
          "coloraxis": {
           "colorbar": {
            "outlinewidth": 0,
            "ticks": ""
           }
          },
          "colorscale": {
           "diverging": [
            [
             0,
             "#8e0152"
            ],
            [
             0.1,
             "#c51b7d"
            ],
            [
             0.2,
             "#de77ae"
            ],
            [
             0.3,
             "#f1b6da"
            ],
            [
             0.4,
             "#fde0ef"
            ],
            [
             0.5,
             "#f7f7f7"
            ],
            [
             0.6,
             "#e6f5d0"
            ],
            [
             0.7,
             "#b8e186"
            ],
            [
             0.8,
             "#7fbc41"
            ],
            [
             0.9,
             "#4d9221"
            ],
            [
             1,
             "#276419"
            ]
           ],
           "sequential": [
            [
             0,
             "#0d0887"
            ],
            [
             0.1111111111111111,
             "#46039f"
            ],
            [
             0.2222222222222222,
             "#7201a8"
            ],
            [
             0.3333333333333333,
             "#9c179e"
            ],
            [
             0.4444444444444444,
             "#bd3786"
            ],
            [
             0.5555555555555556,
             "#d8576b"
            ],
            [
             0.6666666666666666,
             "#ed7953"
            ],
            [
             0.7777777777777778,
             "#fb9f3a"
            ],
            [
             0.8888888888888888,
             "#fdca26"
            ],
            [
             1,
             "#f0f921"
            ]
           ],
           "sequentialminus": [
            [
             0,
             "#0d0887"
            ],
            [
             0.1111111111111111,
             "#46039f"
            ],
            [
             0.2222222222222222,
             "#7201a8"
            ],
            [
             0.3333333333333333,
             "#9c179e"
            ],
            [
             0.4444444444444444,
             "#bd3786"
            ],
            [
             0.5555555555555556,
             "#d8576b"
            ],
            [
             0.6666666666666666,
             "#ed7953"
            ],
            [
             0.7777777777777778,
             "#fb9f3a"
            ],
            [
             0.8888888888888888,
             "#fdca26"
            ],
            [
             1,
             "#f0f921"
            ]
           ]
          },
          "colorway": [
           "#636efa",
           "#EF553B",
           "#00cc96",
           "#ab63fa",
           "#FFA15A",
           "#19d3f3",
           "#FF6692",
           "#B6E880",
           "#FF97FF",
           "#FECB52"
          ],
          "font": {
           "color": "#2a3f5f"
          },
          "geo": {
           "bgcolor": "white",
           "lakecolor": "white",
           "landcolor": "#E5ECF6",
           "showlakes": true,
           "showland": true,
           "subunitcolor": "white"
          },
          "hoverlabel": {
           "align": "left"
          },
          "hovermode": "closest",
          "mapbox": {
           "style": "light"
          },
          "paper_bgcolor": "white",
          "plot_bgcolor": "#E5ECF6",
          "polar": {
           "angularaxis": {
            "gridcolor": "white",
            "linecolor": "white",
            "ticks": ""
           },
           "bgcolor": "#E5ECF6",
           "radialaxis": {
            "gridcolor": "white",
            "linecolor": "white",
            "ticks": ""
           }
          },
          "scene": {
           "xaxis": {
            "backgroundcolor": "#E5ECF6",
            "gridcolor": "white",
            "gridwidth": 2,
            "linecolor": "white",
            "showbackground": true,
            "ticks": "",
            "zerolinecolor": "white"
           },
           "yaxis": {
            "backgroundcolor": "#E5ECF6",
            "gridcolor": "white",
            "gridwidth": 2,
            "linecolor": "white",
            "showbackground": true,
            "ticks": "",
            "zerolinecolor": "white"
           },
           "zaxis": {
            "backgroundcolor": "#E5ECF6",
            "gridcolor": "white",
            "gridwidth": 2,
            "linecolor": "white",
            "showbackground": true,
            "ticks": "",
            "zerolinecolor": "white"
           }
          },
          "shapedefaults": {
           "line": {
            "color": "#2a3f5f"
           }
          },
          "ternary": {
           "aaxis": {
            "gridcolor": "white",
            "linecolor": "white",
            "ticks": ""
           },
           "baxis": {
            "gridcolor": "white",
            "linecolor": "white",
            "ticks": ""
           },
           "bgcolor": "#E5ECF6",
           "caxis": {
            "gridcolor": "white",
            "linecolor": "white",
            "ticks": ""
           }
          },
          "title": {
           "x": 0.05
          },
          "xaxis": {
           "automargin": true,
           "gridcolor": "white",
           "linecolor": "white",
           "ticks": "",
           "title": {
            "standoff": 15
           },
           "zerolinecolor": "white",
           "zerolinewidth": 2
          },
          "yaxis": {
           "automargin": true,
           "gridcolor": "white",
           "linecolor": "white",
           "ticks": "",
           "title": {
            "standoff": 15
           },
           "zerolinecolor": "white",
           "zerolinewidth": 2
          }
         }
        }
       }
      }
     },
     "metadata": {},
     "output_type": "display_data"
    }
   ],
   "source": [
    "colors = [\"royalblue\",\"crimson\",\"lightseagreen\",\"orange\",\"lightgrey\"]\n",
    "scale = 50\n",
    "limits = [(0, 1), (1, 4), (4, 10), (10, 18), (18, 35)]\n",
    "token = \"pk.eyJ1IjoiZ2Jyb3VnaHRvbiIsImEiOiJjbGVvc2dnYjIwNWsyNDFwazgyY2N3azZkIn0.9WneKbc8f8xacgUe8wZHWw\"\n",
    "\n",
    "fig = go.Figure()\n",
    "\n",
    "for i in range(len(limits)):\n",
    "    lim = limits[i]\n",
    "    df_sub = latlng_df[lim[0]:lim[1]]\n",
    "    fig.add_trace(go.Scattermapbox(\n",
    "        lon = df_sub['lng'],\n",
    "        lat = df_sub['lat'],\n",
    "        text = df_sub['text'],\n",
    "        marker = go.scattermapbox.Marker(\n",
    "            size = np.log(df_sub['count']) ** 3.5,\n",
    "            color = colors[i],\n",
    "            sizemode = 'area'\n",
    "        ),\n",
    "        hoverinfo='text',\n",
    "    ))\n",
    "\n",
    "fig.update_layout(\n",
    "    margin={\"r\": 250, \"t\": 20, \"l\": 250, \"b\": 20},\n",
    "    showlegend = False,\n",
    "    hovermode='closest',\n",
    "    mapbox=dict(\n",
    "        accesstoken=token,\n",
    "        bearing=12,\n",
    "        center=go.layout.mapbox.Center(\n",
    "            lat=51.2,\n",
    "            lon=-122.3\n",
    "        ),\n",
    "        pitch=0,\n",
    "        zoom=4.9\n",
    "    )\n",
    ")\n",
    "\n",
    "fig.show()"
   ]
  },
  {
   "cell_type": "code",
   "execution_count": null,
   "metadata": {},
   "outputs": [],
   "source": [
    "m = folium.Map(location=(50.5, -120.12), zoom_start=7)\n",
    "\n",
    "folium.CircleMarker(\n",
    "    location=latlng_dict['Vancouver, BC'],\n",
    "    radius=60,\n",
    "    popup=\"Laurelhurst Park\",\n",
    "    color=\"#3186cc\",\n",
    "    fill=True,\n",
    "    fill_color=\"#3186cc\",\n",
    ").add_to(m)\n",
    "folium.CircleMarker(\n",
    "    location=latlng_dict['Nelson, BC'],\n",
    "    radius=35,\n",
    "    popup=\"Laurelhurst Park\",\n",
    "    color=\"#3186cc\",\n",
    "    fill=True,\n",
    "    fill_color=\"#3186cc\",\n",
    ").add_to(m)\n",
    "folium.CircleMarker(\n",
    "    location=latlng_dict['New Westminster, BC'],\n",
    "    radius=20,\n",
    "    popup=\"New Westminster, BC\",\n",
    "    color=\"#3186cc\",\n",
    "    fill=True,\n",
    "    fill_color=\"#3186cc\",\n",
    ").add_to(m)\n",
    "folium.CircleMarker(\n",
    "    location=latlng_dict['Trail, BC'],\n",
    "    radius=10,\n",
    "    popup=\"Trail, BC\",\n",
    "    color=\"#3186cc\",\n",
    "    fill=True,\n",
    "    fill_color=\"#3186cc\",\n",
    ").add_to(m)\n",
    "folium.CircleMarker(\n",
    "    location=latlng_dict['Williams Lake, BC'],\n",
    "    radius=5,\n",
    "    popup=\"Williams Lake, BC\",\n",
    "    color=\"#3186cc\",\n",
    "    fill=True,\n",
    "    fill_color=\"#3186cc\",\n",
    ").add_to(m)\n",
    "m"
   ]
  },
  {
   "cell_type": "code",
   "execution_count": null,
   "metadata": {},
   "outputs": [],
   "source": [
    "m = folium.Map(location=(50.5, -120.12), zoom_start=7)\n",
    "folium.GeoJson(os.path.join(CFG.DATA_PATH, 'shapefiles', 'population_centers', 'pop_centers_new.geojson')).add_to(m)\n",
    "m"
   ]
  }
 ],
 "metadata": {
  "kernelspec": {
   "display_name": "drugs",
   "language": "python",
   "name": "python3"
  },
  "language_info": {
   "codemirror_mode": {
    "name": "ipython",
    "version": 3
   },
   "file_extension": ".py",
   "mimetype": "text/x-python",
   "name": "python",
   "nbconvert_exporter": "python",
   "pygments_lexer": "ipython3",
   "version": "3.10.9"
  },
  "orig_nbformat": 4,
  "vscode": {
   "interpreter": {
    "hash": "d943b4ed689cbeb84325fac1ea736cb4f575bb5014cc41287581e934615cc6ff"
   }
  }
 },
 "nbformat": 4,
 "nbformat_minor": 2
}
