{
 "cells": [
  {
   "cell_type": "code",
   "execution_count": 1,
   "metadata": {},
   "outputs": [],
   "source": [
    "%load_ext autoreload\n",
    "%autoreload 2"
   ]
  },
  {
   "cell_type": "code",
   "execution_count": 5,
   "metadata": {},
   "outputs": [],
   "source": [
    "import pandas as pd\n",
    "import geopandas as gpd\n",
    "import numpy as np\n",
    "pd.options.display.float_format = '{:,.2f}'.format\n",
    "pd.set_option('display.max_columns', 30)\n",
    "pd.set_option('display.max_rows', 300)\n",
    "\n",
    "import plotly.graph_objects as go\n",
    "import plotly.express as px\n",
    "%matplotlib inline\n",
    "\n",
    "import os\n",
    "import sys\n",
    "import datetime\n",
    "import time\n",
    "\n",
    "import folium\n",
    "import geocoder\n",
    "\n",
    "import warnings; warnings.filterwarnings('ignore')\n",
    "\n",
    "sys.path.append('..')\n",
    "from config import CFG\n",
    "CFG = CFG()\n",
    "\n",
    "date = datetime.datetime(2023, 2, 10).strftime('%Y-%m-%d')\n",
    "CFG.DATE = date"
   ]
  },
  {
   "cell_type": "code",
   "execution_count": 3,
   "metadata": {},
   "outputs": [],
   "source": [
    "df = pd.read_csv(os.path.join(CFG.PROCESSED_DATA_PATH, f\"df-processed-{CFG.DATE}.csv\"))"
   ]
  },
  {
   "cell_type": "code",
   "execution_count": 9,
   "metadata": {},
   "outputs": [],
   "source": [
    "def get_latlng(city):\n",
    "    g = geocoder.geocodefarm(city)\n",
    "    lat = g.json['lat']\n",
    "    lng = g.json['lng']\n",
    "    return lat, lng\n",
    "\n",
    "def latlng(cities):\n",
    "    latlng_dict = {}\n",
    "    for idx, city in enumerate(cities):\n",
    "        sleepytime = np.random.rand() * 5\n",
    "        time.sleep(sleepytime)\n",
    "        lat, lng = get_latlng(city)\n",
    "        latlng_dict[city] = [lat, lng]\n",
    "    return latlng_dict"
   ]
  },
  {
   "cell_type": "code",
   "execution_count": 10,
   "metadata": {},
   "outputs": [],
   "source": [
    "cities = (df['city']).unique().tolist()\n",
    "latlng_dict = latlng(cities)\n",
    "\n",
    "counts = df.value_counts('city')\n",
    "\n",
    "latlng = pd.DataFrame(latlng_dict).T.reset_index()\n",
    "latlng.columns = ['city', 'lat', 'lng']\n",
    "latlng_df = latlng.merge(counts.to_frame(), on='city').rename({0: 'count'}, axis=1)\n",
    "\n",
    "latlng_df['text'] = latlng_df['city'] + '<br>' + 'Count: ' + latlng_df['count'].astype(str)\n",
    "latlng_df = latlng_df.sort_values('count', ascending=False).reset_index(drop=True)\n",
    "\n",
    "latlng_df['count_log'] = latlng_df['count'].apply(np.log)\n",
    "latlng_df.to_csv(os.path.join(CFG.PROCESSED_DATA_PATH, 'geo_data', f\"latlng-{CFG.DATE}.csv\"), index=False)"
   ]
  },
  {
   "cell_type": "code",
   "execution_count": null,
   "metadata": {},
   "outputs": [],
   "source": [
    "colors = [\"royalblue\",\"crimson\",\"lightseagreen\",\"orange\",\"lightgrey\"]\n",
    "cities = []\n",
    "scale = 10\n",
    "limits = [(0, 1), (1, 4), (4, 10), (10, 18), (18, 35)]\n",
    "\n",
    "fig = go.Figure()\n",
    "\n",
    "for i in range(len(limits)):\n",
    "    lim = limits[i]\n",
    "    df_sub = latlng_df[lim[0]:lim[1]]\n",
    "    fig.add_trace(go.Scattergeo(\n",
    "        lon = df_sub['lng'],\n",
    "        lat = df_sub['lat'],\n",
    "        text = df_sub['text'],\n",
    "        marker = dict(\n",
    "            sizeref = 2 * max(latlng_df['count_log']) / (max(latlng_df['count_log']) * 2)**2,\n",
    "            sizemin = 2,\n",
    "            size = df_sub['count_log'],\n",
    "            color = colors[i],\n",
    "            line_color='rgb(40,40,40)',\n",
    "            line_width=0.5,\n",
    "            sizemode = 'area'\n",
    "        ),\n",
    "        name = '{0} - {1}'.format(lim[0],lim[1])))\n",
    "\n",
    "fig.update_layout(\n",
    "        title_text = '2014 US city populations<br>(Click legend to toggle traces)',\n",
    "        showlegend = False,\n",
    "        geo = dict(\n",
    "            resolution = 50,\n",
    "            showcountries=True,\n",
    "            visible=False,\n",
    "            # lataxis = dict(range=[47,53]),\n",
    "            # lonaxis = dict(range=[-125,-115]),\n",
    "            landcolor = 'rgb(217, 217, 217)',\n",
    "            subunitcolor = \"rgb(217, 217, 217)\",\n",
    "            countrycolor = \"rgb(217, 217, 217)\",\n",
    "            countrywidth = 0.5,\n",
    "            subunitwidth = 0.5\n",
    "        )\n",
    "    )\n",
    "\n",
    "fig.update_geos(fitbounds=\"locations\")\n",
    "\n",
    "fig.show()"
   ]
  },
  {
   "cell_type": "code",
   "execution_count": null,
   "metadata": {},
   "outputs": [],
   "source": [
    "m = folium.Map(location=(50.5, -120.12), zoom_start=7)\n",
    "\n",
    "folium.CircleMarker(\n",
    "    location=latlng_dict['Vancouver, BC'],\n",
    "    radius=60,\n",
    "    popup=\"Laurelhurst Park\",\n",
    "    color=\"#3186cc\",\n",
    "    fill=True,\n",
    "    fill_color=\"#3186cc\",\n",
    ").add_to(m)\n",
    "folium.CircleMarker(\n",
    "    location=latlng_dict['Nelson, BC'],\n",
    "    radius=35,\n",
    "    popup=\"Laurelhurst Park\",\n",
    "    color=\"#3186cc\",\n",
    "    fill=True,\n",
    "    fill_color=\"#3186cc\",\n",
    ").add_to(m)\n",
    "folium.CircleMarker(\n",
    "    location=latlng_dict['New Westminster, BC'],\n",
    "    radius=20,\n",
    "    popup=\"New Westminster, BC\",\n",
    "    color=\"#3186cc\",\n",
    "    fill=True,\n",
    "    fill_color=\"#3186cc\",\n",
    ").add_to(m)\n",
    "folium.CircleMarker(\n",
    "    location=latlng_dict['Trail, BC'],\n",
    "    radius=10,\n",
    "    popup=\"Trail, BC\",\n",
    "    color=\"#3186cc\",\n",
    "    fill=True,\n",
    "    fill_color=\"#3186cc\",\n",
    ").add_to(m)\n",
    "folium.CircleMarker(\n",
    "    location=latlng_dict['Williams Lake, BC'],\n",
    "    radius=5,\n",
    "    popup=\"Williams Lake, BC\",\n",
    "    color=\"#3186cc\",\n",
    "    fill=True,\n",
    "    fill_color=\"#3186cc\",\n",
    ").add_to(m)\n",
    "m"
   ]
  },
  {
   "cell_type": "code",
   "execution_count": null,
   "metadata": {},
   "outputs": [],
   "source": [
    "m = folium.Map(location=(50.5, -120.12), zoom_start=7)\n",
    "folium.GeoJson(os.path.join(CFG.DATA_PATH, 'shapefiles', 'population_centers', 'pop_centers_new.geojson')).add_to(m)\n",
    "m"
   ]
  },
  {
   "cell_type": "code",
   "execution_count": null,
   "metadata": {},
   "outputs": [],
   "source": []
  },
  {
   "cell_type": "code",
   "execution_count": null,
   "metadata": {},
   "outputs": [],
   "source": []
  },
  {
   "cell_type": "code",
   "execution_count": null,
   "metadata": {},
   "outputs": [],
   "source": []
  }
 ],
 "metadata": {
  "kernelspec": {
   "display_name": "drugs",
   "language": "python",
   "name": "python3"
  },
  "language_info": {
   "codemirror_mode": {
    "name": "ipython",
    "version": 3
   },
   "file_extension": ".py",
   "mimetype": "text/x-python",
   "name": "python",
   "nbconvert_exporter": "python",
   "pygments_lexer": "ipython3",
   "version": "3.10.9"
  },
  "orig_nbformat": 4,
  "vscode": {
   "interpreter": {
    "hash": "d943b4ed689cbeb84325fac1ea736cb4f575bb5014cc41287581e934615cc6ff"
   }
  }
 },
 "nbformat": 4,
 "nbformat_minor": 2
}
